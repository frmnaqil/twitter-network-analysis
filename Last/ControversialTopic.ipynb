{
 "cells": [
  {
   "cell_type": "code",
   "execution_count": 1,
   "metadata": {
    "collapsed": true
   },
   "outputs": [],
   "source": [
    "import pandas as pd\n",
    "import os\n",
    "import itertools\n",
    "from collections import defaultdict"
   ]
  },
  {
   "cell_type": "code",
   "execution_count": 2,
   "metadata": {
    "collapsed": true
   },
   "outputs": [],
   "source": [
    "df = pd.read_csv(os.path.join(os.pardir,os.pardir,'data','06_out','5-KCore-tweet-clean-topic.csv'))\n",
    "df2 = pd.read_csv(os.path.join(os.pardir,os.pardir,'data','5-KCore-labeled.csv'),usecols=['label'])"
   ]
  },
  {
   "cell_type": "code",
   "execution_count": 3,
   "metadata": {},
   "outputs": [
    {
     "data": {
      "text/plain": [
       "topic\n",
       "0    2535\n",
       "1    1845\n",
       "2    2700\n",
       "3    2097\n",
       "4    2564\n",
       "5    2639\n",
       "6    2432\n",
       "7    3708\n",
       "dtype: int64"
      ]
     },
     "execution_count": 3,
     "metadata": {},
     "output_type": "execute_result"
    }
   ],
   "source": [
    "df.groupby('topic').size()"
   ]
  },
  {
   "cell_type": "code",
   "execution_count": 4,
   "metadata": {},
   "outputs": [
    {
     "data": {
      "text/plain": [
       "modularity  topic\n",
       "0           0         268\n",
       "            1         165\n",
       "            2         288\n",
       "            3         188\n",
       "            4         187\n",
       "            5         265\n",
       "            6         265\n",
       "            7         179\n",
       "1           0           4\n",
       "            1           2\n",
       "            2           3\n",
       "            3           3\n",
       "            4           2\n",
       "            5           1\n",
       "            7           1\n",
       "2           0        1363\n",
       "            1         838\n",
       "            2        1158\n",
       "            3         961\n",
       "            4        1547\n",
       "            5         914\n",
       "            6         942\n",
       "            7        1061\n",
       "3           0         282\n",
       "            1         296\n",
       "            2         417\n",
       "            3         316\n",
       "            4         249\n",
       "            5         489\n",
       "            6         417\n",
       "            7         857\n",
       "4           0         597\n",
       "            1         532\n",
       "            2         816\n",
       "            3         618\n",
       "            4         564\n",
       "            5         940\n",
       "            6         784\n",
       "            7        1575\n",
       "5           0          21\n",
       "            1          12\n",
       "            2          18\n",
       "            3          11\n",
       "            4          15\n",
       "            5          30\n",
       "            6          24\n",
       "            7          35\n",
       "dtype: int64"
      ]
     },
     "execution_count": 4,
     "metadata": {},
     "output_type": "execute_result"
    }
   ],
   "source": [
    "df[['modularity','topic']].groupby(['modularity','topic']).size()"
   ]
  },
  {
   "cell_type": "code",
   "execution_count": 5,
   "metadata": {},
   "outputs": [
    {
     "data": {
      "text/html": [
       "<div>\n",
       "<style scoped>\n",
       "    .dataframe tbody tr th:only-of-type {\n",
       "        vertical-align: middle;\n",
       "    }\n",
       "\n",
       "    .dataframe tbody tr th {\n",
       "        vertical-align: top;\n",
       "    }\n",
       "\n",
       "    .dataframe thead th {\n",
       "        text-align: right;\n",
       "    }\n",
       "</style>\n",
       "<table border=\"1\" class=\"dataframe\">\n",
       "  <thead>\n",
       "    <tr style=\"text-align: right;\">\n",
       "      <th></th>\n",
       "      <th>text</th>\n",
       "      <th>username</th>\n",
       "      <th>modularity</th>\n",
       "      <th>node_id</th>\n",
       "      <th>clean</th>\n",
       "      <th>topic</th>\n",
       "    </tr>\n",
       "  </thead>\n",
       "  <tbody>\n",
       "    <tr>\n",
       "      <th>20515</th>\n",
       "      <td>Yang namanya sumpah dan janji sdh tak berharga...</td>\n",
       "      <td>uman_2009</td>\n",
       "      <td>3</td>\n",
       "      <td>11498</td>\n",
       "      <td>['nama', 'sumpah', 'janji', 'harga', 'rezim', ...</td>\n",
       "      <td>7</td>\n",
       "    </tr>\n",
       "    <tr>\n",
       "      <th>20516</th>\n",
       "      <td>Mana ada wasit terserah Pemain . Wasit itu mem...</td>\n",
       "      <td>prabow0fans</td>\n",
       "      <td>3</td>\n",
       "      <td>5526</td>\n",
       "      <td>['wasit', 'serah', 'main', 'wasit', 'pimpin', ...</td>\n",
       "      <td>6</td>\n",
       "    </tr>\n",
       "    <tr>\n",
       "      <th>20517</th>\n",
       "      <td>berarti bukan kampanye .. lihat di UU ttg pemi...</td>\n",
       "      <td>pendekarmalu</td>\n",
       "      <td>2</td>\n",
       "      <td>13212</td>\n",
       "      <td>['arti', 'kampanye', 'lihat', 'undang', 'pemil...</td>\n",
       "      <td>0</td>\n",
       "    </tr>\n",
       "    <tr>\n",
       "      <th>20518</th>\n",
       "      <td>Diskusi akhir tahun kemarin dan sempat bahas m...</td>\n",
       "      <td>jamalboegis</td>\n",
       "      <td>3</td>\n",
       "      <td>851</td>\n",
       "      <td>['diskusi', 'kemarin', 'bahas', 'kotak', 'kard...</td>\n",
       "      <td>4</td>\n",
       "    </tr>\n",
       "    <tr>\n",
       "      <th>20519</th>\n",
       "      <td>bener kata ibu prof mantan komisioner @KPU_ID ...</td>\n",
       "      <td>sameercimy_</td>\n",
       "      <td>4</td>\n",
       "      <td>199</td>\n",
       "      <td>['profesor', 'mantan', 'komisioner', 'lupa', '...</td>\n",
       "      <td>5</td>\n",
       "    </tr>\n",
       "  </tbody>\n",
       "</table>\n",
       "</div>"
      ],
      "text/plain": [
       "                                                    text      username  \\\n",
       "20515  Yang namanya sumpah dan janji sdh tak berharga...     uman_2009   \n",
       "20516  Mana ada wasit terserah Pemain . Wasit itu mem...   prabow0fans   \n",
       "20517  berarti bukan kampanye .. lihat di UU ttg pemi...  pendekarmalu   \n",
       "20518  Diskusi akhir tahun kemarin dan sempat bahas m...   jamalboegis   \n",
       "20519  bener kata ibu prof mantan komisioner @KPU_ID ...   sameercimy_   \n",
       "\n",
       "       modularity  node_id                                              clean  \\\n",
       "20515           3    11498  ['nama', 'sumpah', 'janji', 'harga', 'rezim', ...   \n",
       "20516           3     5526  ['wasit', 'serah', 'main', 'wasit', 'pimpin', ...   \n",
       "20517           2    13212  ['arti', 'kampanye', 'lihat', 'undang', 'pemil...   \n",
       "20518           3      851  ['diskusi', 'kemarin', 'bahas', 'kotak', 'kard...   \n",
       "20519           4      199  ['profesor', 'mantan', 'komisioner', 'lupa', '...   \n",
       "\n",
       "       topic  \n",
       "20515      7  \n",
       "20516      6  \n",
       "20517      0  \n",
       "20518      4  \n",
       "20519      5  "
      ]
     },
     "execution_count": 5,
     "metadata": {},
     "output_type": "execute_result"
    }
   ],
   "source": [
    "df.tail()"
   ]
  },
  {
   "cell_type": "code",
   "execution_count": 6,
   "metadata": {},
   "outputs": [
    {
     "data": {
      "text/html": [
       "<div>\n",
       "<style scoped>\n",
       "    .dataframe tbody tr th:only-of-type {\n",
       "        vertical-align: middle;\n",
       "    }\n",
       "\n",
       "    .dataframe tbody tr th {\n",
       "        vertical-align: top;\n",
       "    }\n",
       "\n",
       "    .dataframe thead th {\n",
       "        text-align: right;\n",
       "    }\n",
       "</style>\n",
       "<table border=\"1\" class=\"dataframe\">\n",
       "  <thead>\n",
       "    <tr style=\"text-align: right;\">\n",
       "      <th></th>\n",
       "      <th>label</th>\n",
       "    </tr>\n",
       "  </thead>\n",
       "  <tbody>\n",
       "    <tr>\n",
       "      <th>20515</th>\n",
       "      <td>NaN</td>\n",
       "    </tr>\n",
       "    <tr>\n",
       "      <th>20516</th>\n",
       "      <td>NaN</td>\n",
       "    </tr>\n",
       "    <tr>\n",
       "      <th>20517</th>\n",
       "      <td>NaN</td>\n",
       "    </tr>\n",
       "    <tr>\n",
       "      <th>20518</th>\n",
       "      <td>NaN</td>\n",
       "    </tr>\n",
       "    <tr>\n",
       "      <th>20519</th>\n",
       "      <td>NaN</td>\n",
       "    </tr>\n",
       "  </tbody>\n",
       "</table>\n",
       "</div>"
      ],
      "text/plain": [
       "       label\n",
       "20515    NaN\n",
       "20516    NaN\n",
       "20517    NaN\n",
       "20518    NaN\n",
       "20519    NaN"
      ]
     },
     "execution_count": 6,
     "metadata": {},
     "output_type": "execute_result"
    }
   ],
   "source": [
    "df2.tail()"
   ]
  },
  {
   "cell_type": "markdown",
   "metadata": {},
   "source": [
    "## Merge Label"
   ]
  },
  {
   "cell_type": "code",
   "execution_count": 7,
   "metadata": {
    "collapsed": true
   },
   "outputs": [],
   "source": [
    "df['label'] = df2"
   ]
  },
  {
   "cell_type": "code",
   "execution_count": 8,
   "metadata": {
    "collapsed": true
   },
   "outputs": [],
   "source": [
    "# Cut data. Select only labeled\n",
    "sliced = df.iloc[:1300].copy()\n",
    "# Convert label column to integer\n",
    "sliced['label'] = sliced['label'].astype(int)"
   ]
  },
  {
   "cell_type": "code",
   "execution_count": 9,
   "metadata": {},
   "outputs": [
    {
     "data": {
      "text/html": [
       "<div>\n",
       "<style scoped>\n",
       "    .dataframe tbody tr th:only-of-type {\n",
       "        vertical-align: middle;\n",
       "    }\n",
       "\n",
       "    .dataframe tbody tr th {\n",
       "        vertical-align: top;\n",
       "    }\n",
       "\n",
       "    .dataframe thead th {\n",
       "        text-align: right;\n",
       "    }\n",
       "</style>\n",
       "<table border=\"1\" class=\"dataframe\">\n",
       "  <thead>\n",
       "    <tr style=\"text-align: right;\">\n",
       "      <th></th>\n",
       "      <th>text</th>\n",
       "      <th>username</th>\n",
       "      <th>modularity</th>\n",
       "      <th>node_id</th>\n",
       "      <th>clean</th>\n",
       "      <th>topic</th>\n",
       "      <th>label</th>\n",
       "    </tr>\n",
       "  </thead>\n",
       "  <tbody>\n",
       "    <tr>\n",
       "      <th>0</th>\n",
       "      <td>Mereka itu korban yg kalah di 2014. Inget siap...</td>\n",
       "      <td>b12_7hon</td>\n",
       "      <td>2</td>\n",
       "      <td>0</td>\n",
       "      <td>['korban', 'kalah', 'loloskan', 'pemilu', 'ren...</td>\n",
       "      <td>1</td>\n",
       "      <td>0</td>\n",
       "    </tr>\n",
       "    <tr>\n",
       "      <th>1</th>\n",
       "      <td>Penomena @KPU_RI @KPU_ID tdk kuat scra lembaga...</td>\n",
       "      <td>harun_nugraha</td>\n",
       "      <td>2</td>\n",
       "      <td>1</td>\n",
       "      <td>['fenomena', 'kuat', 'lembaga', 'laksana', 'ba...</td>\n",
       "      <td>6</td>\n",
       "      <td>0</td>\n",
       "    </tr>\n",
       "    <tr>\n",
       "      <th>2</th>\n",
       "      <td>ngapain pemilu ulang broo klu kita 02 sdh mena...</td>\n",
       "      <td>totonaser11</td>\n",
       "      <td>4</td>\n",
       "      <td>3</td>\n",
       "      <td>['pemilu', 'ulang', 'broo', 'menang', 'jokowi'...</td>\n",
       "      <td>7</td>\n",
       "      <td>0</td>\n",
       "    </tr>\n",
       "    <tr>\n",
       "      <th>3</th>\n",
       "      <td>Kl menerapkan ISO pasti kelar 1 minggu, ngga a...</td>\n",
       "      <td>rohmatjabbar</td>\n",
       "      <td>4</td>\n",
       "      <td>5</td>\n",
       "      <td>['terap', 'selesai', 'minggu', 'korban', 'romu...</td>\n",
       "      <td>6</td>\n",
       "      <td>0</td>\n",
       "    </tr>\n",
       "    <tr>\n",
       "      <th>4</th>\n",
       "      <td>Hayooo @KPU_ID @bawaslu_RI simak baik2 orasi k...</td>\n",
       "      <td>use_will</td>\n",
       "      <td>3</td>\n",
       "      <td>6</td>\n",
       "      <td>['ayo', 'simak', 'orasi', 'ketua', 'tugas', 'a...</td>\n",
       "      <td>4</td>\n",
       "      <td>0</td>\n",
       "    </tr>\n",
       "  </tbody>\n",
       "</table>\n",
       "</div>"
      ],
      "text/plain": [
       "                                                text       username  \\\n",
       "0  Mereka itu korban yg kalah di 2014. Inget siap...       b12_7hon   \n",
       "1  Penomena @KPU_RI @KPU_ID tdk kuat scra lembaga...  harun_nugraha   \n",
       "2  ngapain pemilu ulang broo klu kita 02 sdh mena...    totonaser11   \n",
       "3  Kl menerapkan ISO pasti kelar 1 minggu, ngga a...   rohmatjabbar   \n",
       "4  Hayooo @KPU_ID @bawaslu_RI simak baik2 orasi k...       use_will   \n",
       "\n",
       "   modularity  node_id                                              clean  \\\n",
       "0           2        0  ['korban', 'kalah', 'loloskan', 'pemilu', 'ren...   \n",
       "1           2        1  ['fenomena', 'kuat', 'lembaga', 'laksana', 'ba...   \n",
       "2           4        3  ['pemilu', 'ulang', 'broo', 'menang', 'jokowi'...   \n",
       "3           4        5  ['terap', 'selesai', 'minggu', 'korban', 'romu...   \n",
       "4           3        6  ['ayo', 'simak', 'orasi', 'ketua', 'tugas', 'a...   \n",
       "\n",
       "   topic  label  \n",
       "0      1      0  \n",
       "1      6      0  \n",
       "2      7      0  \n",
       "3      6      0  \n",
       "4      4      0  "
      ]
     },
     "execution_count": 9,
     "metadata": {},
     "output_type": "execute_result"
    }
   ],
   "source": [
    "sliced.head()"
   ]
  },
  {
   "cell_type": "code",
   "execution_count": 10,
   "metadata": {},
   "outputs": [
    {
     "data": {
      "text/html": [
       "<div>\n",
       "<style scoped>\n",
       "    .dataframe tbody tr th:only-of-type {\n",
       "        vertical-align: middle;\n",
       "    }\n",
       "\n",
       "    .dataframe tbody tr th {\n",
       "        vertical-align: top;\n",
       "    }\n",
       "\n",
       "    .dataframe thead th {\n",
       "        text-align: right;\n",
       "    }\n",
       "</style>\n",
       "<table border=\"1\" class=\"dataframe\">\n",
       "  <thead>\n",
       "    <tr style=\"text-align: right;\">\n",
       "      <th></th>\n",
       "      <th>text</th>\n",
       "      <th>username</th>\n",
       "      <th>modularity</th>\n",
       "      <th>node_id</th>\n",
       "      <th>clean</th>\n",
       "      <th>topic</th>\n",
       "      <th>label</th>\n",
       "    </tr>\n",
       "  </thead>\n",
       "  <tbody>\n",
       "    <tr>\n",
       "      <th>0</th>\n",
       "      <td>Mereka itu korban yg kalah di 2014. Inget siap...</td>\n",
       "      <td>b12_7hon</td>\n",
       "      <td>2</td>\n",
       "      <td>0</td>\n",
       "      <td>['korban', 'kalah', 'loloskan', 'pemilu', 'ren...</td>\n",
       "      <td>1</td>\n",
       "      <td>0</td>\n",
       "    </tr>\n",
       "    <tr>\n",
       "      <th>32</th>\n",
       "      <td>Kita harus memikirkan bagaimana proses seleksi...</td>\n",
       "      <td>ilgaek_jimbrehe</td>\n",
       "      <td>2</td>\n",
       "      <td>31</td>\n",
       "      <td>['pikir', 'proses', 'seleksi', 'kpu', 'provins...</td>\n",
       "      <td>1</td>\n",
       "      <td>0</td>\n",
       "    </tr>\n",
       "    <tr>\n",
       "      <th>92</th>\n",
       "      <td>hey kpu. pemilu tahun ini menurut saya, pemilu...</td>\n",
       "      <td>etkemaluansaya</td>\n",
       "      <td>2</td>\n",
       "      <td>94</td>\n",
       "      <td>['hey', 'kpu', 'pemilu', 'pemilu', 'buruk', 'm...</td>\n",
       "      <td>1</td>\n",
       "      <td>0</td>\n",
       "    </tr>\n",
       "    <tr>\n",
       "      <th>151</th>\n",
       "      <td>@tvOneNews @ILCtv1 @CNN @DPR_RI @KPU_ID @bawas...</td>\n",
       "      <td>kolamtv</td>\n",
       "      <td>2</td>\n",
       "      <td>150</td>\n",
       "      <td>['mirna', 'racun', 'jesica', 'jam', 'tv', 'lip...</td>\n",
       "      <td>1</td>\n",
       "      <td>0</td>\n",
       "    </tr>\n",
       "    <tr>\n",
       "      <th>152</th>\n",
       "      <td>Inilah Akibat dari Kekurangan Data Riset akhir...</td>\n",
       "      <td>ahmadbilefelt</td>\n",
       "      <td>2</td>\n",
       "      <td>151</td>\n",
       "      <td>['akibat', 'data', 'riset', 'putus', 'pemilu',...</td>\n",
       "      <td>1</td>\n",
       "      <td>0</td>\n",
       "    </tr>\n",
       "  </tbody>\n",
       "</table>\n",
       "</div>"
      ],
      "text/plain": [
       "                                                  text         username  \\\n",
       "0    Mereka itu korban yg kalah di 2014. Inget siap...         b12_7hon   \n",
       "32   Kita harus memikirkan bagaimana proses seleksi...  ilgaek_jimbrehe   \n",
       "92   hey kpu. pemilu tahun ini menurut saya, pemilu...   etkemaluansaya   \n",
       "151  @tvOneNews @ILCtv1 @CNN @DPR_RI @KPU_ID @bawas...          kolamtv   \n",
       "152  Inilah Akibat dari Kekurangan Data Riset akhir...    ahmadbilefelt   \n",
       "\n",
       "     modularity  node_id                                              clean  \\\n",
       "0             2        0  ['korban', 'kalah', 'loloskan', 'pemilu', 'ren...   \n",
       "32            2       31  ['pikir', 'proses', 'seleksi', 'kpu', 'provins...   \n",
       "92            2       94  ['hey', 'kpu', 'pemilu', 'pemilu', 'buruk', 'm...   \n",
       "151           2      150  ['mirna', 'racun', 'jesica', 'jam', 'tv', 'lip...   \n",
       "152           2      151  ['akibat', 'data', 'riset', 'putus', 'pemilu',...   \n",
       "\n",
       "     topic  label  \n",
       "0        1      0  \n",
       "32       1      0  \n",
       "92       1      0  \n",
       "151      1      0  \n",
       "152      1      0  "
      ]
     },
     "execution_count": 10,
     "metadata": {},
     "output_type": "execute_result"
    }
   ],
   "source": [
    "sliced[(sliced['modularity'] == 2) & (sliced['topic'] == 1) & (sliced['label'] == 0)].head()"
   ]
  },
  {
   "cell_type": "code",
   "execution_count": 11,
   "metadata": {},
   "outputs": [
    {
     "data": {
      "text/html": [
       "<div>\n",
       "<style scoped>\n",
       "    .dataframe tbody tr th:only-of-type {\n",
       "        vertical-align: middle;\n",
       "    }\n",
       "\n",
       "    .dataframe tbody tr th {\n",
       "        vertical-align: top;\n",
       "    }\n",
       "\n",
       "    .dataframe thead th {\n",
       "        text-align: right;\n",
       "    }\n",
       "</style>\n",
       "<table border=\"1\" class=\"dataframe\">\n",
       "  <thead>\n",
       "    <tr style=\"text-align: right;\">\n",
       "      <th></th>\n",
       "      <th>text</th>\n",
       "      <th>modularity</th>\n",
       "      <th>topic</th>\n",
       "      <th>label</th>\n",
       "    </tr>\n",
       "  </thead>\n",
       "  <tbody>\n",
       "    <tr>\n",
       "      <th>0</th>\n",
       "      <td>Mereka itu korban yg kalah di 2014. Inget siap...</td>\n",
       "      <td>2</td>\n",
       "      <td>1</td>\n",
       "      <td>0</td>\n",
       "    </tr>\n",
       "    <tr>\n",
       "      <th>32</th>\n",
       "      <td>Kita harus memikirkan bagaimana proses seleksi...</td>\n",
       "      <td>2</td>\n",
       "      <td>1</td>\n",
       "      <td>0</td>\n",
       "    </tr>\n",
       "    <tr>\n",
       "      <th>92</th>\n",
       "      <td>hey kpu. pemilu tahun ini menurut saya, pemilu...</td>\n",
       "      <td>2</td>\n",
       "      <td>1</td>\n",
       "      <td>0</td>\n",
       "    </tr>\n",
       "    <tr>\n",
       "      <th>151</th>\n",
       "      <td>@tvOneNews @ILCtv1 @CNN @DPR_RI @KPU_ID @bawas...</td>\n",
       "      <td>2</td>\n",
       "      <td>1</td>\n",
       "      <td>0</td>\n",
       "    </tr>\n",
       "    <tr>\n",
       "      <th>152</th>\n",
       "      <td>Inilah Akibat dari Kekurangan Data Riset akhir...</td>\n",
       "      <td>2</td>\n",
       "      <td>1</td>\n",
       "      <td>0</td>\n",
       "    </tr>\n",
       "  </tbody>\n",
       "</table>\n",
       "</div>"
      ],
      "text/plain": [
       "                                                  text  modularity  topic  \\\n",
       "0    Mereka itu korban yg kalah di 2014. Inget siap...           2      1   \n",
       "32   Kita harus memikirkan bagaimana proses seleksi...           2      1   \n",
       "92   hey kpu. pemilu tahun ini menurut saya, pemilu...           2      1   \n",
       "151  @tvOneNews @ILCtv1 @CNN @DPR_RI @KPU_ID @bawas...           2      1   \n",
       "152  Inilah Akibat dari Kekurangan Data Riset akhir...           2      1   \n",
       "\n",
       "     label  \n",
       "0        0  \n",
       "32       0  \n",
       "92       0  \n",
       "151      0  \n",
       "152      0  "
      ]
     },
     "execution_count": 11,
     "metadata": {},
     "output_type": "execute_result"
    }
   ],
   "source": [
    "sliced[['text','modularity','topic','label']].\\\n",
    "loc[(sliced['modularity'] == 2) & (sliced['topic'] == 1) & (sliced['label'] == 0)].\\\n",
    "head()"
   ]
  },
  {
   "cell_type": "code",
   "execution_count": 12,
   "metadata": {},
   "outputs": [
    {
     "data": {
      "text/plain": [
       "text    28\n",
       "dtype: int64"
      ]
     },
     "execution_count": 12,
     "metadata": {},
     "output_type": "execute_result"
    }
   ],
   "source": [
    "sliced[['text']].\\\n",
    "loc[(sliced['modularity'] == 2) & (sliced['topic'] == 1) & (sliced['label'] == 0)].\\\n",
    "agg('count')"
   ]
  },
  {
   "cell_type": "code",
   "execution_count": 13,
   "metadata": {},
   "outputs": [
    {
     "data": {
      "text/plain": [
       "array([2, 4, 3, 0, 5], dtype=int64)"
      ]
     },
     "execution_count": 13,
     "metadata": {},
     "output_type": "execute_result"
    }
   ],
   "source": [
    "sliced['modularity'].unique()"
   ]
  },
  {
   "cell_type": "code",
   "execution_count": 14,
   "metadata": {
    "collapsed": true
   },
   "outputs": [],
   "source": [
    "count = defaultdict(lambda:defaultdict(list))\n",
    "for m in (sliced['modularity'].unique()):\n",
    "    for t in sliced['topic'].unique():\n",
    "        for l in sliced['label'].unique():\n",
    "            result = sliced[['text']].loc[(sliced['modularity'] == m) & (sliced['topic'] == t) & (sliced['label'] == l)].agg('count')\n",
    "            r = int(result.values[0])\n",
    "#             if r is 0:\n",
    "#                 continue\n",
    "#             else:\n",
    "            count[m][t].append(r)\n",
    "#             print(m,t,l,r)"
   ]
  },
  {
   "cell_type": "code",
   "execution_count": 15,
   "metadata": {},
   "outputs": [
    {
     "data": {
      "text/plain": [
       "[28, 13]"
      ]
     },
     "execution_count": 15,
     "metadata": {},
     "output_type": "execute_result"
    }
   ],
   "source": [
    "count[2][1]"
   ]
  },
  {
   "cell_type": "code",
   "execution_count": 16,
   "metadata": {},
   "outputs": [
    {
     "data": {
      "text/plain": [
       "[55, 13]"
      ]
     },
     "execution_count": 16,
     "metadata": {},
     "output_type": "execute_result"
    }
   ],
   "source": [
    "count[4][1]"
   ]
  },
  {
   "cell_type": "code",
   "execution_count": 17,
   "metadata": {},
   "outputs": [
    {
     "name": "stdout",
     "output_type": "stream",
     "text": [
      "2 4\n",
      "2 3\n",
      "2 0\n",
      "2 5\n",
      "4 3\n",
      "4 0\n",
      "4 5\n",
      "3 0\n",
      "3 5\n",
      "0 5\n"
     ]
    }
   ],
   "source": [
    "for i1, i2 in itertools.combinations(sliced['modularity'].unique(),2):\n",
    "    print(i1,i2)"
   ]
  },
  {
   "cell_type": "code",
   "execution_count": 18,
   "metadata": {},
   "outputs": [
    {
     "name": "stdout",
     "output_type": "stream",
     "text": [
      "2 4 1 13\n",
      "2 4 5 14\n",
      "3 0 2 9\n",
      "3 0 0 2\n"
     ]
    }
   ],
   "source": [
    "for i1, i2 in itertools.combinations(sliced['modularity'].unique(),2):\n",
    "    for t in (sliced['topic'].unique()):\n",
    "        if count[i1][t][1] == count[i2][t][1]:\n",
    "              print(i1,i2,t,count[i1][t][1])"
   ]
  },
  {
   "cell_type": "code",
   "execution_count": 19,
   "metadata": {},
   "outputs": [
    {
     "data": {
      "text/plain": [
       "28"
      ]
     },
     "execution_count": 19,
     "metadata": {},
     "output_type": "execute_result"
    }
   ],
   "source": [
    "count[2][1][0]"
   ]
  },
  {
   "cell_type": "code",
   "execution_count": 20,
   "metadata": {},
   "outputs": [
    {
     "name": "stdout",
     "output_type": "stream",
     "text": [
      "Komunitas : 2 dan Komunitas : 4 pada Topik : 1 memiliki tweet positif : 26\n",
      "Komunitas : 2 dan Komunitas : 4 pada Topik : 1 memiliki tweet positif : 83\n",
      "Nilai Kontroversial topik 1 antara Komunitas 2 dan 4 adalah -0.523\n",
      "Komunitas : 2 dan Komunitas : 4 pada Topik : 6 memiliki tweet positif : 29\n",
      "Komunitas : 2 dan Komunitas : 4 pada Topik : 6 memiliki tweet positif : 76\n",
      "Nilai Kontroversial topik 6 antara Komunitas 2 dan 4 adalah -0.448\n",
      "Komunitas : 2 dan Komunitas : 4 pada Topik : 7 memiliki tweet positif : 25\n",
      "Komunitas : 2 dan Komunitas : 4 pada Topik : 7 memiliki tweet positif : 111\n",
      "Nilai Kontroversial topik 7 antara Komunitas 2 dan 4 adalah -0.632\n",
      "Komunitas : 2 dan Komunitas : 4 pada Topik : 4 memiliki tweet positif : 25\n",
      "Komunitas : 2 dan Komunitas : 4 pada Topik : 4 memiliki tweet positif : 38\n",
      "Nilai Kontroversial topik 4 antara Komunitas 2 dan 4 adalah -0.206\n",
      "Komunitas : 2 dan Komunitas : 4 pada Topik : 2 memiliki tweet positif : 43\n",
      "Komunitas : 2 dan Komunitas : 4 pada Topik : 2 memiliki tweet positif : 111\n",
      "Nilai Kontroversial topik 2 antara Komunitas 2 dan 4 adalah -0.442\n",
      "Komunitas : 2 dan Komunitas : 4 pada Topik : 0 memiliki tweet positif : 31\n",
      "Komunitas : 2 dan Komunitas : 4 pada Topik : 0 memiliki tweet positif : 61\n",
      "Nilai Kontroversial topik 0 antara Komunitas 2 dan 4 adalah -0.326\n",
      "Komunitas : 2 dan Komunitas : 4 pada Topik : 5 memiliki tweet positif : 28\n",
      "Komunitas : 2 dan Komunitas : 4 pada Topik : 5 memiliki tweet positif : 113\n",
      "Nilai Kontroversial topik 5 antara Komunitas 2 dan 4 adalah -0.603\n",
      "Komunitas : 2 dan Komunitas : 4 pada Topik : 3 memiliki tweet positif : 33\n",
      "Komunitas : 2 dan Komunitas : 4 pada Topik : 3 memiliki tweet positif : 69\n",
      "Nilai Kontroversial topik 3 antara Komunitas 2 dan 4 adalah -0.353\n",
      "Komunitas : 2 dan Komunitas : 3 pada Topik : 1 memiliki tweet positif : 17\n",
      "Komunitas : 2 dan Komunitas : 3 pada Topik : 1 memiliki tweet positif : 58\n",
      "Nilai Kontroversial topik 1 antara Komunitas 2 dan 3 adalah -0.547\n",
      "Komunitas : 2 dan Komunitas : 3 pada Topik : 6 memiliki tweet positif : 19\n",
      "Komunitas : 2 dan Komunitas : 3 pada Topik : 6 memiliki tweet positif : 52\n",
      "Nilai Kontroversial topik 6 antara Komunitas 2 dan 3 adalah -0.465\n",
      "Komunitas : 2 dan Komunitas : 3 pada Topik : 7 memiliki tweet positif : 22\n",
      "Komunitas : 2 dan Komunitas : 3 pada Topik : 7 memiliki tweet positif : 70\n",
      "Nilai Kontroversial topik 7 antara Komunitas 2 dan 3 adalah -0.522\n",
      "Komunitas : 2 dan Komunitas : 3 pada Topik : 4 memiliki tweet positif : 19\n",
      "Komunitas : 2 dan Komunitas : 3 pada Topik : 4 memiliki tweet positif : 30\n",
      "Nilai Kontroversial topik 4 antara Komunitas 2 dan 3 adalah -0.224\n",
      "Komunitas : 2 dan Komunitas : 3 pada Topik : 2 memiliki tweet positif : 39\n",
      "Komunitas : 2 dan Komunitas : 3 pada Topik : 2 memiliki tweet positif : 69\n",
      "Nilai Kontroversial topik 2 antara Komunitas 2 dan 3 adalah -0.278\n",
      "Komunitas : 2 dan Komunitas : 3 pada Topik : 0 memiliki tweet positif : 18\n",
      "Komunitas : 2 dan Komunitas : 3 pada Topik : 0 memiliki tweet positif : 45\n",
      "Nilai Kontroversial topik 0 antara Komunitas 2 dan 3 adalah -0.429\n",
      "Komunitas : 2 dan Komunitas : 3 pada Topik : 5 memiliki tweet positif : 18\n",
      "Komunitas : 2 dan Komunitas : 3 pada Topik : 5 memiliki tweet positif : 92\n",
      "Nilai Kontroversial topik 5 antara Komunitas 2 dan 3 adalah -0.673\n",
      "Komunitas : 2 dan Komunitas : 3 pada Topik : 3 memiliki tweet positif : 24\n",
      "Komunitas : 2 dan Komunitas : 3 pada Topik : 3 memiliki tweet positif : 52\n",
      "Nilai Kontroversial topik 3 antara Komunitas 2 dan 3 adalah -0.368\n",
      "Komunitas : 2 dan Komunitas : 0 pada Topik : 1 memiliki tweet positif : 16\n",
      "Komunitas : 2 dan Komunitas : 0 pada Topik : 1 memiliki tweet positif : 33\n",
      "Nilai Kontroversial topik 1 antara Komunitas 2 dan 0 adalah -0.347\n",
      "Komunitas : 2 dan Komunitas : 0 pada Topik : 6 memiliki tweet positif : 21\n",
      "Komunitas : 2 dan Komunitas : 0 pada Topik : 6 memiliki tweet positif : 45\n",
      "Nilai Kontroversial topik 6 antara Komunitas 2 dan 0 adalah -0.364\n",
      "Komunitas : 2 dan Komunitas : 0 pada Topik : 7 memiliki tweet positif : 13\n",
      "Komunitas : 2 dan Komunitas : 0 pada Topik : 7 memiliki tweet positif : 34\n",
      "Nilai Kontroversial topik 7 antara Komunitas 2 dan 0 adalah -0.447\n",
      "Komunitas : 2 dan Komunitas : 0 pada Topik : 4 memiliki tweet positif : 23\n",
      "Komunitas : 2 dan Komunitas : 0 pada Topik : 4 memiliki tweet positif : 17\n",
      "Nilai Kontroversial topik 4 antara Komunitas 2 dan 0 adalah 0.150\n",
      "Komunitas : 2 dan Komunitas : 0 pada Topik : 2 memiliki tweet positif : 39\n",
      "Komunitas : 2 dan Komunitas : 0 pada Topik : 2 memiliki tweet positif : 52\n",
      "Nilai Kontroversial topik 2 antara Komunitas 2 dan 0 adalah -0.143\n",
      "Komunitas : 2 dan Komunitas : 0 pada Topik : 0 memiliki tweet positif : 18\n",
      "Komunitas : 2 dan Komunitas : 0 pada Topik : 0 memiliki tweet positif : 27\n",
      "Nilai Kontroversial topik 0 antara Komunitas 2 dan 0 adalah -0.200\n",
      "Komunitas : 2 dan Komunitas : 0 pada Topik : 5 memiliki tweet positif : 24\n",
      "Komunitas : 2 dan Komunitas : 0 pada Topik : 5 memiliki tweet positif : 55\n",
      "Nilai Kontroversial topik 5 antara Komunitas 2 dan 0 adalah -0.392\n",
      "Komunitas : 2 dan Komunitas : 0 pada Topik : 3 memiliki tweet positif : 29\n",
      "Komunitas : 2 dan Komunitas : 0 pada Topik : 3 memiliki tweet positif : 36\n",
      "Nilai Kontroversial topik 3 antara Komunitas 2 dan 0 adalah -0.108\n",
      "Komunitas : 2 dan Komunitas : 5 pada Topik : 1 memiliki tweet positif : 13\n",
      "Komunitas : 2 dan Komunitas : 5 pada Topik : 1 memiliki tweet positif : 28\n",
      "Nilai Kontroversial topik 1 antara Komunitas 2 dan 5 adalah -0.366\n",
      "Komunitas : 2 dan Komunitas : 5 pada Topik : 6 memiliki tweet positif : 16\n",
      "Komunitas : 2 dan Komunitas : 5 pada Topik : 6 memiliki tweet positif : 34\n",
      "Nilai Kontroversial topik 6 antara Komunitas 2 dan 5 adalah -0.360\n",
      "Komunitas : 2 dan Komunitas : 5 pada Topik : 7 memiliki tweet positif : 9\n",
      "Komunitas : 2 dan Komunitas : 5 pada Topik : 7 memiliki tweet positif : 33\n",
      "Nilai Kontroversial topik 7 antara Komunitas 2 dan 5 adalah -0.571\n",
      "Komunitas : 2 dan Komunitas : 5 pada Topik : 4 memiliki tweet positif : 18\n",
      "Komunitas : 2 dan Komunitas : 5 pada Topik : 4 memiliki tweet positif : 14\n",
      "Nilai Kontroversial topik 4 antara Komunitas 2 dan 5 adalah 0.125\n",
      "Komunitas : 2 dan Komunitas : 5 pada Topik : 2 memiliki tweet positif : 31\n",
      "Komunitas : 2 dan Komunitas : 5 pada Topik : 2 memiliki tweet positif : 42\n",
      "Nilai Kontroversial topik 2 antara Komunitas 2 dan 5 adalah -0.151\n",
      "Komunitas : 2 dan Komunitas : 5 pada Topik : 0 memiliki tweet positif : 16\n",
      "Komunitas : 2 dan Komunitas : 5 pada Topik : 0 memiliki tweet positif : 23\n",
      "Nilai Kontroversial topik 0 antara Komunitas 2 dan 5 adalah -0.179\n",
      "Komunitas : 2 dan Komunitas : 5 pada Topik : 5 memiliki tweet positif : 15\n",
      "Komunitas : 2 dan Komunitas : 5 pada Topik : 5 memiliki tweet positif : 43\n",
      "Nilai Kontroversial topik 5 antara Komunitas 2 dan 5 adalah -0.483\n",
      "Komunitas : 2 dan Komunitas : 5 pada Topik : 3 memiliki tweet positif : 20\n",
      "Komunitas : 2 dan Komunitas : 5 pada Topik : 3 memiliki tweet positif : 30\n",
      "Nilai Kontroversial topik 3 antara Komunitas 2 dan 5 adalah -0.200\n",
      "Komunitas : 4 dan Komunitas : 3 pada Topik : 1 memiliki tweet positif : 17\n",
      "Komunitas : 4 dan Komunitas : 3 pada Topik : 1 memiliki tweet positif : 85\n",
      "Nilai Kontroversial topik 1 antara Komunitas 4 dan 3 adalah -0.667\n",
      "Komunitas : 4 dan Komunitas : 3 pada Topik : 6 memiliki tweet positif : 16\n",
      "Komunitas : 4 dan Komunitas : 3 pada Topik : 6 memiliki tweet positif : 66\n",
      "Nilai Kontroversial topik 6 antara Komunitas 4 dan 3 adalah -0.610\n",
      "Komunitas : 4 dan Komunitas : 3 pada Topik : 7 memiliki tweet positif : 29\n",
      "Komunitas : 4 dan Komunitas : 3 pada Topik : 7 memiliki tweet positif : 121\n",
      "Nilai Kontroversial topik 7 antara Komunitas 4 dan 3 adalah -0.613\n",
      "Komunitas : 4 dan Komunitas : 3 pada Topik : 4 memiliki tweet positif : 8\n",
      "Komunitas : 4 dan Komunitas : 3 pada Topik : 4 memiliki tweet positif : 40\n",
      "Nilai Kontroversial topik 4 antara Komunitas 4 dan 3 adalah -0.667\n",
      "Komunitas : 4 dan Komunitas : 3 pada Topik : 2 memiliki tweet positif : 22\n",
      "Komunitas : 4 dan Komunitas : 3 pada Topik : 2 memiliki tweet positif : 98\n",
      "Nilai Kontroversial topik 2 antara Komunitas 4 dan 3 adalah -0.633\n",
      "Komunitas : 4 dan Komunitas : 3 pada Topik : 0 memiliki tweet positif : 17\n",
      "Komunitas : 4 dan Komunitas : 3 pada Topik : 0 memiliki tweet positif : 60\n",
      "Nilai Kontroversial topik 0 antara Komunitas 4 dan 3 adalah -0.558\n",
      "Komunitas : 4 dan Komunitas : 3 pada Topik : 5 memiliki tweet positif : 18\n",
      "Komunitas : 4 dan Komunitas : 3 pada Topik : 5 memiliki tweet positif : 123\n",
      "Nilai Kontroversial topik 5 antara Komunitas 4 dan 3 adalah -0.745\n",
      "Komunitas : 4 dan Komunitas : 3 pada Topik : 3 memiliki tweet positif : 17\n",
      "Komunitas : 4 dan Komunitas : 3 pada Topik : 3 memiliki tweet positif : 67\n",
      "Nilai Kontroversial topik 3 antara Komunitas 4 dan 3 adalah -0.595\n",
      "Komunitas : 4 dan Komunitas : 0 pada Topik : 1 memiliki tweet positif : 16\n",
      "Komunitas : 4 dan Komunitas : 0 pada Topik : 1 memiliki tweet positif : 60\n",
      "Nilai Kontroversial topik 1 antara Komunitas 4 dan 0 adalah -0.579\n",
      "Komunitas : 4 dan Komunitas : 0 pada Topik : 6 memiliki tweet positif : 18\n",
      "Komunitas : 4 dan Komunitas : 0 pada Topik : 6 memiliki tweet positif : 59\n",
      "Nilai Kontroversial topik 6 antara Komunitas 4 dan 0 adalah -0.532\n",
      "Komunitas : 4 dan Komunitas : 0 pada Topik : 7 memiliki tweet positif : 20\n",
      "Komunitas : 4 dan Komunitas : 0 pada Topik : 7 memiliki tweet positif : 85\n",
      "Nilai Kontroversial topik 7 antara Komunitas 4 dan 0 adalah -0.619\n",
      "Komunitas : 4 dan Komunitas : 0 pada Topik : 4 memiliki tweet positif : 12\n",
      "Komunitas : 4 dan Komunitas : 0 pada Topik : 4 memiliki tweet positif : 27\n",
      "Nilai Kontroversial topik 4 antara Komunitas 4 dan 0 adalah -0.385\n",
      "Komunitas : 4 dan Komunitas : 0 pada Topik : 2 memiliki tweet positif : 22\n",
      "Komunitas : 4 dan Komunitas : 0 pada Topik : 2 memiliki tweet positif : 81\n",
      "Nilai Kontroversial topik 2 antara Komunitas 4 dan 0 adalah -0.573\n",
      "Komunitas : 4 dan Komunitas : 0 pada Topik : 0 memiliki tweet positif : 17\n",
      "Komunitas : 4 dan Komunitas : 0 pada Topik : 0 memiliki tweet positif : 42\n",
      "Nilai Kontroversial topik 0 antara Komunitas 4 dan 0 adalah -0.424\n",
      "Komunitas : 4 dan Komunitas : 0 pada Topik : 5 memiliki tweet positif : 24\n",
      "Komunitas : 4 dan Komunitas : 0 pada Topik : 5 memiliki tweet positif : 86\n",
      "Nilai Kontroversial topik 5 antara Komunitas 4 dan 0 adalah -0.564\n",
      "Komunitas : 4 dan Komunitas : 0 pada Topik : 3 memiliki tweet positif : 22\n",
      "Komunitas : 4 dan Komunitas : 0 pada Topik : 3 memiliki tweet positif : 51\n",
      "Nilai Kontroversial topik 3 antara Komunitas 4 dan 0 adalah -0.397\n",
      "Komunitas : 4 dan Komunitas : 5 pada Topik : 1 memiliki tweet positif : 13\n",
      "Komunitas : 4 dan Komunitas : 5 pada Topik : 1 memiliki tweet positif : 55\n",
      "Nilai Kontroversial topik 1 antara Komunitas 4 dan 5 adalah -0.618\n",
      "Komunitas : 4 dan Komunitas : 5 pada Topik : 6 memiliki tweet positif : 13\n",
      "Komunitas : 4 dan Komunitas : 5 pada Topik : 6 memiliki tweet positif : 48\n",
      "Nilai Kontroversial topik 6 antara Komunitas 4 dan 5 adalah -0.574\n",
      "Komunitas : 4 dan Komunitas : 5 pada Topik : 7 memiliki tweet positif : 16\n",
      "Komunitas : 4 dan Komunitas : 5 pada Topik : 7 memiliki tweet positif : 84\n",
      "Nilai Kontroversial topik 7 antara Komunitas 4 dan 5 adalah -0.680\n",
      "Komunitas : 4 dan Komunitas : 5 pada Topik : 4 memiliki tweet positif : 7\n",
      "Komunitas : 4 dan Komunitas : 5 pada Topik : 4 memiliki tweet positif : 24\n",
      "Nilai Kontroversial topik 4 antara Komunitas 4 dan 5 adalah -0.548\n",
      "Komunitas : 4 dan Komunitas : 5 pada Topik : 2 memiliki tweet positif : 14\n",
      "Komunitas : 4 dan Komunitas : 5 pada Topik : 2 memiliki tweet positif : 71\n",
      "Nilai Kontroversial topik 2 antara Komunitas 4 dan 5 adalah -0.671\n",
      "Komunitas : 4 dan Komunitas : 5 pada Topik : 0 memiliki tweet positif : 15\n",
      "Komunitas : 4 dan Komunitas : 5 pada Topik : 0 memiliki tweet positif : 38\n",
      "Nilai Kontroversial topik 0 antara Komunitas 4 dan 5 adalah -0.434\n",
      "Komunitas : 4 dan Komunitas : 5 pada Topik : 5 memiliki tweet positif : 15\n",
      "Komunitas : 4 dan Komunitas : 5 pada Topik : 5 memiliki tweet positif : 74\n",
      "Nilai Kontroversial topik 5 antara Komunitas 4 dan 5 adalah -0.663\n",
      "Komunitas : 4 dan Komunitas : 5 pada Topik : 3 memiliki tweet positif : 13\n",
      "Komunitas : 4 dan Komunitas : 5 pada Topik : 3 memiliki tweet positif : 45\n",
      "Nilai Kontroversial topik 3 antara Komunitas 4 dan 5 adalah -0.552\n",
      "Komunitas : 3 dan Komunitas : 0 pada Topik : 1 memiliki tweet positif : 7\n",
      "Komunitas : 3 dan Komunitas : 0 pada Topik : 1 memiliki tweet positif : 35\n",
      "Nilai Kontroversial topik 1 antara Komunitas 3 dan 0 adalah -0.667\n",
      "Komunitas : 3 dan Komunitas : 0 pada Topik : 6 memiliki tweet positif : 8\n",
      "Komunitas : 3 dan Komunitas : 0 pada Topik : 6 memiliki tweet positif : 35\n",
      "Nilai Kontroversial topik 6 antara Komunitas 3 dan 0 adalah -0.628\n",
      "Komunitas : 3 dan Komunitas : 0 pada Topik : 7 memiliki tweet positif : 17\n",
      "Komunitas : 3 dan Komunitas : 0 pada Topik : 7 memiliki tweet positif : 44\n",
      "Nilai Kontroversial topik 7 antara Komunitas 3 dan 0 adalah -0.443\n",
      "Komunitas : 3 dan Komunitas : 0 pada Topik : 4 memiliki tweet positif : 6\n",
      "Komunitas : 3 dan Komunitas : 0 pada Topik : 4 memiliki tweet positif : 19\n",
      "Nilai Kontroversial topik 4 antara Komunitas 3 dan 0 adalah -0.520\n",
      "Komunitas : 3 dan Komunitas : 0 pada Topik : 2 memiliki tweet positif : 18\n",
      "Komunitas : 3 dan Komunitas : 0 pada Topik : 2 memiliki tweet positif : 39\n",
      "Nilai Kontroversial topik 2 antara Komunitas 3 dan 0 adalah -0.368\n",
      "Komunitas : 3 dan Komunitas : 0 pada Topik : 0 memiliki tweet positif : 4\n",
      "Komunitas : 3 dan Komunitas : 0 pada Topik : 0 memiliki tweet positif : 26\n",
      "Nilai Kontroversial topik 0 antara Komunitas 3 dan 0 adalah -0.733\n",
      "Komunitas : 3 dan Komunitas : 0 pada Topik : 5 memiliki tweet positif : 14\n",
      "Komunitas : 3 dan Komunitas : 0 pada Topik : 5 memiliki tweet positif : 65\n",
      "Nilai Kontroversial topik 5 antara Komunitas 3 dan 0 adalah -0.646\n",
      "Komunitas : 3 dan Komunitas : 0 pada Topik : 3 memiliki tweet positif : 13\n",
      "Komunitas : 3 dan Komunitas : 0 pada Topik : 3 memiliki tweet positif : 34\n",
      "Nilai Kontroversial topik 3 antara Komunitas 3 dan 0 adalah -0.447\n",
      "Komunitas : 3 dan Komunitas : 5 pada Topik : 1 memiliki tweet positif : 4\n",
      "Komunitas : 3 dan Komunitas : 5 pada Topik : 1 memiliki tweet positif : 30\n",
      "Nilai Kontroversial topik 1 antara Komunitas 3 dan 5 adalah -0.765\n",
      "Komunitas : 3 dan Komunitas : 5 pada Topik : 6 memiliki tweet positif : 3\n",
      "Komunitas : 3 dan Komunitas : 5 pada Topik : 6 memiliki tweet positif : 24\n",
      "Nilai Kontroversial topik 6 antara Komunitas 3 dan 5 adalah -0.778\n",
      "Komunitas : 3 dan Komunitas : 5 pada Topik : 7 memiliki tweet positif : 13\n",
      "Komunitas : 3 dan Komunitas : 5 pada Topik : 7 memiliki tweet positif : 43\n",
      "Nilai Kontroversial topik 7 antara Komunitas 3 dan 5 adalah -0.536\n",
      "Komunitas : 3 dan Komunitas : 5 pada Topik : 4 memiliki tweet positif : 1\n",
      "Komunitas : 3 dan Komunitas : 5 pada Topik : 4 memiliki tweet positif : 16\n",
      "Nilai Kontroversial topik 4 antara Komunitas 3 dan 5 adalah -0.882\n",
      "Komunitas : 3 dan Komunitas : 5 pada Topik : 2 memiliki tweet positif : 10\n",
      "Komunitas : 3 dan Komunitas : 5 pada Topik : 2 memiliki tweet positif : 29\n",
      "Nilai Kontroversial topik 2 antara Komunitas 3 dan 5 adalah -0.487\n",
      "Komunitas : 3 dan Komunitas : 5 pada Topik : 0 memiliki tweet positif : 2\n",
      "Komunitas : 3 dan Komunitas : 5 pada Topik : 0 memiliki tweet positif : 22\n",
      "Nilai Kontroversial topik 0 antara Komunitas 3 dan 5 adalah -0.833\n",
      "Komunitas : 3 dan Komunitas : 5 pada Topik : 5 memiliki tweet positif : 5\n",
      "Komunitas : 3 dan Komunitas : 5 pada Topik : 5 memiliki tweet positif : 53\n",
      "Nilai Kontroversial topik 5 antara Komunitas 3 dan 5 adalah -0.828\n",
      "Komunitas : 3 dan Komunitas : 5 pada Topik : 3 memiliki tweet positif : 4\n",
      "Komunitas : 3 dan Komunitas : 5 pada Topik : 3 memiliki tweet positif : 28\n",
      "Nilai Kontroversial topik 3 antara Komunitas 3 dan 5 adalah -0.750\n",
      "Komunitas : 0 dan Komunitas : 5 pada Topik : 1 memiliki tweet positif : 3\n",
      "Komunitas : 0 dan Komunitas : 5 pada Topik : 1 memiliki tweet positif : 5\n",
      "Nilai Kontroversial topik 1 antara Komunitas 0 dan 5 adalah -0.250\n",
      "Komunitas : 0 dan Komunitas : 5 pada Topik : 6 memiliki tweet positif : 5\n",
      "Komunitas : 0 dan Komunitas : 5 pada Topik : 6 memiliki tweet positif : 17\n",
      "Nilai Kontroversial topik 6 antara Komunitas 0 dan 5 adalah -0.545\n",
      "Komunitas : 0 dan Komunitas : 5 pada Topik : 7 memiliki tweet positif : 4\n",
      "Komunitas : 0 dan Komunitas : 5 pada Topik : 7 memiliki tweet positif : 7\n",
      "Nilai Kontroversial topik 7 antara Komunitas 0 dan 5 adalah -0.273\n",
      "Komunitas : 0 dan Komunitas : 5 pada Topik : 4 memiliki tweet positif : 5\n",
      "Komunitas : 0 dan Komunitas : 5 pada Topik : 4 memiliki tweet positif : 3\n",
      "Nilai Kontroversial topik 4 antara Komunitas 0 dan 5 adalah 0.250\n",
      "Komunitas : 0 dan Komunitas : 5 pada Topik : 2 memiliki tweet positif : 10\n",
      "Komunitas : 0 dan Komunitas : 5 pada Topik : 2 memiliki tweet positif : 12\n",
      "Nilai Kontroversial topik 2 antara Komunitas 0 dan 5 adalah -0.091\n",
      "Komunitas : 0 dan Komunitas : 5 pada Topik : 0 memiliki tweet positif : 2\n",
      "Komunitas : 0 dan Komunitas : 5 pada Topik : 0 memiliki tweet positif : 4\n",
      "Nilai Kontroversial topik 0 antara Komunitas 0 dan 5 adalah -0.333\n",
      "Komunitas : 0 dan Komunitas : 5 pada Topik : 5 memiliki tweet positif : 11\n",
      "Komunitas : 0 dan Komunitas : 5 pada Topik : 5 memiliki tweet positif : 16\n",
      "Nilai Kontroversial topik 5 antara Komunitas 0 dan 5 adalah -0.185\n",
      "Komunitas : 0 dan Komunitas : 5 pada Topik : 3 memiliki tweet positif : 9\n",
      "Komunitas : 0 dan Komunitas : 5 pada Topik : 3 memiliki tweet positif : 12\n",
      "Nilai Kontroversial topik 3 antara Komunitas 0 dan 5 adalah -0.143\n"
     ]
    }
   ],
   "source": [
    "for i1, i2 in itertools.combinations(sliced['modularity'].unique(),2):\n",
    "    for t in (sliced['topic'].unique()):\n",
    "        p_score = count[i1][t][1]+count[i2][t][1]\n",
    "        print('Komunitas : {} dan Komunitas : {} pada Topik : {} memiliki tweet positif : {}'.format(i1,i2,t,p_score))\n",
    "        n_score = count[i1][t][0]+count[i2][t][0]\n",
    "        print('Komunitas : {} dan Komunitas : {} pada Topik : {} memiliki tweet positif : {}'.format(i1,i2,t,n_score))\n",
    "        c_score = (p_score-n_score)/(p_score+n_score)\n",
    "        print('Nilai Kontroversial topik {} antara Komunitas {} dan {} adalah {:.3f}'.format(t,i1,i2,c_score))\n",
    "#         print(c_score)"
   ]
  }
 ],
 "metadata": {
  "kernelspec": {
   "display_name": "Python 3",
   "language": "python",
   "name": "python3"
  },
  "language_info": {
   "codemirror_mode": {
    "name": "ipython",
    "version": 3
   },
   "file_extension": ".py",
   "mimetype": "text/x-python",
   "name": "python",
   "nbconvert_exporter": "python",
   "pygments_lexer": "ipython3",
   "version": "3.6.6"
  }
 },
 "nbformat": 4,
 "nbformat_minor": 2
}
