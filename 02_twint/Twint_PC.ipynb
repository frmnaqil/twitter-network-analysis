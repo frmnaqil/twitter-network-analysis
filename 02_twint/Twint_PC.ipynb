{
 "cells": [
  {
   "cell_type": "markdown",
   "metadata": {},
   "source": [
    "## Crawl following list\n",
    "https://github.com/twintproject/twint"
   ]
  },
  {
   "cell_type": "code",
   "execution_count": null,
   "metadata": {},
   "outputs": [],
   "source": [
    "import pandas as pd\n",
    "import twint\n",
    "import os\n",
    "import json"
   ]
  },
  {
   "cell_type": "code",
   "execution_count": null,
   "metadata": {},
   "outputs": [],
   "source": [
    "df = pd.read_csv(os.path.join(os.pardir,os.pardir,\"data\",\"01_out\",\"out.csv\"), usecols = ['username'])"
   ]
  },
  {
   "cell_type": "code",
   "execution_count": null,
   "metadata": {
    "scrolled": true
   },
   "outputs": [],
   "source": [
    "def unique_list(dataframe):\n",
    "    dataframe['username'] = dataframe['username'].str.lower()\n",
    "    dataframe['username'] = dataframe['username'].drop_duplicates()\n",
    "    return dataframe['username'].tolist()"
   ]
  },
  {
   "cell_type": "code",
   "execution_count": null,
   "metadata": {},
   "outputs": [],
   "source": [
    "usernames_list = unique_list(df)"
   ]
  },
  {
   "cell_type": "markdown",
   "metadata": {},
   "source": [
    "## Loop twint based on last file on dir"
   ]
  },
  {
   "cell_type": "code",
   "execution_count": null,
   "metadata": {},
   "outputs": [],
   "source": [
    "def check_dir(path = os.path.join(os.pardir,os.pardir,\"data\",\"02_out\")):\n",
    "    list_directory = os.listdir(path)\n",
    "    if not list_directory:\n",
    "        print(\"Directory is empty!\")\n",
    "    else:\n",
    "        list_directory = [name[:-4] for name in list_directory]\n",
    "        list_directory = sorted(list(map(int,list_directory)))\n",
    "    \n",
    "        return list_directory"
   ]
  },
  {
   "cell_type": "code",
   "execution_count": null,
   "metadata": {
    "scrolled": true
   },
   "outputs": [],
   "source": [
    "def twint_follower(batch):\n",
    "    listdir = check_dir()\n",
    "    if listdir == None:\n",
    "        bottom = 0\n",
    "    else:\n",
    "        bottom = listdir[len(listdir)-1]\n",
    "        \n",
    "    top = bottom + batch\n",
    "\n",
    "    print('Batch_Bottom = ', bottom)\n",
    "    print('Batch_Top = ', top)\n",
    "\n",
    "    for i in range(len(usernames_list)):\n",
    "        if i <= bottom and bottom != 0:\n",
    "            continue\n",
    "        try:\n",
    "#             https://github.com/twintproject/twint/wiki/Module\n",
    "            print('-------',usernames_list[i])\n",
    "            conf = twint.Config()\n",
    "            conf.Username = usernames_list[i]\n",
    "            conf.Store_csv = True\n",
    "            conf.Output = 'try/' + str(i)+ '.csv'\n",
    "            twint.run.Following(conf)\n",
    "        except RuntimeError:\n",
    "            print(str(i))\n",
    "\n",
    "        if i == top:\n",
    "            break"
   ]
  },
  {
   "cell_type": "code",
   "execution_count": null,
   "metadata": {},
   "outputs": [],
   "source": [
    "twint_follower(5)"
   ]
  },
  {
   "cell_type": "code",
   "execution_count": null,
   "metadata": {},
   "outputs": [],
   "source": [
    "def missing_follower(top_limit):\n",
    "    \n",
    "    listdir = check_dir()\n",
    "    \n",
    "#   Create missing list to be compared\n",
    "    missing = [value for value in range(0,top_limit) if value not in listdir]\n",
    "    \n",
    "    with open('not_exist_unique.json') as file:  \n",
    "        private_suspended = json.load(file)\n",
    "        \n",
    "    missing = [e for e in missing if e not in private_suspended]\n",
    "    \n",
    "    for i in missing:\n",
    "        try:\n",
    "    #     https://github.com/twintproject/twint/wiki/Module\n",
    "            print(i,'-------',usernames_list[i])\n",
    "            conf = twint.Config()\n",
    "            conf.Username = usernames_list[i]\n",
    "            conf.Store_csv = True\n",
    "            conf.Output = 'try/' + str(i)+ '.csv'\n",
    "            twint.run.Following(conf)\n",
    "        except RuntimeError:\n",
    "            print('Runtime Error')\n",
    "    \n",
    "    return len(private_suspended), len(listdir)"
   ]
  },
  {
   "cell_type": "code",
   "execution_count": null,
   "metadata": {
    "scrolled": true
   },
   "outputs": [],
   "source": [
    "i = 0\n",
    "while i < 1 :\n",
    "    missing_follower(len(usernames_vector))\n",
    "    print(missing)\n",
    "    i = i+1"
   ]
  }
 ],
 "metadata": {
  "kernelspec": {
   "display_name": "Python 3",
   "language": "python",
   "name": "python3"
  },
  "language_info": {
   "codemirror_mode": {
    "name": "ipython",
    "version": 3
   },
   "file_extension": ".py",
   "mimetype": "text/x-python",
   "name": "python",
   "nbconvert_exporter": "python",
   "pygments_lexer": "ipython3",
   "version": "3.6.7"
  }
 },
 "nbformat": 4,
 "nbformat_minor": 2
}
