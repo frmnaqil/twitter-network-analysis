{
 "cells": [
  {
   "cell_type": "markdown",
   "metadata": {},
   "source": [
    "## Get old Tweet with GOT3\n",
    "https://github.com/Mottl/GetOldTweets3/"
   ]
  },
  {
   "cell_type": "code",
   "execution_count": 1,
   "metadata": {},
   "outputs": [],
   "source": [
    "import GetOldTweets3 as got\n",
    "import csv\n",
    "import os"
   ]
  },
  {
   "cell_type": "code",
   "execution_count": 2,
   "metadata": {},
   "outputs": [],
   "source": [
    "tweetCriteria = got.manager.TweetCriteria().setQuerySearch('pemilu @kpu_id')\\\n",
    "                                           .setSince(\"2019-07-02\")\\\n",
    "                                           .setUntil(\"2019-07-03\")\\\n",
    "                                           .setMaxTweets(-1)\n",
    "tweet = got.manager.TweetManager.getTweets(tweetCriteria)"
   ]
  },
  {
   "cell_type": "code",
   "execution_count": 3,
   "metadata": {},
   "outputs": [
    {
     "name": "stdout",
     "output_type": "stream",
     "text": [
      "0 2019-07-02 17:09:10+00:00\n",
      "@KPU_ID ga tau malu, sepanjang sejarah pemilu paling kacau. Jgn seneng dulu wahai tuan\" di kpu, God never sleep\n",
      "1 2019-07-02 15:54:20+00:00\n",
      "@KPU_ID brooooo kok masih masalah situng....???? Bukanya pemilu udah selsai....??? Mereka udah pada takut jika terjadi Audit Situng\n",
      "2 2019-07-02 15:44:16+00:00\n",
      "Tp orang ini ikut pemilu kan? @KPU_ID memang hebat https://twitter.com/vivacoid/status/1146081876794155008 …\n",
      "3 2019-07-02 15:01:25+00:00\n",
      "@KPU_ID kenapa diem saja dibilang pemilu curang?hayoo mulai tuntut orang yg bilang pemilu curang.kasih pelajaran keoada mereka itu\n",
      "4 2019-07-02 14:19:36+00:00\n",
      "Siap2 korban 700 org petugas pemilu di papua nugini.:.\n",
      "5 2019-07-02 13:59:55+00:00\n",
      "Nanti tahun tahun yang akan datang kalo ada pemilu lagi, coblos sendiri , itung sendiri, umumin sendiri aja pak. Gak usah ajak ajak rakyat\n",
      "6 2019-07-02 13:47:17+00:00\n",
      "5 surat suara d pemilu 2019 yg membuat setengah ribu lebih anggota kpps wafat dan @kpu_id tdk melakukan infestigasi Gitu mau di contoh? Kelaut aza!!!! https://twitter.com/KPU_ID/status/1146000395082194944 …\n",
      "7 2019-07-02 12:47:55+00:00\n",
      "KURSI PANAS PRESIDEN to @jokowi Sumpah atas Nama Tuhan dlm Kecurangan Dikelilingi 700 kuburan anggota KPPS Bersimbah Darah 21-22 Mei 2019 dan hilangnya 70 orang Ini hasil Pemilu @KPU_ID @bawaslu_RI #PrabowoJanganHadiriPelantikanhttps://opiniindonesia.com/2019/07/02/kursi-panas-presiden/ …\n",
      "8 2019-07-02 12:24:07+00:00\n",
      "Sekaran pemilu 2019 itu Pemilu yg paling baik dan sukses di dunia dan akherat, jadi rakyat harus bangga, dan bersyukur agar 5 tahun lagi bisa ketemu pemilu lagi.....? @jokowi, @KPU_ID , @bawaslu_RI , @DKPP_RI bravooohttps://twitter.com/mediaindonesia/status/1146020032289234944 …\n",
      "9 2019-07-02 11:58:19+00:00\n",
      "Ya ampun... Satu, katanya situng gak ngaruh? Dua, katanya pemilu uda selesei? Tiga, gak perlu sampek ngabisin biaya yg tersisa kan? Sbg muslim, sy heran knapa @KPU_ID melakukan hal yg sia sia ?\n",
      "10 2019-07-02 11:46:33+00:00\n",
      "Kalau bisa ga usah ngadain pemilu sayang uang negara 24 T,lelah jiwa dan tenaga kita berjuang hidup dan mati ingin ganti presiden.ternyata selama ini lawan kita orang gila Kabeh.\n",
      "11 2019-07-02 11:40:36+00:00\n",
      "Setuju dok, @KPU_ID edisi pemilu serentak ini memalukan. Lebih baik komisionernya diblacklist dari jabatan publik.\n",
      "12 2019-07-02 11:22:14+00:00\n",
      "Terimakasih cuma sama sekongkolannya, sama rakyat yg membiayai pemilu ga terima kasih??? Bahkan gaji yg klen makan pun dari uang rakyat...\n",
      "13 2019-07-02 11:02:04+00:00\n",
      "Allahumma ya Allah Azablah org2 yg berbuat curang dlm pemilu,Hinakan hidup mereka dunia dan 7 keturunanya selamanya di dunia ini dan timpakanlah Azab yg lebih besar di akhirat.amiin...\n",
      "14 2019-07-02 10:28:51+00:00\n",
      "Kenapa wajib??kan pemilu berjalan aman damai jujur dan adil kata @Humas_MKRI dan @KPU_ID serta @bawaslu_RI\n",
      "15 2019-07-02 10:19:20+00:00\n",
      "Kunjungan Delegasi Constitutional and Law Reform Commission (CLRC) Papua Nugini ke Kantor KPU RI untuk belajar mengenai kepemiluan di Tanah Air. Bahasan mulai dari keterlibatan perempuan dalam pemilu hingga 5 surat suara di Pemilu 2019. #KPUmelayani #CLRCpic.twitter.com/c9JO1fxJrR\n",
      "16 2019-07-02 10:09:45+00:00\n",
      "Ketua KPU, Arief Budiman : Berdasarkan Data statistik perkara PHPU Pemilu 2019 lebih sedikit dari pemilu sebelumnya yakni hanya 250 perkara teregister. Meski begitu, KPU tetap harus cermat menyiapkan jawaban dan strategi advokasi terbaik. Jakarta, Selasa (2/7) #KPUmelayanipic.twitter.com/plonhrg0O9\n",
      "17 2019-07-02 09:51:42+00:00\n",
      "Ini bukan berita asli yang menyatakan ketua @KPU_ID membela hasil pemilu \"yang banyak kecurangan\". Gambar yang diunggah adalah hasil editan tangkapan layar berita Republika yang judulnya telah diubah. http://u.afp.com/KetuaKPUImbau\n",
      "18 2019-07-02 07:10:02+00:00\n",
      "Malu saya belum mampu melayani pemilih dan peserta pemilu secara maksimal...\n",
      "19 2019-07-02 05:10:50+00:00\n",
      "KURSI PANAS PRESIDEN to @jokowi Sumpah atas Nama Tuhan dlm Kecurangan Dikelilingi 700 kuburan anggota KPPS Bersimbah Darah 21-22 Mei 2019 dan hilangnya 70 orang Ini hasil Pemilu @KPU_ID @bawaslu_RI #PrabowoJanganHadiriPelantikan https://opiniindonesia.com/2019/07/02/kursi-panas-presiden/ …\n",
      "20 2019-07-02 04:32:41+00:00\n",
      "Numpang nanya @KPU_ID @KPU_RI , apa tunjangan penyelenggara pemilu bulan April, Mei, dan Juni sudah dicairkan? Sebab kami di kabupaten empat lawang sumatera selatan belum menerima hak kami tersebut. cc @bawaslu_RI @DKPP_RI @jokowi\n",
      "21 2019-07-02 03:10:04+00:00\n",
      "Kita lihat hasil dr Pemilu sukses itu seperti apa, hasil adalah bukti yg ditanam..\n",
      "22 2019-07-02 02:14:52+00:00\n",
      "Bawa anjing & melepaskan ke dalam mesjid, polisi menyebutnya gangguan jiwa. Pemilu orang gangguan jiwa oleh @KPU_ID disuruh memilih. Jadi apa maksudnya? @DivHumas_Polri\n",
      "23 2019-07-02 01:15:26+00:00\n",
      "Pemilu terburuk sejarah Republik ini Pasca Reformasi dinilai dari sisi korban perugas , persiapan dan hasil pemilu\n",
      "Crawling selesai\n"
     ]
    }
   ],
   "source": [
    "with open(os.path.join(os.pardir,os.pardir,\"data\",\"01_out\",\"out.csv\"), mode='w', encoding='utf-8') as csv_file:\n",
    "    field = ['created_at', 'text', 'username', \n",
    "             'id_tweet', 'to', 'mentions', 'hashtags', \n",
    "             'retweet', 'like', 'link']\n",
    "    writer = csv.DictWriter(csv_file, fieldnames=field)\n",
    "    writer.writeheader()\n",
    "    try:\n",
    "        for i in range(200000):\n",
    "            writer.writerow({'created_at': tweet[i].date, \n",
    "                            'text': tweet[i].text, \n",
    "                            'username': tweet[i].username,\n",
    "                            'id_tweet': tweet[i].id, \n",
    "                            'to': tweet[i].to, \n",
    "                            'mentions':tweet[i].mentions,\n",
    "                            'hashtags': tweet[i].hashtags,\n",
    "                            'retweet': tweet[i].retweets,\n",
    "                            'like': tweet[i].favorites,\n",
    "                            'link': tweet[i].permalink})\n",
    "            print(i,tweet[i].date)\n",
    "            print(tweet[i].text)\n",
    "    except IndexError:\n",
    "        print(\"Crawling selesai\")"
   ]
  },
  {
   "cell_type": "code",
   "execution_count": null,
   "metadata": {},
   "outputs": [],
   "source": []
  }
 ],
 "metadata": {
  "kernelspec": {
   "display_name": "Python 3",
   "language": "python",
   "name": "python3"
  },
  "language_info": {
   "codemirror_mode": {
    "name": "ipython",
    "version": 3
   },
   "file_extension": ".py",
   "mimetype": "text/x-python",
   "name": "python",
   "nbconvert_exporter": "python",
   "pygments_lexer": "ipython3",
   "version": "3.6.7"
  }
 },
 "nbformat": 4,
 "nbformat_minor": 2
}
