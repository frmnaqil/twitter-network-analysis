{
 "cells": [
  {
   "cell_type": "markdown",
   "metadata": {},
   "source": [
    "# Tweet text Preprocessing"
   ]
  },
  {
   "cell_type": "code",
   "execution_count": 64,
   "metadata": {
    "collapsed": true
   },
   "outputs": [],
   "source": [
    "import pandas as pd\n",
    "import json\n",
    "import os\n",
    "import matplotlib.pyplot as plt\n",
    "\n",
    "import spacy\n",
    "from spacy.lang.id import Indonesian\n",
    "\n",
    "nlp = Indonesian()  # use directly\n",
    "stopwords = spacy.lang.id.stop_words.STOP_WORDS\n",
    "stopwords.add(\"nya\")\n",
    "\n",
    "pd.set_option('display.max_colwidth', -1)"
   ]
  },
  {
   "cell_type": "code",
   "execution_count": 65,
   "metadata": {},
   "outputs": [],
   "source": [
    "data = pd.read_csv(os.path.join(os.pardir,os.pardir,\"data\",\"04_out\",\"50-KCore-tweet.csv\"))"
   ]
  },
  {
   "cell_type": "code",
   "execution_count": 66,
   "metadata": {
    "collapsed": true
   },
   "outputs": [],
   "source": [
    "df = data"
   ]
  },
  {
   "cell_type": "markdown",
   "metadata": {},
   "source": [
    "## Regular Expression"
   ]
  },
  {
   "cell_type": "code",
   "execution_count": 67,
   "metadata": {},
   "outputs": [],
   "source": [
    "df['clean'] = df['text'].str.lower()\n",
    "# df['clean'] = df['clean'].str.normalize('NFKD')\n",
    "df['clean'] = df['clean'].str.replace(r\"htt\\S+|pic\\.\\S+|pict\\S+|www\\S+|t\\.\\S+|bit\\.\\S+|goo\\.\\S+\", \" \") # remove http, https, pic, CC\n",
    "df['clean'] = df['clean'].str.replace(r\"rt @[\\w_]+\", \" \") # remove rt @username\n",
    "df['clean'] = df['clean'].str.replace(r\"[@#][a-z0-9_]+\", \" \") # remove mention and hashtag\n",
    "df['clean'] = df['clean'].str.replace(r\"[^a-z]\",\" \") # remove non alphabetic\n",
    "df['clean'] = df['clean'].str.replace(r\"(.)\\1{2,}\", r\"\\1\") # replace 3 repeated character in words into 1 character\n",
    "# df['clean'] = df['clean'].str.replace(r\"\\s([a-z])\\1+\",\" \") # remove 2 repeated character after whitespace\n",
    "df['clean'] = df['clean'].str.replace(r\"(^| ).(( ).)*( |$)\",\" \") # remove 1 standalone character\n",
    "df['clean'] = df['clean'].str.replace(r\"\\s\\s+\",\" \") # remove multi space after regex\n",
    "# https://dspace.uii.ac.id/bitstream/handle/123456789/12430/Tugas%20Akhir.pdf?sequence=1&isAllowed=y\n",
    "df['clean'] = df['clean'].str.lstrip()"
   ]
  },
  {
   "cell_type": "code",
   "execution_count": 68,
   "metadata": {},
   "outputs": [
    {
     "data": {
      "text/plain": [
       "14543    yang namanya sumpah dan janji sdh tak berharga lagi di rezim ini moral penyelenggaraan pemilu perlu dipertanyakan                                                                                                                                                    \n",
       "14544    mana ada wasit terserah pemain wasit itu memimpin pertandingan pembuat keputusan halo angkat tangan dari sekarang bila tidak mampu jadi wasit masih banyak wni di negeri ini yang lebih mampu dan kompeten menjadi wasit dalam pemilu kali ini                       \n",
       "14545    berarti bukan kampanye lihat di uu ttg pemilu bahwa yg namanya kampanye itu menyampaikan visi misi atau saya yang salah baca ya                                                                                                                                      \n",
       "14546    diskusi akhir tahun kemarin dan sempat bahas masalah kotak kardus suara punya ada hal menarik bhw kotak suara kardus bukan masalah bahkan terbuat dari daun pisangpun bukan masalah masalahnya adalah trust masyarakat ke penyelenggara pemilu hampir tidak ada lagi \n",
       "14547    bener kata ibu prof mantan komisioner wkt di lupa sy namanya ketua menganggap pemilu spt menanam jagung di kebun kita                                                                                                                                                \n",
       "Name: clean, dtype: object"
      ]
     },
     "execution_count": 68,
     "metadata": {},
     "output_type": "execute_result"
    }
   ],
   "source": [
    "df['clean'].tail()"
   ]
  },
  {
   "cell_type": "markdown",
   "metadata": {},
   "source": [
    "## Tokenization"
   ]
  },
  {
   "cell_type": "code",
   "execution_count": 69,
   "metadata": {
    "collapsed": true
   },
   "outputs": [],
   "source": [
    "def df_tokenizer(tweets_df):\n",
    "    tokenized = [token.text for token in nlp(tweets_df)]\n",
    "    return tokenized"
   ]
  },
  {
   "cell_type": "code",
   "execution_count": 70,
   "metadata": {},
   "outputs": [],
   "source": [
    "tokenized = df['clean'].apply(df_tokenizer)"
   ]
  },
  {
   "cell_type": "code",
   "execution_count": 71,
   "metadata": {},
   "outputs": [
    {
     "data": {
      "text/plain": [
       "14543    [yang, namanya, sumpah, dan, janji, sdh, tak, berharga, lagi, di, rezim, ini, moral, penyelenggaraan, pemilu, perlu, dipertanyakan]                                                                                                                                                                         \n",
       "14544    [mana, ada, wasit, terserah, pemain, wasit, itu, memimpin, pertandingan, pembuat, keputusan, halo, angkat, tangan, dari, sekarang, bila, tidak, mampu, jadi, wasit, masih, banyak, wni, di, negeri, ini, yang, lebih, mampu, dan, kompeten, menjadi, wasit, dalam, pemilu, kali, ini]                       \n",
       "14545    [berarti, bukan, kampanye, lihat, di, uu, ttg, pemilu, bahwa, yg, namanya, kampanye, itu, menyampaikan, visi, misi, atau, saya, yang, salah, baca, ya]                                                                                                                                                      \n",
       "14546    [diskusi, akhir, tahun, kemarin, dan, sempat, bahas, masalah, kotak, kardus, suara, punya, ada, hal, menarik, bhw, kotak, suara, kardus, bukan, masalah, bahkan, terbuat, dari, daun, pisangpun, bukan, masalah, masalahnya, adalah, trust, masyarakat, ke, penyelenggara, pemilu, hampir, tidak, ada, lagi]\n",
       "14547    [bener, kata, ibu, prof, mantan, komisioner, wkt, di, lupa, sy, namanya, ketua, menganggap, pemilu, spt, menanam, jagung, di, kebun, kita]                                                                                                                                                                  \n",
       "Name: clean, dtype: object"
      ]
     },
     "execution_count": 71,
     "metadata": {},
     "output_type": "execute_result"
    }
   ],
   "source": [
    "tokenized.tail()"
   ]
  },
  {
   "cell_type": "markdown",
   "metadata": {},
   "source": [
    "## Slang Word Normalization"
   ]
  },
  {
   "cell_type": "code",
   "execution_count": 72,
   "metadata": {
    "collapsed": true
   },
   "outputs": [],
   "source": [
    "def slang(tokenized_):\n",
    "    slang_word = json.loads(open('slang.json','r').read())\n",
    "    for index in range(len(tokenized_)):\n",
    "        for key, value in slang_word.items():\n",
    "            for v in value:\n",
    "                if tokenized_[index] == v:\n",
    "                    tokenized_[index] = key\n",
    "                else:\n",
    "                    continue\n",
    "    value = \" \".join(str(v) for v in tokenized_) #join as string\n",
    "    return value"
   ]
  },
  {
   "cell_type": "code",
   "execution_count": 73,
   "metadata": {
    "collapsed": true
   },
   "outputs": [],
   "source": [
    "slang_cleaned = tokenized.apply(slang)"
   ]
  },
  {
   "cell_type": "code",
   "execution_count": 74,
   "metadata": {},
   "outputs": [
    {
     "data": {
      "text/plain": [
       "14543    yang nama sumpah dan janji sudah tidak berharga lagi di rezim ini moral penyelenggaraan pemilu perlu dipertanyakan                                                                                                                                                    \n",
       "14544    mana ada wasit terserah pemain wasit itu memimpin pertandingan pembuat keputusan halo angkat tangan dari sekarang bila tidak mampu jadi wasit masih banyak wni di negeri ini yang lebih mampu dan kompeten menjadi wasit dalam pemilu kali ini                        \n",
       "14545    berarti bukan kampanye lihat di undang-undang tentang pemilu bahwa yang nama kampanye itu menyampaikan visi misi atau saya yang salah baca ya                                                                                                                         \n",
       "14546    diskusi akhir tahun kemarin dan sempat bahas masalah kotak kardus suara punya ada hal menarik bahwa kotak suara kardus bukan masalah bahkan terbuat dari daun pisangpun bukan masalah masalahnya adalah trust masyarakat ke penyelenggara pemilu hampir tidak ada lagi\n",
       "14547    benar kata ibu profesor mantan komisioner waktu di lupa saya nama ketua menganggap pemilu seperti menanam jagung di kebun kita                                                                                                                                        \n",
       "Name: clean, dtype: object"
      ]
     },
     "execution_count": 74,
     "metadata": {},
     "output_type": "execute_result"
    }
   ],
   "source": [
    "slang_cleaned.tail()"
   ]
  },
  {
   "cell_type": "markdown",
   "metadata": {},
   "source": [
    "## Lemmatization"
   ]
  },
  {
   "cell_type": "code",
   "execution_count": 75,
   "metadata": {
    "collapsed": true
   },
   "outputs": [],
   "source": [
    "def lemmatize(slang_cleaned_):\n",
    "    lemmatized = [token.lemma_ for token in nlp(slang_cleaned_)]\n",
    "    return lemmatized"
   ]
  },
  {
   "cell_type": "code",
   "execution_count": 76,
   "metadata": {
    "collapsed": true
   },
   "outputs": [],
   "source": [
    "lemmatized = slang_cleaned.apply(lemmatize)"
   ]
  },
  {
   "cell_type": "code",
   "execution_count": 77,
   "metadata": {},
   "outputs": [
    {
     "data": {
      "text/plain": [
       "14543    [yang, nama, sumpah, dan, janji, sudah, tidak, harga, lagi, di, rezim, ini, moral, selenggara, pemilu, perlu, dipertanyakan]                                                                                                                                                                          \n",
       "14544    [mana, ada, wasit, serah, main, wasit, itu, pimpin, tanding, buat, putus, halo, angkat, tangan, dari, sekarang, bila, tidak, mampu, jadi, wasit, masih, banyak, wni, di, negeri, ini, yang, lebih, mampu, dan, kompeten, jadi, wasit, dalam, pemilu, kali, ini]                                       \n",
       "14545    [arti, bukan, kampanye, lihat, di, undang, tentang, pemilu, bahwa, yang, nama, kampanye, itu, sampai, visi, misi, atau, saya, yang, salah, baca, ya]                                                                                                                                                  \n",
       "14546    [diskusi, akhir, tahun, kemarin, dan, sempat, bahas, masalah, kotak, kardus, suara, punya, ada, hal, tarik, bahwa, kotak, suara, kardus, bukan, masalah, bahkan, buat, dari, daun, pisangpun, bukan, masalah, masalahnya, adalah, trust, masyarakat, ke, selenggara, pemilu, hampir, tidak, ada, lagi]\n",
       "14547    [benar, kata, ibu, profesor, mantan, komisioner, waktu, di, lupa, saya, nama, ketua, anggap, pemilu, seperti, tanam, jagung, di, kebun, kita]                                                                                                                                                         \n",
       "Name: clean, dtype: object"
      ]
     },
     "execution_count": 77,
     "metadata": {},
     "output_type": "execute_result"
    }
   ],
   "source": [
    "lemmatized.tail()"
   ]
  },
  {
   "cell_type": "markdown",
   "metadata": {},
   "source": [
    "## Stopword removal"
   ]
  },
  {
   "cell_type": "code",
   "execution_count": 78,
   "metadata": {
    "collapsed": true
   },
   "outputs": [],
   "source": [
    "def stopword_removal(lemmatized_):\n",
    "    clean = []\n",
    "    for i in lemmatized_:\n",
    "        if i not in stopwords:\n",
    "            clean.append(i)\n",
    "\n",
    "    return clean"
   ]
  },
  {
   "cell_type": "code",
   "execution_count": 79,
   "metadata": {
    "collapsed": true
   },
   "outputs": [],
   "source": [
    "clean = lemmatized.apply(stopword_removal)"
   ]
  },
  {
   "cell_type": "code",
   "execution_count": 80,
   "metadata": {},
   "outputs": [
    {
     "data": {
      "text/plain": [
       "14543    [nama, sumpah, janji, harga, rezim, moral, selenggara, pemilu]                                                                      \n",
       "14544    [wasit, serah, main, wasit, pimpin, tanding, putus, halo, angkat, tangan, wasit, wni, negeri, kompeten, wasit, pemilu, kali]        \n",
       "14545    [arti, kampanye, lihat, undang, pemilu, nama, kampanye, visi, misi, salah, baca, ya]                                                \n",
       "14546    [diskusi, kemarin, bahas, kotak, kardus, suara, tarik, kotak, suara, kardus, daun, pisangpun, trust, masyarakat, selenggara, pemilu]\n",
       "14547    [profesor, mantan, komisioner, lupa, nama, ketua, anggap, pemilu, tanam, jagung, kebun]                                             \n",
       "Name: clean, dtype: object"
      ]
     },
     "execution_count": 80,
     "metadata": {},
     "output_type": "execute_result"
    }
   ],
   "source": [
    "clean.tail()"
   ]
  },
  {
   "cell_type": "code",
   "execution_count": 81,
   "metadata": {
    "collapsed": true
   },
   "outputs": [],
   "source": [
    "df['clean'] = clean"
   ]
  },
  {
   "cell_type": "code",
   "execution_count": 82,
   "metadata": {},
   "outputs": [
    {
     "data": {
      "text/plain": [
       "'Ilmu dan UU tdk melarang org mengeluarkan rumus dan pendapat utk dimana perlu dan kapan dilakukan. Yg dilarang itu memanipulasi suara pemilu dan menggiring opini tanpa hak yg diakui UU. Fungsi lembaga survey saat ini lbh dominan pd framing dan pembentukan opini masa. Itu bahaya.'"
      ]
     },
     "execution_count": 82,
     "metadata": {},
     "output_type": "execute_result"
    }
   ],
   "source": [
    "data.text[65]"
   ]
  },
  {
   "cell_type": "code",
   "execution_count": 83,
   "metadata": {},
   "outputs": [
    {
     "data": {
      "text/plain": [
       "['ilmu',\n",
       " 'undang',\n",
       " 'larang',\n",
       " 'orang',\n",
       " 'rumus',\n",
       " 'dimana',\n",
       " 'dilarang',\n",
       " 'manipulasi',\n",
       " 'suara',\n",
       " 'pemilu',\n",
       " 'giring',\n",
       " 'opini',\n",
       " 'hak',\n",
       " 'diakui',\n",
       " 'undang',\n",
       " 'fungsi',\n",
       " 'lembaga',\n",
       " 'survey',\n",
       " 'dominan',\n",
       " 'pd',\n",
       " 'framing',\n",
       " 'bentuk',\n",
       " 'opini',\n",
       " 'bahaya']"
      ]
     },
     "execution_count": 83,
     "metadata": {},
     "output_type": "execute_result"
    }
   ],
   "source": [
    "clean[65]"
   ]
  },
  {
   "cell_type": "code",
   "execution_count": 85,
   "metadata": {},
   "outputs": [],
   "source": [
    "df.to_csv(os.path.join(os.pardir,os.pardir,\"data\",\"05_out\",\"50-KCore-tweet-clean.csv\"), index=False)"
   ]
  }
 ],
 "metadata": {
  "kernelspec": {
   "display_name": "Python 3",
   "language": "python",
   "name": "python3"
  },
  "language_info": {
   "codemirror_mode": {
    "name": "ipython",
    "version": 3
   },
   "file_extension": ".py",
   "mimetype": "text/x-python",
   "name": "python",
   "nbconvert_exporter": "python",
   "pygments_lexer": "ipython3",
   "version": "3.6.6"
  }
 },
 "nbformat": 4,
 "nbformat_minor": 2
}
