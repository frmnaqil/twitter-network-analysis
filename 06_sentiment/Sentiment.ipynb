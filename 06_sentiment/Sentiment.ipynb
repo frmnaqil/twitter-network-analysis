{
 "cells": [
  {
   "cell_type": "code",
   "execution_count": 3,
   "metadata": {},
   "outputs": [],
   "source": [
    "# Works based on https://towardsdatascience.com/topic-modeling-and-latent-dirichlet-allocation-in-python-9bf156893c24\n",
    "# Preprocessing based on https://github.com/TegarSU/Topic-Modelling/blob/master/Preprocessing.ipynb\n",
    "import pandas as pd\n",
    "import numpy as np\n",
    "import json\n",
    "import os\n",
    "from gensim.models.ldamodel import LdaModel\n",
    "import matplotlib.pyplot as plt\n",
    "\n",
    "import spacy\n",
    "from spacy.lang.id import Indonesian\n",
    "\n",
    "nlp = Indonesian()  # use directly\n",
    "stopwords = spacy.lang.id.stop_words.STOP_WORDS\n",
    "stopwords.add(\"nya\")"
   ]
  },
  {
   "cell_type": "code",
   "execution_count": 4,
   "metadata": {},
   "outputs": [],
   "source": [
    "df = pd.read_csv(os.path.join('output_pemilu_at_kpu.csv'), usecols = ['created_at','text','username','id_tweet'])"
   ]
  },
  {
   "cell_type": "markdown",
   "metadata": {},
   "source": [
    "## Preprocessing"
   ]
  },
  {
   "cell_type": "markdown",
   "metadata": {},
   "source": [
    "### Cleaning"
   ]
  },
  {
   "cell_type": "code",
   "execution_count": 5,
   "metadata": {},
   "outputs": [],
   "source": [
    "df['clean'] = df['text'].str.lower()\n",
    "df['clean'] = df['clean'].str.normalize('NFKD')\n",
    "df['clean'] = df['clean'].str.replace(r\"http\\S+|https\\S+|pic\\.\\S+|pictw\\S+\", \" \") # remove http, https and pic.\n",
    "df['clean'] = df['clean'].str.replace(r\"RT @[\\w_]+ :\", \" \") # remove RT @ :\n",
    "df['clean'] = df['clean'].str.replace(\"@[A-Za-z0-9_]+\", \"\") # remove mention and hashtag\n",
    "# df['clean'] = df['clean'].str.replace(r\"[():/.,!?\\\"\\\\-]\",\" \") # remove punctuation\n",
    "df['clean'] = df['clean'].str.replace(r\"[^a-zA-Z]\",\" \") # remove non alphabet r'[^a-zA-Z]'\n",
    "# Tambahin remove 'CC'\n",
    "df['clean'] = df['clean'].str.lstrip()\n",
    "df['clean'] = df['clean'].str.replace(r\"\\s\\s+\",\" \") # remove multi space after regex"
   ]
  },
  {
   "cell_type": "code",
   "execution_count": 6,
   "metadata": {
    "scrolled": true
   },
   "outputs": [
    {
     "data": {
      "text/plain": [
       "0        mereka itu korban yg kalah di inget siapa yg l...\n",
       "1        penomena tdk kuat scra lembaga atw pelaksanaan...\n",
       "2        dengerin ini kata satgas anti pemilu culas jgn...\n",
       "3        ngapain pemilu ulang broo klu kita sdh menang ...\n",
       "4        i demen bercerita jd setelah pemilu mereka jad...\n",
       "5        kl menerapkan iso pasti kelar minggu ngga ada ...\n",
       "6        hayooo simak baik orasi ketua satgas anti cura...\n",
       "7        hampir semua daerah ricuh kok dibilang pemilu ...\n",
       "8        ga habis pikir sm pasang badan habis an seolah...\n",
       "9        pemilu itu pasti ada kecurangan baik dr dan ka...\n",
       "10       bapak semua yth kalian semua bangsa indonesia ...\n",
       "11               pemilu terburuk dan paling buruk sedunia \n",
       "12       ini kah yg dimaksud pemilu berjalan baik dan l...\n",
       "13       anda punya bukti jokowi curangi hasil pemilu j...\n",
       "14       tidak cukup dengan hanya santunan merekapun pa...\n",
       "15       paham sekali ya pak bagian yang sering terjadi...\n",
       "16       kata siapa ya pemilu ini aman dan jurdil mohon...\n",
       "17       nah simak baik tuh ketua satgas anti pemilu cu...\n",
       "18       ente pernah dak jadi panitia pemilu banyak yan...\n",
       "19       kericuhan ini terjadi di kab pali provinsi sum...\n",
       "20       seorang satgas sedang paparkan gmn trik melaku...\n",
       "21       kalau masing ke dua kubu memegang data pelangg...\n",
       "22       katanya kalo salah sedikit saja pemilu bisa di...\n",
       "23       sdh tidak layak sebagai lembaga untuk dijadika...\n",
       "24       pemilu paling hancur semenjak republik berdiri...\n",
       "25            pemilu tergoblok sepanjang sejarah indonesia\n",
       "26       coba jelasin aja dulu klo modal narasi begitu ...\n",
       "27       bacott jangan sok paling suci dari kubu juga a...\n",
       "28       masa dokter ngadu ke fh bukan ke kpu penyeleng...\n",
       "29       sdh yg sekian kalinya selalu memperbaiki kesal...\n",
       "                               ...                        \n",
       "22525    adakah mekanisme hukumnya utk menunda pemilu j...\n",
       "22526    kata mantan anggota kpu ketua kpu sekerang ang...\n",
       "22527    pemilu kenapa banyak yg aneh ya ingat kalian d...\n",
       "22528    jelas tdk benar ada bujuk rayu jabatan kpd ket...\n",
       "22529    skrg mari kita pertanyakan keseriusan ttg menj...\n",
       "22530    soal pemilu kan yg punya wewenang penuh ngapai...\n",
       "22531    kotak suara kardus setiap pilkada dan pemilu s...\n",
       "22532    kalau hal itu terjadi bubarkan tidak usah ada ...\n",
       "22533              indikasi kecurangan pemilu tercium kuat\n",
       "22534    bingung ingat peserta pemilu itu capres bukan ...\n",
       "22535    kpu mulai sakit penyelenggara pemilu itu kpu c...\n",
       "22536    apasih pemilu serentak itu simak video ini sha...\n",
       "22537    dari dulu ketua kpu ini mmg kebiasaan asal ngo...\n",
       "22538    anda adalah wasit nih ketua kpu dr dulu terkes...\n",
       "22539    dulu minta penambahan angka nol sblum nmr urut...\n",
       "22540    kalau timsesnya yg ikut debat mending gak usah...\n",
       "22541    mempertontonkan keberpihakan yg nyata berharap...\n",
       "22542           mending gak ada pemilu sekalian kpu cacat \n",
       "22543    jadi ingat kasus pak kata rini karena tidak se...\n",
       "22544    pertama nih di mumpung masih anget apasih pemi...\n",
       "22545           mending pemilu ditunda smpai jokowi siapp \n",
       "22546    maka dari itu aneh bener dah pemilu skrang rus...\n",
       "22547    kok jadi ngga kredibel gini semua perilakumu d...\n",
       "22548    mereka tu dah sadar kalah dalam segala hal dan...\n",
       "22549    hey jujur ya sejak wacana kotak kardus dan dap...\n",
       "22550    yang namanya sumpah dan janji sdh tak berharga...\n",
       "22551    mana ada wasit terserah pemain wasit itu memim...\n",
       "22552    berarti bukan kampanye lihat di uu ttg pemilu ...\n",
       "22553    diskusi akhir tahun kemarin dan sempat bahas m...\n",
       "22554    bener kata ibu prof mantan komisioner wkt di l...\n",
       "Name: clean, Length: 22555, dtype: object"
      ]
     },
     "execution_count": 6,
     "metadata": {},
     "output_type": "execute_result"
    }
   ],
   "source": [
    "df['clean']"
   ]
  },
  {
   "cell_type": "markdown",
   "metadata": {},
   "source": [
    "### Tokenize"
   ]
  },
  {
   "cell_type": "code",
   "execution_count": 7,
   "metadata": {},
   "outputs": [],
   "source": [
    "def df_tokenizer(tweets_df):\n",
    "    tokenized = [token.text for token in nlp(tweets_df)]\n",
    "    return tokenized"
   ]
  },
  {
   "cell_type": "code",
   "execution_count": 8,
   "metadata": {},
   "outputs": [],
   "source": [
    "tokenized = df['clean'].apply(df_tokenizer)"
   ]
  },
  {
   "cell_type": "code",
   "execution_count": 9,
   "metadata": {
    "scrolled": true
   },
   "outputs": [
    {
     "data": {
      "text/plain": [
       "0        [mereka, itu, korban, yg, kalah, di, inget, si...\n",
       "1        [penomena, tdk, kuat, scra, lembaga, atw, pela...\n",
       "2        [dengerin, ini, kata, satgas, anti, pemilu, cu...\n",
       "3        [ngapain, pemilu, ulang, broo, klu, kita, sdh,...\n",
       "4        [i, demen, bercerita, jd, setelah, pemilu, mer...\n",
       "5        [kl, menerapkan, iso, pasti, kelar, minggu, ng...\n",
       "6        [hayooo, simak, baik, orasi, ketua, satgas, an...\n",
       "7        [hampir, semua, daerah, ricuh, kok, dibilang, ...\n",
       "8        [ga, habis, pikir, sm, pasang, badan, habis, a...\n",
       "9        [pemilu, itu, pasti, ada, kecurangan, baik, dr...\n",
       "10       [bapak, semua, yth, kalian, semua, bangsa, ind...\n",
       "11         [pemilu, terburuk, dan, paling, buruk, sedunia]\n",
       "12       [ini, kah, yg, dimaksud, pemilu, berjalan, bai...\n",
       "13       [anda, punya, bukti, jokowi, curangi, hasil, p...\n",
       "14       [tidak, cukup, dengan, hanya, santunan, mereka...\n",
       "15       [paham, sekali, ya, pak, bagian, yang, sering,...\n",
       "16       [kata, siapa, ya, pemilu, ini, aman, dan, jurd...\n",
       "17       [nah, simak, baik, tuh, ketua, satgas, anti, p...\n",
       "18       [ente, pernah, dak, jadi, panitia, pemilu, ban...\n",
       "19       [kericuhan, ini, terjadi, di, kab, pali, provi...\n",
       "20       [seorang, satgas, sedang, paparkan, gmn, trik,...\n",
       "21       [kalau, masing, ke, dua, kubu, memegang, data,...\n",
       "22       [katanya, kalo, salah, sedikit, saja, pemilu, ...\n",
       "23       [sdh, tidak, layak, sebagai, lembaga, untuk, d...\n",
       "24       [pemilu, paling, hancur, semenjak, republik, b...\n",
       "25       [pemilu, tergoblok, sepanjang, sejarah, indone...\n",
       "26       [coba, jelasin, aja, dulu, klo, modal, narasi,...\n",
       "27       [bacott, jangan, sok, paling, suci, dari, kubu...\n",
       "28       [masa, dokter, ngadu, ke, fh, bukan, ke, kpu, ...\n",
       "29       [sdh, yg, sekian, kalinya, selalu, memperbaiki...\n",
       "                               ...                        \n",
       "22525    [adakah, mekanisme, hukumnya, utk, menunda, pe...\n",
       "22526    [kata, mantan, anggota, kpu, ketua, kpu, seker...\n",
       "22527    [pemilu, kenapa, banyak, yg, aneh, ya, ingat, ...\n",
       "22528    [jelas, tdk, benar, ada, bujuk, rayu, jabatan,...\n",
       "22529    [skrg, mari, kita, pertanyakan, keseriusan, tt...\n",
       "22530    [soal, pemilu, kan, yg, punya, wewenang, penuh...\n",
       "22531    [kotak, suara, kardus, setiap, pilkada, dan, p...\n",
       "22532    [kalau, hal, itu, terjadi, bubarkan, tidak, us...\n",
       "22533        [indikasi, kecurangan, pemilu, tercium, kuat]\n",
       "22534    [bingung, ingat, peserta, pemilu, itu, capres,...\n",
       "22535    [kpu, mulai, sakit, penyelenggara, pemilu, itu...\n",
       "22536    [apasih, pemilu, serentak, itu, simak, video, ...\n",
       "22537    [dari, dulu, ketua, kpu, ini, mmg, kebiasaan, ...\n",
       "22538    [anda, adalah, wasit, nih, ketua, kpu, dr, dul...\n",
       "22539    [dulu, minta, penambahan, angka, nol, sblum, n...\n",
       "22540    [kalau, timsesnya, yg, ikut, debat, mending, g...\n",
       "22541    [mempertontonkan, keberpihakan, yg, nyata, ber...\n",
       "22542    [mending, gak, ada, pemilu, sekalian, kpu, cacat]\n",
       "22543    [jadi, ingat, kasus, pak, kata, rini, karena, ...\n",
       "22544    [pertama, nih, di, mumpung, masih, anget, apas...\n",
       "22545     [mending, pemilu, ditunda, smpai, jokowi, siapp]\n",
       "22546    [maka, dari, itu, aneh, bener, dah, pemilu, sk...\n",
       "22547    [kok, jadi, ngga, kredibel, gini, semua, peril...\n",
       "22548    [mereka, tu, dah, sadar, kalah, dalam, segala,...\n",
       "22549    [hey, jujur, ya, sejak, wacana, kotak, kardus,...\n",
       "22550    [yang, namanya, sumpah, dan, janji, sdh, tak, ...\n",
       "22551    [mana, ada, wasit, terserah, pemain, wasit, it...\n",
       "22552    [berarti, bukan, kampanye, lihat, di, uu, ttg,...\n",
       "22553    [diskusi, akhir, tahun, kemarin, dan, sempat, ...\n",
       "22554    [bener, kata, ibu, prof, mantan, komisioner, w...\n",
       "Name: clean, Length: 22555, dtype: object"
      ]
     },
     "execution_count": 9,
     "metadata": {},
     "output_type": "execute_result"
    }
   ],
   "source": [
    "tokenized"
   ]
  },
  {
   "cell_type": "markdown",
   "metadata": {},
   "source": [
    "### Slang Handling"
   ]
  },
  {
   "cell_type": "code",
   "execution_count": 25,
   "metadata": {},
   "outputs": [],
   "source": [
    "def slang(tokenized_):\n",
    "    slang_word = json.loads(open(os.path.join(os.getcwd(),'slang.json'),'r').read())\n",
    "    for index in range(len(tokenized_)):\n",
    "        for key, value in slang_word.items():\n",
    "            for v in value:\n",
    "                if tokenized_[index] == v:\n",
    "                    tokenized_[index] = key\n",
    "                else:\n",
    "                    continue\n",
    "    value = \" \".join(str(v) for v in tokenized_)\n",
    "    return value"
   ]
  },
  {
   "cell_type": "code",
   "execution_count": 26,
   "metadata": {},
   "outputs": [],
   "source": [
    "slang_cleaned = tokenized.apply(slang)"
   ]
  },
  {
   "cell_type": "markdown",
   "metadata": {},
   "source": [
    "### Lemmatization"
   ]
  },
  {
   "cell_type": "code",
   "execution_count": 27,
   "metadata": {},
   "outputs": [],
   "source": [
    "def lemmatize(slang_cleaned_):\n",
    "    lemmatized = [token.lemma_ for token in nlp(slang_cleaned_)]\n",
    "    return lemmatized"
   ]
  },
  {
   "cell_type": "code",
   "execution_count": 28,
   "metadata": {},
   "outputs": [],
   "source": [
    "lemmatized = slang_cleaned.apply(lemmatize)"
   ]
  },
  {
   "cell_type": "markdown",
   "metadata": {},
   "source": [
    "### Stopword Removal"
   ]
  },
  {
   "cell_type": "code",
   "execution_count": 29,
   "metadata": {},
   "outputs": [],
   "source": [
    "def stopword_removal(lemmatized_):\n",
    "    clean = []\n",
    "    for i in lemmatized_:\n",
    "        if i not in stopwords:\n",
    "            clean.append(i)\n",
    "\n",
    "    return clean"
   ]
  },
  {
   "cell_type": "code",
   "execution_count": 30,
   "metadata": {},
   "outputs": [],
   "source": [
    "clean = lemmatized.apply(stopword_removal)"
   ]
  },
  {
   "cell_type": "code",
   "execution_count": 31,
   "metadata": {},
   "outputs": [],
   "source": [
    "df['clean'] = clean"
   ]
  },
  {
   "cell_type": "code",
   "execution_count": 32,
   "metadata": {},
   "outputs": [
    {
     "data": {
      "text/plain": [
       "0         [korban, kalah, inget, loloskan, pemilu, rentak]\n",
       "1        [penomena, kuat, lembaga, laksana, baca, dr, m...\n",
       "2        [dengar, satgas, anti, pemilu, culas, cundang,...\n",
       "3        [pemilu, ulang, broo, menang, spy, jokowi, sid...\n",
       "4        [suka, cerita, pemilu, pinteran, dikit, moga, ...\n",
       "5        [terap, iso, selesai, minggu, korban, romusha,...\n",
       "6        [hayooo, simak, orasi, ketua, satgas, anti, cu...\n",
       "7        [daerah, ricuh, dibilang, pemilu, lancar, aman...\n",
       "8         [habis, pikir, pasang, badan, habis, an, pemilu]\n",
       "9        [pemilu, curang, dr, pemilu, selenggarakan, ma...\n",
       "10       [hormat, bangsa, indonesia, sih, pecah, belah,...\n",
       "11                        [pemilu, terburuk, buruk, dunia]\n",
       "12                    [kah, maksud, pemilu, jalan, lancar]\n",
       "13          [bukti, jokowi, curangi, hasil, pemilu, nuduh]\n",
       "14       [santun, merekapun, pemilu, jujur, adil, jujur...\n",
       "15                       [paham, kali, ya, curang, pemilu]\n",
       "16       [ya, pemilu, aman, jujur, adil, mohon, diseles...\n",
       "17       [simak, tuh, ketua, satgas, anti, pemilu, curang]\n",
       "18               [dak, panitia, pemilu, tinggal, ngerikan]\n",
       "19       [ricuh, kabupaten, pali, provinsi, sumsel, buk...\n",
       "20       [orang, satgas, paparkan, gimana, trik, laku, ...\n",
       "21       [kubu, pegang, data, langgar, pemilu, dilanjut...\n",
       "22       [salah, pemilu, anggap, gagal, salah, input, b...\n",
       "23        [layak, lembaga, dijadikan, pemilu, jujur, adil]\n",
       "24       [pemilu, hancur, semenjak, republik, hasil, ju...\n",
       "25                 [pemilu, tergoblok, sejarah, indonesia]\n",
       "26       [coba, modal, narasi, dangkal, pikir, ayo, gun...\n",
       "27       [bicara, sok, suci, kubu, curang, brutal, jama...\n",
       "28       [dokter, adu, fh, kpu, selenggara, pemilu, dip...\n",
       "29       [kian, kalinya, salah, bknnya, uu, pemilu, sel...\n",
       "                               ...                        \n",
       "22525    [adakah, mekanisme, hukumnya, tunda, pemilu, j...\n",
       "22526    [mantan, anggota, kpu, ketua, kpu, sekerang, a...\n",
       "22527             [pemilu, aneh, ya, digaji, duit, rakyat]\n",
       "22528    [bujuk, rayu, jabat, ketua, kpu, sprti, saudar...\n",
       "22529    [mari, serius, jalan, wajib, tahap, tahap, sel...\n",
       "22530    [pemilu, wenang, penuh, sepakat, kubu, capres,...\n",
       "22531    [kotak, suara, kardus, pilkada, pemilu, anggar...\n",
       "22532                 [bubarkan, pemilu, langsung, lantik]\n",
       "22533               [indikasi, curang, pemilu, cium, kuat]\n",
       "22534    [bingung, pemilu, capres, timses, wajar, kemar...\n",
       "22535    [kpu, sakit, selenggara, pemilu, kpu, capres, ...\n",
       "22536    [apasih, pemilu, rentak, simak, video, share, ...\n",
       "22537    [ketua, kpu, omong, selenggara, pemilu, atur, ...\n",
       "22538    [wasit, ketua, kpu, dr, kesan, omong, pemilu, ...\n",
       "22539    [angka, nol, nomor, urut, kotak, suara, dr, al...\n",
       "22540    [timsesnya, debat, mending, debat, capres, caw...\n",
       "22541    [tonton, nyata, harap, sikap, jujur, adil, sih...\n",
       "22542                  [mending, pemilu, kali, kpu, cacat]\n",
       "22543    [rini, jalan, perintah, pecat, inipun, jalan, ...\n",
       "22544    [mumpung, anget, apasih, pemilu, mimin, kasih,...\n",
       "22545                   [mending, pemilu, ditunda, jokowi]\n",
       "22546    [aneh, pemilu, rusak, tatanan, demokrasinya, p...\n",
       "22547    [kredibel, perilakumu, ditonton, nasional, int...\n",
       "22548    [sadar, kalah, lewatin, proses, pemilu, menang...\n",
       "22549    [hey, jujur, ya, wacana, kotak, kardus, dapil,...\n",
       "22550    [namanya, sumpah, janji, harga, rezim, moral, ...\n",
       "22551    [wasit, serah, main, wasit, pimpin, tanding, p...\n",
       "22552    [arti, kampanye, lihat, uu, pemilu, namanya, k...\n",
       "22553    [diskusi, kemarin, bahas, kotak, kardus, suara...\n",
       "22554    [prof, mantan, komisioner, lupa, namanya, ketu...\n",
       "Name: clean, Length: 22555, dtype: object"
      ]
     },
     "execution_count": 32,
     "metadata": {},
     "output_type": "execute_result"
    }
   ],
   "source": [
    "clean"
   ]
  },
  {
   "cell_type": "markdown",
   "metadata": {},
   "source": [
    "### Export to csv"
   ]
  }
 ],
 "metadata": {
  "kernelspec": {
   "display_name": "Python 3",
   "language": "python",
   "name": "python3"
  },
  "language_info": {
   "codemirror_mode": {
    "name": "ipython",
    "version": 3
   },
   "file_extension": ".py",
   "mimetype": "text/x-python",
   "name": "python",
   "nbconvert_exporter": "python",
   "pygments_lexer": "ipython3",
   "version": "3.6.7"
  }
 },
 "nbformat": 4,
 "nbformat_minor": 2
}
