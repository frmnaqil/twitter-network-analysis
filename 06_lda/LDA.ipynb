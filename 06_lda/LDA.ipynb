{
 "cells": [
  {
   "cell_type": "code",
   "execution_count": 25,
   "metadata": {},
   "outputs": [],
   "source": [
    "# Works based on https://towardsdatascience.com/topic-modeling-and-latent-dirichlet-allocation-in-python-9bf156893c24\n",
    "# Preprocessing based on https://github.com/TegarSU/Topic-Modelling/blob/master/Preprocessing.ipynb\n",
    "import pandas as pd\n",
    "import numpy as np\n",
    "import json\n",
    "import os\n",
    "from gensim.models.ldamodel import LdaModel\n",
    "import matplotlib.pyplot as plt\n",
    "import gensim\n",
    "from gensim import corpora, models\n",
    "from gensim.models import CoherenceModel\n",
    "from gensim.models import Phrases\n",
    "import pyLDAvis\n",
    "import pyLDAvis.gensim\n",
    "from random import randint\n",
    "import ast\n",
    "import logging"
   ]
  },
  {
   "cell_type": "code",
   "execution_count": 26,
   "metadata": {
    "collapsed": true
   },
   "outputs": [],
   "source": [
    "df = pd.read_csv(os.path.join(os.pardir,os.pardir,'data','05_out','2-KCore-tweet-clean.csv'))"
   ]
  },
  {
   "cell_type": "code",
   "execution_count": 27,
   "metadata": {},
   "outputs": [
    {
     "data": {
      "text/html": [
       "<div>\n",
       "<style scoped>\n",
       "    .dataframe tbody tr th:only-of-type {\n",
       "        vertical-align: middle;\n",
       "    }\n",
       "\n",
       "    .dataframe tbody tr th {\n",
       "        vertical-align: top;\n",
       "    }\n",
       "\n",
       "    .dataframe thead th {\n",
       "        text-align: right;\n",
       "    }\n",
       "</style>\n",
       "<table border=\"1\" class=\"dataframe\">\n",
       "  <thead>\n",
       "    <tr style=\"text-align: right;\">\n",
       "      <th></th>\n",
       "      <th>text</th>\n",
       "      <th>username</th>\n",
       "      <th>modularity</th>\n",
       "      <th>node_id</th>\n",
       "      <th>clean</th>\n",
       "    </tr>\n",
       "  </thead>\n",
       "  <tbody>\n",
       "    <tr>\n",
       "      <th>0</th>\n",
       "      <td>Mereka itu korban yg kalah di 2014. Inget siap...</td>\n",
       "      <td>b12_7hon</td>\n",
       "      <td>4</td>\n",
       "      <td>0</td>\n",
       "      <td>['korban', 'kalah', 'loloskan', 'pemilu', 'ren...</td>\n",
       "    </tr>\n",
       "    <tr>\n",
       "      <th>1</th>\n",
       "      <td>Penomena @KPU_RI @KPU_ID tdk kuat scra lembaga...</td>\n",
       "      <td>harun_nugraha</td>\n",
       "      <td>4</td>\n",
       "      <td>1</td>\n",
       "      <td>['fenomena', 'kuat', 'lembaga', 'laksana', 'ba...</td>\n",
       "    </tr>\n",
       "    <tr>\n",
       "      <th>2</th>\n",
       "      <td>ngapain pemilu ulang broo klu kita 02 sdh mena...</td>\n",
       "      <td>totonaser11</td>\n",
       "      <td>5</td>\n",
       "      <td>3</td>\n",
       "      <td>['pemilu', 'ulang', 'broo', 'menang', 'jokowi'...</td>\n",
       "    </tr>\n",
       "    <tr>\n",
       "      <th>3</th>\n",
       "      <td>Kl menerapkan ISO pasti kelar 1 minggu, ngga a...</td>\n",
       "      <td>rohmatjabbar</td>\n",
       "      <td>5</td>\n",
       "      <td>5</td>\n",
       "      <td>['terap', 'selesai', 'minggu', 'korban', 'romu...</td>\n",
       "    </tr>\n",
       "    <tr>\n",
       "      <th>4</th>\n",
       "      <td>Hayooo @KPU_ID @bawaslu_RI simak baik2 orasi k...</td>\n",
       "      <td>use_will</td>\n",
       "      <td>3</td>\n",
       "      <td>6</td>\n",
       "      <td>['ayo', 'simak', 'orasi', 'ketua', 'tugas', 'a...</td>\n",
       "    </tr>\n",
       "  </tbody>\n",
       "</table>\n",
       "</div>"
      ],
      "text/plain": [
       "                                                text       username  \\\n",
       "0  Mereka itu korban yg kalah di 2014. Inget siap...       b12_7hon   \n",
       "1  Penomena @KPU_RI @KPU_ID tdk kuat scra lembaga...  harun_nugraha   \n",
       "2  ngapain pemilu ulang broo klu kita 02 sdh mena...    totonaser11   \n",
       "3  Kl menerapkan ISO pasti kelar 1 minggu, ngga a...   rohmatjabbar   \n",
       "4  Hayooo @KPU_ID @bawaslu_RI simak baik2 orasi k...       use_will   \n",
       "\n",
       "   modularity  node_id                                              clean  \n",
       "0           4        0  ['korban', 'kalah', 'loloskan', 'pemilu', 'ren...  \n",
       "1           4        1  ['fenomena', 'kuat', 'lembaga', 'laksana', 'ba...  \n",
       "2           5        3  ['pemilu', 'ulang', 'broo', 'menang', 'jokowi'...  \n",
       "3           5        5  ['terap', 'selesai', 'minggu', 'korban', 'romu...  \n",
       "4           3        6  ['ayo', 'simak', 'orasi', 'ketua', 'tugas', 'a...  "
      ]
     },
     "execution_count": 27,
     "metadata": {},
     "output_type": "execute_result"
    }
   ],
   "source": [
    "df.head()"
   ]
  },
  {
   "cell_type": "code",
   "execution_count": 28,
   "metadata": {
    "collapsed": true
   },
   "outputs": [],
   "source": [
    "clean = df['clean']"
   ]
  },
  {
   "cell_type": "code",
   "execution_count": 29,
   "metadata": {},
   "outputs": [
    {
     "data": {
      "text/plain": [
       "0    ['korban', 'kalah', 'loloskan', 'pemilu', 'ren...\n",
       "1    ['fenomena', 'kuat', 'lembaga', 'laksana', 'ba...\n",
       "2    ['pemilu', 'ulang', 'broo', 'menang', 'jokowi'...\n",
       "3    ['terap', 'selesai', 'minggu', 'korban', 'romu...\n",
       "4    ['ayo', 'simak', 'orasi', 'ketua', 'tugas', 'a...\n",
       "Name: clean, dtype: object"
      ]
     },
     "execution_count": 29,
     "metadata": {},
     "output_type": "execute_result"
    }
   ],
   "source": [
    "clean.head()"
   ]
  },
  {
   "cell_type": "code",
   "execution_count": 30,
   "metadata": {
    "collapsed": true
   },
   "outputs": [],
   "source": [
    "clean = list(map(ast.literal_eval,clean))"
   ]
  },
  {
   "cell_type": "markdown",
   "metadata": {},
   "source": [
    "## Create Bigram"
   ]
  },
  {
   "cell_type": "code",
   "execution_count": 31,
   "metadata": {
    "collapsed": true
   },
   "outputs": [],
   "source": [
    "#https://markroxor.github.io/gensim/static/notebooks/lda_training_tips.html\n",
    "bigram = Phrases(clean, min_count=10)\n",
    "for idx in range(len(clean)):\n",
    "    for token in bigram[clean[idx]]:\n",
    "        if '_' in token:\n",
    "            #Token is a bigram, add to document.\n",
    "            clean[idx].append(token)"
   ]
  },
  {
   "cell_type": "code",
   "execution_count": 32,
   "metadata": {},
   "outputs": [
    {
     "name": "stdout",
     "output_type": "stream",
     "text": [
      "['rapat_pleno', 'buka', 'rekapitulasi_hasil', 'hitung_suara', 'pemilu', 'tingkat', 'kota_malang', 'april', 'kpu_jatim', 'rapat_pleno', 'rekapitulasi_hasil', 'hitung_suara', 'kota_malang', 'kpu_jatim']\n",
      "['ilmu', 'undang', 'larang', 'orang', 'rumus', 'dimana', 'dilarang', 'manipulasi', 'suara', 'pemilu', 'giring_opini', 'hak', 'diakui', 'undang', 'fungsi', 'lembaga_survey', 'dominan', 'pd', 'framing', 'bentuk', 'opini', 'bahaya', 'giring_opini', 'lembaga_survey']\n",
      "['asumsi', 'survey', 'digaungkan', 'masif', 'dianggap', 'bahaya', 'hasil', 'pemilu', 'launching', 'hasil', 'qc', 'dinyatakan', 'menang', 'pemilu', 'timbul', 'simpul', 'hasil', 'qc', 'qc', 'ditayangan', 'simpul', 'surveyornya']\n",
      "['situng', 'kpu', 'orang', 'akses', 'dimanapun', 'bukti', 'pemilu', 'transparan', 'indonesia', 'negara', 'hukum', 'laporkan', 'kecuranagan', 'pemungutan_hitung', 'suara', 'kpu', 'kerja_keras', 'pemungutan_hitung', 'kerja_keras']\n",
      "['sandiaga', 'tidak_memberi', 'pengaruh', 'hadap', 'elektabilitas', 'pemilu', 'hitung', 'aneh', 'tidak_memberi']\n",
      "['perintah', 'kesan', 'diam', 'wajib', 'dibentuk', 'tim_cari', 'fakta', 'pemilu', 'tim_cari']\n",
      "['tolong', 'hentikan', 'situng', 'kpu', 'daerah', 'brpotensi', 'adakannya', 'pemilu', 'ulang', 'suai', 'rekomendasi', 'transparansi', 'manfaatkan', 'giring_opini', 'publik', 'menyesatkn', 'pilih', 'daerah', 'potensi', 'pemilu', 'ulang', 'giring_opini']\n",
      "['bicara', 'pemilu', 'penuh', 'curang', 'ribu', 'dipalsukan', 'olh']\n",
      "['dear', 'selamat', 'pemilu', 'aman', 'jujur_adil', 'lancar', 'curang', 'neraka', 'jahanam', 'jujur_adil']\n",
      "['mati', 'hidup', 'kalah', 'menang', 'takdir', 'pemilu', 'orang', 'mati', 'dihari', 'dibesarkan']\n"
     ]
    }
   ],
   "source": [
    "for i in range(100, 110):\n",
    "    print(bigram[clean][i])"
   ]
  },
  {
   "cell_type": "markdown",
   "metadata": {},
   "source": [
    "# LDA"
   ]
  },
  {
   "cell_type": "code",
   "execution_count": 33,
   "metadata": {
    "collapsed": true
   },
   "outputs": [],
   "source": [
    "# Logging\n",
    "# logging.basicConfig(format='%(asctime)s : %(levelname)s : %(message)s', level=logging.INFO)"
   ]
  },
  {
   "cell_type": "markdown",
   "metadata": {},
   "source": [
    "### Build Bag Of Words Corpus Dictionary"
   ]
  },
  {
   "cell_type": "code",
   "execution_count": 34,
   "metadata": {
    "collapsed": true
   },
   "outputs": [],
   "source": [
    "dictionary = gensim.corpora.Dictionary(clean)"
   ]
  },
  {
   "cell_type": "code",
   "execution_count": 35,
   "metadata": {},
   "outputs": [
    {
     "name": "stdout",
     "output_type": "stream",
     "text": [
      "0 kalah\n",
      "1 korban\n",
      "2 loloskan\n",
      "3 pemilu\n",
      "4 rentak\n",
      "5 aneka\n"
     ]
    }
   ],
   "source": [
    "# Preview\n",
    "count = 0\n",
    "for k, v in dictionary.iteritems():\n",
    "    print(k, v)\n",
    "    count += 1\n",
    "    if count > 5:\n",
    "        break"
   ]
  },
  {
   "cell_type": "markdown",
   "metadata": {},
   "source": [
    "## Filter token"
   ]
  },
  {
   "cell_type": "code",
   "execution_count": 36,
   "metadata": {
    "collapsed": true
   },
   "outputs": [],
   "source": [
    "dictionary.filter_extremes()"
   ]
  },
  {
   "cell_type": "markdown",
   "metadata": {},
   "source": [
    "## Build BoW Corpus"
   ]
  },
  {
   "cell_type": "code",
   "execution_count": 37,
   "metadata": {
    "collapsed": true
   },
   "outputs": [],
   "source": [
    "bow_corpus = [dictionary.doc2bow(doc) for doc in clean]"
   ]
  },
  {
   "cell_type": "markdown",
   "metadata": {},
   "source": [
    "#### Corpus Preview"
   ]
  },
  {
   "cell_type": "code",
   "execution_count": 38,
   "metadata": {
    "collapsed": true
   },
   "outputs": [],
   "source": [
    "def bow_corpus_sample(corpus, random_index):\n",
    "    sample = corpus[random_index]\n",
    "    print('Corpus sample index : ',random_index)\n",
    "    for i in range(len(sample)):\n",
    "        print(\"Word {} (\\\"{}\\\") appears {} time.\".format(sample[i][0], \n",
    "                                                         dictionary[sample[i][0]], \n",
    "                                                         sample[i][1]))"
   ]
  },
  {
   "cell_type": "code",
   "execution_count": 39,
   "metadata": {},
   "outputs": [
    {
     "name": "stdout",
     "output_type": "stream",
     "text": [
      "Corpus sample index :  2700\n",
      "Word 1 (\"korban\") appears 1 time.\n",
      "Word 17 (\"amanah\") appears 1 time.\n",
      "Word 23 (\"kpu\") appears 1 time.\n",
      "Word 58 (\"indonesia\") appears 1 time.\n",
      "Word 87 (\"makan\") appears 1 time.\n",
      "Word 88 (\"makan_korban\") appears 1 time.\n",
      "Word 95 (\"data\") appears 1 time.\n",
      "Word 140 (\"anggota\") appears 1 time.\n",
      "Word 177 (\"ratus\") appears 1 time.\n",
      "Word 421 (\"anggota_kpps\") appears 1 time.\n",
      "Word 426 (\"kpps\") appears 1 time.\n",
      "Word 474 (\"tidak_percaya\") appears 2 time.\n",
      "Word 511 (\"jiwa\") appears 1 time.\n",
      "Word 1048 (\"bobrok\") appears 1 time.\n",
      "Word 1135 (\"menginput\") appears 1 time.\n",
      "Word 1136 (\"menginput_data\") appears 1 time.\n",
      "Word 1212 (\"jaga\") appears 1 time.\n",
      "Word 2236 (\"slalu\") appears 1 time.\n"
     ]
    }
   ],
   "source": [
    "sample_index = randint(0,10000)\n",
    "bow_corpus_sample(bow_corpus, sample_index)"
   ]
  },
  {
   "cell_type": "markdown",
   "metadata": {},
   "source": [
    "## Find model with optimal Number Of Topics\n",
    "https://datascienceplus.com/evaluation-of-topic-modeling-topic-coherence/"
   ]
  },
  {
   "cell_type": "code",
   "execution_count": 40,
   "metadata": {
    "collapsed": true
   },
   "outputs": [],
   "source": [
    "def compute_coherence_values(dictionary, corpus, texts, limit, start=2, step=3):\n",
    "    \"\"\"\n",
    "    Compute c_v coherence for various number of topics\n",
    "\n",
    "    Parameters:\n",
    "    ----------\n",
    "    dictionary : Gensim dictionary\n",
    "    corpus : Gensim corpus\n",
    "    texts : List of input texts\n",
    "    limit : Max num of topics\n",
    "\n",
    "    Returns:\n",
    "    -------\n",
    "    model_list : List of LDA topic models\n",
    "    coherence_values : Coherence values corresponding to the LDA model with respective number of topics\n",
    "    \"\"\"\n",
    "    coherence_values = []\n",
    "    model_list = []\n",
    "    for num_topics in range(start, limit, step):\n",
    "#         model=LdaModel(corpus=corpus, id2word=dictionary, num_topics=num_topics)\n",
    "        model = gensim.models.LdaMulticore(bow_corpus, num_topics=num_topics, id2word=dictionary, passes=2, workers=2)\n",
    "        model_list.append(model)\n",
    "        coherencemodel = CoherenceModel(model=model, texts=texts, dictionary=dictionary, coherence='c_v')\n",
    "        coherence_values.append(coherencemodel.get_coherence())\n",
    "\n",
    "    return model_list, coherence_values"
   ]
  },
  {
   "cell_type": "code",
   "execution_count": 52,
   "metadata": {
    "collapsed": true,
    "scrolled": true
   },
   "outputs": [],
   "source": [
    "model_list, coherence_values = compute_coherence_values(dictionary=dictionary, corpus=bow_corpus, texts=clean, start=2, limit=11, step=2)"
   ]
  },
  {
   "cell_type": "code",
   "execution_count": 56,
   "metadata": {},
   "outputs": [
    {
     "data": {
      "image/png": "[encoded data removed]",
      "text/plain": [
       "<Figure size 432x288 with 1 Axes>"
      ]
     },
     "metadata": {},
     "output_type": "display_data"
    }
   ],
   "source": [
    "# Show graph\n",
    "limit=11; start=2; step=2;\n",
    "x = range(start, limit, step)\n",
    "plt.plot(x, coherence_values)\n",
    "plt.xlabel(\"Num Topics on BoW corpus\")\n",
    "plt.ylabel(\"Coherence score\")\n",
    "plt.legend((\"coherence_values\"))\n",
    "plt.show()\n",
    "# plt.savefig(os.path.join(os.pardir,os.pardir,'data','06_out','2-KCore_model','2-KCore_ldamodel'),dpi=300)"
   ]
  },
  {
   "cell_type": "markdown",
   "metadata": {},
   "source": [
    "# Feed best number of topics"
   ]
  },
  {
   "cell_type": "code",
   "execution_count": 57,
   "metadata": {},
   "outputs": [
    {
     "data": {
      "text/plain": [
       "[0.15201180484776872,\n",
       " 0.28384345812969963,\n",
       " 0.31441345288639255,\n",
       " 0.2889425162167071,\n",
       " 0.27249218073910353]"
      ]
     },
     "execution_count": 57,
     "metadata": {},
     "output_type": "execute_result"
    }
   ],
   "source": [
    "coherence_values"
   ]
  },
  {
   "cell_type": "code",
   "execution_count": 58,
   "metadata": {
    "collapsed": true
   },
   "outputs": [],
   "source": [
    "# Please check best model (model with highest coherence score)\n",
    "lda_model = model_list[2]"
   ]
  },
  {
   "cell_type": "code",
   "execution_count": 59,
   "metadata": {},
   "outputs": [
    {
     "name": "stdout",
     "output_type": "stream",
     "text": [
      "LdaModel(num_terms=5062, num_topics=6, decay=0.5, chunksize=2000)\n"
     ]
    }
   ],
   "source": [
    "print(lda_model)"
   ]
  },
  {
   "cell_type": "markdown",
   "metadata": {},
   "source": [
    "## Save Best Model"
   ]
  },
  {
   "cell_type": "code",
   "execution_count": 60,
   "metadata": {
    "collapsed": true
   },
   "outputs": [],
   "source": [
    "lda_model.save(os.path.join(os.pardir,os.pardir,'data','06_out','2-KCore_model','ldamodel'))"
   ]
  },
  {
   "cell_type": "markdown",
   "metadata": {},
   "source": [
    "## Load Model"
   ]
  },
  {
   "cell_type": "code",
   "execution_count": null,
   "metadata": {
    "collapsed": true
   },
   "outputs": [],
   "source": [
    "# lda_model = LdaModel.load(os.path.join('data','06_out','2-KCore_model','ldamodel'), mmap='r')\n",
    "# print(lda_model)"
   ]
  },
  {
   "cell_type": "code",
   "execution_count": 61,
   "metadata": {
    "scrolled": true
   },
   "outputs": [
    {
     "name": "stdout",
     "output_type": "stream",
     "text": [
      "Topic: 0 \n",
      "Words: 0.028*\"curang\" + 0.014*\"allah\" + 0.010*\"orang\" + 0.009*\"kpu\" + 0.009*\"moga\" + 0.009*\"rakyat\" + 0.008*\"kpps\" + 0.008*\"pilih\" + 0.008*\"ketua\" + 0.007*\"adil\"\n",
      "Topic: 1 \n",
      "Words: 0.054*\"kpu\" + 0.012*\"selenggara\" + 0.011*\"jakarta\" + 0.009*\"hasil\" + 0.009*\"buka\" + 0.009*\"kota\" + 0.009*\"rabu\" + 0.008*\"lpsdk\" + 0.008*\"serah\" + 0.008*\"resmi\"\n",
      "Topic: 2 \n",
      "Words: 0.041*\"suara\" + 0.022*\"surat\" + 0.021*\"misi\" + 0.020*\"visi\" + 0.018*\"surat_suara\" + 0.017*\"visi_misi\" + 0.015*\"selenggara\" + 0.014*\"kotak\" + 0.012*\"pilih\" + 0.010*\"rakyat\"\n",
      "Topic: 3 \n",
      "Words: 0.025*\"rakyat\" + 0.024*\"adil\" + 0.023*\"jujur\" + 0.018*\"selenggara\" + 0.016*\"jujur_adil\" + 0.016*\"curang\" + 0.015*\"kpu\" + 0.013*\"negara\" + 0.012*\"uang\" + 0.011*\"salah\"\n",
      "Topic: 4 \n",
      "Words: 0.029*\"kpu\" + 0.015*\"calon\" + 0.014*\"presiden\" + 0.012*\"pasang\" + 0.012*\"debat\" + 0.011*\"rakyat\" + 0.010*\"adil\" + 0.010*\"hasil\" + 0.010*\"capres\" + 0.010*\"selenggara\"\n",
      "Topic: 5 \n",
      "Words: 0.031*\"kpu\" + 0.023*\"undang\" + 0.018*\"pilih\" + 0.012*\"orang\" + 0.012*\"rakyat\" + 0.011*\"hak\" + 0.011*\"suara\" + 0.007*\"hasil\" + 0.007*\"menang\" + 0.007*\"kali\"\n"
     ]
    }
   ],
   "source": [
    "# Show Topics\n",
    "for idx, topic in lda_model.print_topics(-1):\n",
    "    print('Topic: {} \\nWords: {}'.format(idx, topic))"
   ]
  },
  {
   "cell_type": "markdown",
   "metadata": {},
   "source": [
    "## Visualization"
   ]
  },
  {
   "cell_type": "code",
   "execution_count": 62,
   "metadata": {},
   "outputs": [
    {
     "name": "stderr",
     "output_type": "stream",
     "text": [
      "C:\\ProgramData\\Anaconda3\\lib\\site-packages\\pyLDAvis\\_prepare.py:257: FutureWarning: Sorting because non-concatenation axis is not aligned. A future version\n",
      "of pandas will change to not sort by default.\n",
      "\n",
      "To accept the future behavior, pass 'sort=False'.\n",
      "\n",
      "To retain the current behavior and silence the warning, pass 'sort=True'.\n",
      "\n",
      "  return pd.concat([default_term_info] + list(topic_dfs))\n"
     ]
    },
    {
     "data": {
      "text/html": [
       "\n",
       "<link rel=\"stylesheet\" type=\"text/css\" href=\"https://cdn.rawgit.com/bmabey/pyLDAvis/files/ldavis.v1.0.0.css\">\n",
       "\n",
       "\n",
       "<div id=\"ldavis_el1535231426251353768536982007\"></div>\n",
       "<script type=\"text/javascript\">\n",
       "\n",
       "var ldavis_el1535231426251353768536982007_data = {\"mdsDat\": {\"x\": [-0.09857810322219313, -0.04408889577882413, -0.07492187994248861, 0.000706451114656454, 0.17236846684393828, 0.04451396098491111], \"y\": [0.0739930737472089, -0.008498587401425168, 0.011655813015207232, 0.008481874191303678, 0.09071650682847475, -0.17634868038076928], \"topics\": [1, 2, 3, 4, 5, 6], \"cluster\": [1, 1, 1, 1, 1, 1], \"Freq\": [24.618371963500977, 18.461872100830078, 16.888294219970703, 14.315483093261719, 13.15961742401123, 12.55635929107666]}, \"tinfo\": {\"Category\": [\"Default\", \"Default\", \"Default\", \"Default\", \"Default\", \"Default\", \"Default\", \"Default\", \"Default\", \"Default\", \"Default\", \"Default\", \"Default\", \"Default\", \"Default\", \"Default\", \"Default\", \"Default\", \"Default\", \"Default\", \"Default\", \"Default\", \"Default\", \"Default\", \"Default\", \"Default\", \"Default\", \"Default\", \"Default\", \"Default\", \"Topic1\", \"Topic1\", \"Topic1\", \"Topic1\", \"Topic1\", \"Topic1\", \"Topic1\", \"Topic1\", \"Topic1\", \"Topic1\", \"Topic1\", \"Topic1\", \"Topic1\", \"Topic1\", \"Topic1\", \"Topic1\", \"Topic1\", \"Topic1\", \"Topic1\", \"Topic1\", \"Topic1\", \"Topic1\", \"Topic1\", \"Topic1\", \"Topic1\", \"Topic1\", \"Topic1\", \"Topic1\", \"Topic1\", \"Topic1\", \"Topic1\", \"Topic1\", \"Topic1\", \"Topic1\", \"Topic1\", \"Topic1\", \"Topic1\", \"Topic1\", \"Topic1\", \"Topic1\", \"Topic1\", \"Topic1\", \"Topic1\", \"Topic1\", \"Topic1\", \"Topic1\", \"Topic1\", \"Topic1\", \"Topic1\", \"Topic1\", \"Topic1\", \"Topic1\", \"Topic1\", \"Topic1\", \"Topic1\", \"Topic1\", \"Topic1\", \"Topic1\", \"Topic1\", \"Topic1\", \"Topic1\", \"Topic1\", \"Topic1\", \"Topic1\", \"Topic1\", \"Topic1\", \"Topic1\", \"Topic1\", \"Topic1\", \"Topic1\", \"Topic1\", \"Topic1\", \"Topic1\", \"Topic1\", \"Topic1\", \"Topic1\", \"Topic1\", \"Topic1\", \"Topic1\", \"Topic2\", \"Topic2\", \"Topic2\", \"Topic2\", \"Topic2\", \"Topic2\", \"Topic2\", \"Topic2\", \"Topic2\", \"Topic2\", \"Topic2\", \"Topic2\", \"Topic2\", \"Topic2\", \"Topic2\", \"Topic2\", \"Topic2\", \"Topic2\", \"Topic2\", \"Topic2\", \"Topic2\", \"Topic2\", \"Topic2\", \"Topic2\", \"Topic2\", \"Topic2\", \"Topic2\", \"Topic2\", \"Topic2\", \"Topic2\", \"Topic2\", \"Topic2\", \"Topic2\", \"Topic2\", \"Topic2\", \"Topic2\", \"Topic2\", \"Topic2\", \"Topic2\", \"Topic2\", \"Topic2\", \"Topic2\", \"Topic2\", \"Topic2\", \"Topic2\", \"Topic2\", \"Topic2\", \"Topic2\", \"Topic2\", \"Topic2\", \"Topic2\", \"Topic2\", \"Topic2\", \"Topic2\", \"Topic2\", \"Topic2\", \"Topic2\", \"Topic2\", \"Topic2\", \"Topic2\", \"Topic2\", \"Topic2\", \"Topic2\", \"Topic2\", \"Topic2\", \"Topic2\", \"Topic2\", \"Topic2\", \"Topic2\", \"Topic2\", \"Topic2\", \"Topic2\", \"Topic2\", \"Topic2\", \"Topic2\", \"Topic2\", \"Topic2\", \"Topic2\", \"Topic3\", \"Topic3\", \"Topic3\", \"Topic3\", \"Topic3\", \"Topic3\", \"Topic3\", \"Topic3\", \"Topic3\", \"Topic3\", \"Topic3\", \"Topic3\", \"Topic3\", \"Topic3\", \"Topic3\", \"Topic3\", \"Topic3\", \"Topic3\", \"Topic3\", \"Topic3\", \"Topic3\", \"Topic3\", \"Topic3\", \"Topic3\", \"Topic3\", \"Topic3\", \"Topic3\", \"Topic3\", \"Topic3\", \"Topic3\", \"Topic3\", \"Topic3\", \"Topic3\", \"Topic3\", \"Topic3\", \"Topic3\", \"Topic3\", \"Topic3\", \"Topic3\", \"Topic3\", \"Topic3\", \"Topic3\", \"Topic3\", \"Topic3\", \"Topic3\", \"Topic3\", \"Topic3\", \"Topic3\", \"Topic3\", \"Topic3\", \"Topic3\", \"Topic3\", \"Topic3\", \"Topic3\", \"Topic3\", \"Topic3\", \"Topic3\", \"Topic3\", \"Topic3\", \"Topic3\", \"Topic3\", \"Topic3\", \"Topic3\", \"Topic3\", \"Topic3\", \"Topic3\", \"Topic3\", \"Topic3\", \"Topic3\", \"Topic3\", \"Topic3\", \"Topic3\", \"Topic3\", \"Topic3\", \"Topic3\", \"Topic3\", \"Topic3\", \"Topic3\", \"Topic3\", \"Topic3\", \"Topic3\", \"Topic3\", \"Topic3\", \"Topic4\", \"Topic4\", \"Topic4\", \"Topic4\", \"Topic4\", \"Topic4\", \"Topic4\", \"Topic4\", \"Topic4\", \"Topic4\", \"Topic4\", \"Topic4\", \"Topic4\", \"Topic4\", \"Topic4\", \"Topic4\", \"Topic4\", \"Topic4\", \"Topic4\", \"Topic4\", \"Topic4\", \"Topic4\", \"Topic4\", \"Topic4\", \"Topic4\", \"Topic4\", \"Topic4\", \"Topic4\", \"Topic4\", \"Topic4\", \"Topic4\", \"Topic4\", \"Topic4\", \"Topic4\", \"Topic4\", \"Topic4\", \"Topic4\", \"Topic4\", \"Topic4\", \"Topic4\", \"Topic4\", \"Topic4\", \"Topic4\", \"Topic4\", \"Topic4\", \"Topic4\", \"Topic4\", \"Topic4\", \"Topic4\", \"Topic4\", \"Topic4\", \"Topic4\", \"Topic4\", \"Topic4\", \"Topic4\", \"Topic4\", \"Topic4\", \"Topic4\", \"Topic4\", \"Topic4\", \"Topic4\", \"Topic4\", \"Topic4\", \"Topic4\", \"Topic4\", \"Topic4\", \"Topic4\", \"Topic4\", \"Topic4\", \"Topic4\", \"Topic4\", \"Topic4\", \"Topic4\", \"Topic4\", \"Topic4\", \"Topic4\", \"Topic4\", \"Topic4\", \"Topic5\", \"Topic5\", \"Topic5\", \"Topic5\", \"Topic5\", \"Topic5\", \"Topic5\", \"Topic5\", \"Topic5\", \"Topic5\", \"Topic5\", \"Topic5\", \"Topic5\", \"Topic5\", \"Topic5\", \"Topic5\", \"Topic5\", \"Topic5\", \"Topic5\", \"Topic5\", \"Topic5\", \"Topic5\", \"Topic5\", \"Topic5\", \"Topic5\", \"Topic5\", \"Topic5\", \"Topic5\", \"Topic5\", \"Topic5\", \"Topic5\", \"Topic5\", \"Topic5\", \"Topic5\", \"Topic5\", \"Topic5\", \"Topic5\", \"Topic5\", \"Topic5\", \"Topic5\", \"Topic5\", \"Topic5\", \"Topic5\", \"Topic5\", \"Topic5\", \"Topic5\", \"Topic5\", \"Topic5\", \"Topic5\", \"Topic5\", \"Topic5\", \"Topic5\", \"Topic5\", \"Topic5\", \"Topic5\", \"Topic5\", \"Topic5\", \"Topic5\", \"Topic5\", \"Topic5\", \"Topic5\", \"Topic5\", \"Topic5\", \"Topic5\", \"Topic5\", \"Topic5\", \"Topic5\", \"Topic5\", \"Topic5\", \"Topic5\", \"Topic5\", \"Topic5\", \"Topic6\", \"Topic6\", \"Topic6\", \"Topic6\", \"Topic6\", \"Topic6\", \"Topic6\", \"Topic6\", \"Topic6\", \"Topic6\", \"Topic6\", \"Topic6\", \"Topic6\", \"Topic6\", \"Topic6\", \"Topic6\", \"Topic6\", \"Topic6\", \"Topic6\", \"Topic6\", \"Topic6\", \"Topic6\", \"Topic6\", \"Topic6\", \"Topic6\", \"Topic6\", \"Topic6\", \"Topic6\", \"Topic6\", \"Topic6\", \"Topic6\", \"Topic6\", \"Topic6\", \"Topic6\", \"Topic6\", \"Topic6\", \"Topic6\", \"Topic6\", \"Topic6\", \"Topic6\", \"Topic6\", \"Topic6\", \"Topic6\", \"Topic6\", \"Topic6\", \"Topic6\", \"Topic6\", \"Topic6\", \"Topic6\", \"Topic6\", \"Topic6\", \"Topic6\", \"Topic6\", \"Topic6\", \"Topic6\", \"Topic6\", \"Topic6\", \"Topic6\", \"Topic6\", \"Topic6\", \"Topic6\", \"Topic6\", \"Topic6\", \"Topic6\", \"Topic6\", \"Topic6\"], \"Freq\": [2025.0, 5269.0, 729.0, 670.0, 698.0, 573.0, 1048.0, 526.0, 492.0, 2198.0, 648.0, 2624.0, 2096.0, 1357.0, 441.0, 1052.0, 389.0, 303.0, 1864.0, 757.0, 567.0, 813.0, 333.0, 358.0, 332.0, 529.0, 413.0, 886.0, 960.0, 1457.0, 57.32633972167969, 51.39455032348633, 43.0881462097168, 44.4596061706543, 38.52241897583008, 44.60519790649414, 32.68926239013672, 41.2360725402832, 30.284452438354492, 111.62560272216797, 41.034122467041016, 33.25430679321289, 24.335134506225586, 98.36408996582031, 26.62061882019043, 19.86907958984375, 22.346986770629883, 40.714744567871094, 21.495704650878906, 16.93077278137207, 26.747987747192383, 18.976104736328125, 23.43515968322754, 28.56930923461914, 23.989471435546875, 15.790970802307129, 15.44686508178711, 16.35265350341797, 19.038311004638672, 19.705711364746094, 210.6370086669922, 35.933441162109375, 48.70353317260742, 28.502574920654297, 31.785551071166992, 31.811553955078125, 185.93072509765625, 124.06587219238281, 52.33913040161133, 55.89268112182617, 665.607421875, 531.6945190429688, 238.40846252441406, 925.8701782226562, 213.2587432861328, 431.48773193359375, 1319.4412841796875, 192.4883270263672, 79.65472412109375, 1365.2105712890625, 727.4100952148438, 379.91693115234375, 99.78433227539062, 1401.3104248046875, 603.4738159179688, 172.9582061767578, 282.927978515625, 259.6867980957031, 131.17910766601562, 1039.2584228515625, 112.35943603515625, 128.10061645507812, 889.5986938476562, 526.977294921875, 187.70529174804688, 249.93431091308594, 524.4798583984375, 194.83694458007812, 419.84808349609375, 817.2070922851562, 256.620849609375, 253.3416748046875, 262.58355712890625, 264.70184326171875, 236.7266845703125, 212.991455078125, 214.1629180908203, 214.9195098876953, 214.96214294433594, 82.34001922607422, 58.29273223876953, 54.018768310546875, 47.79184341430664, 47.79182434082031, 57.53290557861328, 28.611530303955078, 58.36432647705078, 21.132211685180664, 21.970762252807617, 21.02398681640625, 19.594196319580078, 28.76232147216797, 18.925748825073242, 20.38632583618164, 19.461400985717773, 19.354938507080078, 17.86774253845215, 15.278698921203613, 15.160017967224121, 15.023189544677734, 16.91493034362793, 18.174850463867188, 21.43606948852539, 22.549007415771484, 15.913495063781738, 21.5095157623291, 13.948931694030762, 13.426886558532715, 13.116622924804688, 31.217737197875977, 161.2660675048828, 70.5593032836914, 85.70962524414062, 71.70987701416016, 27.406301498413086, 128.98495483398438, 58.03251647949219, 384.66180419921875, 171.1344451904297, 59.038211822509766, 51.21498107910156, 494.38555908203125, 638.5733032226562, 588.6932983398438, 46.93424606323242, 76.2031478881836, 264.9528503417969, 74.40290832519531, 48.88889694213867, 487.1297302246094, 246.90924072265625, 153.4812774658203, 308.9145812988281, 341.2100830078125, 404.7679138183594, 176.32369995117188, 307.2323913574219, 360.05572509765625, 1224.677978515625, 407.86236572265625, 221.4315948486328, 159.3850860595703, 235.6977996826172, 281.3946533203125, 273.9403076171875, 418.27471923828125, 229.9258270263672, 387.6890869140625, 304.0022888183594, 448.9118347167969, 402.9547119140625, 306.05279541015625, 265.8681335449219, 309.6542663574219, 338.7296142578125, 223.31251525878906, 196.6488800048828, 65.68183898925781, 57.04025650024414, 56.941158294677734, 69.79402160644531, 69.71177673339844, 33.82829666137695, 32.430660247802734, 28.805360794067383, 24.311439514160156, 34.30848693847656, 27.2324275970459, 18.466150283813477, 18.67799949645996, 18.825634002685547, 27.950044631958008, 42.49136734008789, 16.337703704833984, 21.861371994018555, 24.044517517089844, 14.546170234680176, 16.780302047729492, 14.162413597106934, 31.610919952392578, 49.0820426940918, 13.452057838439941, 25.53336524963379, 13.521763801574707, 12.959330558776855, 45.32583236694336, 14.463221549987793, 98.52239990234375, 25.424854278564453, 22.556108474731445, 124.29805755615234, 113.62435913085938, 32.88911056518555, 78.39839935302734, 135.4173126220703, 529.5475463867188, 92.6001205444336, 132.92567443847656, 95.88910675048828, 137.81964111328125, 76.4570541381836, 34.70780563354492, 87.9879150390625, 110.20769500732422, 63.81248092651367, 316.6593017578125, 102.53756713867188, 62.70980453491211, 59.56929016113281, 50.26496887207031, 1070.4984130859375, 69.9064712524414, 166.79074096679688, 235.31712341308594, 248.21722412109375, 355.55889892578125, 229.66162109375, 226.70205688476562, 292.359619140625, 103.83036041259766, 246.75161743164062, 401.0912170410156, 190.97755432128906, 210.12258911132812, 213.65185546875, 159.18333435058594, 210.04237365722656, 188.34573364257812, 238.97616577148438, 310.930908203125, 249.986572265625, 337.10089111328125, 359.0515441894531, 252.96156311035156, 162.537353515625, 217.7596893310547, 158.56478881835938, 193.76771545410156, 174.60116577148438, 159.7862548828125, 181.30006408691406, 45.301353454589844, 27.231624603271484, 26.110931396484375, 28.266603469848633, 26.67496109008789, 27.069608688354492, 57.07430648803711, 23.861190795898438, 23.694957733154297, 22.913618087768555, 18.569717407226562, 68.62808990478516, 16.380643844604492, 18.865127563476562, 29.32617950439453, 20.900196075439453, 15.784919738769531, 14.313032150268555, 15.97852897644043, 14.425973892211914, 13.74534797668457, 13.072173118591309, 12.475668907165527, 13.974201202392578, 102.24516296386719, 13.625044822692871, 24.023324966430664, 13.27121353149414, 11.442232131958008, 27.576784133911133, 28.7824764251709, 118.41465759277344, 70.54463195800781, 29.099367141723633, 79.4931640625, 77.45182800292969, 46.541717529296875, 748.4385986328125, 167.6470489501953, 34.1652717590332, 24.680387496948242, 60.006099700927734, 82.87606811523438, 57.37954330444336, 359.4621276855469, 41.20808792114258, 154.17523193359375, 62.42622756958008, 154.14222717285156, 121.43724822998047, 47.30073547363281, 168.1070556640625, 589.6189575195312, 182.02285766601562, 45.712615966796875, 1019.9199829101562, 100.08045196533203, 403.7291259765625, 114.80672454833984, 169.22225952148438, 78.97907257080078, 236.01913452148438, 177.16436767578125, 351.906494140625, 244.14402770996094, 388.5454406738281, 153.65679931640625, 215.84707641601562, 96.76524353027344, 120.98584747314453, 156.01480102539062, 201.71377563476562, 128.75213623046875, 124.20575714111328, 113.73155212402344, 122.93846893310547, 129.29934692382812, 68.08843994140625, 68.92604064941406, 64.54216766357422, 49.34810256958008, 25.861387252807617, 24.678049087524414, 48.91686248779297, 28.330116271972656, 507.90679931640625, 38.852840423583984, 20.214801788330078, 18.814260482788086, 19.739093780517578, 16.985544204711914, 541.1110229492188, 104.36400604248047, 16.42815399169922, 18.19233512878418, 12.505422592163086, 12.14698314666748, 23.564706802368164, 11.571372985839844, 11.566152572631836, 282.3023376464844, 14.120868682861328, 38.43658447265625, 12.512887954711914, 10.358034133911133, 15.02141284942627, 12.194802284240723, 617.1864624023438, 666.2484741210938, 59.24052810668945, 53.099632263183594, 435.4772644042969, 44.98428726196289, 596.1082153320312, 45.07470703125, 19.603160858154297, 303.0184326171875, 121.77413177490234, 1231.9056396484375, 31.18381118774414, 37.23581314086914, 71.8765869140625, 66.40557861328125, 56.39670944213867, 58.77663803100586, 92.49081420898438, 140.38540649414062, 87.5950927734375, 222.0175323486328, 82.28125762939453, 97.97030639648438, 95.15418243408203, 218.20199584960938, 126.73384857177734, 439.0282287597656, 346.8136291503906, 203.86997985839844, 153.14161682128906, 310.10076904296875, 141.95448303222656, 144.71067810058594, 294.991943359375, 187.60226440429688, 139.7001190185547, 121.79016876220703, 115.34893798828125, 109.94039154052734, 131.971435546875, 105.15503692626953, 155.92176818847656, 48.66178894042969, 71.80687713623047, 30.046344757080078, 29.498252868652344, 22.336565017700195, 32.31098175048828, 21.44216537475586, 38.00845718383789, 19.134458541870117, 159.41693115234375, 136.68789672851562, 136.68789672851562, 138.4608917236328, 106.33557891845703, 16.168920516967773, 13.437481880187988, 13.757533073425293, 13.468040466308594, 12.478623390197754, 13.607545852661133, 11.908286094665527, 11.90827465057373, 12.237188339233398, 12.83523941040039, 183.7544708251953, 37.53923416137695, 12.329862594604492, 11.196802139282227, 12.435871124267578, 167.53785705566406, 21.710824966430664, 34.22736740112305, 61.42943572998047, 26.467077255249023, 56.137840270996094, 48.8825798034668, 211.76968383789062, 55.59238052368164, 327.65484619140625, 246.08970642089844, 255.62301635742188, 216.03842163085938, 170.6614532470703, 178.97145080566406, 215.5667724609375, 219.97804260253906, 260.08819580078125, 68.252685546875, 183.4222412109375, 1553.6875, 71.08158111572266, 200.7418975830078, 100.22042083740234, 270.9440612792969, 195.25485229492188, 113.62754821777344, 337.72125244140625, 141.94244384765625, 145.22532653808594, 154.47848510742188, 211.39378356933594, 143.66078186035156, 145.61138916015625, 149.2504119873047, 150.5784149169922], \"Term\": [\"suara\", \"kpu\", \"surat\", \"misi\", \"visi\", \"surat_suara\", \"undang\", \"visi_misi\", \"kotak\", \"adil\", \"allah\", \"curang\", \"jujur\", \"jujur_adil\", \"jakarta\", \"calon\", \"kardus\", \"kotak_suara\", \"pilih\", \"pasang\", \"hak\", \"uang\", \"rabu\", \"kota\", \"lpsdk\", \"pasang_calon\", \"buka\", \"debat\", \"presiden\", \"orang\", \"uang_negara\", \"boikot\", \"presiden_wapres\", \"hormat_tolong\", \"jaenudin\", \"pr\", \"ngatur\", \"kuliah\", \"nyebar\", \"tidak_terdaftar\", \"dananya\", \"film\", \"pkb\", \"kisi\", \"suami\", \"tidak_harus\", \"mohon_infonya\", \"mention\", \"tidak_malu\", \"juri\", \"andi\", \"nanggung\", \"imbang\", \"lintas\", \"manut\", \"digoreng\", \"hahahahaha\", \"stuntman\", \"gemas\", \"basa\", \"uang_rakyat\", \"kisi_kisi\", \"tidak_lagi\", \"tidak_jurdil\", \"pnyelenggara\", \"puluh_triliun\", \"buruk_sejarah\", \"buang_uang\", \"debat_pasang\", \"tidak_mungkin\", \"uang\", \"buruk\", \"malu\", \"jujur_adil\", \"buang\", \"sejarah\", \"jujur\", \"aneh\", \"tidak_mampu\", \"adil\", \"negara\", \"tidak_ada\", \"bodoh\", \"rakyat\", \"salah\", \"salah_input\", \"lembaga\", \"input\", \"palu\", \"selenggara\", \"kecewa\", \"kinerja\", \"curang\", \"indonesia\", \"habis\", \"kualitas\", \"kali\", \"wasit\", \"orang\", \"kpu\", \"negeri\", \"biar\", \"pilpres\", \"kerja\", \"laku\", \"nyata\", \"tolong\", \"percaya\", \"data\", \"kpu_jatim\", \"lomba\", \"wakil_presiden\", \"reposted_from\", \"reposted\", \"perintah_isu\", \"dapil\", \"janji\", \"nomor_urut\", \"lancar_aman\", \"australia\", \"sontoloyo\", \"jepara\", \"batang\", \"bidakara\", \"bidakara_jakarta\", \"mosi\", \"ketuk\", \"days\", \"mari_sukseskan\", \"sultan\", \"black\", \"campaign\", \"aman_lancar\", \"penyelengaraan\", \"pertahana\", \"terang_benderang\", \"slrh\", \"days_goes\", \"sepakbola\", \"basis\", \"tidak_netral\", \"aman_damai\", \"calon_presiden\", \"iklan\", \"mendelegitimasi_selenggara\", \"mendelegitimasi\", \"waspada\", \"pasang_calon\", \"lancar\", \"presiden_wakil\", \"ektp\", \"pasang\", \"calon\", \"presiden\", \"tidak_benar\", \"jatim\", \"aman\", \"olah\", \"urut\", \"debat\", \"tim_sukses\", \"wakil\", \"damai\", \"sukses\", \"capres\", \"cawapres\", \"tim\", \"menang\", \"kpu\", \"hasil\", \"kasih\", \"terima_kasih\", \"demokrasi\", \"hoax\", \"moga\", \"adil\", \"data\", \"jujur\", \"indonesia\", \"rakyat\", \"selenggara\", \"kali\", \"salah\", \"pilih\", \"curang\", \"jujur_adil\", \"lihat\", \"taukah\", \"pidie\", \"polling\", \"maret\", \"tanam\", \"akurasi\", \"februari\", \"naikan\", \"thread\", \"jagung\", \"abu\", \"ngecek\", \"agenda\", \"ngaciro\", \"lgs\", \"dptb\", \"rek\", \"twips\", \"kerupuk\", \"warna\", \"jkt\", \"tidak_jelas\", \"karung\", \"tidak_naik\", \"ikat\", \"tidak_serius\", \"huruf\", \"hoak\", \"al\", \"reputasi\", \"umur\", \"kpps_honor\", \"bag\", \"tidak_adil\", \"swt\", \"umur_hidup\", \"allah_swt\", \"dana_kampanye\", \"allah\", \"tidak_boleh\", \"azab\", \"terima_sumbang\", \"sumbang\", \"moga_allah\", \"azab_allah\", \"tuhan\", \"aamiin\", \"anggota_kpps\", \"kpps\", \"honor\", \"wna\", \"maha\", \"osis\", \"curang\", \"laknat\", \"debat_capres\", \"ulang\", \"lapor\", \"moga\", \"sebar\", \"dana\", \"ketua\", \"doa\", \"kampanye\", \"orang\", \"nama\", \"mohon\", \"tugas\", \"anggota\", \"laku\", \"april\", \"hoax\", \"pilih\", \"indonesia\", \"rakyat\", \"kpu\", \"adil\", \"kalah\", \"jujur\", \"terima\", \"selenggara\", \"kali\", \"pilpres\", \"sekira\", \"dihapus\", \"padu\", \"tidak_kredibel\", \"pilihnya\", \"urus_form\", \"pura_pura\", \"ditandatangani\", \"menciderai\", \"lurus\", \"hak_pilihnya\", \"tandatangani\", \"pesimis\", \"nyali\", \"konferensi\", \"makan_gaji\", \"pan\", \"app\", \"bintang\", \"sptnya\", \"selamat_malam\", \"dilaporin\", \"psi\", \"balikkan\", \"hantu\", \"tidak_punya\", \"penghitung\", \"ono\", \"kompleks\", \"viryan\", \"amanat_undang\", \"kategori\", \"wni\", \"tunda\", \"dibatalin\", \"pura\", \"langgar_undang\", \"pasal_undang\", \"undang\", \"hak_pilih\", \"undang_no\", \"srt\", \"tua\", \"panggil\", \"demokrat\", \"hak\", \"delegasi\", \"golput\", \"tidak_profesional\", \"dpr\", \"pasal\", \"approval\", \"hati\", \"pilih\", \"langgar\", \"alamat\", \"kpu\", \"pidana\", \"orang\", \"no\", \"kacau\", \"form\", \"menang\", \"kalah\", \"suara\", \"hasil\", \"rakyat\", \"atur\", \"kali\", \"biaya\", \"coblos\", \"calon\", \"selenggara\", \"laksana\", \"pasang\", \"hitung\", \"kerja\", \"curang\", \"berita_bohong\", \"tidak_independen\", \"rantau\", \"cetak\", \"cuitan\", \"dicetak\", \"koordinasi\", \"jenis\", \"visi_misi\", \"pemungutan_hitung\", \"radio\", \"apk\", \"sekretariat\", \"dipaparkan\", \"surat_suara\", \"pemungutan\", \"was\", \"alumunium\", \"tajam\", \"mendegradasi\", \"alur\", \"rri\", \"kreatif\", \"kotak_suara\", \"bayar_pajak\", \"kabareskim\", \"rip\", \"isyarat\", \"tonjol\", \"rp_triliun\", \"misi\", \"surat\", \"kubu_oposisi\", \"pemungutan_suara\", \"kotak\", \"distribusi\", \"visi\", \"sudut\", \"pulang_kampung\", \"kardus\", \"logistik\", \"suara\", \"diragukan\", \"usia\", \"kertas_suara\", \"dicoblos\", \"kotak_kardus\", \"disaat\", \"kontainer\", \"sosialisasi\", \"papar\", \"coblos\", \"papar_visi\", \"kertas\", \"pindah\", \"tps\", \"anggar\", \"selenggara\", \"pilih\", \"masyarakat\", \"pakai\", \"rakyat\", \"april\", \"laksana\", \"kpu\", \"kali\", \"negeri\", \"rentak\", \"main\", \"hitung\", \"curang\", \"debat\", \"lantai\", \"tara\", \"kabupaten_kota\", \"jakarta_jakarta\", \"internet\", \"krisis\", \"skalian\", \"dibuang\", \"kota_bengkulu\", \"kota_bandung\", \"resmi_buka\", \"sekira_wib\", \"lantai_jakarta\", \"ruang_rapat\", \"bengkulu\", \"grand\", \"skripsi\", \"keempat\", \"misterius\", \"bkerja\", \"soliditas\", \"setiawan\", \"wahyu_setiawan\", \"motif\", \"pnting\", \"ruang\", \"provinsi_bengkulu\", \"pemiluserentak\", \"brharap\", \"dewan_hormat\", \"serah_lpsdk\", \"now\", \"bandung\", \"usut_tuntas\", \"tidak_semua\", \"fasilitas\", \"tidak_dapat\", \"rapat\", \"ppln\", \"jakarta\", \"rabu\", \"kota\", \"serah\", \"wib\", \"provinsi\", \"resmi\", \"lpsdk\", \"buka\", \"aplikasi\", \"kabupaten\", \"kpu\", \"jelang\", \"bawaslu\", \"camat\", \"hasil\", \"langsung\", \"tingkat\", \"selenggara\", \"masuk\", \"tugas\", \"ketua\", \"pilih\", \"terima\", \"masyarakat\", \"kerja\", \"negara\"], \"Total\": [2025.0, 5269.0, 729.0, 670.0, 698.0, 573.0, 1048.0, 526.0, 492.0, 2198.0, 648.0, 2624.0, 2096.0, 1357.0, 441.0, 1052.0, 389.0, 303.0, 1864.0, 757.0, 567.0, 813.0, 333.0, 358.0, 332.0, 529.0, 413.0, 886.0, 960.0, 1457.0, 58.237220764160156, 52.21299743652344, 43.89921569824219, 45.29940414428711, 39.3165168762207, 45.657440185546875, 33.47383117675781, 42.277915954589844, 31.086254119873047, 114.59521484375, 42.27004623413086, 34.276798248291016, 25.203716278076172, 102.00144958496094, 27.681713104248047, 20.66254425048828, 23.257509231567383, 42.41061019897461, 22.457904815673828, 17.71479606628418, 28.006603240966797, 19.882287979125977, 24.573381423950195, 29.957290649414062, 25.200002670288086, 16.59537124633789, 16.236228942871094, 17.21803855895996, 20.059356689453125, 20.767478942871094, 223.1409454345703, 37.922203063964844, 51.56874084472656, 30.05597496032715, 33.66783905029297, 33.70526885986328, 204.87339782714844, 136.1356658935547, 56.058441162109375, 60.10673141479492, 813.6966552734375, 682.0005493164062, 291.329345703125, 1357.8597412109375, 270.6230773925781, 591.0870971679688, 2096.1845703125, 247.27944946289062, 93.08856964111328, 2198.170654296875, 1141.764892578125, 566.9786376953125, 121.79945373535156, 3003.510009765625, 1110.342529296875, 249.1217803955078, 476.62005615234375, 428.456787109375, 180.80795288085938, 2614.444091796875, 149.45664978027344, 180.40455627441406, 2624.109130859375, 1308.674072265625, 316.1285400390625, 493.8614807128906, 1477.9012451171875, 376.4385681152344, 1457.3065185546875, 5269.5361328125, 693.2660522460938, 679.1458129882812, 762.0602416992188, 799.9163208007812, 628.9737548828125, 528.9510498046875, 549.1525268554688, 593.2855834960938, 733.0484008789062, 83.20279693603516, 59.169769287109375, 54.86328887939453, 48.640743255615234, 48.64073944091797, 58.61708450317383, 29.474571228027344, 60.4461784362793, 21.986291885375977, 22.871660232543945, 21.924585342407227, 20.44081687927246, 30.030670166015625, 19.76636505126953, 21.33106231689453, 20.401355743408203, 20.32808494567871, 18.836484909057617, 16.117755889892578, 16.001676559448242, 15.864815711975098, 17.868343353271484, 19.21588134765625, 22.675092697143555, 23.86239242553711, 16.857704162597656, 22.808101654052734, 14.799430847167969, 14.265763282775879, 13.987720489501953, 33.49561309814453, 176.1395263671875, 76.79049682617188, 94.53117370605469, 79.2553482055664, 29.532730102539062, 152.22987365722656, 67.3050308227539, 529.947509765625, 224.9554443359375, 69.86517333984375, 59.757667541503906, 757.9139404296875, 1052.416748046875, 960.4841918945312, 54.89302444458008, 95.72517395019531, 404.10296630859375, 94.8852310180664, 58.47711944580078, 886.2737426757812, 395.2359924316406, 226.3311767578125, 526.2857055664062, 626.6788940429688, 849.8624267578125, 301.9235534667969, 635.2302856445312, 854.2599487304688, 5269.5361328125, 1166.3931884765625, 499.40826416015625, 326.9796447753906, 637.836181640625, 864.0536499023438, 835.8271484375, 2198.170654296875, 733.0484008789062, 2096.1845703125, 1308.674072265625, 3003.510009765625, 2614.444091796875, 1477.9012451171875, 1110.342529296875, 1864.6624755859375, 2624.109130859375, 1357.8597412109375, 641.9088134765625, 66.52033233642578, 57.8352165222168, 57.75623321533203, 70.86628723144531, 70.80734252929688, 34.62754821777344, 33.29826354980469, 29.663623809814453, 25.250240325927734, 35.69575119018555, 28.340532302856445, 19.272939682006836, 19.517915725708008, 19.67591667175293, 29.22430419921875, 44.542240142822266, 17.134910583496094, 22.944965362548828, 25.248563766479492, 15.353059768676758, 17.725162506103516, 14.96079158782959, 33.4078483581543, 51.92917251586914, 14.26529312133789, 27.09284210205078, 14.347769737243652, 13.77950382232666, 48.24359893798828, 15.405301094055176, 105.41356658935547, 27.108251571655273, 24.028663635253906, 136.273681640625, 124.6832504272461, 35.238548278808594, 85.77765655517578, 152.66603088378906, 648.79052734375, 105.8742904663086, 157.021484375, 111.40121459960938, 164.9807586669922, 88.70682525634766, 37.76630783081055, 106.14239501953125, 136.57220458984375, 74.99231719970703, 473.2471923828125, 130.0594024658203, 74.092529296875, 70.24500274658203, 57.959556579589844, 2624.109130859375, 87.3823471069336, 264.763916015625, 434.4897155761719, 488.2181701660156, 835.8271484375, 474.02642822265625, 472.13653564453125, 683.8074951171875, 156.41038513183594, 569.8569946289062, 1457.3065185546875, 452.2792053222656, 562.3212890625, 580.681640625, 357.3310546875, 628.9737548828125, 507.7369689941406, 864.0536499023438, 1864.6624755859375, 1308.674072265625, 3003.510009765625, 5269.5361328125, 2198.170654296875, 550.4696044921875, 2096.1845703125, 637.9581298828125, 2614.444091796875, 1477.9012451171875, 762.0602416992188, 183.1754608154297, 46.157928466796875, 28.063215255737305, 26.922321319580078, 29.216650009155273, 27.577274322509766, 28.06480598449707, 59.18071365356445, 24.751543045043945, 24.662927627563477, 23.872821807861328, 19.43181610107422, 71.93582153320312, 17.195735931396484, 19.82883071899414, 30.832809448242188, 21.97475242614746, 16.599851608276367, 15.144316673278809, 16.91367530822754, 15.286102294921875, 14.6187105178833, 13.940902709960938, 13.309009552001953, 14.930706977844238, 109.41094207763672, 14.58548641204834, 25.72637367248535, 14.232400894165039, 12.28138542175293, 29.60579490661621, 31.090238571166992, 131.71316528320312, 78.22972869873047, 31.737043380737305, 89.49514770507812, 89.43222045898438, 52.568702697753906, 1048.1397705078125, 214.23333740234375, 38.675411224365234, 27.096818923950195, 73.22409057617188, 105.51246643066406, 69.89911651611328, 567.2926635742188, 48.13428497314453, 238.54177856445312, 81.4970703125, 274.8035583496094, 203.7122802734375, 60.47066116333008, 330.9449157714844, 1864.6624755859375, 402.7454833984375, 59.30583953857422, 5269.5361328125, 183.7661590576172, 1457.3065185546875, 234.6422119140625, 437.8104553222656, 135.80447387695312, 854.2599487304688, 550.4696044921875, 2025.92822265625, 1166.3931884765625, 3003.510009765625, 559.8079223632812, 1477.9012451171875, 234.65431213378906, 465.0572509765625, 1052.416748046875, 2614.444091796875, 631.3883666992188, 757.9139404296875, 507.51190185546875, 799.9163208007812, 2624.109130859375, 69.10304260253906, 70.1139907836914, 65.9711685180664, 50.474151611328125, 26.749452590942383, 25.529617309570312, 50.6325569152832, 29.358665466308594, 526.5665893554688, 40.509151458740234, 21.092344284057617, 19.717758178710938, 20.69940185546875, 17.84789276123047, 573.0700073242188, 110.7300796508789, 17.502859115600586, 19.389148712158203, 13.365433692932129, 13.004355430603027, 25.281169891357422, 12.426705360412598, 12.422389030456543, 303.26348876953125, 15.224979400634766, 41.5423583984375, 13.540693283081055, 11.214333534240723, 16.268539428710938, 13.210209846496582, 670.8020629882812, 729.7919921875, 64.49309539794922, 57.83994674682617, 492.0642395019531, 49.086238861083984, 698.3394775390625, 50.30824661254883, 21.3210391998291, 389.5440673828125, 153.39297485351562, 2025.92822265625, 35.27983856201172, 43.103782653808594, 93.13124084472656, 85.40242004394531, 71.62982940673828, 77.36234283447266, 141.45758056640625, 244.32550048828125, 131.9678955078125, 465.0572509765625, 122.5433120727539, 160.26930236816406, 164.88124084472656, 723.7363891601562, 293.32733154296875, 2614.444091796875, 1864.6624755859375, 707.1412963867188, 449.63177490234375, 3003.510009765625, 507.7369689941406, 631.3883666992188, 5269.5361328125, 1477.9012451171875, 693.2660522460938, 453.80126953125, 424.2644348144531, 507.51190185546875, 2624.109130859375, 886.2737426757812, 156.76150512695312, 49.57654571533203, 73.819580078125, 30.936920166015625, 30.580785751342773, 23.187026977539062, 33.545650482177734, 22.274953842163086, 39.513912200927734, 19.9652156829834, 166.81724548339844, 143.0874481201172, 143.0874481201172, 145.11415100097656, 111.57166290283203, 17.039365768432617, 14.269815444946289, 14.641737937927246, 14.341805458068848, 13.323806762695312, 14.549032211303711, 12.739791870117188, 12.739786148071289, 13.103650093078613, 13.748184204101562, 197.00048828125, 40.3324089050293, 13.259892463684082, 12.068327903747559, 13.420113563537598, 183.7488250732422, 23.55166244506836, 37.372684478759766, 68.5950927734375, 28.91670036315918, 63.04375457763672, 55.847023010253906, 262.0497131347656, 64.16072082519531, 441.95623779296875, 333.1171875, 358.4293518066406, 305.0877685546875, 236.2648162841797, 249.2916259765625, 320.4432373046875, 332.73516845703125, 413.3374328613281, 88.34959411621094, 326.2611083984375, 5269.5361328125, 100.11192321777344, 470.58172607421875, 171.31056213378906, 1166.3931884765625, 681.0195922851562, 265.2106018066406, 2614.444091796875, 473.11651611328125, 580.681640625, 683.8074951171875, 1864.6624755859375, 637.9581298828125, 707.1412963867188, 799.9163208007812, 1141.764892578125], \"loglift\": [30.0, 29.0, 28.0, 27.0, 26.0, 25.0, 24.0, 23.0, 22.0, 21.0, 20.0, 19.0, 18.0, 17.0, 16.0, 15.0, 14.0, 13.0, 12.0, 11.0, 10.0, 9.0, 8.0, 7.0, 6.0, 5.0, 4.0, 3.0, 2.0, 1.0, 1.3859000205993652, 1.3859000205993652, 1.3830000162124634, 1.3830000162124634, 1.3812999725341797, 1.3783999681472778, 1.378000020980835, 1.3767000436782837, 1.375499963760376, 1.3753999471664429, 1.371999979019165, 1.371399998664856, 1.3666000366210938, 1.365399956703186, 1.3625999689102173, 1.3624999523162842, 1.3617000579833984, 1.3609000444412231, 1.3579000234603882, 1.3564000129699707, 1.3557000160217285, 1.3550000190734863, 1.3543000221252441, 1.354200005531311, 1.3523999452590942, 1.3519999980926514, 1.3517999649047852, 1.350100040435791, 1.3494000434875488, 1.3492000102996826, 1.343999981880188, 1.3478000164031982, 1.344499945640564, 1.3486000299453735, 1.344099998474121, 1.3438999652862549, 1.3047000169754028, 1.3087999820709229, 1.3329999446868896, 1.3289999961853027, 1.2007999420166016, 1.1526999473571777, 1.201200008392334, 1.0187000036239624, 1.1634999513626099, 1.0870000123977661, 0.9387999773025513, 1.1512000560760498, 1.2458000183105469, 0.9254000186920166, 0.9508000016212463, 1.0012999773025513, 1.202299952507019, 0.6392999887466431, 0.7919999957084656, 1.0368000268936157, 0.8801000118255615, 0.9010000228881836, 1.0808000564575195, 0.47909998893737793, 1.1164000034332275, 1.0592999458312988, 0.3199999928474426, 0.4921000003814697, 0.8804000020027161, 0.7206000089645386, 0.36570000648498535, 0.7430999875068665, 0.15719999372959137, -0.46209999918937683, 0.40790000557899475, 0.4156000018119812, 0.3361999988555908, 0.29580000042915344, 0.4244999885559082, 0.492000013589859, 0.46000000834465027, 0.3862999975681305, 0.17489999532699585, 1.6790000200271606, 1.6744999885559082, 1.6739000082015991, 1.6719000339508057, 1.6719000339508057, 1.670799970626831, 1.6597000360488892, 1.6543999910354614, 1.6497999429702759, 1.6492999792099, 1.6475000381469727, 1.6471999883651733, 1.646299958229065, 1.6460000276565552, 1.6441999673843384, 1.642300009727478, 1.6404000520706177, 1.6367000341415405, 1.6360000371932983, 1.6354000568389893, 1.6349999904632568, 1.634600043296814, 1.6338000297546387, 1.6332999467849731, 1.6327999830245972, 1.6318000555038452, 1.6308000087738037, 1.6303000450134277, 1.6289000511169434, 1.6252000331878662, 1.61899995803833, 1.601199984550476, 1.6047999858856201, 1.5915000438690186, 1.589400053024292, 1.6146999597549438, 1.523800015449524, 1.541200041770935, 1.36899995803833, 1.4160000085830688, 1.5211000442504883, 1.5351999998092651, 1.2621999979019165, 1.1899000406265259, 1.1999000310897827, 1.5327999591827393, 1.461400032043457, 1.267300009727478, 1.4463000297546387, 1.5104000568389893, 1.090999960899353, 1.218999981880188, 1.3009999990463257, 1.1567000150680542, 1.0815000534057617, 0.947700023651123, 1.1516000032424927, 0.963100016117096, 0.8255000114440918, 0.23019999265670776, 0.638700008392334, 0.8762000203132629, 0.9708999991416931, 0.6938999891281128, 0.5676000118255615, 0.5740000009536743, 0.03020000085234642, 0.5299999713897705, 0.0017999999690800905, 0.2296999990940094, -0.21119999885559082, -0.18050000071525574, 0.11479999870061874, 0.25999999046325684, -0.10589999705553055, -0.3578000068664551, -0.11559999734163284, 0.5063999891281128, 1.7659000158309937, 1.7647000551223755, 1.764299988746643, 1.7632999420166016, 1.7630000114440918, 1.7552000284194946, 1.7520999908447266, 1.7491999864578247, 1.7407000064849854, 1.7388999462127686, 1.738700032234192, 1.73580002784729, 1.7345999479293823, 1.7344000339508057, 1.7339999675750732, 1.7314000129699707, 1.7309000492095947, 1.7302000522613525, 1.729699969291687, 1.7245999574661255, 1.7237999439239502, 1.7237000465393066, 1.7232999801635742, 1.7222000360488892, 1.7199000120162964, 1.7193000316619873, 1.7193000316619873, 1.7172000408172607, 1.7161999940872192, 1.715399980545044, 1.7108999490737915, 1.714400053024292, 1.7152999639511108, 1.6865999698638916, 1.6857000589370728, 1.7095999717712402, 1.688599944114685, 1.6586999893188477, 1.5755000114440918, 1.6446000337600708, 1.6119999885559082, 1.628600001335144, 1.5987000465393066, 1.6298999786376953, 1.694100022315979, 1.590999960899353, 1.5641000270843506, 1.6171000003814697, 1.3767999410629272, 1.5407999753952026, 1.611799955368042, 1.613700032234192, 1.6361000537872314, 0.8819000124931335, 1.555400013923645, 1.316499948501587, 1.1653000116348267, 1.1021000146865845, 0.923799991607666, 1.0539000034332275, 1.0448999404907227, 0.9289000034332275, 1.3688000440597534, 0.9415000081062317, 0.48840001225471497, 0.9164000153541565, 0.7942000031471252, 0.7786999940872192, 0.9699000120162964, 0.6818000078201294, 0.786899983882904, 0.4932999908924103, -0.01269999984651804, 0.12319999933242798, -0.40860000252723694, -0.9077000021934509, -0.38359999656677246, 0.5587000250816345, -0.48590001463890076, 0.3864000141620636, -0.8235999941825867, -0.3573000133037567, 0.21639999747276306, 1.933500051498413, 1.9250999689102173, 1.913699984550476, 1.9132000207901, 1.9107999801635742, 1.910599946975708, 1.9076999425888062, 1.9076000452041626, 1.9071999788284302, 1.9038000106811523, 1.9027999639511108, 1.8983999490737915, 1.8968000411987305, 1.895300030708313, 1.8940000534057617, 1.8937000036239624, 1.8937000036239624, 1.8934999704360962, 1.8874000310897827, 1.8869999647140503, 1.8859000205993652, 1.882200002670288, 1.8795000314712524, 1.8791999816894531, 1.8775999546051025, 1.876099944114685, 1.8756999969482422, 1.8753000497817993, 1.873900055885315, 1.8731000423431396, 1.8727999925613403, 1.8667000532150269, 1.837399959564209, 1.840399980545044, 1.857100009918213, 1.8252999782562256, 1.7999999523162842, 1.822100043296814, 1.6069999933242798, 1.6986000537872314, 1.8198000192642212, 1.8503999710083008, 1.7447999715805054, 1.702299952507019, 1.746500015258789, 1.4875999689102173, 1.7884999513626099, 1.5074000358581543, 1.6771999597549438, 1.3655999898910522, 1.4264999628067017, 1.698199987411499, 1.2664999961853027, 0.7925000190734863, 1.1497000455856323, 1.683500051498413, 0.30160000920295715, 1.3360999822616577, 0.6601999998092651, 1.2289999723434448, 0.9933000206947327, 1.4018000364303589, 0.6575000286102295, 0.8101000189781189, 0.19339999556541443, 0.3799000084400177, -0.10130000114440918, 0.6510000228881836, 0.019999999552965164, 1.0579999685287476, 0.5972999930381775, 0.0348999984562397, -0.6180999875068665, 0.3537999987602234, 0.13519999384880066, 0.4481000006198883, 0.07100000232458115, -1.066499948501587, 2.013200044631958, 2.0109000205993652, 2.0060999393463135, 2.005500078201294, 1.9943000078201294, 1.9940999746322632, 1.993499994277954, 1.992400050163269, 1.9918999671936035, 1.986299991607666, 1.9854999780654907, 1.9810999631881714, 1.9804999828338623, 1.9785000085830688, 1.9706000089645386, 1.9687999486923218, 1.9645999670028687, 1.9643000364303589, 1.9615000486373901, 1.9598000049591064, 1.9577000141143799, 1.9566999673843384, 1.9565999507904053, 1.9564000368118286, 1.9527000188827515, 1.9502999782562256, 1.9491000175476074, 1.9486000537872314, 1.9483000040054321, 1.9479999542236328, 1.944700002670288, 1.936900019645691, 1.9430999755859375, 1.9424999952316284, 1.905900001525879, 1.9407999515533447, 1.8696999549865723, 1.9182000160217285, 1.944000005722046, 1.7768000364303589, 1.7971999645233154, 1.5305999517440796, 1.9046000242233276, 1.881700038909912, 1.7690000534057617, 1.7763999700546265, 1.7889000177383423, 1.7532999515533447, 1.6030999422073364, 1.4738999605178833, 1.6181999444961548, 1.288599967956543, 1.629699945449829, 1.5357999801635742, 1.4782999753952026, 0.8289999961853027, 1.1887999773025513, 0.24379999935626984, 0.34599998593330383, 0.7843000292778015, 0.9509999752044678, -0.2425999939441681, 0.753600001335144, 0.5547999739646912, -0.8547000288963318, -0.035999998450279236, 0.4260999858379364, 0.7127000093460083, 0.725600004196167, 0.4984000027179718, -0.961899995803833, -0.10360000282526016, 2.0696001052856445, 2.056299924850464, 2.047300100326538, 2.0457000732421875, 2.0388998985290527, 2.037600040435791, 2.037400007247925, 2.036799907684326, 2.036099910736084, 2.032399892807007, 2.029599905014038, 2.0292000770568848, 2.0292000770568848, 2.0280001163482666, 2.026900053024292, 2.0225000381469727, 2.0148000717163086, 2.012700080871582, 2.0120999813079834, 2.009399890899658, 2.007999897003174, 2.0074000358581543, 2.0074000358581543, 2.006500005722046, 2.006200075149536, 2.0053000450134277, 2.003200054168701, 2.00219988822937, 2.0, 1.9988000392913818, 1.9825999736785889, 1.9936000108718872, 1.9869999885559082, 1.9645999670028687, 1.9864000082015991, 1.958899974822998, 1.9416999816894531, 1.861899971961975, 1.9315999746322632, 1.7756999731063843, 1.7720999717712402, 1.736899971961975, 1.7297999858856201, 1.7496999502182007, 1.743499994277954, 1.6785000562667847, 1.6611000299453735, 1.6117000579833984, 1.8169000148773193, 1.4989999532699585, 0.853600025177002, 1.7324999570846558, 1.2230000495910645, 1.5388000011444092, 0.6151999831199646, 0.8256999850273132, 1.2273000478744507, 0.0284000001847744, 0.8709999918937683, 0.6890000104904175, 0.5873000025749207, -0.10220000147819519, 0.5841000080108643, 0.49470001459121704, 0.3961000144481659, 0.04910000041127205], \"logprob\": [30.0, 29.0, 28.0, 27.0, 26.0, 25.0, 24.0, 23.0, 22.0, 21.0, 20.0, 19.0, 18.0, 17.0, 16.0, 15.0, 14.0, 13.0, 12.0, 11.0, 10.0, 9.0, 8.0, 7.0, 6.0, 5.0, 4.0, 3.0, 2.0, 1.0, -6.889800071716309, -6.999000072479248, -7.175300121307373, -7.144000053405762, -7.287300109863281, -7.140699863433838, -7.451499938964844, -7.219299793243408, -7.527900218963623, -6.223400115966797, -7.2241997718811035, -7.4344000816345215, -7.746600151062012, -6.349899768829346, -7.656899929046631, -7.949399948120117, -7.831900119781494, -7.23199987411499, -7.870699882507324, -8.109399795532227, -7.652100086212158, -7.9953999519348145, -7.784299850463867, -7.58620023727417, -7.761000156402588, -8.179100036621094, -8.201199531555176, -8.144200325012207, -7.992099761962891, -7.957699775695801, -5.588399887084961, -7.356900215148926, -7.052800178527832, -7.588600158691406, -7.479599952697754, -7.478700160980225, -5.713200092315674, -6.117800235748291, -6.980800151824951, -6.91510009765625, -4.437900066375732, -4.662499904632568, -5.464600086212158, -4.107800006866455, -5.576099872589111, -4.871300220489502, -3.7535998821258545, -5.678500175476074, -6.5609002113342285, -3.7195000648498535, -4.349100112915039, -4.998600006103516, -6.335599899291992, -3.6933999061584473, -4.535900115966797, -5.7855000495910645, -5.293399810791016, -5.3790998458862305, -6.061999797821045, -3.992300033569336, -6.216899871826172, -6.0858001708984375, -4.147799968719482, -4.67140007019043, -5.703700065612793, -5.417399883270264, -4.676199913024902, -5.666399955749512, -4.89870023727417, -4.232699871063232, -5.390999794006348, -5.403800010681152, -5.368000030517578, -5.360000133514404, -5.471700191497803, -5.577300071716309, -5.571800231933594, -5.568299770355225, -5.5680999755859375, -6.2399001121521, -6.585299968719482, -6.661399841308594, -6.783899784088135, -6.783899784088135, -6.598400115966797, -7.296999931335449, -6.584099769592285, -7.599999904632568, -7.561100006103516, -7.605100154876709, -7.67549991607666, -7.2916998863220215, -7.710299968719482, -7.635900020599365, -7.682300090789795, -7.68779993057251, -7.7677998542785645, -7.924300193786621, -7.93209981918335, -7.941199779510498, -7.8225998878479, -7.750699996948242, -7.585700035095215, -7.535099983215332, -7.883600234985352, -7.582300186157227, -8.015399932861328, -8.053500175476074, -8.076899528503418, -7.209799766540527, -5.567699909210205, -6.3942999839782715, -6.19980001449585, -6.378200054168701, -7.340000152587891, -5.791100025177002, -6.589799880981445, -4.698400020599365, -5.508299827575684, -6.5725998878479, -6.714700222015381, -4.447500228881836, -4.191500186920166, -4.272900104522705, -6.802000045776367, -6.317399978637695, -5.071199893951416, -6.341300010681152, -6.761199951171875, -4.462299823760986, -5.1417999267578125, -5.617199897766113, -4.917699813842773, -4.818299770355225, -4.647500038146973, -5.478499889373779, -4.9232001304626465, -4.764500141143799, -3.540299892425537, -4.639900207519531, -5.250699996948242, -5.579500198364258, -5.188199996948242, -5.011000156402588, -5.037899971008301, -4.61460018157959, -5.2129998207092285, -4.6905999183654785, -4.933700084686279, -4.544000148773193, -4.6519999504089355, -4.927000045776367, -5.067800045013428, -4.915299892425537, -4.8256001472473145, -5.242199897766113, -5.3694000244140625, -6.3769001960754395, -6.517899990081787, -6.519700050354004, -6.316100120544434, -6.317299842834473, -7.04040002822876, -7.082600116729736, -7.201099872589111, -7.370699882507324, -7.026299953460693, -7.257299900054932, -7.6458001136779785, -7.634300231933594, -7.626500129699707, -7.231299877166748, -6.812399864196777, -7.768199920654297, -7.4770002365112305, -7.381800174713135, -7.884399890899658, -7.741499900817871, -7.911099910736084, -7.1082000732421875, -6.6682000160217285, -7.962600231170654, -7.321700096130371, -7.957399845123291, -7.999899864196777, -6.747799873352051, -7.890100002288818, -5.971399784088135, -7.326000213623047, -7.445700168609619, -5.738999843597412, -5.828800201416016, -7.068600177764893, -6.199900150299072, -5.653299808502197, -4.289700031280518, -6.033400058746338, -5.671899795532227, -5.998499870300293, -5.635700225830078, -6.224999904632568, -7.014699935913086, -6.084499835968018, -5.859300136566162, -6.405700206756592, -4.803899765014648, -5.93149995803833, -6.4232001304626465, -6.474599838256836, -6.644400119781494, -3.5857999324798584, -6.314499855041504, -5.445000171661377, -5.100800037384033, -5.047399997711182, -4.688000202178955, -5.125100135803223, -5.1381001472473145, -4.883699893951416, -5.918900012969971, -5.053299903869629, -4.567500114440918, -5.309500217437744, -5.214000225067139, -5.197299957275391, -5.491600036621094, -5.214399814605713, -5.323400020599365, -5.085299968719482, -4.8221001625061035, -5.040299892425537, -4.741300106048584, -4.678199768066406, -5.028500080108643, -5.470799922943115, -5.178299903869629, -5.495500087738037, -5.295000076293945, -5.399199962615967, -5.4878997802734375, -5.196300029754639, -6.583099842071533, -7.0920000076293945, -7.134099960327148, -7.054699897766113, -7.11269998550415, -7.0980000495910645, -6.352099895477295, -7.2241997718811035, -7.231200218200684, -7.264699935913086, -7.474899768829346, -6.167699813842773, -7.600299835205078, -7.459099769592285, -7.017899990081787, -7.3566999435424805, -7.637400150299072, -7.735199928283691, -7.625199794769287, -7.727399826049805, -7.775700092315674, -7.825900077819824, -7.872600078582764, -7.759200096130371, -5.769000053405762, -7.7845001220703125, -7.217400074005127, -7.810800075531006, -7.959099769592285, -7.079400062561035, -7.036600112915039, -5.622200012207031, -6.140200138092041, -7.025700092315674, -6.020699977874756, -6.046800136566162, -6.556099891662598, -3.77839994430542, -5.274600028991699, -6.865200042724609, -7.190400123596191, -6.302000045776367, -5.979100227355957, -6.346700191497803, -4.5117998123168945, -6.677800178527832, -5.35830020904541, -6.262400150299072, -5.358500003814697, -5.5970001220703125, -6.539899826049805, -5.2718000411987305, -4.016900062561035, -5.192299842834473, -6.573999881744385, -3.468899965286255, -5.79040002822876, -4.395699977874756, -5.653200149536133, -5.265200138092041, -6.027200222015381, -4.932499885559082, -5.219299793243408, -4.5329999923706055, -4.89870023727417, -4.434000015258789, -5.361700057983398, -5.0218000411987305, -5.824100017547607, -5.6006999015808105, -5.346499919891357, -5.089600086212158, -5.53849983215332, -5.57450008392334, -5.662600040435791, -5.584700107574463, -5.534299850463867, -6.091400146484375, -6.07919979095459, -6.144899845123291, -6.413300037384033, -7.059500217437744, -7.106299877166748, -6.422100067138672, -6.968299865722656, -4.081900119781494, -6.652400016784668, -7.305799961090088, -7.377600193023682, -7.329599857330322, -7.479899883270264, -4.018599987030029, -5.664299964904785, -7.513199806213379, -7.411200046539307, -7.786099910736084, -7.815100193023682, -7.152500152587891, -7.863699913024902, -7.864099979400635, -4.6691999435424805, -7.664599895477295, -6.6631999015808105, -7.7855000495910645, -7.9745001792907715, -7.602799892425537, -7.811200141906738, -3.8870999813079834, -3.8106000423431396, -6.230599880218506, -6.340099811553955, -4.235799789428711, -6.505899906158447, -3.921799898147583, -6.503900051116943, -7.33650016784668, -4.598400115966797, -5.5100998878479, -3.1958999633789062, -6.872300148010254, -6.695000171661377, -6.037300109863281, -6.116399765014648, -6.279799938201904, -6.238500118255615, -5.785099983215332, -5.367800235748291, -5.8394999504089355, -4.9095001220703125, -5.902100086212158, -5.72760009765625, -5.756700038909912, -4.926799774169922, -5.470099925994873, -4.227700233459473, -4.463399887084961, -4.994699954986572, -5.280900001525879, -4.575300216674805, -5.3566999435424805, -5.337500095367432, -4.62529993057251, -5.077899932861328, -5.372700214385986, -5.509900093078613, -5.564300060272217, -5.612299919128418, -5.429599761962891, -5.656799793243408, -5.21589994430542, -6.38040018081665, -5.991300106048584, -6.862599849700928, -6.88100004196167, -7.15910005569458, -6.789899826049805, -7.199900150299072, -6.627500057220459, -7.313799858093262, -5.19379997253418, -5.347599983215332, -5.347599983215332, -5.334700107574463, -5.598700046539307, -7.4822001457214355, -7.667300224304199, -7.643700122833252, -7.664999961853027, -7.741300106048584, -7.654699802398682, -7.788099765777588, -7.788099765777588, -7.760799884796143, -7.713099956512451, -5.051700115203857, -6.639900207519531, -7.753300189971924, -7.849699974060059, -7.744699954986572, -5.144100189208984, -7.1875, -6.7322998046875, -6.14739990234375, -6.9893999099731445, -6.237500190734863, -6.375899791717529, -4.909800052642822, -6.247300148010254, -4.473299980163574, -4.7596001625061035, -4.72160005569458, -4.889800071716309, -5.1255998611450195, -5.078100204467773, -4.892000198364258, -4.871799945831299, -4.7042999267578125, -6.042099952697754, -5.053500175476074, -2.9168999195098877, -6.001500129699707, -4.9633002281188965, -5.657899856567383, -4.663400173187256, -4.991000175476074, -5.532400131225586, -4.4430999755859375, -5.309899806976318, -5.2870001792907715, -5.225200176239014, -4.911600112915039, -5.297800064086914, -5.28439998626709, -5.259699821472168, -5.250800132751465]}, \"token.table\": {\"Topic\": [1, 2, 3, 4, 5, 6, 3, 1, 2, 3, 4, 5, 6, 3, 3, 1, 3, 6, 2, 3, 4, 6, 1, 2, 3, 4, 5, 6, 1, 2, 3, 4, 6, 3, 5, 5, 6, 1, 2, 3, 4, 5, 6, 1, 2, 3, 4, 6, 2, 4, 2, 4, 1, 6, 1, 2, 3, 4, 5, 6, 1, 2, 3, 4, 5, 6, 1, 2, 3, 4, 5, 6, 1, 2, 3, 5, 6, 5, 2, 3, 4, 5, 6, 4, 2, 3, 4, 5, 6, 1, 2, 3, 4, 5, 6, 1, 2, 3, 4, 5, 6, 2, 1, 2, 3, 4, 5, 6, 1, 2, 3, 3, 6, 4, 4, 6, 1, 1, 2, 3, 2, 1, 2, 3, 4, 5, 6, 5, 2, 3, 6, 5, 1, 2, 3, 4, 5, 6, 1, 2, 3, 4, 5, 6, 2, 2, 4, 6, 2, 1, 2, 3, 4, 5, 6, 1, 6, 1, 2, 3, 4, 5, 6, 1, 2, 3, 4, 5, 6, 1, 2, 3, 4, 5, 6, 1, 2, 3, 4, 5, 6, 1, 2, 3, 4, 5, 1, 2, 3, 4, 5, 6, 2, 3, 4, 1, 2, 3, 4, 5, 6, 2, 1, 2, 3, 4, 5, 6, 1, 2, 3, 4, 5, 6, 5, 1, 2, 3, 4, 5, 6, 5, 1, 2, 3, 4, 5, 6, 1, 2, 3, 4, 5, 6, 1, 2, 3, 4, 5, 6, 3, 6, 1, 2, 1, 2, 3, 4, 5, 6, 2, 2, 1, 2, 3, 4, 5, 6, 1, 2, 3, 1, 2, 2, 3, 4, 5, 1, 2, 3, 4, 5, 6, 2, 4, 6, 3, 4, 6, 5, 1, 2, 3, 5, 1, 4, 4, 5, 3, 4, 5, 6, 1, 2, 4, 5, 1, 2, 3, 5, 6, 3, 4, 1, 2, 3, 4, 5, 6, 1, 2, 3, 4, 5, 6, 3, 5, 2, 4, 5, 2, 3, 5, 6, 3, 1, 1, 2, 3, 4, 5, 6, 1, 1, 2, 3, 4, 6, 6, 1, 2, 3, 4, 5, 6, 1, 1, 2, 3, 4, 5, 6, 3, 4, 5, 6, 4, 4, 1, 2, 3, 4, 5, 6, 1, 2, 3, 4, 5, 6, 1, 2, 3, 4, 5, 6, 3, 1, 2, 3, 4, 5, 6, 1, 2, 3, 4, 5, 1, 3, 3, 2, 5, 1, 3, 1, 2, 3, 4, 5, 6, 1, 2, 3, 4, 5, 6, 6, 5, 1, 3, 1, 2, 3, 4, 5, 6, 6, 2, 4, 1, 2, 4, 5, 6, 1, 2, 4, 5, 6, 5, 2, 6, 3, 1, 2, 3, 4, 5, 6, 1, 2, 3, 4, 5, 6, 1, 1, 4, 5, 1, 2, 3, 4, 5, 6, 1, 2, 6, 1, 2, 3, 4, 5, 6, 1, 2, 3, 4, 5, 6, 1, 2, 3, 4, 5, 6, 1, 2, 3, 4, 5, 6, 1, 2, 3, 4, 5, 6, 1, 3, 1, 2, 3, 4, 5, 6, 4, 5, 1, 2, 3, 4, 5, 6, 6, 1, 2, 3, 4, 5, 6, 1, 2, 3, 4, 5, 6, 1, 2, 3, 4, 5, 6, 1, 3, 1, 2, 3, 4, 5, 6, 2, 1, 2, 3, 4, 5, 6, 1, 3, 1, 3, 4, 4, 1, 3, 5, 6, 1, 5, 1, 2, 3, 4, 5, 6, 6, 6, 1, 2, 3, 4, 5, 6, 1, 2, 3, 5, 6, 1, 2, 3, 4, 5, 6, 1, 2, 3, 4, 5, 6, 1, 3, 1, 2, 3, 4, 5, 6, 2, 5, 6, 1, 2, 3, 4, 5, 6, 3, 5, 1, 1, 2, 3, 4, 5, 1, 2, 3, 4, 5, 6, 1, 2, 3, 4, 5, 6, 1, 2, 3, 4, 5, 6, 2, 1, 2, 3, 4, 5, 6, 1, 3, 4, 6, 1, 2, 3, 4, 5, 6, 6, 4, 6, 1, 2, 3, 4, 5, 6, 1, 2, 3, 4, 5, 6, 3, 6, 1, 2, 3, 4, 5, 6, 1, 3, 1, 2, 3, 4, 5, 2, 2, 3, 4, 6, 4, 1, 2, 3, 4, 1, 2, 3, 4, 5, 6, 4, 1, 2, 3, 4, 5, 6, 1, 3, 3, 2, 1, 2, 3, 4, 5, 6, 1, 2, 3, 4, 5, 6, 1, 2, 3, 4, 5, 6, 4, 5, 1, 2, 3, 4, 5, 6, 2, 5, 1, 2, 5, 6, 1, 2, 3, 4, 5, 6, 1, 2, 3, 4, 5, 6, 1, 2, 3, 4, 5, 6, 1, 2, 6, 3, 1, 2, 3, 4, 5, 6, 1, 1, 2, 3, 4, 5, 6, 1, 2, 3, 4, 5, 6, 3, 1, 3, 1, 2, 3, 4, 5, 6, 2, 4, 6, 4, 1, 2, 3, 4, 5, 6, 1, 1, 2, 3, 4, 6, 3, 4, 1, 2, 3, 4, 5, 6, 1, 3, 4, 1, 2, 3, 4, 5, 6, 1, 2, 3, 4, 5, 6, 4, 1, 2, 3, 4, 6, 1, 2, 3, 4, 5, 6, 1, 2, 3, 4, 5, 6, 1, 2, 3, 4, 5, 6, 1, 2, 3, 4, 1, 2, 3, 4, 5, 6, 1, 2, 3, 4, 5, 6, 6, 2, 4, 5, 6, 4, 5, 2, 4, 5, 6, 4, 2, 1, 2, 3, 4, 5, 6, 2, 2, 3, 4, 1, 2, 3, 4, 5, 6, 3, 1, 2, 3, 4, 5, 6, 4, 1, 2, 3, 4, 5, 6, 1, 2, 3, 4, 5, 1, 6, 1, 4, 3, 1, 3, 4, 5, 6, 1, 1, 2, 3, 4, 5, 6, 2, 5, 6, 1, 1, 2, 3, 4, 5, 6, 5, 6, 4, 1, 5, 1, 3, 1, 2, 3, 4, 4, 3, 4, 6, 5, 1, 2, 3, 4, 5, 6, 2, 5, 2, 3, 4, 5, 6, 3, 1, 2, 3, 4, 5, 6, 2, 2, 3, 1, 2, 3, 4, 5, 6, 4, 6, 5, 5, 5, 1, 2, 3, 4, 5, 6, 4, 6, 1, 2, 3, 4, 5, 6, 1, 2, 3, 4, 5, 6, 1, 2, 3, 4, 5, 6, 1, 2, 3, 4, 5, 6, 4, 6, 4, 6, 5, 4, 1, 2, 3, 4, 5, 6, 2, 2, 3, 4, 6, 3, 4, 6, 6, 1, 6, 6, 2, 6, 2, 1, 2, 3, 4, 5, 4, 3, 4, 1, 1, 1, 2, 3, 4, 5, 6, 1, 4, 5, 1, 2, 3, 4, 5, 6, 2, 1, 3, 6, 1, 2, 3, 4, 5, 6, 1, 2, 3, 4, 5, 6, 1, 2, 3, 4, 6, 5, 3, 4, 6, 3, 2, 1, 2, 3, 4, 5, 6, 1, 2, 3, 4, 5, 6, 2, 3, 6, 3, 1, 2, 3, 4, 5, 6, 1, 2, 3, 4, 1, 2, 4, 5, 1, 3, 5, 6, 4, 6, 1, 3, 5, 3, 1, 4, 1, 2, 4, 1, 1, 2, 3, 4, 1, 2, 6, 1, 3, 1, 2, 3, 4, 5, 1, 2, 3, 4, 5, 2, 4, 5, 6, 1, 6, 3, 5, 1, 4, 5, 6, 1, 2, 3, 4, 5, 6, 1, 2, 3, 4, 5, 6, 1, 2, 3, 4, 5, 6, 1, 2, 3, 4, 5, 6, 5, 1, 2, 3, 4, 5, 6, 1, 4, 1, 2, 3, 4, 5, 6, 1, 2, 3, 4, 5, 6, 3, 4, 5, 3, 1, 2, 3, 4, 5, 6, 1, 1, 2, 3, 4, 5, 1, 2, 3, 4, 5, 6, 1, 2, 3, 4, 5, 3, 5, 1, 2, 3, 4, 5, 6, 1, 3, 4, 6, 4, 2, 4, 6, 1, 2, 5, 1, 3, 5, 6, 4, 2, 3, 5, 6, 2, 5, 6, 1, 2, 3, 4, 5, 6, 2, 3, 5, 1, 2, 3, 4, 5, 6, 1, 2, 3, 6, 2, 3, 4, 6, 3, 5, 6, 2, 3, 4, 5, 6], \"Freq\": [0.036610670387744904, 0.043932802975177765, 0.8054347634315491, 0.029288535937666893, 0.007322133984416723, 0.08054347336292267, 0.9526991248130798, 0.6209709048271179, 0.19015811383724213, 0.11509570479393005, 0.0059140087105333805, 0.006368932314217091, 0.06095977872610092, 0.9734646081924438, 0.9818772077560425, 0.020728139206767082, 0.9327662587165833, 0.020728139206767082, 0.0674469843506813, 0.05058523640036583, 0.7756403088569641, 0.10117047280073166, 0.07090115547180176, 0.03853323683142662, 0.8169046640396118, 0.05086387321352959, 0.013871965929865837, 0.010789306834340096, 0.011658047325909138, 0.03497414290904999, 0.9093276858329773, 0.03497414290904999, 0.011658047325909138, 0.05157523974776268, 0.9283543229103088, 0.9493231773376465, 0.039555132389068604, 0.05444157123565674, 0.6557734608650208, 0.11135775595903397, 0.03959386795759201, 0.10888314247131348, 0.029695402830839157, 0.013022445142269135, 0.9245935678482056, 0.039067335426807404, 0.013022445142269135, 0.013022445142269135, 0.9261263012886047, 0.044101253151893616, 0.03377716988325119, 0.9457607865333557, 0.9640583395957947, 0.03570586442947388, 0.7764495015144348, 0.052572101354599, 0.06874813139438629, 0.032352060079574585, 0.04044007882475853, 0.02830805443227291, 0.3647801876068115, 0.047728247940540314, 0.03068244643509388, 0.0375007688999176, 0.43296340107917786, 0.08522901684045792, 0.08955281227827072, 0.20988939702510834, 0.44496551156044006, 0.025186728686094284, 0.08395575731992722, 0.14832183718681335, 0.026669397950172424, 0.08000819385051727, 0.8534207344055176, 0.013334698975086212, 0.013334698975086212, 0.963598370552063, 0.03395601361989975, 0.011318671517074108, 0.135824054479599, 0.04527468606829643, 0.7696696519851685, 0.9638640284538269, 0.01653694547712803, 0.01653694547712803, 0.7772364020347595, 0.09922166913747787, 0.082684725522995, 0.003939047455787659, 0.1674095094203949, 0.3702704608440399, 0.161500945687294, 0.2796723544597626, 0.015756189823150635, 0.1732737123966217, 0.22864985466003418, 0.051803480833768845, 0.2750943601131439, 0.09824798256158829, 0.1732737123966217, 0.9578288197517395, 0.06368555128574371, 0.019105665385723114, 0.8470178246498108, 0.05731699615716934, 0.006368555128574371, 0.012737110257148743, 0.05295725539326668, 0.02647862769663334, 0.926751971244812, 0.9571901559829712, 0.04161696135997772, 0.9016448855400085, 0.05351502075791359, 0.9097553491592407, 0.9630441665649414, 0.029854655265808105, 0.9254943132400513, 0.029854655265808105, 0.9612288475036621, 0.06800094246864319, 0.21675299108028412, 0.038250528275966644, 0.21037791669368744, 0.04250058904290199, 0.42713090777397156, 0.9195414781570435, 0.017925698310136795, 0.026888547465205193, 0.9500620365142822, 0.9840376973152161, 0.37252676486968994, 0.17669254541397095, 0.1575508564710617, 0.07803920656442642, 0.11779502779245377, 0.09718089550733566, 0.32814228534698486, 0.017046352848410606, 0.10227811336517334, 0.41337403655052185, 0.06818541139364243, 0.07244699448347092, 0.9375998377799988, 0.9313106536865234, 0.9244391918182373, 0.900643527507782, 0.9514032602310181, 0.8210217356681824, 0.07389196008443832, 0.05747152119874954, 0.008210217580199242, 0.03284087032079697, 0.016420435160398483, 0.9767683148384094, 0.911476731300354, 0.7870725393295288, 0.018475882709026337, 0.0775987058877945, 0.09237940609455109, 0.018475882709026337, 0.00369517644867301, 0.9108560681343079, 0.007345613557845354, 0.051419295370578766, 0.007345613557845354, 0.014691227115690708, 0.007345613557845354, 0.033870629966259, 0.17419181764125824, 0.004838661756366491, 0.10645055770874023, 0.0508059486746788, 0.6290259957313538, 0.7800580263137817, 0.08357764780521393, 0.030791763216257095, 0.05571842938661575, 0.04252196103334427, 0.005865097977221012, 0.9078777432441711, 0.06345382332801819, 0.004881063010543585, 0.00976212602108717, 0.014643189497292042, 0.16343335807323456, 0.6071739196777344, 0.022804653272032738, 0.14823025465011597, 0.017103491351008415, 0.041808534413576126, 0.9097527861595154, 0.02115704119205475, 0.06347112357616425, 0.023349406197667122, 0.05837351828813553, 0.087560273706913, 0.011674703098833561, 0.23349407315254211, 0.5837351679801941, 0.9367251992225647, 0.21062232553958893, 0.4765477180480957, 0.06942299753427505, 0.0658930167555809, 0.07765962928533554, 0.10119284689426422, 0.09936290234327316, 0.5829290151596069, 0.03643306344747543, 0.039745159447193146, 0.12254757434129715, 0.11592338234186172, 0.9707939028739929, 0.04945627599954605, 0.05160655081272125, 0.12686610221862793, 0.2601830065250397, 0.4773605763912201, 0.034404367208480835, 0.971982479095459, 0.3391627371311188, 0.1291867047548294, 0.407757431268692, 0.049159541726112366, 0.05030278488993645, 0.024389229714870453, 0.06270358711481094, 0.5871335864067078, 0.2831161916255951, 0.030401738360524178, 0.003800217295065522, 0.03230184689164162, 0.20544904470443726, 0.040242597460746765, 0.4807931184768677, 0.03177047148346901, 0.09531141072511673, 0.14614416658878326, 0.884283185005188, 0.10480392724275589, 0.9699540138244629, 0.983898937702179, 0.2932957708835602, 0.3137582838535309, 0.09821998327970505, 0.11595414578914642, 0.10367664694786072, 0.0750291496515274, 0.9306506514549255, 0.9112726449966431, 0.2256639152765274, 0.5494916439056396, 0.004513278137892485, 0.01805311255156994, 0.11847355216741562, 0.08349564671516418, 0.36636412143707275, 0.00377694983035326, 0.6307505965232849, 0.9276033639907837, 0.05351557955145836, 0.020775211974978447, 0.020775211974978447, 0.8517836928367615, 0.08310084789991379, 0.20224629342556, 0.370000958442688, 0.0736866295337677, 0.0909324362874031, 0.1097460463643074, 0.15521226823329926, 0.15736965835094452, 0.8154609799385071, 0.8941802382469177, 0.0630178451538086, 0.9137586951255798, 0.9427629113197327, 0.9792547821998596, 0.011709270067512989, 0.011709270067512989, 0.19905759394168854, 0.7728118300437927, 0.9641242623329163, 0.9749137759208679, 0.9576768279075623, 0.9524933695793152, 0.02834480069577694, 0.02834480069577694, 0.8786888122558594, 0.05668960139155388, 0.1809666007757187, 0.03877855837345123, 0.012926185503602028, 0.7626449465751648, 0.020372308790683746, 0.020372308790683746, 0.04074461758136749, 0.916753888130188, 0.020372308790683746, 0.016897397115826607, 0.9631516337394714, 0.08950812369585037, 0.14065562188625336, 0.6649174690246582, 0.03836062550544739, 0.03196718543767929, 0.03836062550544739, 0.02183377929031849, 0.167392298579216, 0.10552992671728134, 0.5604003071784973, 0.10552992671728134, 0.04002859443426132, 0.9429251551628113, 0.022450599819421768, 0.8534469604492188, 0.03346850723028183, 0.08367127180099487, 0.01586199924349785, 0.0634479969739914, 0.01586199924349785, 0.8882719874382019, 0.9610110521316528, 0.9627503752708435, 0.04418116435408592, 0.05154469236731529, 0.02945411019027233, 0.5817186832427979, 0.0736352801322937, 0.21354229748249054, 0.9471889138221741, 0.02515282668173313, 0.06707420200109482, 0.02515282668173313, 0.6455892324447632, 0.23475971817970276, 0.9390020966529846, 0.5946947932243347, 0.07908175885677338, 0.07908175885677338, 0.10438791662454605, 0.10755118727684021, 0.03795924410223961, 0.9238598346710205, 0.04406896233558655, 0.014102068729698658, 0.19742895662784576, 0.6328303217887878, 0.07227309793233871, 0.03878068923950195, 0.16337326169013977, 0.7841916680335999, 0.042010270059108734, 0.004667807370424271, 0.9634386897087097, 0.9376649260520935, 0.10802531987428665, 0.3497962951660156, 0.050583284348249435, 0.20919188857078552, 0.04972594231367111, 0.23234017193317413, 0.23266711831092834, 0.04230311140418053, 0.18432070314884186, 0.5076373219490051, 0.018129905685782433, 0.015108254738152027, 0.14975018799304962, 0.2147732824087143, 0.06502310931682587, 0.22462527453899384, 0.21674369275569916, 0.13004621863365173, 0.9434301853179932, 0.22915244102478027, 0.3252112865447998, 0.27660319209098816, 0.05786677822470665, 0.10878954082727432, 0.0023146711755543947, 0.11533191800117493, 0.007688794285058975, 0.7919458150863647, 0.007688794285058975, 0.07688794285058975, 0.9713152050971985, 0.9757614135742188, 0.9113026857376099, 0.908456027507782, 0.08832211792469025, 0.9359720945358276, 0.04069444164633751, 0.40269768238067627, 0.2322961837053299, 0.19103305041790009, 0.060366444289684296, 0.06189470738172531, 0.051196858286857605, 0.6068289875984192, 0.18671661615371704, 0.058348942548036575, 0.09335830807685852, 0.03034145012497902, 0.025673534721136093, 0.9483078718185425, 0.891715943813324, 0.9919494986534119, 0.9524943232536316, 0.006788002327084541, 0.14254805445671082, 0.029414676129817963, 0.013576004654169083, 0.06788002699613571, 0.7421549558639526, 0.9697151184082031, 0.959531307220459, 0.016543643549084663, 0.010446572676301003, 0.7939395308494568, 0.010446572676301003, 0.14625202119350433, 0.04178629070520401, 0.07991056144237518, 0.05993292108178139, 0.009988820180296898, 0.12985466420650482, 0.709206223487854, 0.953721821308136, 0.965679407119751, 0.033299289643764496, 0.9590885043144226, 0.629238486289978, 0.18509820103645325, 0.10399847477674484, 0.010018201544880867, 0.01717405952513218, 0.054861582815647125, 0.6819555759429932, 0.16422903537750244, 0.09058372676372528, 0.0014729062095284462, 0.0022093593142926693, 0.05891624838113785, 0.9596498012542725, 0.024071816354990005, 0.04814363270998001, 0.9147289991378784, 0.030650297179818153, 0.07049568742513657, 0.2543974816799164, 0.036780357360839844, 0.045975446701049805, 0.5609004497528076, 0.013546541333198547, 0.013546541333198547, 0.9753509759902954, 0.2421139031648636, 0.06623870879411697, 0.10278420895338058, 0.3860118091106415, 0.1576024442911148, 0.043397776782512665, 0.08901490271091461, 0.16349676251411438, 0.2961108088493347, 0.3215436339378357, 0.1017313227057457, 0.029066091403365135, 0.3545568287372589, 0.2070503681898117, 0.11841116100549698, 0.14615319669246674, 0.127207413315773, 0.04668783023953438, 0.03509652614593506, 0.29656562209129333, 0.433442085981369, 0.026322392746806145, 0.015793435275554657, 0.19303087890148163, 0.15659332275390625, 0.01540262158960104, 0.028238140046596527, 0.00256710359826684, 0.7778323888778687, 0.02053682878613472, 0.029933085665106773, 0.9578587412834167, 0.028033176437020302, 0.442523717880249, 0.06607820093631744, 0.16419431567192078, 0.14817535877227783, 0.1501777321100235, 0.9327686429023743, 0.03216443583369255, 0.7493811845779419, 0.020072709769010544, 0.006690903566777706, 0.06021812930703163, 0.09367264807224274, 0.0735999345779419, 0.9561706185340881, 0.33128464221954346, 0.1175122931599617, 0.1500156968832016, 0.15376608073711395, 0.06125640869140625, 0.18626947700977325, 0.03119749017059803, 0.04367648810148239, 0.04367648810148239, 0.19342443346977234, 0.6114708185195923, 0.07487397640943527, 0.02147507108747959, 0.053687676787376404, 0.03221260756254196, 0.09663782268762589, 0.7731025815010071, 0.03221260756254196, 0.03960621356964111, 0.9505491256713867, 0.10675518959760666, 0.0979807898402214, 0.42702075839042664, 0.04972159489989281, 0.09213119000196457, 0.225209578871727, 0.9555922746658325, 0.7095164656639099, 0.05543097108602524, 0.02771548554301262, 0.02771548554301262, 0.0665171667933464, 0.10531884431838989, 0.9607706665992737, 0.029411347582936287, 0.9493119120597839, 0.02636977657675743, 0.9134087562561035, 0.9582007527351379, 0.03534628450870514, 0.24742399156093597, 0.6503716707229614, 0.06362331658601761, 0.019750138744711876, 0.9677567481994629, 0.03347939997911453, 0.022319599986076355, 0.036269351840019226, 0.027899499982595444, 0.16739700734615326, 0.7142271995544434, 0.9516551494598389, 0.9616866111755371, 0.030483825132250786, 0.02032255008816719, 0.04064510017633438, 0.008129020221531391, 0.8840309381484985, 0.016258040443062782, 0.11168531328439713, 0.01396066416054964, 0.05584265664219856, 0.7817971706390381, 0.01396066416054964, 0.009892387315630913, 0.009892387315630913, 0.029677163809537888, 0.009892387315630913, 0.9298844337463379, 0.013189850375056267, 0.08874854445457458, 0.05705263465642929, 0.6698402166366577, 0.025356726720929146, 0.10142690688371658, 0.05705263465642929, 0.03688913583755493, 0.9222283959388733, 0.1550421118736267, 0.23246827721595764, 0.06812743842601776, 0.19356542825698853, 0.055982157588005066, 0.29490262269973755, 0.9855437874794006, 0.9659977555274963, 0.9488064050674438, 0.5062147974967957, 0.05669606104493141, 0.00809943675994873, 0.20248593389987946, 0.19438649713993073, 0.03037288971245289, 0.07752767950296402, 0.9148266315460205, 0.9697734117507935, 0.1487714648246765, 0.01144395861774683, 0.801077127456665, 0.01144395861774683, 0.01144395861774683, 0.2660802900791168, 0.09819629788398743, 0.11878584325313568, 0.20431165397167206, 0.22965262830257416, 0.0839419960975647, 0.37680426239967346, 0.12878121435642242, 0.33387720584869385, 0.10016316175460815, 0.03656750172376633, 0.02384837158024311, 0.14225038886070251, 0.7601505517959595, 0.01333597395569086, 0.02667194791138172, 0.008890649303793907, 0.044453248381614685, 0.9618890881538391, 0.17132407426834106, 0.024829577654600143, 0.09683535248041153, 0.4518983066082001, 0.007448873016983271, 0.24829576909542084, 0.07827156782150269, 0.011181652545928955, 0.8609872460365295, 0.04472661018371582, 0.26137280464172363, 0.1615225225687027, 0.04698836803436279, 0.12481285631656647, 0.11893931031227112, 0.28633537888526917, 0.9951422810554504, 0.041932400315999985, 0.9574564695358276, 0.10446149855852127, 0.02253091149032116, 0.5079696178436279, 0.06759273260831833, 0.11265455186367035, 0.1822955459356308, 0.5937643647193909, 0.13218075037002563, 0.0314716100692749, 0.06713943183422089, 0.1363769769668579, 0.039864037185907364, 0.9581066370010376, 0.03421809524297714, 0.3100128769874573, 0.3068971633911133, 0.1822688728570938, 0.07945054024457932, 0.0887976586818695, 0.032714925706386566, 0.9680448174476624, 0.03338085487484932, 0.03259601816534996, 0.09126884490251541, 0.03911522030830383, 0.045634422451257706, 0.7953428030014038, 0.9802302718162537, 0.0030053930822759867, 0.29152312874794006, 0.0420755036175251, 0.6611865162849426, 0.9731205105781555, 0.028471775352954865, 0.07117944210767746, 0.8541532754898071, 0.0427076630294323, 0.29698458313941956, 0.11313698440790176, 0.08720976114273071, 0.20977483689785004, 0.2710573673248291, 0.021213185042142868, 0.940556526184082, 0.8169448375701904, 0.05835320055484772, 0.02059524692595005, 0.0411904938519001, 0.04805557802319527, 0.013730164617300034, 0.9523808360099792, 0.039682537317276, 0.9877757430076599, 0.9374017715454102, 0.23672816157341003, 0.07186390459537506, 0.23884180188179016, 0.07397754490375519, 0.07820484042167664, 0.3001374900341034, 0.138586163520813, 0.14282859861850739, 0.1343437284231186, 0.08909110724925995, 0.28848549723625183, 0.20646509528160095, 0.1076955571770668, 0.42141738533973694, 0.15100790560245514, 0.2762625217437744, 0.0035118116065859795, 0.039800532162189484, 0.9696364998817444, 0.9227677583694458, 0.013138025999069214, 0.8474026322364807, 0.01970703899860382, 0.013138025999069214, 0.0919661819934845, 0.013138025999069214, 0.9142398834228516, 0.03386073559522629, 0.9667392373085022, 0.07900989055633545, 0.9197944402694702, 0.9064409732818604, 0.08973146975040436, 0.32781898975372314, 0.4259253740310669, 0.07537443935871124, 0.03469616919755936, 0.047856785356998444, 0.03381926938891411, 0.06763853877782822, 0.8567548394203186, 0.022546179592609406, 0.011273089796304703, 0.011273089796304703, 0.0729120522737503, 0.25074633955955505, 0.37345197796821594, 0.09958719462156296, 0.12270565330982208, 0.08002542704343796, 0.9459310173988342, 0.9346674680709839, 0.9157753586769104, 0.9776283502578735, 0.2807999849319458, 0.08180787414312363, 0.42230549454689026, 0.06190866231918335, 0.07517480105161667, 0.07738582789897919, 0.9556244015693665, 0.6367335319519043, 0.06743945181369781, 0.06481194496154785, 0.007882533594965935, 0.09108705073595047, 0.13225139677524567, 0.37070906162261963, 0.1384749710559845, 0.1543419063091278, 0.04183098301291466, 0.20194266736507416, 0.09375909715890884, 0.9656475186347961, 0.9858447313308716, 0.9339519739151001, 0.08097434788942337, 0.21735219657421112, 0.02557084709405899, 0.4901078939437866, 0.14063966274261475, 0.046879883855581284, 0.9551405906677246, 0.04245984926819801, 0.9341166615486145, 0.9304632544517517, 0.4026837646961212, 0.17771020531654358, 0.20228715240955353, 0.0850740373134613, 0.10776044428348541, 0.02457694336771965, 0.9650567770004272, 0.042156193405389786, 0.7798895239830017, 0.0737733393907547, 0.021078096702694893, 0.0737733393907547, 0.038870617747306824, 0.932894766330719, 0.2882029116153717, 0.11802595853805542, 0.2751651704311371, 0.27722376585006714, 0.03019268810749054, 0.01166535634547472, 0.12077387422323227, 0.8626704812049866, 0.9621135592460632, 0.2602129280567169, 0.0200163796544075, 0.200163796544075, 0.06227317824959755, 0.3402784466743469, 0.11787423491477966, 0.7245256304740906, 0.12167606502771378, 0.03871511295437813, 0.011061460711061954, 0.09402241557836533, 0.011061460711061954, 0.9556421637535095, 0.009477552957832813, 0.009477552957832813, 0.18955105543136597, 0.7866368889808655, 0.009477552957832813, 0.03031040169298649, 0.20459520816802979, 0.007577600423246622, 0.05304320529103279, 0.6668288707733154, 0.04546560347080231, 0.024481140077114105, 0.21216988563537598, 0.008160379715263844, 0.04896228015422821, 0.6691511869430542, 0.032641518861055374, 0.10308656841516495, 0.16199317574501038, 0.029453305527567863, 0.5939750075340271, 0.024544421583414078, 0.0834510326385498, 0.038045451045036316, 0.057068176567554474, 0.019022725522518158, 0.8940681219100952, 0.1293022781610489, 0.6517890691757202, 0.00791646633297205, 0.16360697150230408, 0.02242998778820038, 0.02506880834698677, 0.05849635973572731, 0.7264870405197144, 0.0075479173101484776, 0.15850625932216644, 0.015095834620296955, 0.03585260733962059, 0.904984712600708, 0.009030969813466072, 0.027092909440398216, 0.9392208456993103, 0.018061939626932144, 0.024685779586434364, 0.9627454280853271, 0.017289089038968086, 0.03457817807793617, 0.9163217544555664, 0.017289089038968086, 0.9598582983016968, 0.9638597965240479, 0.3623887002468109, 0.16686736047267914, 0.15675418078899384, 0.12472914159297943, 0.11293043941259384, 0.07584880292415619, 0.9894726276397705, 0.9491209387779236, 0.027802560478448868, 0.9591883420944214, 0.14148415625095367, 0.07618377357721329, 0.14692585170269012, 0.5441698431968689, 0.05441698431968689, 0.032650191336870193, 0.9855586886405945, 0.051483847200870514, 0.16624993085861206, 0.16678622364997864, 0.3164111375808716, 0.18609265983104706, 0.11315720528364182, 0.9583576321601868, 0.34511706233024597, 0.14172108471393585, 0.20995715260505676, 0.12597429752349854, 0.09972964972257614, 0.07742170244455338, 0.15162427723407745, 0.0424547977745533, 0.15768925845623016, 0.07884462922811508, 0.5761722922325134, 0.952240526676178, 0.9455794095993042, 0.9504619240760803, 0.02970193512737751, 0.9869064688682556, 0.01558586023747921, 0.03117172047495842, 0.06234344094991684, 0.01558586023747921, 0.8728081583976746, 0.9856005907058716, 0.1332661211490631, 0.6132323741912842, 0.06350963562726974, 0.09474387764930725, 0.03643995523452759, 0.0593450665473938, 0.8444836735725403, 0.10019297897815704, 0.05725313350558281, 0.9795163869857788, 0.0481363944709301, 0.036102294921875, 0.1444091796875, 0.01604546420276165, 0.0401136614382267, 0.718034565448761, 0.0495879128575325, 0.9421703815460205, 0.9325077533721924, 0.04690203070640564, 0.938040554523468, 0.9494064450263977, 0.02966895140707493, 0.08939032256603241, 0.011173790320754051, 0.011173790320754051, 0.8827294111251831, 0.9620590209960938, 0.20413236320018768, 0.05703698471188545, 0.7384788393974304, 0.9482113122940063, 0.46645423769950867, 0.14949175715446472, 0.11220205575227737, 0.1295151263475418, 0.10321257263422012, 0.03928736597299576, 0.015158137306571007, 0.9852789044380188, 0.06105711683630943, 0.011448209173977375, 0.0686892569065094, 0.04960890859365463, 0.8090068101882935, 0.9337661862373352, 0.0594974085688591, 0.1322164684534073, 0.27765458822250366, 0.06610823422670364, 0.26884013414382935, 0.19832469522953033, 0.9868270754814148, 0.98682701587677, 0.9087780714035034, 0.009362032637000084, 0.0842582955956459, 0.04056880623102188, 0.14355117082595825, 0.04681016132235527, 0.6740663647651672, 0.04196208715438843, 0.9531388878822327, 0.9600690007209778, 0.9083883166313171, 0.9656622409820557, 0.010152258910238743, 0.005076129455119371, 0.005076129455119371, 0.04060903564095497, 0.005076129455119371, 0.9340078234672546, 0.04134675860404968, 0.9509754776954651, 0.543075680732727, 0.23956571519374847, 0.05133550986647606, 0.09816790372133255, 0.043229904025793076, 0.02431682124733925, 0.6944394707679749, 0.16859224438667297, 0.024084607139229774, 0.08831022679805756, 0.012042303569614887, 0.012042303569614887, 0.17720530927181244, 0.29956135153770447, 0.4852050244808197, 0.006328761111944914, 0.012657522223889828, 0.018986282870173454, 0.7291649580001831, 0.1979403793811798, 0.025376969948410988, 0.015226182527840137, 0.023685172200202942, 0.0050753941759467125, 0.9881235957145691, 0.005459246691316366, 0.041932400315999985, 0.9574564695358276, 0.9662114977836609, 0.9158645868301392, 0.3974076211452484, 0.15414366126060486, 0.07420315593481064, 0.07726307958364487, 0.1679133176803589, 0.12928178906440735, 0.9293866157531738, 0.00983323622494936, 0.20977570116519928, 0.07211039960384369, 0.7079929709434509, 0.05442211776971817, 0.027211058884859085, 0.9142915606498718, 0.9419305920600891, 0.029810123145580292, 0.9539239406585693, 0.9110139012336731, 0.9459823369979858, 0.9622633457183838, 0.9784345030784607, 0.004092900548130274, 0.016371602192521095, 0.07776511460542679, 0.3274320662021637, 0.5730060935020447, 0.9459800720214844, 0.036904700100421906, 0.922617495059967, 0.9292579889297485, 0.9753731489181519, 0.0542960986495018, 0.07009132951498032, 0.05528330057859421, 0.17374752461910248, 0.6081163287162781, 0.03850087150931358, 0.05963237211108208, 0.03975491225719452, 0.8944855332374573, 0.23297417163848877, 0.5441383123397827, 0.08138138800859451, 0.023935703560709953, 0.06542425602674484, 0.05106283351778984, 0.945488452911377, 0.0121226254850626, 0.8364611864089966, 0.1515328288078308, 0.00822152104228735, 0.006851267069578171, 0.02603481523692608, 0.021924056112766266, 0.9125887751579285, 0.024664562195539474, 0.008724937215447426, 0.0034899748861789703, 0.015704886987805367, 0.013959899544715881, 0.9440382122993469, 0.015704886987805367, 0.01604064740240574, 0.04010161757469177, 0.9143168926239014, 0.024060970172286034, 0.00802032370120287, 0.9726582765579224, 0.9885980486869812, 0.977777898311615, 0.9883705973625183, 0.9921778440475464, 0.9645695090293884, 0.043890029191970825, 0.2962576746940613, 0.24923266470432281, 0.09875256568193436, 0.08621255308389664, 0.2257201373577118, 0.018349766731262207, 0.4862687885761261, 0.04281612113118172, 0.10092371702194214, 0.15291471779346466, 0.19573083519935608, 0.00897656287997961, 0.8617500066757202, 0.1256718784570694, 0.9504860043525696, 0.6702192425727844, 0.14286252856254578, 0.019401082769036293, 0.06525819003582001, 0.07054939866065979, 0.0335109643638134, 0.029352696612477303, 0.05136721953749657, 0.9099335670471191, 0.007338174153119326, 0.03643450140953064, 0.8562107682228088, 0.01821725070476532, 0.0910862535238266, 0.09445163607597351, 0.8784002065658569, 0.009445163421332836, 0.018890326842665672, 0.10743634402751923, 0.877396821975708, 0.9679350256919861, 0.014262489043176174, 0.9841117262840271, 0.935779333114624, 0.9648663997650146, 0.9657413959503174, 0.9501880407333374, 0.01939159259200096, 0.03878318518400192, 0.9350827932357788, 0.8593965768814087, 0.021484915167093277, 0.042969830334186554, 0.07519720494747162, 0.9316760301589966, 0.04991121590137482, 0.01663707196712494, 0.038513995707035065, 0.94359290599823, 0.005677317269146442, 0.9140480756759644, 0.02270926907658577, 0.051095858216285706, 0.005677317269146442, 0.15951493382453918, 0.012270379811525345, 0.02454075962305069, 0.7607635259628296, 0.036811139434576035, 0.036559414118528366, 0.9322651028633118, 0.018279707059264183, 0.009139853529632092, 0.034582093358039856, 0.8991343975067139, 0.9596630930900574, 0.03691011667251587, 0.9773532152175903, 0.008726367726922035, 0.008726367726922035, 0.008726367726922035, 0.2880845069885254, 0.48328930139541626, 0.1133447214961052, 0.0283361803740263, 0.06296928972005844, 0.02361348457634449, 0.2707243263721466, 0.6249430775642395, 0.06072321534156799, 0.005060268100351095, 0.037952009588479996, 0.0025301340501755476, 0.033935293555259705, 0.05655882507562637, 0.31672942638397217, 0.018852941691875458, 0.14328235387802124, 0.4298470616340637, 0.38969138264656067, 0.20212963223457336, 0.24401235580444336, 0.014567901380360126, 0.12018518894910812, 0.027314815670251846, 0.9220250248908997, 0.017962342128157616, 0.23765559494495392, 0.09948373585939407, 0.1561342030763626, 0.30121463537216187, 0.18515028059482574, 0.16388049721717834, 0.8194024562835693, 0.10504895448684692, 0.10332684218883514, 0.3685323894023895, 0.043052852153778076, 0.130880668759346, 0.24970653653144836, 0.06594914197921753, 0.037685222923755646, 0.8290749192237854, 0.037685222923755646, 0.009421305730938911, 0.018842611461877823, 0.06391432136297226, 0.9075833559036255, 0.025565728545188904, 0.9588159918785095, 0.8184868097305298, 0.012289592064917088, 0.056532122194767, 0.04670045152306557, 0.05530316382646561, 0.011060632765293121, 0.9787554740905762, 0.9455906748771667, 0.008962945081293583, 0.0044814725406467915, 0.013444417156279087, 0.03137030825018883, 0.16801318526268005, 0.1380930244922638, 0.5408643484115601, 0.10356976836919785, 0.03452325612306595, 0.01380930282175541, 0.009486445225775242, 0.009486445225775242, 0.9391580820083618, 0.018972890451550484, 0.02845933474600315, 0.9364744424819946, 0.05675602704286575, 0.09063676744699478, 0.06487684696912766, 0.022897709161043167, 0.7136452794075012, 0.050565775483846664, 0.05724427476525307, 0.025856221094727516, 0.05171244218945503, 0.8791115283966064, 0.025856221094727516, 0.9790670275688171, 0.8379345536231995, 0.017100704833865166, 0.13680563867092133, 0.023199820891022682, 0.09279928356409073, 0.8583933115005493, 0.014578302390873432, 0.04373490810394287, 0.04373490810394287, 0.8892764449119568, 0.8956644535064697, 0.0701664462685585, 0.010023778304457664, 0.8534530997276306, 0.06587054580450058, 0.03418371081352234, 0.9647402763366699, 0.9419310092926025, 0.03534643352031708, 0.6760005354881287, 0.04860134795308113, 0.08394777774810791, 0.11929421126842499, 0.03976473957300186, 0.9842647314071655, 0.9770039319992065, 0.9141363501548767, 0.5180128216743469, 0.05047304183244705, 0.0982896089553833, 0.13548026978969574, 0.1965792179107666, 0.0026564758736640215, 0.029715459793806076, 0.8617483377456665, 0.08914638310670853, 0.014857729896903038, 0.13120870292186737, 0.04232538864016533, 0.10158093273639679, 0.7237641215324402, 0.8502881526947021, 0.040489912033081055, 0.10797309875488281, 0.007592255249619484, 0.015184510499238968, 0.8958861231803894, 0.0683303028345108, 0.007592255249619484], \"Term\": [\"aamiin\", \"aamiin\", \"aamiin\", \"aamiin\", \"aamiin\", \"aamiin\", \"abu\", \"adil\", \"adil\", \"adil\", \"adil\", \"adil\", \"adil\", \"agenda\", \"akurasi\", \"al\", \"al\", \"al\", \"alamat\", \"alamat\", \"alamat\", \"alamat\", \"allah\", \"allah\", \"allah\", \"allah\", \"allah\", \"allah\", \"allah_swt\", \"allah_swt\", \"allah_swt\", \"allah_swt\", \"allah_swt\", \"alumunium\", \"alumunium\", \"alur\", \"alur\", \"aman\", \"aman\", \"aman\", \"aman\", \"aman\", \"aman\", \"aman_damai\", \"aman_damai\", \"aman_damai\", \"aman_damai\", \"aman_damai\", \"aman_lancar\", \"aman_lancar\", \"amanat_undang\", \"amanat_undang\", \"andi\", \"andi\", \"aneh\", \"aneh\", \"aneh\", \"aneh\", \"aneh\", \"aneh\", \"anggar\", \"anggar\", \"anggar\", \"anggar\", \"anggar\", \"anggar\", \"anggota\", \"anggota\", \"anggota\", \"anggota\", \"anggota\", \"anggota\", \"anggota_kpps\", \"anggota_kpps\", \"anggota_kpps\", \"anggota_kpps\", \"anggota_kpps\", \"apk\", \"aplikasi\", \"aplikasi\", \"aplikasi\", \"aplikasi\", \"aplikasi\", \"app\", \"approval\", \"approval\", \"approval\", \"approval\", \"approval\", \"april\", \"april\", \"april\", \"april\", \"april\", \"april\", \"atur\", \"atur\", \"atur\", \"atur\", \"atur\", \"atur\", \"australia\", \"azab\", \"azab\", \"azab\", \"azab\", \"azab\", \"azab\", \"azab_allah\", \"azab_allah\", \"azab_allah\", \"bag\", \"bag\", \"balikkan\", \"bandung\", \"bandung\", \"basa\", \"basis\", \"basis\", \"basis\", \"batang\", \"bawaslu\", \"bawaslu\", \"bawaslu\", \"bawaslu\", \"bawaslu\", \"bawaslu\", \"bayar_pajak\", \"bengkulu\", \"bengkulu\", \"bengkulu\", \"berita_bohong\", \"biar\", \"biar\", \"biar\", \"biar\", \"biar\", \"biar\", \"biaya\", \"biaya\", \"biaya\", \"biaya\", \"biaya\", \"biaya\", \"bidakara\", \"bidakara_jakarta\", \"bintang\", \"bkerja\", \"black\", \"bodoh\", \"bodoh\", \"bodoh\", \"bodoh\", \"bodoh\", \"bodoh\", \"boikot\", \"brharap\", \"buang\", \"buang\", \"buang\", \"buang\", \"buang\", \"buang\", \"buang_uang\", \"buang_uang\", \"buang_uang\", \"buang_uang\", \"buang_uang\", \"buang_uang\", \"buka\", \"buka\", \"buka\", \"buka\", \"buka\", \"buka\", \"buruk\", \"buruk\", \"buruk\", \"buruk\", \"buruk\", \"buruk\", \"buruk_sejarah\", \"buruk_sejarah\", \"buruk_sejarah\", \"buruk_sejarah\", \"buruk_sejarah\", \"calon\", \"calon\", \"calon\", \"calon\", \"calon\", \"calon\", \"calon_presiden\", \"calon_presiden\", \"calon_presiden\", \"camat\", \"camat\", \"camat\", \"camat\", \"camat\", \"camat\", \"campaign\", \"capres\", \"capres\", \"capres\", \"capres\", \"capres\", \"capres\", \"cawapres\", \"cawapres\", \"cawapres\", \"cawapres\", \"cawapres\", \"cawapres\", \"cetak\", \"coblos\", \"coblos\", \"coblos\", \"coblos\", \"coblos\", \"coblos\", \"cuitan\", \"curang\", \"curang\", \"curang\", \"curang\", \"curang\", \"curang\", \"damai\", \"damai\", \"damai\", \"damai\", \"damai\", \"damai\", \"dana\", \"dana\", \"dana\", \"dana\", \"dana\", \"dana\", \"dana_kampanye\", \"dana_kampanye\", \"dananya\", \"dapil\", \"data\", \"data\", \"data\", \"data\", \"data\", \"data\", \"days\", \"days_goes\", \"debat\", \"debat\", \"debat\", \"debat\", \"debat\", \"debat\", \"debat_capres\", \"debat_capres\", \"debat_capres\", \"debat_pasang\", \"debat_pasang\", \"delegasi\", \"delegasi\", \"delegasi\", \"delegasi\", \"demokrasi\", \"demokrasi\", \"demokrasi\", \"demokrasi\", \"demokrasi\", \"demokrasi\", \"demokrat\", \"demokrat\", \"dewan_hormat\", \"dibatalin\", \"dibatalin\", \"dibuang\", \"dicetak\", \"dicoblos\", \"dicoblos\", \"dicoblos\", \"dicoblos\", \"digoreng\", \"dihapus\", \"dilaporin\", \"dipaparkan\", \"diragukan\", \"diragukan\", \"diragukan\", \"diragukan\", \"disaat\", \"disaat\", \"disaat\", \"disaat\", \"distribusi\", \"distribusi\", \"distribusi\", \"distribusi\", \"distribusi\", \"ditandatangani\", \"ditandatangani\", \"doa\", \"doa\", \"doa\", \"doa\", \"doa\", \"doa\", \"dpr\", \"dpr\", \"dpr\", \"dpr\", \"dpr\", \"dpr\", \"dptb\", \"dptb\", \"ektp\", \"ektp\", \"ektp\", \"fasilitas\", \"fasilitas\", \"fasilitas\", \"fasilitas\", \"februari\", \"film\", \"form\", \"form\", \"form\", \"form\", \"form\", \"form\", \"gemas\", \"golput\", \"golput\", \"golput\", \"golput\", \"golput\", \"grand\", \"habis\", \"habis\", \"habis\", \"habis\", \"habis\", \"habis\", \"hahahahaha\", \"hak\", \"hak\", \"hak\", \"hak\", \"hak\", \"hak\", \"hak_pilih\", \"hak_pilih\", \"hak_pilih\", \"hak_pilih\", \"hak_pilihnya\", \"hantu\", \"hasil\", \"hasil\", \"hasil\", \"hasil\", \"hasil\", \"hasil\", \"hati\", \"hati\", \"hati\", \"hati\", \"hati\", \"hati\", \"hitung\", \"hitung\", \"hitung\", \"hitung\", \"hitung\", \"hitung\", \"hoak\", \"hoax\", \"hoax\", \"hoax\", \"hoax\", \"hoax\", \"hoax\", \"honor\", \"honor\", \"honor\", \"honor\", \"honor\", \"hormat_tolong\", \"huruf\", \"ikat\", \"iklan\", \"iklan\", \"imbang\", \"imbang\", \"indonesia\", \"indonesia\", \"indonesia\", \"indonesia\", \"indonesia\", \"indonesia\", \"input\", \"input\", \"input\", \"input\", \"input\", \"input\", \"internet\", \"isyarat\", \"jaenudin\", \"jagung\", \"jakarta\", \"jakarta\", \"jakarta\", \"jakarta\", \"jakarta\", \"jakarta\", \"jakarta_jakarta\", \"janji\", \"janji\", \"jatim\", \"jatim\", \"jatim\", \"jatim\", \"jatim\", \"jelang\", \"jelang\", \"jelang\", \"jelang\", \"jelang\", \"jenis\", \"jepara\", \"jepara\", \"jkt\", \"jujur\", \"jujur\", \"jujur\", \"jujur\", \"jujur\", \"jujur\", \"jujur_adil\", \"jujur_adil\", \"jujur_adil\", \"jujur_adil\", \"jujur_adil\", \"jujur_adil\", \"juri\", \"kabareskim\", \"kabareskim\", \"kabareskim\", \"kabupaten\", \"kabupaten\", \"kabupaten\", \"kabupaten\", \"kabupaten\", \"kabupaten\", \"kabupaten_kota\", \"kabupaten_kota\", \"kabupaten_kota\", \"kacau\", \"kacau\", \"kacau\", \"kacau\", \"kacau\", \"kacau\", \"kalah\", \"kalah\", \"kalah\", \"kalah\", \"kalah\", \"kalah\", \"kali\", \"kali\", \"kali\", \"kali\", \"kali\", \"kali\", \"kampanye\", \"kampanye\", \"kampanye\", \"kampanye\", \"kampanye\", \"kampanye\", \"kardus\", \"kardus\", \"kardus\", \"kardus\", \"kardus\", \"kardus\", \"karung\", \"karung\", \"kasih\", \"kasih\", \"kasih\", \"kasih\", \"kasih\", \"kasih\", \"kategori\", \"kategori\", \"kecewa\", \"kecewa\", \"kecewa\", \"kecewa\", \"kecewa\", \"kecewa\", \"keempat\", \"kerja\", \"kerja\", \"kerja\", \"kerja\", \"kerja\", \"kerja\", \"kertas\", \"kertas\", \"kertas\", \"kertas\", \"kertas\", \"kertas\", \"kertas_suara\", \"kertas_suara\", \"kertas_suara\", \"kertas_suara\", \"kertas_suara\", \"kertas_suara\", \"kerupuk\", \"kerupuk\", \"ketua\", \"ketua\", \"ketua\", \"ketua\", \"ketua\", \"ketua\", \"ketuk\", \"kinerja\", \"kinerja\", \"kinerja\", \"kinerja\", \"kinerja\", \"kinerja\", \"kisi\", \"kisi\", \"kisi_kisi\", \"kisi_kisi\", \"kompleks\", \"konferensi\", \"kontainer\", \"kontainer\", \"kontainer\", \"kontainer\", \"koordinasi\", \"koordinasi\", \"kota\", \"kota\", \"kota\", \"kota\", \"kota\", \"kota\", \"kota_bandung\", \"kota_bengkulu\", \"kotak\", \"kotak\", \"kotak\", \"kotak\", \"kotak\", \"kotak\", \"kotak_kardus\", \"kotak_kardus\", \"kotak_kardus\", \"kotak_kardus\", \"kotak_kardus\", \"kotak_suara\", \"kotak_suara\", \"kotak_suara\", \"kotak_suara\", \"kotak_suara\", \"kotak_suara\", \"kpps\", \"kpps\", \"kpps\", \"kpps\", \"kpps\", \"kpps\", \"kpps_honor\", \"kpps_honor\", \"kpu\", \"kpu\", \"kpu\", \"kpu\", \"kpu\", \"kpu\", \"kpu_jatim\", \"kreatif\", \"krisis\", \"kualitas\", \"kualitas\", \"kualitas\", \"kualitas\", \"kualitas\", \"kualitas\", \"kubu_oposisi\", \"kubu_oposisi\", \"kuliah\", \"laknat\", \"laknat\", \"laknat\", \"laknat\", \"laknat\", \"laksana\", \"laksana\", \"laksana\", \"laksana\", \"laksana\", \"laksana\", \"laku\", \"laku\", \"laku\", \"laku\", \"laku\", \"laku\", \"lancar\", \"lancar\", \"lancar\", \"lancar\", \"lancar\", \"lancar\", \"lancar_aman\", \"langgar\", \"langgar\", \"langgar\", \"langgar\", \"langgar\", \"langgar\", \"langgar_undang\", \"langgar_undang\", \"langgar_undang\", \"langgar_undang\", \"langsung\", \"langsung\", \"langsung\", \"langsung\", \"langsung\", \"langsung\", \"lantai\", \"lantai_jakarta\", \"lantai_jakarta\", \"lapor\", \"lapor\", \"lapor\", \"lapor\", \"lapor\", \"lapor\", \"lembaga\", \"lembaga\", \"lembaga\", \"lembaga\", \"lembaga\", \"lembaga\", \"lgs\", \"lgs\", \"lihat\", \"lihat\", \"lihat\", \"lihat\", \"lihat\", \"lihat\", \"lintas\", \"lintas\", \"logistik\", \"logistik\", \"logistik\", \"logistik\", \"logistik\", \"lomba\", \"lpsdk\", \"lpsdk\", \"lpsdk\", \"lpsdk\", \"lurus\", \"maha\", \"maha\", \"maha\", \"maha\", \"main\", \"main\", \"main\", \"main\", \"main\", \"main\", \"makan_gaji\", \"malu\", \"malu\", \"malu\", \"malu\", \"malu\", \"malu\", \"manut\", \"manut\", \"maret\", \"mari_sukseskan\", \"masuk\", \"masuk\", \"masuk\", \"masuk\", \"masuk\", \"masuk\", \"masyarakat\", \"masyarakat\", \"masyarakat\", \"masyarakat\", \"masyarakat\", \"masyarakat\", \"menang\", \"menang\", \"menang\", \"menang\", \"menang\", \"menang\", \"menciderai\", \"mendegradasi\", \"mendelegitimasi\", \"mendelegitimasi\", \"mendelegitimasi\", \"mendelegitimasi\", \"mendelegitimasi\", \"mendelegitimasi\", \"mendelegitimasi_selenggara\", \"mendelegitimasi_selenggara\", \"mention\", \"misi\", \"misi\", \"misterius\", \"moga\", \"moga\", \"moga\", \"moga\", \"moga\", \"moga\", \"moga_allah\", \"moga_allah\", \"moga_allah\", \"moga_allah\", \"moga_allah\", \"moga_allah\", \"mohon\", \"mohon\", \"mohon\", \"mohon\", \"mohon\", \"mohon\", \"mohon_infonya\", \"mosi\", \"motif\", \"naikan\", \"nama\", \"nama\", \"nama\", \"nama\", \"nama\", \"nama\", \"nanggung\", \"negara\", \"negara\", \"negara\", \"negara\", \"negara\", \"negara\", \"negeri\", \"negeri\", \"negeri\", \"negeri\", \"negeri\", \"negeri\", \"ngaciro\", \"ngatur\", \"ngecek\", \"no\", \"no\", \"no\", \"no\", \"no\", \"no\", \"nomor_urut\", \"now\", \"now\", \"nyali\", \"nyata\", \"nyata\", \"nyata\", \"nyata\", \"nyata\", \"nyata\", \"nyebar\", \"olah\", \"olah\", \"olah\", \"olah\", \"olah\", \"ono\", \"ono\", \"orang\", \"orang\", \"orang\", \"orang\", \"orang\", \"orang\", \"osis\", \"osis\", \"padu\", \"pakai\", \"pakai\", \"pakai\", \"pakai\", \"pakai\", \"pakai\", \"palu\", \"palu\", \"palu\", \"palu\", \"palu\", \"palu\", \"pan\", \"panggil\", \"panggil\", \"panggil\", \"panggil\", \"panggil\", \"papar\", \"papar\", \"papar\", \"papar\", \"papar\", \"papar\", \"papar_visi\", \"papar_visi\", \"papar_visi\", \"papar_visi\", \"papar_visi\", \"papar_visi\", \"pasal\", \"pasal\", \"pasal\", \"pasal\", \"pasal\", \"pasal\", \"pasal_undang\", \"pasal_undang\", \"pasal_undang\", \"pasal_undang\", \"pasang\", \"pasang\", \"pasang\", \"pasang\", \"pasang\", \"pasang\", \"pasang_calon\", \"pasang_calon\", \"pasang_calon\", \"pasang_calon\", \"pasang_calon\", \"pasang_calon\", \"pemiluserentak\", \"pemungutan\", \"pemungutan\", \"pemungutan\", \"pemungutan\", \"pemungutan_hitung\", \"pemungutan_hitung\", \"pemungutan_suara\", \"pemungutan_suara\", \"pemungutan_suara\", \"pemungutan_suara\", \"penghitung\", \"penyelengaraan\", \"percaya\", \"percaya\", \"percaya\", \"percaya\", \"percaya\", \"percaya\", \"perintah_isu\", \"pertahana\", \"pesimis\", \"pesimis\", \"pidana\", \"pidana\", \"pidana\", \"pidana\", \"pidana\", \"pidana\", \"pidie\", \"pilih\", \"pilih\", \"pilih\", \"pilih\", \"pilih\", \"pilih\", \"pilihnya\", \"pilpres\", \"pilpres\", \"pilpres\", \"pilpres\", \"pilpres\", \"pilpres\", \"pindah\", \"pindah\", \"pindah\", \"pindah\", \"pindah\", \"pkb\", \"pnting\", \"pnyelenggara\", \"pnyelenggara\", \"polling\", \"ppln\", \"ppln\", \"ppln\", \"ppln\", \"ppln\", \"pr\", \"presiden\", \"presiden\", \"presiden\", \"presiden\", \"presiden\", \"presiden\", \"presiden_wakil\", \"presiden_wakil\", \"presiden_wakil\", \"presiden_wapres\", \"provinsi\", \"provinsi\", \"provinsi\", \"provinsi\", \"provinsi\", \"provinsi\", \"provinsi_bengkulu\", \"provinsi_bengkulu\", \"psi\", \"pulang_kampung\", \"pulang_kampung\", \"puluh_triliun\", \"puluh_triliun\", \"pura\", \"pura\", \"pura\", \"pura\", \"pura_pura\", \"rabu\", \"rabu\", \"rabu\", \"radio\", \"rakyat\", \"rakyat\", \"rakyat\", \"rakyat\", \"rakyat\", \"rakyat\", \"rantau\", \"rantau\", \"rapat\", \"rapat\", \"rapat\", \"rapat\", \"rapat\", \"rek\", \"rentak\", \"rentak\", \"rentak\", \"rentak\", \"rentak\", \"rentak\", \"reposted\", \"reposted_from\", \"reputasi\", \"resmi\", \"resmi\", \"resmi\", \"resmi\", \"resmi\", \"resmi\", \"resmi_buka\", \"resmi_buka\", \"rip\", \"rp_triliun\", \"rri\", \"ruang\", \"ruang\", \"ruang\", \"ruang\", \"ruang\", \"ruang\", \"ruang_rapat\", \"ruang_rapat\", \"salah\", \"salah\", \"salah\", \"salah\", \"salah\", \"salah\", \"salah_input\", \"salah_input\", \"salah_input\", \"salah_input\", \"salah_input\", \"salah_input\", \"sebar\", \"sebar\", \"sebar\", \"sebar\", \"sebar\", \"sebar\", \"sejarah\", \"sejarah\", \"sejarah\", \"sejarah\", \"sejarah\", \"sejarah\", \"sekira\", \"sekira\", \"sekira_wib\", \"sekira_wib\", \"sekretariat\", \"selamat_malam\", \"selenggara\", \"selenggara\", \"selenggara\", \"selenggara\", \"selenggara\", \"selenggara\", \"sepakbola\", \"serah\", \"serah\", \"serah\", \"serah\", \"serah_lpsdk\", \"serah_lpsdk\", \"serah_lpsdk\", \"setiawan\", \"skalian\", \"skalian\", \"skripsi\", \"slrh\", \"soliditas\", \"sontoloyo\", \"sosialisasi\", \"sosialisasi\", \"sosialisasi\", \"sosialisasi\", \"sosialisasi\", \"sptnya\", \"srt\", \"srt\", \"stuntman\", \"suami\", \"suara\", \"suara\", \"suara\", \"suara\", \"suara\", \"suara\", \"sudut\", \"sudut\", \"sudut\", \"sukses\", \"sukses\", \"sukses\", \"sukses\", \"sukses\", \"sukses\", \"sultan\", \"sumbang\", \"sumbang\", \"sumbang\", \"surat\", \"surat\", \"surat\", \"surat\", \"surat\", \"surat\", \"surat_suara\", \"surat_suara\", \"surat_suara\", \"surat_suara\", \"surat_suara\", \"surat_suara\", \"swt\", \"swt\", \"swt\", \"swt\", \"swt\", \"tajam\", \"tanam\", \"tandatangani\", \"tara\", \"taukah\", \"terang_benderang\", \"terima\", \"terima\", \"terima\", \"terima\", \"terima\", \"terima\", \"terima_kasih\", \"terima_kasih\", \"terima_kasih\", \"terima_kasih\", \"terima_kasih\", \"terima_kasih\", \"terima_sumbang\", \"terima_sumbang\", \"terima_sumbang\", \"thread\", \"tidak_ada\", \"tidak_ada\", \"tidak_ada\", \"tidak_ada\", \"tidak_ada\", \"tidak_ada\", \"tidak_adil\", \"tidak_adil\", \"tidak_adil\", \"tidak_adil\", \"tidak_benar\", \"tidak_benar\", \"tidak_benar\", \"tidak_benar\", \"tidak_boleh\", \"tidak_boleh\", \"tidak_boleh\", \"tidak_boleh\", \"tidak_dapat\", \"tidak_dapat\", \"tidak_harus\", \"tidak_independen\", \"tidak_independen\", \"tidak_jelas\", \"tidak_jurdil\", \"tidak_kredibel\", \"tidak_lagi\", \"tidak_lagi\", \"tidak_lagi\", \"tidak_malu\", \"tidak_mampu\", \"tidak_mampu\", \"tidak_mampu\", \"tidak_mampu\", \"tidak_mungkin\", \"tidak_mungkin\", \"tidak_mungkin\", \"tidak_naik\", \"tidak_naik\", \"tidak_netral\", \"tidak_netral\", \"tidak_netral\", \"tidak_netral\", \"tidak_netral\", \"tidak_profesional\", \"tidak_profesional\", \"tidak_profesional\", \"tidak_profesional\", \"tidak_profesional\", \"tidak_punya\", \"tidak_punya\", \"tidak_punya\", \"tidak_punya\", \"tidak_semua\", \"tidak_semua\", \"tidak_serius\", \"tidak_serius\", \"tidak_terdaftar\", \"tidak_terdaftar\", \"tidak_terdaftar\", \"tidak_terdaftar\", \"tim\", \"tim\", \"tim\", \"tim\", \"tim\", \"tim\", \"tim_sukses\", \"tim_sukses\", \"tim_sukses\", \"tim_sukses\", \"tim_sukses\", \"tim_sukses\", \"tingkat\", \"tingkat\", \"tingkat\", \"tingkat\", \"tingkat\", \"tingkat\", \"tolong\", \"tolong\", \"tolong\", \"tolong\", \"tolong\", \"tolong\", \"tonjol\", \"tps\", \"tps\", \"tps\", \"tps\", \"tps\", \"tps\", \"tua\", \"tua\", \"tugas\", \"tugas\", \"tugas\", \"tugas\", \"tugas\", \"tugas\", \"tuhan\", \"tuhan\", \"tuhan\", \"tuhan\", \"tuhan\", \"tuhan\", \"tunda\", \"tunda\", \"tunda\", \"twips\", \"uang\", \"uang\", \"uang\", \"uang\", \"uang\", \"uang\", \"uang_negara\", \"uang_rakyat\", \"uang_rakyat\", \"uang_rakyat\", \"uang_rakyat\", \"uang_rakyat\", \"ulang\", \"ulang\", \"ulang\", \"ulang\", \"ulang\", \"ulang\", \"umur\", \"umur\", \"umur\", \"umur\", \"umur\", \"umur_hidup\", \"umur_hidup\", \"undang\", \"undang\", \"undang\", \"undang\", \"undang\", \"undang\", \"undang_no\", \"undang_no\", \"undang_no\", \"undang_no\", \"urus_form\", \"urut\", \"urut\", \"urut\", \"usia\", \"usia\", \"usia\", \"usut_tuntas\", \"usut_tuntas\", \"usut_tuntas\", \"usut_tuntas\", \"viryan\", \"visi\", \"visi\", \"visi\", \"visi\", \"visi_misi\", \"visi_misi\", \"wahyu_setiawan\", \"wakil\", \"wakil\", \"wakil\", \"wakil\", \"wakil\", \"wakil\", \"wakil_presiden\", \"warna\", \"was\", \"wasit\", \"wasit\", \"wasit\", \"wasit\", \"wasit\", \"wasit\", \"waspada\", \"waspada\", \"waspada\", \"waspada\", \"wib\", \"wib\", \"wib\", \"wib\", \"wna\", \"wna\", \"wna\", \"wni\", \"wni\", \"wni\", \"wni\", \"wni\"]}, \"R\": 30, \"lambda.step\": 0.01, \"plot.opts\": {\"xlab\": \"PC1\", \"ylab\": \"PC2\"}, \"topic.order\": [4, 5, 1, 6, 3, 2]};\n",
       "\n",
       "function LDAvis_load_lib(url, callback){\n",
       "  var s = document.createElement('script');\n",
       "  s.src = url;\n",
       "  s.async = true;\n",
       "  s.onreadystatechange = s.onload = callback;\n",
       "  s.onerror = function(){console.warn(\"failed to load library \" + url);};\n",
       "  document.getElementsByTagName(\"head\")[0].appendChild(s);\n",
       "}\n",
       "\n",
       "if(typeof(LDAvis) !== \"undefined\"){\n",
       "   // already loaded: just create the visualization\n",
       "   !function(LDAvis){\n",
       "       new LDAvis(\"#\" + \"ldavis_el1535231426251353768536982007\", ldavis_el1535231426251353768536982007_data);\n",
       "   }(LDAvis);\n",
       "}else if(typeof define === \"function\" && define.amd){\n",
       "   // require.js is available: use it to load d3/LDAvis\n",
       "   require.config({paths: {d3: \"https://cdnjs.cloudflare.com/ajax/libs/d3/3.5.5/d3.min\"}});\n",
       "   require([\"d3\"], function(d3){\n",
       "      window.d3 = d3;\n",
       "      LDAvis_load_lib(\"https://cdn.rawgit.com/bmabey/pyLDAvis/files/ldavis.v1.0.0.js\", function(){\n",
       "        new LDAvis(\"#\" + \"ldavis_el1535231426251353768536982007\", ldavis_el1535231426251353768536982007_data);\n",
       "      });\n",
       "    });\n",
       "}else{\n",
       "    // require.js not available: dynamically load d3 & LDAvis\n",
       "    LDAvis_load_lib(\"https://cdnjs.cloudflare.com/ajax/libs/d3/3.5.5/d3.min.js\", function(){\n",
       "         LDAvis_load_lib(\"https://cdn.rawgit.com/bmabey/pyLDAvis/files/ldavis.v1.0.0.js\", function(){\n",
       "                 new LDAvis(\"#\" + \"ldavis_el1535231426251353768536982007\", ldavis_el1535231426251353768536982007_data);\n",
       "            })\n",
       "         });\n",
       "}\n",
       "</script>"
      ],
      "text/plain": [
       "PreparedData(topic_coordinates=              x         y  topics  cluster       Freq\n",
       "topic                                                \n",
       "3     -0.098578  0.073993       1        1  24.618372\n",
       "4     -0.044089 -0.008499       2        1  18.461872\n",
       "0     -0.074922  0.011656       3        1  16.888294\n",
       "5      0.000706  0.008482       4        1  14.315483\n",
       "2      0.172368  0.090717       5        1  13.159617\n",
       "1      0.044514 -0.176349       6        1  12.556359, topic_info=     Category         Freq          Term        Total  loglift  logprob\n",
       "146   Default  2025.000000         suara  2025.000000  30.0000  30.0000\n",
       "23    Default  5269.000000           kpu  5269.000000  29.0000  29.0000\n",
       "1303  Default   729.000000         surat   729.000000  28.0000  28.0000\n",
       "4280  Default   670.000000          misi   670.000000  27.0000  27.0000\n",
       "4281  Default   698.000000          visi   698.000000  26.0000  26.0000\n",
       "1304  Default   573.000000   surat_suara   573.000000  25.0000  25.0000\n",
       "131   Default  1048.000000        undang  1048.000000  24.0000  24.0000\n",
       "4282  Default   526.000000     visi_misi   526.000000  23.0000  23.0000\n",
       "1534  Default   492.000000         kotak   492.000000  22.0000  22.0000\n",
       "74    Default  2198.000000          adil  2198.000000  21.0000  21.0000\n",
       "377   Default   648.000000         allah   648.000000  20.0000  20.0000\n",
       "34    Default  2624.000000        curang  2624.000000  19.0000  19.0000\n",
       "77    Default  2096.000000         jujur  2096.000000  18.0000  18.0000\n",
       "78    Default  1357.000000    jujur_adil  1357.000000  17.0000  17.0000\n",
       "1108  Default   441.000000       jakarta   441.000000  16.0000  16.0000\n",
       "302   Default  1052.000000         calon  1052.000000  15.0000  15.0000\n",
       "1388  Default   389.000000        kardus   389.000000  14.0000  14.0000\n",
       "1618  Default   303.000000   kotak_suara   303.000000  13.0000  13.0000\n",
       "100   Default  1864.000000         pilih  1864.000000  12.0000  12.0000\n",
       "51    Default   757.000000        pasang   757.000000  11.0000  11.0000\n",
       "178   Default   567.000000           hak   567.000000  10.0000  10.0000\n",
       "173   Default   813.000000          uang   813.000000   9.0000   9.0000\n",
       "2586  Default   333.000000          rabu   333.000000   8.0000   8.0000\n",
       "187   Default   358.000000          kota   358.000000   7.0000   7.0000\n",
       "5056  Default   332.000000         lpsdk   332.000000   6.0000   6.0000\n",
       "309   Default   529.000000  pasang_calon   529.000000   5.0000   5.0000\n",
       "520   Default   413.000000          buka   413.000000   4.0000   4.0000\n",
       "2204  Default   886.000000         debat   886.000000   3.0000   3.0000\n",
       "148   Default   960.000000      presiden   960.000000   2.0000   2.0000\n",
       "13    Default  1457.000000         orang  1457.000000   1.0000   1.0000\n",
       "...       ...          ...           ...          ...      ...      ...\n",
       "3685   Topic6    48.882580   tidak_dapat    55.847023   1.9417  -6.3759\n",
       "527    Topic6   211.769684         rapat   262.049713   1.8619  -4.9098\n",
       "1621   Topic6    55.592381          ppln    64.160721   1.9316  -6.2473\n",
       "1108   Topic6   327.654846       jakarta   441.956238   1.7757  -4.4733\n",
       "2586   Topic6   246.089706          rabu   333.117188   1.7721  -4.7596\n",
       "187    Topic6   255.623016          kota   358.429352   1.7369  -4.7216\n",
       "311    Topic6   216.038422         serah   305.087769   1.7298  -4.8898\n",
       "416    Topic6   170.661453           wib   236.264816   1.7497  -5.1256\n",
       "155    Topic6   178.971451      provinsi   249.291626   1.7435  -5.0781\n",
       "412    Topic6   215.566772         resmi   320.443237   1.6785  -4.8920\n",
       "5056   Topic6   219.978043         lpsdk   332.735168   1.6611  -4.8718\n",
       "520    Topic6   260.088196          buka   413.337433   1.6117  -4.7043\n",
       "2762   Topic6    68.252686      aplikasi    88.349594   1.8169  -6.0421\n",
       "185    Topic6   183.422241     kabupaten   326.261108   1.4990  -5.0535\n",
       "23     Topic6  1553.687500           kpu  5269.536133   0.8536  -2.9169\n",
       "813    Topic6    71.081581        jelang   100.111923   1.7325  -6.0015\n",
       "281    Topic6   200.741898       bawaslu   470.581726   1.2230  -4.9633\n",
       "1147   Topic6   100.220421         camat   171.310562   1.5388  -5.6579\n",
       "72     Topic6   270.944061         hasil  1166.393188   0.6152  -4.6634\n",
       "222    Topic6   195.254852      langsung   681.019592   0.8257  -4.9910\n",
       "431    Topic6   113.627548       tingkat   265.210602   1.2273  -5.5324\n",
       "137    Topic6   337.721252    selenggara  2614.444092   0.0284  -4.4431\n",
       "207    Topic6   141.942444         masuk   473.116516   0.8710  -5.3099\n",
       "37     Topic6   145.225327         tugas   580.681641   0.6890  -5.2870\n",
       "35     Topic6   154.478485         ketua   683.807495   0.5873  -5.2252\n",
       "100    Topic6   211.393784         pilih  1864.662476  -0.1022  -4.9116\n",
       "312    Topic6   143.660782        terima   637.958130   0.5841  -5.2978\n",
       "136    Topic6   145.611389    masyarakat   707.141296   0.4947  -5.2844\n",
       "256    Topic6   149.250412         kerja   799.916321   0.3961  -5.2597\n",
       "242    Topic6   150.578415        negara  1141.764893   0.0491  -5.2508\n",
       "\n",
       "[486 rows x 6 columns], token_table=      Topic      Freq            Term\n",
       "term                                 \n",
       "1188      1  0.036611          aamiin\n",
       "1188      2  0.043933          aamiin\n",
       "1188      3  0.805435          aamiin\n",
       "1188      4  0.029289          aamiin\n",
       "1188      5  0.007322          aamiin\n",
       "1188      6  0.080543          aamiin\n",
       "1560      3  0.952699             abu\n",
       "74        1  0.620971            adil\n",
       "74        2  0.190158            adil\n",
       "74        3  0.115096            adil\n",
       "74        4  0.005914            adil\n",
       "74        5  0.006369            adil\n",
       "74        6  0.060960            adil\n",
       "4185      3  0.973465          agenda\n",
       "4065      3  0.981877         akurasi\n",
       "2677      1  0.020728              al\n",
       "2677      3  0.932766              al\n",
       "2677      6  0.020728              al\n",
       "405       2  0.067447          alamat\n",
       "405       3  0.050585          alamat\n",
       "405       4  0.775640          alamat\n",
       "405       6  0.101170          alamat\n",
       "377       1  0.070901           allah\n",
       "377       2  0.038533           allah\n",
       "377       3  0.816905           allah\n",
       "377       4  0.050864           allah\n",
       "377       5  0.013872           allah\n",
       "377       6  0.010789           allah\n",
       "1984      1  0.011658       allah_swt\n",
       "1984      2  0.034974       allah_swt\n",
       "...     ...       ...             ...\n",
       "1129      2  0.676001           wakil\n",
       "1129      3  0.048601           wakil\n",
       "1129      4  0.083948           wakil\n",
       "1129      5  0.119294           wakil\n",
       "1129      6  0.039765           wakil\n",
       "4388      2  0.984265  wakil_presiden\n",
       "3239      3  0.977004           warna\n",
       "654       5  0.914136             was\n",
       "655       1  0.518013           wasit\n",
       "655       2  0.050473           wasit\n",
       "655       3  0.098290           wasit\n",
       "655       4  0.135480           wasit\n",
       "655       5  0.196579           wasit\n",
       "655       6  0.002656           wasit\n",
       "1373      1  0.029715         waspada\n",
       "1373      2  0.861748         waspada\n",
       "1373      3  0.089146         waspada\n",
       "1373      6  0.014858         waspada\n",
       "416       2  0.131209             wib\n",
       "416       3  0.042325             wib\n",
       "416       4  0.101581             wib\n",
       "416       6  0.723764             wib\n",
       "4298      3  0.850288             wna\n",
       "4298      5  0.040490             wna\n",
       "4298      6  0.107973             wna\n",
       "2813      2  0.007592             wni\n",
       "2813      3  0.015185             wni\n",
       "2813      4  0.895886             wni\n",
       "2813      5  0.068330             wni\n",
       "2813      6  0.007592             wni\n",
       "\n",
       "[1307 rows x 3 columns], R=30, lambda_step=0.01, plot_opts={'xlab': 'PC1', 'ylab': 'PC2'}, topic_order=[4, 5, 1, 6, 3, 2])"
      ]
     },
     "execution_count": 62,
     "metadata": {},
     "output_type": "execute_result"
    }
   ],
   "source": [
    "pyLDAvis.enable_notebook()\n",
    "vis = pyLDAvis.gensim.prepare(lda_model, bow_corpus, dictionary)\n",
    "vis"
   ]
  },
  {
   "cell_type": "markdown",
   "metadata": {},
   "source": [
    "# Classify Document to Topic"
   ]
  },
  {
   "cell_type": "code",
   "execution_count": 65,
   "metadata": {
    "scrolled": true
   },
   "outputs": [
    {
     "name": "stdout",
     "output_type": "stream",
     "text": [
      "Corpus sample index :  9286\n",
      "Word 34 (\"curang\") appears 1 time.\n",
      "Word 50 (\"habis\") appears 1 time.\n",
      "Word 326 (\"lawan\") appears 1 time.\n"
     ]
    }
   ],
   "source": [
    "sample_index = randint(0,10000)\n",
    "bow_corpus_sample(bow_corpus, sample_index)"
   ]
  },
  {
   "cell_type": "code",
   "execution_count": 66,
   "metadata": {},
   "outputs": [
    {
     "name": "stdout",
     "output_type": "stream",
     "text": [
      "\n",
      "Score: 0.790356457233429\t \n",
      "Topic: 0.025*\"rakyat\" + 0.024*\"adil\" + 0.023*\"jujur\" + 0.018*\"selenggara\" + 0.016*\"jujur_adil\" + 0.016*\"curang\" + 0.015*\"kpu\" + 0.013*\"negara\" + 0.012*\"uang\" + 0.011*\"salah\"\n",
      "\n",
      "Score: 0.04222416505217552\t \n",
      "Topic: 0.028*\"curang\" + 0.014*\"allah\" + 0.010*\"orang\" + 0.009*\"kpu\" + 0.009*\"moga\" + 0.009*\"rakyat\" + 0.008*\"kpps\" + 0.008*\"pilih\" + 0.008*\"ketua\" + 0.007*\"adil\"\n",
      "\n",
      "Score: 0.041904907673597336\t \n",
      "Topic: 0.031*\"kpu\" + 0.023*\"undang\" + 0.018*\"pilih\" + 0.012*\"orang\" + 0.012*\"rakyat\" + 0.011*\"hak\" + 0.011*\"suara\" + 0.007*\"hasil\" + 0.007*\"menang\" + 0.007*\"kali\"\n",
      "\n",
      "Score: 0.04189758747816086\t \n",
      "Topic: 0.029*\"kpu\" + 0.015*\"calon\" + 0.014*\"presiden\" + 0.012*\"pasang\" + 0.012*\"debat\" + 0.011*\"rakyat\" + 0.010*\"adil\" + 0.010*\"hasil\" + 0.010*\"capres\" + 0.010*\"selenggara\"\n",
      "\n",
      "Score: 0.04185284301638603\t \n",
      "Topic: 0.041*\"suara\" + 0.022*\"surat\" + 0.021*\"misi\" + 0.020*\"visi\" + 0.018*\"surat_suara\" + 0.017*\"visi_misi\" + 0.015*\"selenggara\" + 0.014*\"kotak\" + 0.012*\"pilih\" + 0.010*\"rakyat\"\n",
      "\n",
      "Score: 0.041764043271541595\t \n",
      "Topic: 0.054*\"kpu\" + 0.012*\"selenggara\" + 0.011*\"jakarta\" + 0.009*\"hasil\" + 0.009*\"buka\" + 0.009*\"kota\" + 0.009*\"rabu\" + 0.008*\"lpsdk\" + 0.008*\"serah\" + 0.008*\"resmi\"\n"
     ]
    }
   ],
   "source": [
    "# Mencari probabilitas tertinggi topik untuk dokumen\n",
    "for index, score in sorted(lda_model[bow_corpus[sample_index]], key=lambda tup: -1*tup[1]):\n",
    "    print(\"\\nScore: {}\\t \\nTopic: {}\".format(score, lda_model.print_topic(index, 10)))"
   ]
  },
  {
   "cell_type": "code",
   "execution_count": 67,
   "metadata": {
    "collapsed": true
   },
   "outputs": [],
   "source": [
    "# Buat list probabilitas tertinggi topik untuk semua dokumen\n",
    "topic_list = []\n",
    "for i in range(len(bow_corpus)):\n",
    "    sorted_probability = sorted(lda_model.get_document_topics(bow_corpus[i]), key = lambda x: x[1], reverse=True)\n",
    "    topic_list.append(sorted_probability[0][0])"
   ]
  },
  {
   "cell_type": "code",
   "execution_count": 68,
   "metadata": {
    "collapsed": true
   },
   "outputs": [],
   "source": [
    "df['topic'] = topic_list"
   ]
  },
  {
   "cell_type": "code",
   "execution_count": 69,
   "metadata": {},
   "outputs": [
    {
     "data": {
      "text/html": [
       "<div>\n",
       "<style scoped>\n",
       "    .dataframe tbody tr th:only-of-type {\n",
       "        vertical-align: middle;\n",
       "    }\n",
       "\n",
       "    .dataframe tbody tr th {\n",
       "        vertical-align: top;\n",
       "    }\n",
       "\n",
       "    .dataframe thead th {\n",
       "        text-align: right;\n",
       "    }\n",
       "</style>\n",
       "<table border=\"1\" class=\"dataframe\">\n",
       "  <thead>\n",
       "    <tr style=\"text-align: right;\">\n",
       "      <th></th>\n",
       "      <th>text</th>\n",
       "      <th>username</th>\n",
       "      <th>modularity</th>\n",
       "      <th>node_id</th>\n",
       "      <th>clean</th>\n",
       "      <th>topic</th>\n",
       "    </tr>\n",
       "  </thead>\n",
       "  <tbody>\n",
       "    <tr>\n",
       "      <th>20707</th>\n",
       "      <td>Pertama nih di 2019!! Mumpung masih anget! Apa...</td>\n",
       "      <td>_pemilihpemula</td>\n",
       "      <td>4</td>\n",
       "      <td>12271</td>\n",
       "      <td>['mumpung', 'hangat', 'pemilu', 'admin', 'kasi...</td>\n",
       "      <td>2</td>\n",
       "    </tr>\n",
       "    <tr>\n",
       "      <th>20708</th>\n",
       "      <td>Mending pemilu ditunda smpai jokowi siapp..</td>\n",
       "      <td>abaz009</td>\n",
       "      <td>5</td>\n",
       "      <td>13209</td>\n",
       "      <td>['mending', 'pemilu', 'tunda', 'jokowi']</td>\n",
       "      <td>5</td>\n",
       "    </tr>\n",
       "    <tr>\n",
       "      <th>20709</th>\n",
       "      <td>Maka dari itu aneh bener dah pemilu skrang rus...</td>\n",
       "      <td>koerniad1</td>\n",
       "      <td>5</td>\n",
       "      <td>13210</td>\n",
       "      <td>['aneh', 'pemilu', 'rusak', 'tatanan', 'demokr...</td>\n",
       "      <td>3</td>\n",
       "    </tr>\n",
       "    <tr>\n",
       "      <th>20710</th>\n",
       "      <td>Kok @KPU_ID jadi ngga kredibel gini...?. Semua...</td>\n",
       "      <td>binarmentari_ok</td>\n",
       "      <td>3</td>\n",
       "      <td>4809</td>\n",
       "      <td>['kredibel', 'perilaku', 'nonton', 'nasional',...</td>\n",
       "      <td>3</td>\n",
       "    </tr>\n",
       "    <tr>\n",
       "      <th>20711</th>\n",
       "      <td>Mereka tu dah sadar kalah dalam segala hal dan...</td>\n",
       "      <td>fakirelmu</td>\n",
       "      <td>5</td>\n",
       "      <td>13211</td>\n",
       "      <td>['sadar', 'kalah', 'proses', 'pemilu', 'menang...</td>\n",
       "      <td>5</td>\n",
       "    </tr>\n",
       "    <tr>\n",
       "      <th>20712</th>\n",
       "      <td>Yang namanya sumpah dan janji sdh tak berharga...</td>\n",
       "      <td>uman_2009</td>\n",
       "      <td>3</td>\n",
       "      <td>11498</td>\n",
       "      <td>['nama', 'sumpah', 'janji', 'harga', 'rezim', ...</td>\n",
       "      <td>4</td>\n",
       "    </tr>\n",
       "    <tr>\n",
       "      <th>20713</th>\n",
       "      <td>Mana ada wasit terserah Pemain . Wasit itu mem...</td>\n",
       "      <td>prabow0fans</td>\n",
       "      <td>3</td>\n",
       "      <td>5526</td>\n",
       "      <td>['wasit', 'serah', 'main', 'wasit', 'pimpin', ...</td>\n",
       "      <td>3</td>\n",
       "    </tr>\n",
       "    <tr>\n",
       "      <th>20714</th>\n",
       "      <td>berarti bukan kampanye .. lihat di UU ttg pemi...</td>\n",
       "      <td>pendekarmalu</td>\n",
       "      <td>4</td>\n",
       "      <td>13212</td>\n",
       "      <td>['arti', 'kampanye', 'lihat', 'undang', 'pemil...</td>\n",
       "      <td>0</td>\n",
       "    </tr>\n",
       "    <tr>\n",
       "      <th>20715</th>\n",
       "      <td>Diskusi akhir tahun kemarin dan sempat bahas m...</td>\n",
       "      <td>jamalboegis</td>\n",
       "      <td>0</td>\n",
       "      <td>851</td>\n",
       "      <td>['diskusi', 'kemarin', 'bahas', 'kotak', 'kard...</td>\n",
       "      <td>2</td>\n",
       "    </tr>\n",
       "    <tr>\n",
       "      <th>20716</th>\n",
       "      <td>bener kata ibu prof mantan komisioner @KPU_ID ...</td>\n",
       "      <td>sameercimy_</td>\n",
       "      <td>5</td>\n",
       "      <td>199</td>\n",
       "      <td>['profesor', 'mantan', 'komisioner', 'lupa', '...</td>\n",
       "      <td>0</td>\n",
       "    </tr>\n",
       "  </tbody>\n",
       "</table>\n",
       "</div>"
      ],
      "text/plain": [
       "                                                    text         username  \\\n",
       "20707  Pertama nih di 2019!! Mumpung masih anget! Apa...   _pemilihpemula   \n",
       "20708        Mending pemilu ditunda smpai jokowi siapp..          abaz009   \n",
       "20709  Maka dari itu aneh bener dah pemilu skrang rus...        koerniad1   \n",
       "20710  Kok @KPU_ID jadi ngga kredibel gini...?. Semua...  binarmentari_ok   \n",
       "20711  Mereka tu dah sadar kalah dalam segala hal dan...        fakirelmu   \n",
       "20712  Yang namanya sumpah dan janji sdh tak berharga...        uman_2009   \n",
       "20713  Mana ada wasit terserah Pemain . Wasit itu mem...      prabow0fans   \n",
       "20714  berarti bukan kampanye .. lihat di UU ttg pemi...     pendekarmalu   \n",
       "20715  Diskusi akhir tahun kemarin dan sempat bahas m...      jamalboegis   \n",
       "20716  bener kata ibu prof mantan komisioner @KPU_ID ...      sameercimy_   \n",
       "\n",
       "       modularity  node_id                                              clean  \\\n",
       "20707           4    12271  ['mumpung', 'hangat', 'pemilu', 'admin', 'kasi...   \n",
       "20708           5    13209           ['mending', 'pemilu', 'tunda', 'jokowi']   \n",
       "20709           5    13210  ['aneh', 'pemilu', 'rusak', 'tatanan', 'demokr...   \n",
       "20710           3     4809  ['kredibel', 'perilaku', 'nonton', 'nasional',...   \n",
       "20711           5    13211  ['sadar', 'kalah', 'proses', 'pemilu', 'menang...   \n",
       "20712           3    11498  ['nama', 'sumpah', 'janji', 'harga', 'rezim', ...   \n",
       "20713           3     5526  ['wasit', 'serah', 'main', 'wasit', 'pimpin', ...   \n",
       "20714           4    13212  ['arti', 'kampanye', 'lihat', 'undang', 'pemil...   \n",
       "20715           0      851  ['diskusi', 'kemarin', 'bahas', 'kotak', 'kard...   \n",
       "20716           5      199  ['profesor', 'mantan', 'komisioner', 'lupa', '...   \n",
       "\n",
       "       topic  \n",
       "20707      2  \n",
       "20708      5  \n",
       "20709      3  \n",
       "20710      3  \n",
       "20711      5  \n",
       "20712      4  \n",
       "20713      3  \n",
       "20714      0  \n",
       "20715      2  \n",
       "20716      0  "
      ]
     },
     "execution_count": 69,
     "metadata": {},
     "output_type": "execute_result"
    }
   ],
   "source": [
    "df.tail(10)"
   ]
  },
  {
   "cell_type": "code",
   "execution_count": 70,
   "metadata": {
    "collapsed": true
   },
   "outputs": [],
   "source": [
    "# Export to csv\n",
    "df.to_csv(os.path.join(os.pardir,os.pardir,'data','06_out','2-KCore-tweet-clean-topic.csv'), index=False)"
   ]
  }
 ],
 "metadata": {
  "kernelspec": {
   "display_name": "Python 3",
   "language": "python",
   "name": "python3"
  },
  "language_info": {
   "codemirror_mode": {
    "name": "ipython",
    "version": 3
   },
   "file_extension": ".py",
   "mimetype": "text/x-python",
   "name": "python",
   "nbconvert_exporter": "python",
   "pygments_lexer": "ipython3",
   "version": "3.6.6"
  }
 },
 "nbformat": 4,
 "nbformat_minor": 2
}
