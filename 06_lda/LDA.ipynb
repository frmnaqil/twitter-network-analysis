{
 "cells": [
  {
   "cell_type": "code",
   "execution_count": 1,
   "metadata": {
    "collapsed": true
   },
   "outputs": [],
   "source": [
    "# Works based on https://towardsdatascience.com/topic-modeling-and-latent-dirichlet-allocation-in-python-9bf156893c24\n",
    "# Preprocessing based on https://github.com/TegarSU/Topic-Modelling/blob/master/Preprocessing.ipynb\n",
    "import pandas as pd\n",
    "import numpy as np\n",
    "import json\n",
    "import os\n",
    "from gensim.models.ldamodel import LdaModel\n",
    "import matplotlib.pyplot as plt\n",
    "import gensim\n",
    "from gensim import corpora, models\n",
    "from gensim.models import CoherenceModel\n",
    "from gensim.models import Phrases\n",
    "import pyLDAvis\n",
    "import pyLDAvis.gensim\n",
    "from random import randint\n",
    "import ast\n",
    "import logging\n",
    "import operator"
   ]
  },
  {
   "cell_type": "code",
   "execution_count": 2,
   "metadata": {
    "collapsed": true
   },
   "outputs": [],
   "source": [
    "df = pd.read_csv(os.path.join(os.pardir,os.pardir,'data','05_out','5-KCore-tweet-clean.csv'))"
   ]
  },
  {
   "cell_type": "code",
   "execution_count": 3,
   "metadata": {},
   "outputs": [
    {
     "data": {
      "text/html": [
       "<div>\n",
       "<style scoped>\n",
       "    .dataframe tbody tr th:only-of-type {\n",
       "        vertical-align: middle;\n",
       "    }\n",
       "\n",
       "    .dataframe tbody tr th {\n",
       "        vertical-align: top;\n",
       "    }\n",
       "\n",
       "    .dataframe thead th {\n",
       "        text-align: right;\n",
       "    }\n",
       "</style>\n",
       "<table border=\"1\" class=\"dataframe\">\n",
       "  <thead>\n",
       "    <tr style=\"text-align: right;\">\n",
       "      <th></th>\n",
       "      <th>text</th>\n",
       "      <th>username</th>\n",
       "      <th>modularity</th>\n",
       "      <th>node_id</th>\n",
       "      <th>clean</th>\n",
       "    </tr>\n",
       "  </thead>\n",
       "  <tbody>\n",
       "    <tr>\n",
       "      <th>0</th>\n",
       "      <td>Mereka itu korban yg kalah di 2014. Inget siap...</td>\n",
       "      <td>b12_7hon</td>\n",
       "      <td>2</td>\n",
       "      <td>0</td>\n",
       "      <td>['korban', 'kalah', 'loloskan', 'pemilu', 'ren...</td>\n",
       "    </tr>\n",
       "    <tr>\n",
       "      <th>1</th>\n",
       "      <td>Penomena @KPU_RI @KPU_ID tdk kuat scra lembaga...</td>\n",
       "      <td>harun_nugraha</td>\n",
       "      <td>2</td>\n",
       "      <td>1</td>\n",
       "      <td>['fenomena', 'kuat', 'lembaga', 'laksana', 'ba...</td>\n",
       "    </tr>\n",
       "    <tr>\n",
       "      <th>2</th>\n",
       "      <td>ngapain pemilu ulang broo klu kita 02 sdh mena...</td>\n",
       "      <td>totonaser11</td>\n",
       "      <td>4</td>\n",
       "      <td>3</td>\n",
       "      <td>['pemilu', 'ulang', 'broo', 'menang', 'jokowi'...</td>\n",
       "    </tr>\n",
       "    <tr>\n",
       "      <th>3</th>\n",
       "      <td>Kl menerapkan ISO pasti kelar 1 minggu, ngga a...</td>\n",
       "      <td>rohmatjabbar</td>\n",
       "      <td>4</td>\n",
       "      <td>5</td>\n",
       "      <td>['terap', 'selesai', 'minggu', 'korban', 'romu...</td>\n",
       "    </tr>\n",
       "    <tr>\n",
       "      <th>4</th>\n",
       "      <td>Hayooo @KPU_ID @bawaslu_RI simak baik2 orasi k...</td>\n",
       "      <td>use_will</td>\n",
       "      <td>3</td>\n",
       "      <td>6</td>\n",
       "      <td>['ayo', 'simak', 'orasi', 'ketua', 'tugas', 'a...</td>\n",
       "    </tr>\n",
       "  </tbody>\n",
       "</table>\n",
       "</div>"
      ],
      "text/plain": [
       "                                                text       username  \\\n",
       "0  Mereka itu korban yg kalah di 2014. Inget siap...       b12_7hon   \n",
       "1  Penomena @KPU_RI @KPU_ID tdk kuat scra lembaga...  harun_nugraha   \n",
       "2  ngapain pemilu ulang broo klu kita 02 sdh mena...    totonaser11   \n",
       "3  Kl menerapkan ISO pasti kelar 1 minggu, ngga a...   rohmatjabbar   \n",
       "4  Hayooo @KPU_ID @bawaslu_RI simak baik2 orasi k...       use_will   \n",
       "\n",
       "   modularity  node_id                                              clean  \n",
       "0           2        0  ['korban', 'kalah', 'loloskan', 'pemilu', 'ren...  \n",
       "1           2        1  ['fenomena', 'kuat', 'lembaga', 'laksana', 'ba...  \n",
       "2           4        3  ['pemilu', 'ulang', 'broo', 'menang', 'jokowi'...  \n",
       "3           4        5  ['terap', 'selesai', 'minggu', 'korban', 'romu...  \n",
       "4           3        6  ['ayo', 'simak', 'orasi', 'ketua', 'tugas', 'a...  "
      ]
     },
     "execution_count": 3,
     "metadata": {},
     "output_type": "execute_result"
    }
   ],
   "source": [
    "df.head()"
   ]
  },
  {
   "cell_type": "code",
   "execution_count": 4,
   "metadata": {
    "collapsed": true
   },
   "outputs": [],
   "source": [
    "clean = df['clean']"
   ]
  },
  {
   "cell_type": "code",
   "execution_count": 5,
   "metadata": {},
   "outputs": [
    {
     "data": {
      "text/plain": [
       "0    ['korban', 'kalah', 'loloskan', 'pemilu', 'ren...\n",
       "1    ['fenomena', 'kuat', 'lembaga', 'laksana', 'ba...\n",
       "2    ['pemilu', 'ulang', 'broo', 'menang', 'jokowi'...\n",
       "3    ['terap', 'selesai', 'minggu', 'korban', 'romu...\n",
       "4    ['ayo', 'simak', 'orasi', 'ketua', 'tugas', 'a...\n",
       "Name: clean, dtype: object"
      ]
     },
     "execution_count": 5,
     "metadata": {},
     "output_type": "execute_result"
    }
   ],
   "source": [
    "clean.head()"
   ]
  },
  {
   "cell_type": "code",
   "execution_count": 6,
   "metadata": {
    "collapsed": true
   },
   "outputs": [],
   "source": [
    "clean = list(map(ast.literal_eval,clean))"
   ]
  },
  {
   "cell_type": "markdown",
   "metadata": {},
   "source": [
    "## Create Bigram"
   ]
  },
  {
   "cell_type": "code",
   "execution_count": 7,
   "metadata": {
    "collapsed": true
   },
   "outputs": [],
   "source": [
    "#https://markroxor.github.io/gensim/static/notebooks/lda_training_tips.html\n",
    "bigram = Phrases(clean, min_count=10)\n",
    "for idx in range(len(clean)):\n",
    "    for token in bigram[clean[idx]]:\n",
    "        if '_' in token:\n",
    "            #Token is a bigram, add to document.\n",
    "            clean[idx].append(token)"
   ]
  },
  {
   "cell_type": "code",
   "execution_count": 8,
   "metadata": {},
   "outputs": [
    {
     "name": "stdout",
     "output_type": "stream",
     "text": [
      "['korban', 'kalah', 'loloskan', 'pemilu', 'rentak']\n",
      "['fenomena', 'kuat', 'lembaga', 'laksana', 'baca', 'munculnya', 'langgar', 'salah', 'orang', 'tinggal', 'gara', 'pemilu', 'aneka', 'ragam', 'heran', 'muncul', 'gugat', 'laksana']\n",
      "['pemilu', 'ulang', 'broo', 'menang', 'jokowi', 'sidiq', 'tabliq', 'amanah', 'fatonah']\n",
      "['terap', 'selesai', 'minggu', 'korban', 'romusha', 'rodi', 'proyek', 'pemilu', 'situng', 'kpu', 'system', 'audit', 'trial', 'validasi']\n",
      "['ayo', 'simak', 'orasi', 'ketua', 'tugas', 'anti', 'curang', 'pemilu']\n",
      "['daerah', 'ricuh', 'bilang', 'pemilu', 'lancar_aman', 'sukses', 'otak', 'kacau', 'sesat', 'pikir', 'lancar_aman']\n",
      "['habis', 'pikir', 'pasang', 'badan', 'habis', 'pemilu']\n",
      "['hormat', 'bangsa', 'indonesia', 'pecah_belah', 'anak_bangsa', 'laku', 'curang', 'pemilu', 'pilpres', 'rakyat', 'bodoh', 'pecah_belah', 'anak_bangsa']\n",
      "['pemilu', 'buruk', 'buruk', 'dunia']\n",
      "['kah', 'maksud', 'pemilu', 'jalan_lancar', 'jalan_lancar']\n"
     ]
    }
   ],
   "source": [
    "for i in range(0, 10):\n",
    "    print(bigram[clean][i])"
   ]
  },
  {
   "cell_type": "markdown",
   "metadata": {},
   "source": [
    "# LDA"
   ]
  },
  {
   "cell_type": "code",
   "execution_count": 11,
   "metadata": {
    "collapsed": true
   },
   "outputs": [],
   "source": [
    "# Logging\n",
    "logging.basicConfig(format='%(asctime)s : %(levelname)s : %(message)s', level=logging.INFO)"
   ]
  },
  {
   "cell_type": "markdown",
   "metadata": {},
   "source": [
    "### Build Bag Of Words Corpus Dictionary"
   ]
  },
  {
   "cell_type": "code",
   "execution_count": 12,
   "metadata": {},
   "outputs": [
    {
     "name": "stderr",
     "output_type": "stream",
     "text": [
      "2019-09-09 16:03:03,545 : INFO : adding document #0 to Dictionary(0 unique tokens: [])\n",
      "2019-09-09 16:03:03,722 : INFO : adding document #10000 to Dictionary(14673 unique tokens: ['kalah', 'korban', 'loloskan', 'pemilu', 'rentak']...)\n",
      "2019-09-09 16:03:03,889 : INFO : adding document #20000 to Dictionary(21933 unique tokens: ['kalah', 'korban', 'loloskan', 'pemilu', 'rentak']...)\n",
      "2019-09-09 16:03:03,899 : INFO : built Dictionary(22199 unique tokens: ['kalah', 'korban', 'loloskan', 'pemilu', 'rentak']...) from 20520 documents (total 276481 corpus positions)\n"
     ]
    }
   ],
   "source": [
    "dictionary = gensim.corpora.Dictionary(clean)"
   ]
  },
  {
   "cell_type": "code",
   "execution_count": 13,
   "metadata": {},
   "outputs": [
    {
     "name": "stdout",
     "output_type": "stream",
     "text": [
      "0 kalah\n",
      "1 korban\n",
      "2 loloskan\n",
      "3 pemilu\n",
      "4 rentak\n",
      "5 aneka\n"
     ]
    }
   ],
   "source": [
    "# Preview\n",
    "count = 0\n",
    "for k, v in dictionary.iteritems():\n",
    "    print(k, v)\n",
    "    count += 1\n",
    "    if count > 5:\n",
    "        break"
   ]
  },
  {
   "cell_type": "markdown",
   "metadata": {},
   "source": [
    "## Filter token"
   ]
  },
  {
   "cell_type": "code",
   "execution_count": 14,
   "metadata": {},
   "outputs": [
    {
     "name": "stderr",
     "output_type": "stream",
     "text": [
      "2019-09-09 16:03:11,289 : INFO : discarding 17181 tokens: [('loloskan', 2), ('pemilu', 20383), ('aneka', 3), ('munculnya', 2), ('fatonah', 2), ('sidiq', 1), ('tabliq', 1), ('romusha', 1), ('trial', 2), ('orasi', 3)]...\n",
      "2019-09-09 16:03:11,290 : INFO : keeping 5018 tokens which were in no less than 5 and no more than 10260 (=50.0%) documents\n",
      "2019-09-09 16:03:11,299 : INFO : resulting dictionary: Dictionary(5018 unique tokens: ['kalah', 'korban', 'rentak', 'baca', 'fenomena']...)\n"
     ]
    }
   ],
   "source": [
    "dictionary.filter_extremes()"
   ]
  },
  {
   "cell_type": "markdown",
   "metadata": {},
   "source": [
    "## Build BoW Corpus"
   ]
  },
  {
   "cell_type": "code",
   "execution_count": 15,
   "metadata": {
    "collapsed": true
   },
   "outputs": [],
   "source": [
    "bow_corpus = [dictionary.doc2bow(doc) for doc in clean]"
   ]
  },
  {
   "cell_type": "markdown",
   "metadata": {},
   "source": [
    "#### Corpus Preview"
   ]
  },
  {
   "cell_type": "code",
   "execution_count": 16,
   "metadata": {
    "collapsed": true
   },
   "outputs": [],
   "source": [
    "def bow_corpus_sample(corpus, random_index):\n",
    "    sample = corpus[random_index]\n",
    "    print('Corpus sample index : ',random_index)\n",
    "    for i in range(len(sample)):\n",
    "        print(\"Word {} (\\\"{}\\\") appears {} time.\".format(sample[i][0], \n",
    "                                                         dictionary[sample[i][0]], \n",
    "                                                         sample[i][1]))"
   ]
  },
  {
   "cell_type": "code",
   "execution_count": 17,
   "metadata": {},
   "outputs": [
    {
     "name": "stdout",
     "output_type": "stream",
     "text": [
      "Corpus sample index :  3197\n",
      "Word 153 (\"proses\") appears 1 time.\n",
      "Word 249 (\"moga\") appears 1 time.\n",
      "Word 541 (\"april\") appears 1 time.\n",
      "Word 1202 (\"jaga\") appears 2 time.\n",
      "Word 3865 (\"lancarnya\") appears 1 time.\n"
     ]
    }
   ],
   "source": [
    "sample_index = randint(0,10000)\n",
    "bow_corpus_sample(bow_corpus, sample_index)"
   ]
  },
  {
   "cell_type": "markdown",
   "metadata": {},
   "source": [
    "## Find model with optimal Number Of Topics\n",
    "https://datascienceplus.com/evaluation-of-topic-modeling-topic-coherence/"
   ]
  },
  {
   "cell_type": "code",
   "execution_count": 18,
   "metadata": {
    "collapsed": true
   },
   "outputs": [],
   "source": [
    "def compute_coherence_values(dictionary, corpus, texts, limit, start=2, step=3):\n",
    "    \"\"\"\n",
    "    Compute c_v coherence for various number of topics\n",
    "\n",
    "    Parameters:\n",
    "    ----------\n",
    "    dictionary : Gensim dictionary\n",
    "    corpus : Gensim corpus\n",
    "    texts : List of input texts\n",
    "    limit : Max num of topics\n",
    "\n",
    "    Returns:\n",
    "    -------\n",
    "    model_list : List of LDA topic models\n",
    "    coherence_values : Coherence values corresponding to the LDA model with respective number of topics\n",
    "    \"\"\"\n",
    "    coherence_values = []\n",
    "    model_list = []\n",
    "    for num_topics in range(start, limit, step):\n",
    "#         model=LdaModel(corpus=corpus, id2word=dictionary, num_topics=num_topics)\n",
    "        model = gensim.models.LdaMulticore(bow_corpus, num_topics=num_topics, id2word=dictionary, passes=2, workers=2)\n",
    "        model_list.append(model)\n",
    "        coherencemodel = CoherenceModel(model=model, texts=texts, dictionary=dictionary, coherence='c_v')\n",
    "        coherence_values.append(coherencemodel.get_coherence())\n",
    "\n",
    "    return model_list, coherence_values"
   ]
  },
  {
   "cell_type": "code",
   "execution_count": null,
   "metadata": {
    "collapsed": true,
    "scrolled": true
   },
   "outputs": [],
   "source": [
    "model_list, coherence_values = compute_coherence_values(dictionary=dictionary, corpus=bow_corpus, texts=clean, start=2, limit=11, step=2)"
   ]
  },
  {
   "cell_type": "code",
   "execution_count": null,
   "metadata": {},
   "outputs": [],
   "source": [
    "# Show graph\n",
    "limit=11; start=2; step=2;\n",
    "x = range(start, limit, step)\n",
    "plt.plot(x, coherence_values)\n",
    "plt.xlabel(\"Num Topics on BoW corpus\")\n",
    "plt.ylabel(\"Coherence score\")\n",
    "plt.legend((\"coherence_values\"))\n",
    "plt.show()\n",
    "# plt.savefig(os.path.join(os.pardir,os.pardir,'data','06_out','50-KCore_model','50-KCore_ldamodel'),dpi=300)"
   ]
  },
  {
   "cell_type": "markdown",
   "metadata": {},
   "source": [
    "# Feed best number of topics"
   ]
  },
  {
   "cell_type": "code",
   "execution_count": null,
   "metadata": {},
   "outputs": [],
   "source": [
    "coherence_values"
   ]
  },
  {
   "cell_type": "code",
   "execution_count": null,
   "metadata": {
    "collapsed": true
   },
   "outputs": [],
   "source": [
    "# Please check best model (model with highest coherence score)\n",
    "# lda_model = model_list[3]"
   ]
  },
  {
   "cell_type": "code",
   "execution_count": 20,
   "metadata": {},
   "outputs": [
    {
     "name": "stdout",
     "output_type": "stream",
     "text": [
      "LdaModel(num_terms=5018, num_topics=8, decay=0.5, chunksize=2000)\n"
     ]
    }
   ],
   "source": [
    "print(lda_model)"
   ]
  },
  {
   "cell_type": "markdown",
   "metadata": {},
   "source": [
    "## Save Best Model"
   ]
  },
  {
   "cell_type": "code",
   "execution_count": null,
   "metadata": {
    "collapsed": true
   },
   "outputs": [],
   "source": [
    "# lda_model.save(os.path.join(os.pardir,os.pardir,'data','06_out','5-KCore_model','ldamodel'))"
   ]
  },
  {
   "cell_type": "markdown",
   "metadata": {},
   "source": [
    "## Load Model"
   ]
  },
  {
   "cell_type": "code",
   "execution_count": 19,
   "metadata": {},
   "outputs": [
    {
     "name": "stderr",
     "output_type": "stream",
     "text": [
      "2019-09-09 16:05:53,562 : INFO : loading LdaModel object from ..\\..\\data\\06_out\\5-KCore_model\\ldamodel\n",
      "2019-09-09 16:05:53,606 : INFO : loading expElogbeta from ..\\..\\data\\06_out\\5-KCore_model\\ldamodel.expElogbeta.npy with mmap=r\n",
      "2019-09-09 16:05:53,693 : INFO : setting ignored attribute id2word to None\n",
      "2019-09-09 16:05:53,695 : INFO : setting ignored attribute dispatcher to None\n",
      "2019-09-09 16:05:53,697 : INFO : setting ignored attribute state to None\n",
      "2019-09-09 16:05:53,699 : INFO : loaded ..\\..\\data\\06_out\\5-KCore_model\\ldamodel\n",
      "2019-09-09 16:05:53,701 : INFO : loading LdaState object from ..\\..\\data\\06_out\\5-KCore_model\\ldamodel.state\n",
      "2019-09-09 16:05:53,726 : INFO : loaded ..\\..\\data\\06_out\\5-KCore_model\\ldamodel.state\n"
     ]
    },
    {
     "name": "stdout",
     "output_type": "stream",
     "text": [
      "LdaModel(num_terms=5018, num_topics=8, decay=0.5, chunksize=2000)\n"
     ]
    }
   ],
   "source": [
    "lda_model = LdaModel.load(os.path.join(os.pardir,os.pardir,'data','06_out','5-KCore_model','ldamodel'), mmap='r')\n",
    "print(lda_model)"
   ]
  },
  {
   "cell_type": "code",
   "execution_count": 21,
   "metadata": {},
   "outputs": [
    {
     "name": "stderr",
     "output_type": "stream",
     "text": [
      "2019-09-09 16:07:39,912 : INFO : using ParallelWordOccurrenceAccumulator(processes=7, batch_size=64) to estimate probabilities from sliding windows\n",
      "2019-09-09 16:07:47,275 : INFO : 7 accumulators retrieved from output queue\n",
      "2019-09-09 16:07:47,338 : INFO : accumulated word occurrence stats for 18594 virtual documents\n"
     ]
    },
    {
     "name": "stdout",
     "output_type": "stream",
     "text": [
      "0.28721564785953935\n"
     ]
    }
   ],
   "source": [
    "coherence = CoherenceModel(model=lda_model, texts=clean, dictionary=dictionary, coherence='c_v')\n",
    "print(coherence.get_coherence())"
   ]
  },
  {
   "cell_type": "code",
   "execution_count": 22,
   "metadata": {
    "scrolled": true
   },
   "outputs": [
    {
     "name": "stderr",
     "output_type": "stream",
     "text": [
      "2019-09-09 16:08:10,746 : INFO : topic #0 (0.125): 0.020*\"undang\" + 0.015*\"kpps\" + 0.015*\"suara\" + 0.013*\"surat\" + 0.013*\"terima\" + 0.012*\"kpu\" + 0.012*\"kasih\" + 0.011*\"terima_kasih\" + 0.011*\"presiden\" + 0.011*\"tugas\"\n",
      "2019-09-09 16:08:10,748 : INFO : topic #1 (0.125): 0.011*\"moga\" + 0.011*\"korban\" + 0.011*\"kpu\" + 0.009*\"orang\" + 0.009*\"suara\" + 0.009*\"biar\" + 0.008*\"curang\" + 0.008*\"kotak\" + 0.008*\"indonesia\" + 0.007*\"pilih\"\n",
      "2019-09-09 16:08:10,749 : INFO : topic #2 (0.125): 0.031*\"kpu\" + 0.018*\"curang\" + 0.017*\"calon\" + 0.015*\"tps\" + 0.014*\"pasang\" + 0.012*\"selenggara\" + 0.011*\"hasil\" + 0.010*\"pasang_calon\" + 0.009*\"orang\" + 0.009*\"hitung\"\n",
      "2019-09-09 16:08:10,749 : INFO : topic #3 (0.125): 0.036*\"kpu\" + 0.017*\"selenggara\" + 0.011*\"hasil\" + 0.011*\"debat\" + 0.008*\"capres\" + 0.008*\"daftar\" + 0.008*\"undang\" + 0.007*\"main\" + 0.007*\"rakyat\" + 0.007*\"ketua\"\n",
      "2019-09-09 16:08:10,750 : INFO : topic #4 (0.125): 0.034*\"suara\" + 0.030*\"pilih\" + 0.027*\"kpu\" + 0.012*\"orang\" + 0.011*\"surat\" + 0.011*\"hak\" + 0.010*\"kotak\" + 0.009*\"surat_suara\" + 0.007*\"ktp\" + 0.007*\"kotak_suara\"\n",
      "2019-09-09 16:08:10,752 : INFO : topic #5 (0.125): 0.042*\"curang\" + 0.017*\"kali\" + 0.013*\"salah\" + 0.012*\"misi\" + 0.011*\"rakyat\" + 0.010*\"visi\" + 0.009*\"visi_misi\" + 0.009*\"kpu\" + 0.009*\"laku\" + 0.008*\"selenggara\"\n",
      "2019-09-09 16:08:10,753 : INFO : topic #6 (0.125): 0.033*\"kpu\" + 0.019*\"rakyat\" + 0.015*\"selenggara\" + 0.013*\"kali\" + 0.013*\"indonesia\" + 0.011*\"hasil\" + 0.009*\"curang\" + 0.009*\"debat\" + 0.008*\"presiden\" + 0.007*\"kualitas\"\n",
      "2019-09-09 16:08:10,754 : INFO : topic #7 (0.125): 0.046*\"jujur\" + 0.046*\"adil\" + 0.041*\"rakyat\" + 0.032*\"jujur_adil\" + 0.014*\"selenggara\" + 0.014*\"indonesia\" + 0.012*\"kpu\" + 0.012*\"curang\" + 0.011*\"demokrasi\" + 0.011*\"allah\"\n"
     ]
    },
    {
     "name": "stdout",
     "output_type": "stream",
     "text": [
      "Topic: 0 \n",
      "Words: 0.020*\"undang\" + 0.015*\"kpps\" + 0.015*\"suara\" + 0.013*\"surat\" + 0.013*\"terima\" + 0.012*\"kpu\" + 0.012*\"kasih\" + 0.011*\"terima_kasih\" + 0.011*\"presiden\" + 0.011*\"tugas\"\n",
      "Topic: 1 \n",
      "Words: 0.011*\"moga\" + 0.011*\"korban\" + 0.011*\"kpu\" + 0.009*\"orang\" + 0.009*\"suara\" + 0.009*\"biar\" + 0.008*\"curang\" + 0.008*\"kotak\" + 0.008*\"indonesia\" + 0.007*\"pilih\"\n",
      "Topic: 2 \n",
      "Words: 0.031*\"kpu\" + 0.018*\"curang\" + 0.017*\"calon\" + 0.015*\"tps\" + 0.014*\"pasang\" + 0.012*\"selenggara\" + 0.011*\"hasil\" + 0.010*\"pasang_calon\" + 0.009*\"orang\" + 0.009*\"hitung\"\n",
      "Topic: 3 \n",
      "Words: 0.036*\"kpu\" + 0.017*\"selenggara\" + 0.011*\"hasil\" + 0.011*\"debat\" + 0.008*\"capres\" + 0.008*\"daftar\" + 0.008*\"undang\" + 0.007*\"main\" + 0.007*\"rakyat\" + 0.007*\"ketua\"\n",
      "Topic: 4 \n",
      "Words: 0.034*\"suara\" + 0.030*\"pilih\" + 0.027*\"kpu\" + 0.012*\"orang\" + 0.011*\"surat\" + 0.011*\"hak\" + 0.010*\"kotak\" + 0.009*\"surat_suara\" + 0.007*\"ktp\" + 0.007*\"kotak_suara\"\n",
      "Topic: 5 \n",
      "Words: 0.042*\"curang\" + 0.017*\"kali\" + 0.013*\"salah\" + 0.012*\"misi\" + 0.011*\"rakyat\" + 0.010*\"visi\" + 0.009*\"visi_misi\" + 0.009*\"kpu\" + 0.009*\"laku\" + 0.008*\"selenggara\"\n",
      "Topic: 6 \n",
      "Words: 0.033*\"kpu\" + 0.019*\"rakyat\" + 0.015*\"selenggara\" + 0.013*\"kali\" + 0.013*\"indonesia\" + 0.011*\"hasil\" + 0.009*\"curang\" + 0.009*\"debat\" + 0.008*\"presiden\" + 0.007*\"kualitas\"\n",
      "Topic: 7 \n",
      "Words: 0.046*\"jujur\" + 0.046*\"adil\" + 0.041*\"rakyat\" + 0.032*\"jujur_adil\" + 0.014*\"selenggara\" + 0.014*\"indonesia\" + 0.012*\"kpu\" + 0.012*\"curang\" + 0.011*\"demokrasi\" + 0.011*\"allah\"\n"
     ]
    }
   ],
   "source": [
    "# Show Topics\n",
    "for idx, topic in lda_model.print_topics(-1):\n",
    "    print('Topic: {} \\nWords: {}'.format(idx, topic))"
   ]
  },
  {
   "cell_type": "markdown",
   "metadata": {},
   "source": [
    "## Visualization"
   ]
  },
  {
   "cell_type": "code",
   "execution_count": 23,
   "metadata": {},
   "outputs": [
    {
     "name": "stderr",
     "output_type": "stream",
     "text": [
      "C:\\ProgramData\\Anaconda3\\lib\\site-packages\\pyLDAvis\\_prepare.py:257: FutureWarning: Sorting because non-concatenation axis is not aligned. A future version\n",
      "of pandas will change to not sort by default.\n",
      "\n",
      "To accept the future behavior, pass 'sort=False'.\n",
      "\n",
      "To retain the current behavior and silence the warning, pass 'sort=True'.\n",
      "\n",
      "  return pd.concat([default_term_info] + list(topic_dfs))\n"
     ]
    },
    {
     "data": {
      "text/html": [
       "\n",
       "<link rel=\"stylesheet\" type=\"text/css\" href=\"https://cdn.rawgit.com/bmabey/pyLDAvis/files/ldavis.v1.0.0.css\">\n",
       "\n",
       "\n",
       "<div id=\"ldavis_el1530014197764568882223572013\"></div>\n",
       "<script type=\"text/javascript\">\n",
       "\n",
       "var ldavis_el1530014197764568882223572013_data = {\"mdsDat\": {\"x\": [0.14625363258131288, -0.005728684213722162, 0.04711412182600827, -0.14600712783843087, -0.11753655296744625, 0.07182727466101622, -0.00506262243833166, 0.009139958389593581], \"y\": [-0.0805699632854389, 0.04278855501578039, 0.004326929226870856, -0.02149586288671111, -0.03933632250319966, 0.0808740309845883, 0.1315707805718866, -0.11815814712377637], \"topics\": [1, 2, 3, 4, 5, 6, 7, 8], \"cluster\": [1, 1, 1, 1, 1, 1, 1, 1], \"Freq\": [16.75185203552246, 13.953824043273926, 12.823812484741211, 12.794160842895508, 12.420690536499023, 11.222262382507324, 10.346620559692383, 9.686779022216797]}, \"tinfo\": {\"Category\": [\"Default\", \"Default\", \"Default\", \"Default\", \"Default\", \"Default\", \"Default\", \"Default\", \"Default\", \"Default\", \"Default\", \"Default\", \"Default\", \"Default\", \"Default\", \"Default\", \"Default\", \"Default\", \"Default\", \"Default\", \"Default\", \"Default\", \"Default\", \"Default\", \"Default\", \"Default\", \"Default\", \"Default\", \"Default\", \"Default\", \"Topic1\", \"Topic1\", \"Topic1\", \"Topic1\", \"Topic1\", \"Topic1\", \"Topic1\", \"Topic1\", \"Topic1\", \"Topic1\", \"Topic1\", \"Topic1\", \"Topic1\", \"Topic1\", \"Topic1\", \"Topic1\", \"Topic1\", \"Topic1\", \"Topic1\", \"Topic1\", \"Topic1\", \"Topic1\", \"Topic1\", \"Topic1\", \"Topic1\", \"Topic1\", \"Topic1\", \"Topic1\", \"Topic1\", \"Topic1\", \"Topic1\", \"Topic1\", \"Topic1\", \"Topic1\", \"Topic1\", \"Topic1\", \"Topic1\", \"Topic1\", \"Topic1\", \"Topic1\", \"Topic1\", \"Topic1\", \"Topic1\", \"Topic1\", \"Topic1\", \"Topic1\", \"Topic1\", \"Topic1\", \"Topic1\", \"Topic1\", \"Topic1\", \"Topic1\", \"Topic1\", \"Topic1\", \"Topic1\", \"Topic1\", \"Topic1\", \"Topic1\", \"Topic1\", \"Topic1\", \"Topic1\", \"Topic1\", \"Topic1\", \"Topic1\", \"Topic1\", \"Topic1\", \"Topic1\", \"Topic1\", \"Topic1\", \"Topic1\", \"Topic1\", \"Topic1\", \"Topic1\", \"Topic1\", \"Topic1\", \"Topic1\", \"Topic1\", \"Topic1\", \"Topic1\", \"Topic2\", \"Topic2\", \"Topic2\", \"Topic2\", \"Topic2\", \"Topic2\", \"Topic2\", \"Topic2\", \"Topic2\", \"Topic2\", \"Topic2\", \"Topic2\", \"Topic2\", \"Topic2\", \"Topic2\", \"Topic2\", \"Topic2\", \"Topic2\", \"Topic2\", \"Topic2\", \"Topic2\", \"Topic2\", \"Topic2\", \"Topic2\", \"Topic2\", \"Topic2\", \"Topic2\", \"Topic2\", \"Topic2\", \"Topic2\", \"Topic2\", \"Topic2\", \"Topic2\", \"Topic2\", \"Topic2\", \"Topic2\", \"Topic2\", \"Topic2\", \"Topic2\", \"Topic2\", \"Topic2\", \"Topic2\", \"Topic2\", \"Topic2\", \"Topic2\", \"Topic2\", \"Topic2\", \"Topic2\", \"Topic2\", \"Topic2\", \"Topic2\", \"Topic2\", \"Topic2\", \"Topic2\", \"Topic2\", \"Topic2\", \"Topic2\", \"Topic2\", \"Topic2\", \"Topic2\", \"Topic2\", \"Topic2\", \"Topic2\", \"Topic2\", \"Topic2\", \"Topic2\", \"Topic2\", \"Topic2\", \"Topic2\", \"Topic2\", \"Topic2\", \"Topic2\", \"Topic2\", \"Topic2\", \"Topic2\", \"Topic2\", \"Topic2\", \"Topic2\", \"Topic2\", \"Topic3\", \"Topic3\", \"Topic3\", \"Topic3\", \"Topic3\", \"Topic3\", \"Topic3\", \"Topic3\", \"Topic3\", \"Topic3\", \"Topic3\", \"Topic3\", \"Topic3\", \"Topic3\", \"Topic3\", \"Topic3\", \"Topic3\", \"Topic3\", \"Topic3\", \"Topic3\", \"Topic3\", \"Topic3\", \"Topic3\", \"Topic3\", \"Topic3\", \"Topic3\", \"Topic3\", \"Topic3\", \"Topic3\", \"Topic3\", \"Topic3\", \"Topic3\", \"Topic3\", \"Topic3\", \"Topic3\", \"Topic3\", \"Topic3\", \"Topic3\", \"Topic3\", \"Topic3\", \"Topic3\", \"Topic3\", \"Topic3\", \"Topic3\", \"Topic3\", \"Topic3\", \"Topic3\", \"Topic3\", \"Topic3\", \"Topic3\", \"Topic3\", \"Topic3\", \"Topic3\", \"Topic3\", \"Topic3\", \"Topic3\", \"Topic3\", \"Topic3\", \"Topic3\", \"Topic3\", \"Topic3\", \"Topic3\", \"Topic3\", \"Topic3\", \"Topic3\", \"Topic3\", \"Topic3\", \"Topic3\", \"Topic3\", \"Topic3\", \"Topic3\", \"Topic3\", \"Topic3\", \"Topic3\", \"Topic3\", \"Topic3\", \"Topic3\", \"Topic3\", \"Topic3\", \"Topic3\", \"Topic3\", \"Topic3\", \"Topic3\", \"Topic3\", \"Topic4\", \"Topic4\", \"Topic4\", \"Topic4\", \"Topic4\", \"Topic4\", \"Topic4\", \"Topic4\", \"Topic4\", \"Topic4\", \"Topic4\", \"Topic4\", \"Topic4\", \"Topic4\", \"Topic4\", \"Topic4\", \"Topic4\", \"Topic4\", \"Topic4\", \"Topic4\", \"Topic4\", \"Topic4\", \"Topic4\", \"Topic4\", \"Topic4\", \"Topic4\", \"Topic4\", \"Topic4\", \"Topic4\", \"Topic4\", \"Topic4\", \"Topic4\", \"Topic4\", \"Topic4\", \"Topic4\", \"Topic4\", \"Topic4\", \"Topic4\", \"Topic4\", \"Topic4\", \"Topic4\", \"Topic4\", \"Topic4\", \"Topic4\", \"Topic4\", \"Topic4\", \"Topic4\", \"Topic4\", \"Topic4\", \"Topic4\", \"Topic4\", \"Topic4\", \"Topic4\", \"Topic4\", \"Topic4\", \"Topic4\", \"Topic4\", \"Topic4\", \"Topic4\", \"Topic4\", \"Topic4\", \"Topic4\", \"Topic4\", \"Topic4\", \"Topic4\", \"Topic4\", \"Topic4\", \"Topic4\", \"Topic4\", \"Topic4\", \"Topic4\", \"Topic4\", \"Topic4\", \"Topic4\", \"Topic5\", \"Topic5\", \"Topic5\", \"Topic5\", \"Topic5\", \"Topic5\", \"Topic5\", \"Topic5\", \"Topic5\", \"Topic5\", \"Topic5\", \"Topic5\", \"Topic5\", \"Topic5\", \"Topic5\", \"Topic5\", \"Topic5\", \"Topic5\", \"Topic5\", \"Topic5\", \"Topic5\", \"Topic5\", \"Topic5\", \"Topic5\", \"Topic5\", \"Topic5\", \"Topic5\", \"Topic5\", \"Topic5\", \"Topic5\", \"Topic5\", \"Topic5\", \"Topic5\", \"Topic5\", \"Topic5\", \"Topic5\", \"Topic5\", \"Topic5\", \"Topic5\", \"Topic5\", \"Topic5\", \"Topic5\", \"Topic5\", \"Topic5\", \"Topic5\", \"Topic5\", \"Topic5\", \"Topic5\", \"Topic5\", \"Topic5\", \"Topic5\", \"Topic5\", \"Topic5\", \"Topic5\", \"Topic5\", \"Topic5\", \"Topic5\", \"Topic5\", \"Topic5\", \"Topic5\", \"Topic5\", \"Topic5\", \"Topic5\", \"Topic5\", \"Topic5\", \"Topic5\", \"Topic5\", \"Topic5\", \"Topic5\", \"Topic5\", \"Topic5\", \"Topic5\", \"Topic5\", \"Topic5\", \"Topic5\", \"Topic5\", \"Topic5\", \"Topic6\", \"Topic6\", \"Topic6\", \"Topic6\", \"Topic6\", \"Topic6\", \"Topic6\", \"Topic6\", \"Topic6\", \"Topic6\", \"Topic6\", \"Topic6\", \"Topic6\", \"Topic6\", \"Topic6\", \"Topic6\", \"Topic6\", \"Topic6\", \"Topic6\", \"Topic6\", \"Topic6\", \"Topic6\", \"Topic6\", \"Topic6\", \"Topic6\", \"Topic6\", \"Topic6\", \"Topic6\", \"Topic6\", \"Topic6\", \"Topic6\", \"Topic6\", \"Topic6\", \"Topic6\", \"Topic6\", \"Topic6\", \"Topic6\", \"Topic6\", \"Topic6\", \"Topic6\", \"Topic6\", \"Topic6\", \"Topic6\", \"Topic6\", \"Topic6\", \"Topic6\", \"Topic6\", \"Topic6\", \"Topic6\", \"Topic6\", \"Topic6\", \"Topic6\", \"Topic6\", \"Topic6\", \"Topic6\", \"Topic6\", \"Topic6\", \"Topic6\", \"Topic6\", \"Topic6\", \"Topic6\", \"Topic6\", \"Topic6\", \"Topic6\", \"Topic6\", \"Topic6\", \"Topic6\", \"Topic6\", \"Topic6\", \"Topic6\", \"Topic6\", \"Topic6\", \"Topic6\", \"Topic6\", \"Topic6\", \"Topic6\", \"Topic7\", \"Topic7\", \"Topic7\", \"Topic7\", \"Topic7\", \"Topic7\", \"Topic7\", \"Topic7\", \"Topic7\", \"Topic7\", \"Topic7\", \"Topic7\", \"Topic7\", \"Topic7\", \"Topic7\", \"Topic7\", \"Topic7\", \"Topic7\", \"Topic7\", \"Topic7\", \"Topic7\", \"Topic7\", \"Topic7\", \"Topic7\", \"Topic7\", \"Topic7\", \"Topic7\", \"Topic7\", \"Topic7\", \"Topic7\", \"Topic7\", \"Topic7\", \"Topic7\", \"Topic7\", \"Topic7\", \"Topic7\", \"Topic7\", \"Topic7\", \"Topic7\", \"Topic7\", \"Topic7\", \"Topic7\", \"Topic7\", \"Topic7\", \"Topic7\", \"Topic7\", \"Topic7\", \"Topic7\", \"Topic7\", \"Topic7\", \"Topic7\", \"Topic7\", \"Topic7\", \"Topic7\", \"Topic7\", \"Topic7\", \"Topic7\", \"Topic7\", \"Topic7\", \"Topic7\", \"Topic7\", \"Topic7\", \"Topic7\", \"Topic7\", \"Topic7\", \"Topic7\", \"Topic7\", \"Topic7\", \"Topic7\", \"Topic7\", \"Topic7\", \"Topic7\", \"Topic7\", \"Topic7\", \"Topic7\", \"Topic7\", \"Topic7\", \"Topic7\", \"Topic7\", \"Topic7\", \"Topic7\", \"Topic8\", \"Topic8\", \"Topic8\", \"Topic8\", \"Topic8\", \"Topic8\", \"Topic8\", \"Topic8\", \"Topic8\", \"Topic8\", \"Topic8\", \"Topic8\", \"Topic8\", \"Topic8\", \"Topic8\", \"Topic8\", \"Topic8\", \"Topic8\", \"Topic8\", \"Topic8\", \"Topic8\", \"Topic8\", \"Topic8\", \"Topic8\", \"Topic8\", \"Topic8\", \"Topic8\", \"Topic8\", \"Topic8\", \"Topic8\", \"Topic8\", \"Topic8\", \"Topic8\", \"Topic8\", \"Topic8\", \"Topic8\", \"Topic8\", \"Topic8\", \"Topic8\", \"Topic8\", \"Topic8\", \"Topic8\", \"Topic8\", \"Topic8\", \"Topic8\", \"Topic8\", \"Topic8\", \"Topic8\", \"Topic8\", \"Topic8\", \"Topic8\", \"Topic8\", \"Topic8\", \"Topic8\", \"Topic8\", \"Topic8\", \"Topic8\", \"Topic8\", \"Topic8\", \"Topic8\", \"Topic8\", \"Topic8\", \"Topic8\", \"Topic8\", \"Topic8\", \"Topic8\", \"Topic8\", \"Topic8\", \"Topic8\", \"Topic8\", \"Topic8\", \"Topic8\", \"Topic8\", \"Topic8\", \"Topic8\", \"Topic8\", \"Topic8\", \"Topic8\", \"Topic8\", \"Topic8\", \"Topic8\", \"Topic8\", \"Topic8\", \"Topic8\"], \"Freq\": [2127.0, 2167.0, 1335.0, 3005.0, 3096.0, 2316.0, 754.0, 4743.0, 990.0, 1814.0, 423.0, 569.0, 870.0, 564.0, 616.0, 501.0, 386.0, 417.0, 327.0, 712.0, 403.0, 906.0, 536.0, 417.0, 1504.0, 629.0, 863.0, 559.0, 293.0, 435.0, 40.5705451965332, 37.924800872802734, 26.36611557006836, 25.957534790039062, 23.1541805267334, 23.200408935546875, 20.974443435668945, 23.742855072021484, 18.747968673706055, 17.100923538208008, 16.368499755859375, 16.363994598388672, 19.750228881835938, 19.795936584472656, 14.80787467956543, 14.678750038146973, 14.30675983428955, 18.446983337402344, 13.2926607131958, 23.75482749938965, 13.949114799499512, 26.858776092529297, 36.27785873413086, 12.008971214294434, 40.6254997253418, 11.202982902526855, 15.881074905395508, 10.727926254272461, 16.91223907470703, 10.44050407409668, 1208.103515625, 66.75003814697266, 25.245494842529297, 25.3555850982666, 57.05648422241211, 33.572532653808594, 1731.2119140625, 1758.8582763671875, 64.93988037109375, 44.99397277832031, 151.50363159179688, 179.5402069091797, 24.524768829345703, 111.74269104003906, 74.74468231201172, 1548.8299560546875, 384.5159912109375, 104.93022918701172, 302.68408203125, 406.979248046875, 48.52379608154297, 153.15589904785156, 382.4168395996094, 410.9195251464844, 42.02092742919922, 234.25003051757812, 68.34874725341797, 90.53861236572266, 136.51585388183594, 276.375244140625, 518.8392944335938, 344.1614685058594, 162.6223602294922, 98.43217468261719, 186.556396484375, 104.72567749023438, 532.5831298828125, 254.89669799804688, 227.19493103027344, 467.34185791015625, 188.12074279785156, 471.3822937011719, 134.75840759277344, 194.66293334960938, 236.5606689453125, 136.3987274169922, 146.78062438964844, 165.79344177246094, 137.90182495117188, 66.029052734375, 57.366371154785156, 31.633472442626953, 30.403013229370117, 23.62783432006836, 47.429622650146484, 20.895597457885742, 19.36574935913086, 16.124391555786133, 19.293371200561523, 15.397534370422363, 17.048328399658203, 14.070185661315918, 13.603219985961914, 21.275611877441406, 15.285882949829102, 12.569836616516113, 11.839105606079102, 11.839987754821777, 12.18778133392334, 11.8267240524292, 183.18763732910156, 16.685884475708008, 25.408348083496094, 14.23166561126709, 10.27580451965332, 10.311511039733887, 10.559837341308594, 13.399321556091309, 9.409989356994629, 54.69367218017578, 21.16702651977539, 14.291277885437012, 312.2217102050781, 18.514957427978516, 426.6922912597656, 109.63386535644531, 20.943435668945312, 19.769756317138672, 530.4849243164062, 21.45128631591797, 111.41883850097656, 27.880420684814453, 71.75872039794922, 458.40667724609375, 45.40550231933594, 137.02871704101562, 24.86431312561035, 99.29544830322266, 268.90081787109375, 54.991458892822266, 39.6171875, 89.7536392211914, 207.8798370361328, 159.4750518798828, 980.48828125, 156.9493865966797, 151.1252899169922, 53.40056228637695, 50.32838439941406, 194.9420623779297, 177.73696899414062, 352.1250305175781, 578.9227905273438, 293.1422424316406, 263.2945251464844, 373.5378112792969, 138.56524658203125, 115.19573211669922, 126.0638656616211, 188.68060302734375, 160.71322631835938, 220.202392578125, 122.84257507324219, 137.6371307373047, 143.03680419921875, 154.80081176757812, 139.37802124023438, 115.97628021240234, 56.32221984863281, 38.88845443725586, 31.47720718383789, 27.676456451416016, 19.10909652709961, 18.78254508972168, 17.883501052856445, 16.700597763061523, 15.601232528686523, 15.12061882019043, 15.127670288085938, 21.406389236450195, 18.54353141784668, 14.648679733276367, 12.071803092956543, 11.704214096069336, 11.534334182739258, 11.377793312072754, 11.702333450317383, 11.385210990905762, 10.719350814819336, 10.64321517944336, 10.631864547729492, 11.307124137878418, 13.828465461730957, 10.481236457824707, 20.40272331237793, 10.515093803405762, 10.511331558227539, 10.212697982788086, 19.76215362548828, 15.06155776977539, 36.51433563232422, 344.9536437988281, 37.97970199584961, 26.43387222290039, 27.016164779663086, 259.4729309082031, 49.72956085205078, 17.512775421142578, 286.39129638671875, 30.074710845947266, 19.944232940673828, 44.264652252197266, 46.67905807495117, 33.6234016418457, 53.659366607666016, 116.8055419921875, 198.5864715576172, 1219.59619140625, 46.450897216796875, 33.96833038330078, 82.05259704589844, 185.03018188476562, 65.63397979736328, 488.0896911621094, 72.37146759033203, 182.99398803710938, 96.69969940185547, 254.56155395507812, 379.4228210449219, 186.46963500976562, 60.750240325927734, 56.73439407348633, 190.11026000976562, 146.42779541015625, 123.07954406738281, 167.78150939941406, 144.48118591308594, 194.57919311523438, 138.88169860839844, 145.94752502441406, 315.3330078125, 146.03598022460938, 241.3846893310547, 84.76512145996094, 142.7581329345703, 208.2129669189453, 258.7682800292969, 132.40316772460938, 138.15017700195312, 138.67433166503906, 108.2397689819336, 111.04682159423828, 102.86122131347656, 87.30430603027344, 73.28021240234375, 51.192779541015625, 75.19833374023438, 22.62774085998535, 20.708032608032227, 102.3272933959961, 19.710159301757812, 18.080982208251953, 89.8426742553711, 15.888497352600098, 17.899980545043945, 16.082548141479492, 14.372288703918457, 14.371679306030273, 55.5875244140625, 21.373708724975586, 27.68541717529297, 12.117132186889648, 12.4315824508667, 25.81616973876953, 48.662662506103516, 11.190926551818848, 16.139013290405273, 13.222366333007812, 21.880359649658203, 26.476940155029297, 39.47611618041992, 11.59819221496582, 165.44459533691406, 162.30738830566406, 26.354001998901367, 93.87008666992188, 29.125104904174805, 52.027610778808594, 149.52426147460938, 47.369651794433594, 40.82767868041992, 104.88565063476562, 208.83303833007812, 44.5362434387207, 856.1737060546875, 315.8389587402344, 282.2974853515625, 977.260986328125, 211.12167358398438, 272.00946044921875, 331.2771301269531, 144.34912109375, 32.878089904785156, 66.69818878173828, 98.87561798095703, 106.85130310058594, 773.4219360351562, 339.8658142089844, 99.6286849975586, 138.8697052001953, 163.17791748046875, 120.5491943359375, 143.560302734375, 142.3472442626953, 133.2570343017578, 168.1613311767578, 144.2054901123047, 114.27530670166016, 124.44346618652344, 154.24368286132812, 149.83935546875, 143.9936065673828, 128.5610809326172, 137.89453125, 116.89647674560547, 119.21207427978516, 51.9242057800293, 51.549835205078125, 30.623043060302734, 26.64488410949707, 25.63288116455078, 25.63288116455078, 25.63288116455078, 25.63288116455078, 25.63288116455078, 25.63288116455078, 25.63288116455078, 23.254867553710938, 19.269365310668945, 34.83958435058594, 21.593307495117188, 23.5648136138916, 23.5648136138916, 23.5648136138916, 15.624298095703125, 15.569489479064941, 14.765902519226074, 14.597066879272461, 12.831788063049316, 17.780611038208008, 12.387706756591797, 16.260414123535156, 12.313136100769043, 17.173032760620117, 13.41556167602539, 11.912755012512207, 29.247089385986328, 33.1414909362793, 126.62850189208984, 45.98746871948242, 317.90032958984375, 417.38409423828125, 59.78553009033203, 88.38565063476562, 158.79119873046875, 47.438899993896484, 38.45244216918945, 343.8205871582031, 555.423583984375, 363.0416259765625, 377.2520446777344, 49.71987533569336, 57.99009323120117, 93.93109893798828, 265.2674865722656, 55.00749588012695, 65.86931610107422, 50.18709182739258, 300.50091552734375, 308.9081726074219, 168.07057189941406, 204.49534606933594, 190.22998046875, 413.8258361816406, 106.9625015258789, 163.0940704345703, 141.9998016357422, 249.71429443359375, 206.365234375, 158.5712890625, 85.75251770019531, 132.37428283691406, 344.9027404785156, 132.39389038085938, 207.37449645996094, 248.72073364257812, 106.27129364013672, 129.68614196777344, 123.71696472167969, 161.1384735107422, 112.22237396240234, 114.17290496826172, 114.35742950439453, 73.86267852783203, 35.936073303222656, 35.936073303222656, 24.593612670898438, 45.998043060302734, 19.429405212402344, 57.516666412353516, 15.013129234313965, 19.446975708007812, 14.640002250671387, 17.57163429260254, 17.57163429260254, 17.57163429260254, 17.57163429260254, 28.01436996459961, 13.731098175048828, 18.56177520751953, 33.66700744628906, 13.446561813354492, 15.018200874328613, 11.123726844787598, 28.12186622619629, 12.236063003540039, 101.9152603149414, 10.71681022644043, 13.393924713134766, 10.415802001953125, 10.694664001464844, 10.748908042907715, 12.530425071716309, 63.58673095703125, 29.584428787231445, 25.02601432800293, 54.721275329589844, 80.2809066772461, 25.904281616210938, 36.89024353027344, 29.405488967895508, 68.7201156616211, 100.39234924316406, 67.965087890625, 31.870786666870117, 175.40005493164062, 82.11139678955078, 112.28336334228516, 52.588661193847656, 47.11869812011719, 50.5315055847168, 832.27294921875, 65.56954193115234, 217.72361755371094, 335.26959228515625, 129.56907653808594, 322.03912353515625, 484.841064453125, 212.782470703125, 380.1403503417969, 78.42679595947266, 268.01873779296875, 132.15065002441406, 141.2831268310547, 173.70640563964844, 132.6343536376953, 85.31725311279297, 238.09524536132812, 123.07989501953125, 102.34312438964844, 108.85602569580078, 102.58663940429688, 90.14501190185547, 114.25353240966797, 87.79450225830078, 95.83435821533203, 87.98780059814453, 87.35343933105469, 91.05308532714844, 133.92636108398438, 41.97043228149414, 33.607330322265625, 30.19182586669922, 25.785791397094727, 53.464019775390625, 18.663022994995117, 14.90406608581543, 16.3754825592041, 17.742218017578125, 24.126449584960938, 32.10063171386719, 10.719246864318848, 67.60982513427734, 9.797428131103516, 13.54081916809082, 12.865103721618652, 10.38886547088623, 15.853554725646973, 9.083035469055176, 8.43337345123291, 14.255146980285645, 34.525516510009766, 9.123480796813965, 7.8372111320495605, 8.683313369750977, 7.764310836791992, 7.56058406829834, 14.242531776428223, 8.093923568725586, 8.824028015136719, 17.730581283569336, 22.0546875, 21.11332130432129, 107.51763916015625, 49.856204986572266, 23.228639602661133, 22.383024215698242, 55.554996490478516, 43.08663558959961, 25.70311164855957, 42.03458023071289, 72.3886489868164, 60.5236930847168, 63.094886779785156, 31.906497955322266, 36.414337158203125, 54.475833892822266, 60.6451301574707, 263.1767272949219, 159.18798828125, 73.37957000732422, 188.50340270996094, 104.43303680419922, 850.9365234375, 194.27882385253906, 38.71013641357422, 392.8731384277344, 141.3614501953125, 265.86083984375, 87.49886322021484, 66.18256378173828, 154.8678436279297, 134.6826934814453, 95.02507019042969, 187.86387634277344, 151.5068359375, 150.24661254882812, 93.46565246582031, 100.3920669555664, 126.93891143798828, 100.18390655517578, 132.64207458496094, 130.83209228515625, 143.36538696289062, 126.26592254638672, 154.70230102539062, 158.03868103027344, 106.28790283203125, 96.75153350830078, 105.24308776855469, 39.76325225830078, 44.654380798339844, 32.509765625, 53.13325881958008, 27.975706100463867, 22.355445861816406, 21.030885696411133, 20.842580795288086, 18.222801208496094, 17.001832962036133, 14.670086860656738, 27.59693717956543, 16.445188522338867, 12.41269588470459, 12.257560729980469, 13.544961929321289, 16.207441329956055, 15.608888626098633, 17.908130645751953, 10.084633827209473, 12.180868148803711, 9.60843563079834, 9.766932487487793, 15.086077690124512, 11.226731300354004, 9.428016662597656, 9.034640312194824, 9.032364845275879, 9.284550666809082, 9.010211944580078, 48.50920104980469, 16.93079376220703, 113.3974380493164, 18.72342872619629, 121.51807403564453, 29.276411056518555, 34.50446701049805, 22.118995666503906, 93.22290802001953, 76.984130859375, 40.1302604675293, 46.26931381225586, 36.636009216308594, 22.099742889404297, 233.0066680908203, 68.58267211914062, 69.1153793334961, 29.575403213500977, 66.65188598632812, 49.688385009765625, 36.0697135925293, 25.634050369262695, 68.9130859375, 160.93856811523438, 235.14527893066406, 166.61720275878906, 186.788818359375, 99.54296112060547, 89.10460662841797, 143.9969482421875, 73.47842407226562, 207.08729553222656, 95.47809600830078, 62.86028289794922, 54.068790435791016, 117.41279602050781, 75.61373138427734, 166.1194610595703, 196.87203979492188, 103.88006591796875, 127.528076171875, 162.44235229492188, 231.13609313964844, 119.17951202392578, 159.9372100830078, 133.91400146484375, 170.9022979736328, 132.38499450683594, 103.96886444091797, 150.0006561279297, 104.720703125, 98.23603057861328, 104.10321044921875, 99.58303833007812], \"Term\": [\"adil\", \"jujur\", \"jujur_adil\", \"rakyat\", \"curang\", \"suara\", \"surat\", \"kpu\", \"undang\", \"pilih\", \"misi\", \"surat_suara\", \"calon\", \"kpps\", \"pasang\", \"kotak\", \"terima_kasih\", \"visi\", \"visi_misi\", \"debat\", \"pasang_calon\", \"tps\", \"kasih\", \"korban\", \"kali\", \"terima\", \"presiden\", \"hak\", \"kotak_suara\", \"kardus\", \"boikot\", \"padu\", \"perintah_isu\", \"kuliah\", \"batang\", \"sultan\", \"dipersulit\", \"undang_ite\", \"hasyim\", \"dipermalukan\", \"hasyim_asy\", \"asy\", \"indonesia_cinta\", \"mandiri\", \"utamanya\", \"diajarkan\", \"tidak_berpihak\", \"hadirkan\", \"ditegakkan\", \"takutlah\", \"selangor\", \"tidak_malu\", \"tegakkan\", \"telusur\", \"hormat_tolong\", \"tikai\", \"lintas\", \"pedoman\", \"jaga_netralitas\", \"bkerja\", \"jujur_adil\", \"lantai\", \"ketidak_jujuran\", \"tidak_baik\", \"asas\", \"berat_belah\", \"adil\", \"jujur\", \"maha\", \"ciptakan\", \"uang_rakyat\", \"buruk_sejarah\", \"ite\", \"luber\", \"luber_jujur\", \"rakyat\", \"sejarah\", \"swt\", \"damai\", \"allah\", \"cinta\", \"pesta\", \"buruk\", \"demokrasi\", \"azab_allah\", \"bangsa\", \"allah_swt\", \"pesta_demokrasi\", \"amanah\", \"uang\", \"indonesia\", \"kerja\", \"harap\", \"doa\", \"dunia\", \"azab\", \"selenggara\", \"moga\", \"laksana\", \"curang\", \"jalan\", \"kpu\", \"netral\", \"negara\", \"suara\", \"hukum\", \"tolong\", \"kali\", \"tugas\", \"rabu_april\", \"koordinasi\", \"februari\", \"australia\", \"halaman\", \"waspada\", \"mohon_infonya\", \"tidak_harus\", \"kota_bandung\", \"rp_triliun\", \"agung\", \"aya\", \"official\", \"bebas_rahasia\", \"kota_bengkulu\", \"kaleng\", \"krisis\", \"tidak_bermutu\", \"tidak_memilih\", \"viryan\", \"pertahana\", \"rabu\", \"suami\", \"infonya\", \"yaa_allah\", \"dibuang\", \"tidak_dipercaya\", \"tajam\", \"tidak_sempat\", \"gagalkan\", \"pemungutan_hitung\", \"dadak\", \"koplak\", \"pasang_calon\", \"menangkan\", \"pasang\", \"wib\", \"pulang_kampung\", \"ribu_tps\", \"calon\", \"jaksa\", \"pemungutan\", \"tidak_hanya\", \"ruang\", \"tps\", \"kampung\", \"resmi\", \"tampil\", \"rapat\", \"hitung\", \"pemungutan_suara\", \"akal_sehat\", \"turun\", \"april\", \"kota\", \"kpu\", \"jakarta\", \"buka\", \"salah_pasang\", \"kabupaten_kota\", \"hoax\", \"lembaga\", \"hasil\", \"curang\", \"orang\", \"negara\", \"selenggara\", \"atur\", \"malu\", \"awas\", \"salah\", \"menang\", \"suara\", \"nyata\", \"allah\", \"data\", \"rakyat\", \"indonesia\", \"moga\", \"dptb\", \"bkl\", \"tanam\", \"proses_hukum\", \"warna\", \"kader\", \"perdana\", \"banyuwangi\", \"undi\", \"akurasi\", \"emak_emak\", \"layar\", \"cuitan\", \"hti\", \"sepak\", \"kpunya\", \"sulawesi\", \"kalimantan\", \"tidak_golput\", \"kirana\", \"mou\", \"chusnul\", \"hastag\", \"istimewa\", \"bui\", \"respons\", \"rahasia_jujur\", \"diluruskan\", \"stakeholder\", \"sepakbola\", \"api\", \"suara_coblos\", \"ter\", \"misi\", \"bola\", \"shame_on\", \"shame\", \"visi_misi\", \"hati_hati\", \"domba\", \"visi\", \"tidak_ingin\", \"image\", \"on\", \"papar_visi\", \"jelek\", \"papar\", \"tidak_netral\", \"hati\", \"curang\", \"you\", \"indikasi_curang\", \"anggap\", \"bilang\", \"batal\", \"kali\", \"tidak_mau\", \"bukti\", \"malaysia\", \"laku\", \"salah\", \"kalah\", \"human\", \"tuduh\", \"tidak_ada\", \"tim\", \"salah_input\", \"input\", \"proses\", \"data\", \"sukses\", \"percaya\", \"rakyat\", \"lihat\", \"selenggara\", \"jahat\", \"menang\", \"suara\", \"kpu\", \"calon\", \"negara\", \"orang\", \"langsung\", \"pilih\", \"tidak_terdaftar\", \"kpu_jatim\", \"wna\", \"januari\", \"rantau\", \"kota_malang\", \"ditiadakan\", \"kertas_suara\", \"nomor_urut\", \"days\", \"orang_gila\", \"days_goes\", \"hujan\", \"calonnya\", \"setiawan\", \"wahyu_setiawan\", \"sekira\", \"ktp_el\", \"ketidak_percayaan\", \"ketidak_netralan\", \"konferensi\", \"pos\", \"dana_kampanye\", \"jingle\", \"napi\", \"google\", \"urus_pindah\", \"partai_politik\", \"desain\", \"cek_rekam\", \"hak_pilih\", \"kertas\", \"personel\", \"jatim\", \"el\", \"nomor\", \"gila\", \"malang\", \"klik\", \"wni\", \"kotak_suara\", \"ektp\", \"pilih\", \"hak\", \"kotak\", \"suara\", \"ktp\", \"surat_suara\", \"surat\", \"nyoblos\", \"pers\", \"gelar\", \"pindah\", \"ln\", \"kpu\", \"orang\", \"video\", \"daerah\", \"kardus\", \"sosialisasi\", \"nama\", \"kampanye\", \"kota\", \"negeri\", \"coblos\", \"golput\", \"jakarta\", \"kerja\", \"tps\", \"data\", \"uang\", \"negara\", \"daftar\", \"selenggara\", \"wakil_presiden\", \"tidak_naik\", \"naikan\", \"kpps_honor\", \"pilkada_masak\", \"naikan_honor\", \"tingkat_sulit\", \"serumit\", \"serumit_tidak_mau\", \"sulit_timbang\", \"iya_honor\", \"taukah\", \"app\", \"petisi\", \"mohon_info\", \"menstigma\", \"menstigma_disabilitas\", \"stop_iklan\", \"tidak_jelas\", \"job\", \"siluman\", \"jaenudin\", \"sekretariat\", \"mental_tandatangani\", \"ngaciro\", \"surat_suaranya\", \"dicetak\", \"bimbing\", \"tidak_mendapat\", \"berkas\", \"hongkong\", \"tidak_independen\", \"honor\", \"pasal_ayat\", \"terima_kasih\", \"kpps\", \"ayat\", \"tugas_kpps\", \"pasal\", \"pasal_undang\", \"ketua_kpps\", \"kasih\", \"undang\", \"terima\", \"surat\", \"lengkap\", \"langgar_undang\", \"sulit\", \"surat_suara\", \"mental\", \"domisili\", \"presiden_wakil\", \"tugas\", \"presiden\", \"langgar\", \"coblos\", \"ulang\", \"suara\", \"no\", \"rentak\", \"kampanye\", \"salah\", \"data\", \"mohon\", \"pilkada\", \"aman\", \"kpu\", \"input\", \"pilih\", \"curang\", \"min\", \"tolong\", \"jalan\", \"kali\", \"daftar\", \"laksana\", \"selenggara\", \"maret\", \"reposted\", \"reposted_from\", \"jakarta_jakarta\", \"from\", \"mari_sukseskan\", \"polling\", \"tidak_kredibel\", \"angin\", \"coret\", \"coba_bangun\", \"utama_mendelegitimasi\", \"sifat_skeptis\", \"olah_institusi\", \"kubu_oposisi\", \"konfirmasi\", \"tanggal_maret\", \"wib_hotel\", \"jakarta_tema\", \"picu\", \"kong\", \"validasi\", \"teraneh\", \"tidak_percaya\", \"kemendagri\", \"skalian\", \"mendegradasi\", \"sndri\", \"action\", \"debat_keempat\", \"internasional\", \"provinsi_bengkulu\", \"adil_makmur\", \"hotel\", \"netralitas\", \"intervensi\", \"larang\", \"makmur\", \"asing\", \"polri\", \"calon_presiden\", \"sifat\", \"kualitas\", \"tni\", \"amburadul\", \"ngurus\", \"oposisi\", \"institusi\", \"kpu\", \"alam\", \"debat\", \"kali\", \"perintah\", \"indonesia\", \"rakyat\", \"presiden\", \"selenggara\", \"nilai\", \"hasil\", \"kacau\", \"percaya\", \"negara\", \"masyarakat\", \"kubu\", \"curang\", \"menang\", \"kalah\", \"calon\", \"lihat\", \"atur\", \"pilih\", \"nyata\", \"orang\", \"sejarah\", \"buruk\", \"adil\", \"debat_capres\", \"debat_pasang\", \"urus_form\", \"apk\", \"jepara\", \"tidak_dapat\", \"guys\", \"huruf\", \"tani\", \"no_pasal\", \"main_main\", \"digelar\", \"bpjs\", \"lomba\", \"kreatif\", \"mural\", \"data_valid\", \"zona\", \"prediksi\", \"debatnya\", \"bendung\", \"deligitimasi\", \"tua\", \"menciderai\", \"dinegeri\", \"mobil\", \"pade\", \"kaler\", \"rekapitulasi_manual\", \"pkl\", \"yakini\", \"alamat_ktp\", \"kampus\", \"tidak_layak\", \"tidak_akan\", \"alamat\", \"sosialisasi_didik\", \"ketidak_adilan\", \"tidak_di\", \"bocor\", \"sbb\", \"rkyt\", \"komisioner_kpu\", \"kisi\", \"didik\", \"_\", \"busuk\", \"daftar_pilih\", \"diluar\", \"debat\", \"main\", \"bpn\", \"daftar\", \"komisioner\", \"kpu\", \"capres\", \"kawan\", \"selenggara\", \"kawal\", \"hasil\", \"cawapres\", \"mas\", \"ketua\", \"bawaslu\", \"bang\", \"undang\", \"negeri\", \"masyarakat\", \"sosialisasi\", \"tuju\", \"laksana\", \"langgar\", \"data\", \"kerja\", \"salah\", \"menang\", \"pilih\", \"rakyat\", \"biar\", \"lembaga\", \"orang\", \"berita_bohong\", \"dprd_kabupaten\", \"osis\", \"jenis\", \"tandatangani\", \"ketua_osis\", \"keempat\", \"presiden_wapres\", \"ayo_sukseskan\", \"kotak_suaranya\", \"referensi\", \"format\", \"tidak_terlibat\", \"samsul\", \"kmrin\", \"libur_nasional\", \"abu\", \"infografis\", \"lembar\", \"lht\", \"colek\", \"skripsi\", \"ana\", \"grand\", \"klompok\", \"isyarat\", \"that\", \"ketuk\", \"baju\", \"rdp\", \"dihapus\", \"dateng\", \"jelang\", \"tarung\", \"dprd\", \"tara\", \"dprd_provinsi\", \"selamatkan\", \"tidak_jujur\", \"tidak_perlu\", \"terparah\", \"makan_korban\", \"bentar\", \"mohon_tindak\", \"korban\", \"tidak_boleh\", \"sukseskan\", \"apanya\", \"dpd\", \"panggil\", \"usut_tuntas\", \"sudut\", \"jiwa\", \"kardus\", \"moga\", \"kotak\", \"biar\", \"dpr\", \"gagal\", \"hoax\", \"makan\", \"orang\", \"tidak_bisa\", \"nyawa\", \"dear\", \"mohon\", \"berita\", \"indonesia\", \"suara\", \"rentak\", \"menang\", \"pilih\", \"kpu\", \"tps\", \"selenggara\", \"hasil\", \"curang\", \"kali\", \"tolong\", \"rakyat\", \"negara\", \"presiden\", \"jujur\", \"adil\"], \"Total\": [2127.0, 2167.0, 1335.0, 3005.0, 3096.0, 2316.0, 754.0, 4743.0, 990.0, 1814.0, 423.0, 569.0, 870.0, 564.0, 616.0, 501.0, 386.0, 417.0, 327.0, 712.0, 403.0, 906.0, 536.0, 417.0, 1504.0, 629.0, 863.0, 559.0, 293.0, 435.0, 41.42946243286133, 38.78704833984375, 27.25580596923828, 26.841108322143555, 24.012617111206055, 24.064373016357422, 21.83457374572754, 24.801502227783203, 19.676971435546875, 17.969369888305664, 17.23240852355957, 17.231395721435547, 20.85076141357422, 20.936800003051758, 15.666999816894531, 15.536397933959961, 15.163569450378418, 19.566747665405273, 14.150510787963867, 25.35047721862793, 14.896055221557617, 28.695356369018555, 38.783321380615234, 12.875633239746094, 43.72669982910156, 12.073341369628906, 17.137598037719727, 11.5891752243042, 18.274728775024414, 11.301182746887207, 1335.7041015625, 72.85520935058594, 27.376922607421875, 27.530229568481445, 63.02040100097656, 36.69077682495117, 2127.130859375, 2167.79931640625, 73.66416931152344, 50.48995590209961, 183.21389770507812, 223.94158935546875, 26.7716121673584, 142.22857666015625, 93.08543395996094, 3005.891845703125, 634.9578247070312, 143.98558044433594, 511.5474853515625, 746.5296630859375, 59.544559478759766, 242.86614990234375, 743.483154296875, 828.20361328125, 50.47903823852539, 440.2884216308594, 92.94068145751953, 133.0838623046875, 226.2629852294922, 619.9862670898438, 1485.268798828125, 929.972412109375, 325.3800048828125, 159.905029296875, 423.9575500488281, 182.73265075683594, 2314.02587890625, 828.4810180664062, 697.7094116210938, 3096.344482421875, 572.3438720703125, 4743.30908203125, 388.05517578125, 1140.7691650390625, 2316.533447265625, 430.78228759765625, 626.9254760742188, 1504.400146484375, 740.8363037109375, 66.99667358398438, 58.257476806640625, 32.56972122192383, 31.568706512451172, 24.538894653320312, 49.379608154296875, 21.783540725708008, 20.253293991088867, 17.011959075927734, 20.399658203125, 16.2869815826416, 18.08452033996582, 14.957121849060059, 14.492265701293945, 22.70393180847168, 16.363502502441406, 13.46692943572998, 12.726680755615234, 12.727693557739258, 13.159172058105469, 12.773942947387695, 198.03726196289062, 18.044315338134766, 27.5368595123291, 15.439459800720215, 11.16391372680664, 11.215215682983398, 11.537028312683105, 14.651573181152344, 10.297343254089355, 60.23762512207031, 23.345497131347656, 15.68360710144043, 403.23907470703125, 20.64000129699707, 616.8365478515625, 145.2047576904297, 23.768802642822266, 22.493330001831055, 870.9619750976562, 24.63218879699707, 163.92706298828125, 33.53269577026367, 102.03119659423828, 906.8068237304688, 61.47959518432617, 252.1641387939453, 29.87226676940918, 172.4740447998047, 676.7174682617188, 86.29383087158203, 55.76665115356445, 169.34271240234375, 535.8626098632812, 372.9564208984375, 4743.30908203125, 375.82861328125, 371.9434509277344, 84.80168151855469, 78.4755859375, 563.3345947265625, 492.05596923828125, 1367.100830078125, 3096.344482421875, 1345.5338134765625, 1140.7691650390625, 2314.02587890625, 422.9343566894531, 309.5521240234375, 369.5064392089844, 1289.6849365234375, 869.6776733398438, 2316.533447265625, 475.84423828125, 746.5296630859375, 922.2412109375, 3005.891845703125, 1485.268798828125, 828.4810180664062, 57.286014556884766, 39.751808166503906, 32.34505081176758, 28.914785385131836, 19.96904754638672, 19.64143943786621, 18.753402709960938, 17.559547424316406, 16.4639949798584, 15.982179641723633, 16.104734420776367, 22.821735382080078, 19.802827835083008, 15.684202194213867, 12.930747985839844, 12.563027381896973, 12.395594596862793, 12.237553596496582, 12.597691535949707, 12.259971618652344, 11.579419136047363, 11.502364158630371, 11.49141788482666, 12.221763610839844, 14.95421028137207, 11.344234466552734, 22.087038040161133, 11.386258125305176, 11.383759498596191, 11.075437545776367, 21.541688919067383, 16.385942459106445, 41.03065490722656, 423.50445556640625, 43.046512603759766, 29.535579681396484, 30.219533920288086, 327.1110534667969, 59.34199905395508, 19.540599822998047, 417.261962890625, 35.54014587402344, 22.65798568725586, 55.41532897949219, 59.0516242980957, 41.40392303466797, 72.31140899658203, 181.58294677734375, 342.7442932128906, 3096.344482421875, 63.476802825927734, 43.40049743652344, 131.70257568359375, 400.76751708984375, 102.82364654541016, 1504.400146484375, 119.04374694824219, 410.7196350097656, 175.96580505371094, 662.700439453125, 1289.6849365234375, 528.9559936523438, 100.6795425415039, 91.35751342773438, 575.9647827148438, 409.6698913574219, 312.29705810546875, 537.6768798828125, 459.3109130859375, 922.2412109375, 499.75360107421875, 563.5387573242188, 3005.891845703125, 691.1550903320312, 2314.02587890625, 217.8487548828125, 869.6776733398438, 2316.533447265625, 4743.30908203125, 870.9619750976562, 1140.7691650390625, 1345.5338134765625, 544.3816528320312, 1814.16064453125, 103.93507385253906, 88.40603637695312, 74.25189208984375, 52.10761642456055, 77.61312103271484, 23.538747787475586, 21.60344696044922, 107.27106475830078, 20.71605682373047, 19.00779151916504, 94.62590789794922, 16.79969024658203, 18.95787239074707, 17.053104400634766, 15.272274017333984, 15.272318840026855, 59.081031799316406, 22.764432907104492, 29.568967819213867, 13.010836601257324, 13.372930526733398, 27.785011291503906, 52.41682052612305, 12.084879875183105, 17.46455192565918, 14.308462142944336, 23.713716506958008, 28.719173431396484, 42.82695007324219, 12.583127975463867, 181.83587646484375, 179.12744140625, 29.08460235595703, 108.48773956298828, 32.480953216552734, 59.882774353027344, 192.84991455078125, 55.28874969482422, 47.2227783203125, 134.8491668701172, 293.95208740234375, 53.01451110839844, 1814.16064453125, 559.0736694335938, 501.36749267578125, 2316.533447265625, 401.5035705566406, 569.24658203125, 754.47998046875, 264.9664001464844, 38.384742736816406, 102.54879760742188, 181.78929138183594, 206.74581909179688, 4743.30908203125, 1345.5338134765625, 190.7755584716797, 329.4347229003906, 435.4499816894531, 269.4064636230469, 386.4001770019531, 410.6251525878906, 372.9564208984375, 699.4655151367188, 529.8457641601562, 272.5942077636719, 375.82861328125, 929.972412109375, 906.8068237304688, 922.2412109375, 619.9862670898438, 1140.7691650390625, 502.03887939453125, 2314.02587890625, 52.85348129272461, 52.65149688720703, 31.504308700561523, 27.5935001373291, 26.601472854614258, 26.601472854614258, 26.601472854614258, 26.601472854614258, 26.601472854614258, 26.601472854614258, 26.601472854614258, 24.166292190551758, 20.151981353759766, 36.50284194946289, 22.633743286132812, 24.853797912597656, 24.853797912597656, 24.853797912597656, 16.50598907470703, 16.45107650756836, 15.648521423339844, 15.480496406555176, 13.722965240478516, 19.02392578125, 13.269984245300293, 17.421268463134766, 13.198290824890137, 18.430971145629883, 14.400423049926758, 12.8016939163208, 31.530902862548828, 35.88093566894531, 144.29312133789062, 51.380859375, 386.519287109375, 564.1388549804688, 70.05104064941406, 107.40061950683594, 210.6259002685547, 55.88136291503906, 44.50358200073242, 536.217529296875, 990.2750854492188, 629.8819580078125, 754.47998046875, 62.28933334350586, 77.02845764160156, 143.77084350585938, 569.24658203125, 74.36520385742188, 94.9512939453125, 65.86237335205078, 740.8363037109375, 863.7493896484375, 388.65484619140625, 529.8457641601562, 478.1423645019531, 2316.533447265625, 245.97442626953125, 518.0538330078125, 410.6251525878906, 1289.6849365234375, 922.2412109375, 618.812744140625, 184.99549865722656, 458.3497009277344, 4743.30908203125, 537.6768798828125, 1814.16064453125, 3096.344482421875, 352.8304748535156, 626.9254760742188, 572.3438720703125, 1504.400146484375, 502.03887939453125, 697.7094116210938, 2314.02587890625, 74.7547378540039, 36.81743621826172, 36.81743621826172, 25.510278701782227, 47.724586486816406, 20.331764221191406, 60.26842498779297, 15.894211769104004, 20.591384887695312, 15.521523475646973, 18.63937759399414, 18.63937759399414, 18.63937759399414, 18.63937759399414, 29.73272705078125, 14.65070629119873, 19.90239715576172, 36.106910705566406, 14.445199966430664, 16.194175720214844, 12.005338668823242, 30.359874725341797, 13.229307174682617, 110.3681869506836, 11.606147766113281, 14.527242660522461, 11.299659729003906, 11.61074447631836, 11.756204605102539, 13.711418151855469, 74.66947937011719, 33.67830276489258, 28.714982986450195, 66.85651397705078, 100.96765899658203, 30.437273025512695, 45.55495834350586, 35.81283950805664, 95.1629867553711, 153.20986938476562, 96.95283508300781, 40.00209426879883, 336.9063720703125, 137.1336212158203, 224.12355041503906, 80.6382827758789, 70.23263549804688, 81.85547637939453, 4743.30908203125, 120.35851287841797, 712.7889404296875, 1504.400146484375, 354.4297180175781, 1485.268798828125, 3005.891845703125, 863.7493896484375, 2314.02587890625, 168.2691192626953, 1367.100830078125, 457.4034423828125, 563.5387573242188, 1140.7691650390625, 689.778564453125, 267.9688720703125, 3096.344482421875, 869.6776733398438, 528.9559936523438, 870.9619750976562, 691.1550903320312, 422.9343566894531, 1814.16064453125, 475.84423828125, 1345.5338134765625, 634.9578247070312, 743.483154296875, 2127.130859375, 134.8124237060547, 42.86386489868164, 34.556495666503906, 31.078779220581055, 26.666311264038086, 56.04466247558594, 19.572031021118164, 15.784124374389648, 17.376569747924805, 18.83474349975586, 26.124406814575195, 34.770057678222656, 11.616944313049316, 73.545654296875, 10.676209449768066, 14.778830528259277, 14.096638679504395, 11.414755821228027, 17.439599990844727, 9.997376441955566, 9.314119338989258, 15.810318946838379, 38.345069885253906, 10.144981384277344, 8.716389656066895, 9.660511016845703, 8.655586242675781, 8.445058822631836, 15.933063507080078, 9.054786682128906, 9.87584114074707, 20.073869705200195, 25.149391174316406, 24.204660415649414, 130.63885498046875, 58.76002502441406, 26.76894760131836, 25.937896728515625, 68.1519546508789, 52.82100296020508, 30.488107681274414, 54.20473861694336, 102.54869842529297, 86.02751159667969, 92.58875274658203, 41.36278533935547, 49.151329040527344, 82.84749603271484, 97.40335083007812, 712.7889404296875, 393.2652587890625, 134.5033721923828, 502.03887939453125, 229.3504638671875, 4743.30908203125, 577.6944580078125, 55.76422119140625, 2314.02587890625, 445.40228271484375, 1367.100830078125, 218.9387969970703, 135.49131774902344, 607.1958618164062, 486.6973876953125, 255.95596313476562, 990.2750854492188, 699.4655151367188, 689.778564453125, 269.4064636230469, 376.4980773925781, 697.7094116210938, 388.65484619140625, 922.2412109375, 929.972412109375, 1289.6849365234375, 869.6776733398438, 1814.16064453125, 3005.891845703125, 645.2845458984375, 492.05596923828125, 1345.5338134765625, 40.62919616699219, 45.84807205200195, 33.38878631591797, 54.601192474365234, 28.854778289794922, 23.226734161376953, 21.89846420288086, 21.70369529724121, 19.082630157470703, 17.941999435424805, 15.53215217590332, 29.23867416381836, 17.567129135131836, 13.273978233337402, 13.117783546447754, 14.541982650756836, 17.478015899658203, 16.8687686920166, 19.361345291137695, 10.945917129516602, 13.231462478637695, 10.469507217407227, 10.642220497131348, 16.453542709350586, 12.246912956237793, 10.290656089782715, 9.909717559814453, 9.909229278564453, 10.20805835723877, 9.90768051147461, 53.50455856323242, 18.626068115234375, 129.5109100341797, 20.80980110168457, 148.69749450683594, 33.584476470947266, 40.0910758972168, 25.198287963867188, 117.30403900146484, 96.72100830078125, 48.242130279541016, 59.60264587402344, 46.14699172973633, 25.715274810791016, 417.3643493652344, 97.82360076904297, 104.82463073730469, 36.94348907470703, 105.88790130615234, 74.67100524902344, 49.726295471191406, 31.36090850830078, 129.134033203125, 435.4499816894531, 828.4810180664062, 501.36749267578125, 645.2845458984375, 251.68649291992188, 246.03201293945312, 563.3345947265625, 183.6519775390625, 1345.5338134765625, 326.18572998046875, 146.08335876464844, 107.96515655517578, 618.812744140625, 236.173828125, 1485.268798828125, 2316.533447265625, 518.0538330078125, 869.6776733398438, 1814.16064453125, 4743.30908203125, 906.8068237304688, 2314.02587890625, 1367.100830078125, 3096.344482421875, 1504.400146484375, 626.9254760742188, 3005.891845703125, 1140.7691650390625, 863.7493896484375, 2167.79931640625, 2127.130859375], \"loglift\": [30.0, 29.0, 28.0, 27.0, 26.0, 25.0, 24.0, 23.0, 22.0, 21.0, 20.0, 19.0, 18.0, 17.0, 16.0, 15.0, 14.0, 13.0, 12.0, 11.0, 10.0, 9.0, 8.0, 7.0, 6.0, 5.0, 4.0, 3.0, 2.0, 1.0, 1.7656999826431274, 1.76419997215271, 1.753499984741211, 1.7532000541687012, 1.7503000497817993, 1.750100016593933, 1.746500015258789, 1.7430000305175781, 1.7382999658584595, 1.7371000051498413, 1.735200047492981, 1.7350000143051147, 1.7323999404907227, 1.7305999994277954, 1.730299949645996, 1.7299000024795532, 1.7285000085830688, 1.7276999950408936, 1.7240999937057495, 1.72160005569458, 1.7209999561309814, 1.7204999923706055, 1.7199000120162964, 1.7170000076293945, 1.7130999565124512, 1.7117999792099, 1.7105000019073486, 1.7094000577926636, 1.7092000246047974, 1.7073999643325806, 1.6863000392913818, 1.6991000175476074, 1.7056000232696533, 1.7043999433517456, 1.6871999502182007, 1.6978000402450562, 1.5807000398635864, 1.5776000022888184, 1.660599946975708, 1.6713999509811401, 1.59660005569458, 1.5657000541687012, 1.6990000009536743, 1.5454000234603882, 1.567199945449829, 1.1236000061035156, 1.285099983215332, 1.4701999425888062, 1.2618999481201172, 1.1799999475479126, 1.5820000171661377, 1.325600028038025, 1.1217999458312988, 1.085800051689148, 1.6032999753952026, 1.1555999517440796, 1.4793000221252441, 1.4014999866485596, 1.2813999652862549, 0.9786999821662903, 0.7348999977111816, 0.7925999760627747, 1.0930999517440796, 1.3013999462127686, 0.9657999873161316, 1.2300000190734863, 0.31769999861717224, 0.6079000234603882, 0.6646999716758728, -0.10429999977350235, 0.6740000247955322, -0.5221999883651733, 0.7289999723434448, 0.01850000023841858, -0.4950000047683716, 0.6366000175476074, 0.33480000495910645, -0.4187000095844269, 0.10540000349283218, 1.9549000263214111, 1.9539999961853027, 1.9401999711990356, 1.9318000078201294, 1.9315999746322632, 1.9291000366210938, 1.9278000593185425, 1.9246000051498413, 1.9157999753952026, 1.913699984550476, 1.9133000373840332, 1.9104000329971313, 1.9083000421524048, 1.9061000347137451, 1.9043999910354614, 1.9012999534606934, 1.9005000591278076, 1.8970999717712402, 1.8970999717712402, 1.892699956893921, 1.8924000263214111, 1.8914999961853027, 1.8911000490188599, 1.8890000581741333, 1.8880000114440918, 1.8865000009536743, 1.8854000568389893, 1.8809000253677368, 1.8801000118255615, 1.8792999982833862, 1.8729000091552734, 1.871500015258789, 1.8763999938964844, 1.7136000394821167, 1.86080002784729, 1.6009000539779663, 1.6884000301361084, 1.842900037765503, 1.840399980545044, 1.4736000299453735, 1.8310999870300293, 1.583299994468689, 1.7848000526428223, 1.617400050163269, 1.2871999740600586, 1.6663000583648682, 1.3595000505447388, 1.7858999967575073, 1.4172999858856201, 1.0464999675750732, 1.5188000202178955, 1.627500057220459, 1.3345999717712402, 1.0225000381469727, 1.1197999715805054, 0.3930000066757202, 1.0961999893188477, 1.0687999725341797, 1.5068999528884888, 1.5252000093460083, 0.9082000255584717, 0.9510999917984009, 0.6129999756813049, 0.29260000586509705, 0.445499986410141, 0.5031999945640564, 0.14569999277591705, 0.8535000085830688, 0.98089998960495, 0.8939999938011169, 0.04729999974370003, 0.2809000015258789, -0.383899986743927, 0.6151999831199646, 0.2786000072956085, 0.10570000112056732, -0.9968000054359436, -0.396699994802475, 0.0031999999191612005, 2.036900043487549, 2.031899929046631, 2.026700019836426, 2.0100998878479004, 2.0097999572753906, 2.009200096130371, 2.0064001083374023, 2.003700017929077, 2.0, 1.9984999895095825, 1.9912999868392944, 1.989799976348877, 1.9881999492645264, 1.9855999946594238, 1.9851000308990479, 1.9831000566482544, 1.9818999767303467, 1.9809999465942383, 1.9801000356674194, 1.9797999858856201, 1.976699948310852, 1.976199984550476, 1.976099967956543, 1.976099967956543, 1.975600004196167, 1.9746999740600586, 1.9744999408721924, 1.9743000268936157, 1.9740999937057495, 1.9728000164031982, 1.9675999879837036, 1.969599962234497, 1.9372999668121338, 1.8487000465393066, 1.9285999536514282, 1.9428999423980713, 1.9417999982833862, 1.8221999406814575, 1.8770999908447266, 1.9443000555038452, 1.6775000095367432, 1.8868999481201172, 1.926300048828125, 1.829200029373169, 1.8187999725341797, 1.8457000255584717, 1.7554999589920044, 1.6126999855041504, 1.5081000328063965, 1.1222000122070312, 1.7416000366210938, 1.8087999820709229, 1.5807000398635864, 1.281000018119812, 1.6049000024795532, 0.9282000064849854, 1.5562000274658203, 1.2453999519348145, 1.455199956893921, 1.097100019454956, 0.8303999900817871, 1.011199951171875, 1.548699975013733, 1.5774999856948853, 0.9453999996185303, 1.024999976158142, 1.1226999759674072, 0.8892999887466431, 0.8973000049591064, 0.49790000915527344, 0.7734000086784363, 0.7028999924659729, -0.20080000162124634, 0.49939998984336853, -0.20649999380111694, 1.1098999977111816, 0.24690000712871552, -0.3553999960422516, -0.8547000288963318, 0.17010000348091125, -0.05730000138282776, -0.21860000491142273, 0.43860000371932983, -0.7396000027656555, 2.045799970626831, 2.043600082397461, 2.0429999828338623, 2.0385000705718994, 2.024600028991699, 2.016700029373169, 2.0137999057769775, 2.009000062942505, 2.0064001083374023, 2.006200075149536, 2.004300117492676, 2.0004000663757324, 1.9988000392913818, 1.9975999593734741, 1.9953999519348145, 1.9953999519348145, 1.9952000379562378, 1.9931000471115112, 1.990399956703186, 1.9850000143051147, 1.983199954032898, 1.982699990272522, 1.9818999767303467, 1.9793000221252441, 1.9772000312805176, 1.9772000312805176, 1.9757000207901, 1.9749000072479248, 1.9746999740600586, 1.9746999740600586, 1.9616999626159668, 1.9575999975204468, 1.9575999975204468, 1.9114999771118164, 1.947100043296814, 1.9155999422073364, 1.8016999959945679, 1.9016000032424927, 1.9106999635696411, 1.804900050163269, 1.7143000364303589, 1.8818999528884888, 1.305299997329712, 1.4851000308990479, 1.4817999601364136, 1.1930999755859375, 1.4134000539779663, 1.3177000284194946, 1.2331000566482544, 1.448799967765808, 1.9012999534606934, 1.6260000467300415, 1.4471999406814575, 1.3961000442504883, 0.24250000715255737, 0.6801999807357788, 1.406499981880188, 1.1922999620437622, 1.0745999813079834, 1.2519999742507935, 1.066100001335144, 0.9968000054359436, 1.0269999504089355, 0.6308000087738037, 0.754800021648407, 1.1868000030517578, 0.9509000182151794, 0.2596000134944916, 0.2558000087738037, 0.19910000264644623, 0.4828999936580658, -0.0568000003695488, 0.598800003528595, -0.9096999764442444, 2.0680999755859375, 2.06469988822937, 2.0573999881744385, 2.050800085067749, 2.0487000942230225, 2.0487000942230225, 2.0487000942230225, 2.0487000942230225, 2.0487000942230225, 2.0487000942230225, 2.0487000942230225, 2.0473999977111816, 2.0409998893737793, 2.0392000675201416, 2.0387001037597656, 2.032599925994873, 2.032599925994873, 2.032599925994873, 2.030900001525879, 2.0306999683380127, 2.0278000831604004, 2.0269999504089355, 2.018699884414673, 2.018199920654297, 2.0169999599456787, 2.0167999267578125, 2.016400098800659, 2.0151000022888184, 2.015000104904175, 2.0137999057769775, 2.0106000900268555, 2.0064001083374023, 1.955199956893921, 1.9749000072479248, 1.8904000520706177, 1.784500002861023, 1.927299976348877, 1.8910000324249268, 1.8033000230789185, 1.9220000505447388, 1.9397000074386597, 1.6413999795913696, 1.507599949836731, 1.5348000526428223, 1.392699956893921, 1.8603999614715576, 1.801900029182434, 1.660099983215332, 1.3221999406814575, 1.7842999696731567, 1.7201000452041626, 1.8140000104904175, 1.183500051498413, 1.0576000213623047, 1.247499942779541, 1.1338000297546387, 1.1641000509262085, 0.36340001225471497, 1.253100037574768, 0.9301000237464905, 1.0240000486373901, 0.4440000057220459, 0.5885999798774719, 0.7242000102996826, 1.3169000148773193, 0.8438000082969666, -0.5353999733924866, 0.6843000054359436, -0.08299999684095383, -0.4357999861240387, 0.8858000040054321, 0.5101000070571899, 0.554099977016449, -0.14810000360012054, 0.5875999927520752, 0.27570000290870667, -0.9215999841690063, 2.175299882888794, 2.1630001068115234, 2.1630001068115234, 2.150700092315674, 2.150399923324585, 2.141900062561035, 2.140500068664551, 2.130199909210205, 2.1301000118255615, 2.1287999153137207, 2.1282999515533447, 2.1282999515533447, 2.1282999515533447, 2.1282999515533447, 2.127700090408325, 2.1224000453948975, 2.117500066757202, 2.117300033569336, 2.115600109100342, 2.1119000911712646, 2.1110000610351562, 2.1106998920440674, 2.1092000007629395, 2.107599973678589, 2.1075000762939453, 2.1059999465942383, 2.105799913406372, 2.10509991645813, 2.0977001190185547, 2.0971999168395996, 2.026599884033203, 2.0576999187469482, 2.049799919128418, 1.9869999885559082, 1.9579999446868896, 2.0260000228881836, 1.9763000011444092, 1.9901000261306763, 1.8617000579833984, 1.7645000219345093, 1.8320000171661377, 1.9600000381469727, 1.534500002861023, 1.674399971961975, 1.4960999488830566, 1.7597999572753906, 1.788100004196167, 1.7049000263214111, 0.44690001010894775, 1.5799000263214111, 1.0012999773025513, 0.6861000061035156, 1.180999994277954, 0.6585999727249146, 0.3628000020980835, 0.786300003528595, 0.38109999895095825, 1.4239000082015991, 0.5579000115394592, 0.9455999732017517, 0.8037999868392944, 0.3052000105381012, 0.5385000109672546, 1.042799949645996, -0.3779999911785126, 0.23199999332427979, 0.544700026512146, 0.10769999772310257, 0.27959999442100525, 0.6414999961853027, -0.5777000188827515, 0.49720001220703125, -0.4546999931335449, 0.21089999377727509, 0.045899998396635056, -0.9638000130653381, 2.261899948120117, 2.2474000453948975, 2.2407000064849854, 2.2395999431610107, 2.2348999977111816, 2.221400022506714, 2.2209999561309814, 2.2111001014709473, 2.209199905395508, 2.2088000774383545, 2.1888999938964844, 2.1886000633239746, 2.1881000995635986, 2.1844000816345215, 2.1826000213623047, 2.180999994277954, 2.1770999431610107, 2.174299955368042, 2.1731998920440674, 2.172600030899048, 2.1691999435424805, 2.1649999618530273, 2.163599967956543, 2.162400007247925, 2.1621999740600586, 2.161900043487549, 2.1598000526428223, 2.157900094985962, 2.1563000679016113, 2.1563000679016113, 2.155900001525879, 2.144399881362915, 2.137200117111206, 2.1319000720977783, 2.073699951171875, 2.1041998863220215, 2.126699924468994, 2.1210999488830566, 2.0641000270843506, 2.0648000240325928, 2.0978000164031982, 2.01419997215271, 1.920199990272522, 1.9169000387191772, 1.8849999904632568, 2.0088999271392822, 1.9686000347137451, 1.8493000268936157, 1.794700026512146, 1.2721999883651733, 1.3640999794006348, 1.662600040435791, 1.2889000177383423, 1.4817999601364136, 0.5504000186920166, 1.1787999868392944, 1.903499960899353, 0.4952999949455261, 1.12090003490448, 0.6309999823570251, 1.3513000011444092, 1.5520000457763672, 0.9021999835968018, 0.9837999939918518, 1.2776000499725342, 0.6061999797821045, 0.7387999892234802, 0.7444000244140625, 1.2099000215530396, 0.9466999769210815, 0.5644000172615051, 0.9128000140190125, 0.3294000029563904, 0.30730000138282776, 0.07180000096559525, 0.33880001306533813, -0.19339999556541443, -0.6769999861717224, 0.4650000035762787, 0.6420999765396118, -0.2797999978065491, 2.3129000663757324, 2.308000087738037, 2.3076999187469482, 2.3071999549865723, 2.303499937057495, 2.2962000370025635, 2.2939999103546143, 2.2939000129699707, 2.288300037384033, 2.280600070953369, 2.2772998809814453, 2.276599884033203, 2.268399953842163, 2.2672998905181885, 2.2665998935699463, 2.263400077819824, 2.2588999271392822, 2.2567999362945557, 2.2564001083374023, 2.252500057220459, 2.251699924468994, 2.2486000061035156, 2.2486000061035156, 2.2476000785827637, 2.2474000453948975, 2.2469000816345215, 2.242000102996826, 2.24180006980896, 2.2395999431610107, 2.239500045776367, 2.2363998889923096, 2.239000082015991, 2.2014999389648438, 2.228800058364868, 2.1326000690460205, 2.1970999240875244, 2.184299945831299, 2.2040998935699463, 2.104599952697754, 2.1061999797821045, 2.1503000259399414, 2.081199884414673, 2.103600025177002, 2.1828999519348145, 1.7515000104904175, 1.9793000221252441, 1.9178999662399292, 2.111999988555908, 1.871500015258789, 1.9270999431610107, 2.0132999420166016, 2.1328001022338867, 1.7064000368118286, 1.3391000032424927, 1.0750000476837158, 1.232800006866455, 1.0946999788284302, 1.4068000316619873, 1.3187999725341797, 0.970300018787384, 1.4184000492095947, 0.46299999952316284, 1.1058000326156616, 1.4910999536514282, 1.642899990081787, 0.6722999811172485, 1.1955000162124634, 0.14380000531673431, -0.13089999556541443, 0.7275999784469604, 0.4146000146865845, -0.07859999686479568, -0.6870999932289124, 0.3050999939441681, -0.3375999927520752, 0.01119999960064888, -0.5625, -0.09600000083446503, 0.5376999974250793, -0.6632999777793884, -0.05380000174045563, 0.16050000488758087, -0.70169997215271, -0.7271000146865845], \"logprob\": [30.0, 29.0, 28.0, 27.0, 26.0, 25.0, 24.0, 23.0, 22.0, 21.0, 20.0, 19.0, 18.0, 17.0, 16.0, 15.0, 14.0, 13.0, 12.0, 11.0, 10.0, 9.0, 8.0, 7.0, 6.0, 5.0, 4.0, 3.0, 2.0, 1.0, -6.839799880981445, -6.907299995422363, -7.2708001136779785, -7.286399841308594, -7.400700092315674, -7.39870023727417, -7.499599933624268, -7.3755998611450195, -7.611800193786621, -7.703800201416016, -7.747499942779541, -7.747799873352051, -7.559700012207031, -7.557400226593018, -7.847700119018555, -7.856500148773193, -7.882199764251709, -7.627999782562256, -7.955699920654297, -7.375100135803223, -7.90749979019165, -7.252299785614014, -6.951700210571289, -8.05720043182373, -6.838500022888184, -8.126700401306152, -7.7778000831604, -8.170000076293945, -7.714799880981445, -8.197199821472168, -3.4460999965667725, -6.341899871826172, -7.314199924468994, -7.309899806976318, -6.498799800872803, -7.029200077056885, -3.0862998962402344, -3.070499897003174, -6.3694000244140625, -6.736400127410889, -5.522299766540527, -5.352499961853027, -7.343200206756592, -5.826700210571289, -6.228799819946289, -3.1975998878479004, -4.59089994430542, -5.889599800109863, -4.8302001953125, -4.53410005569458, -6.660799980163574, -5.51140022277832, -4.596399784088135, -4.524499893188477, -6.804699897766113, -5.08650016784668, -6.318299770355225, -6.037099838256836, -5.626399993896484, -4.92110013961792, -4.291299819946289, -4.7017998695373535, -5.451499938964844, -5.953499794006348, -5.314199924468994, -5.891499996185303, -4.265100002288818, -5.001999855041504, -5.117099761962891, -4.3958001136779785, -5.305799961090088, -4.387199878692627, -5.639400005340576, -5.271599769592285, -5.076700210571289, -5.627299785614014, -5.553899765014648, -5.43209981918335, -5.616300106048584, -6.170000076293945, -6.310699939727783, -6.905900001525879, -6.9456000328063965, -7.197700023651123, -6.500899791717529, -7.3206000328063965, -7.396599769592285, -7.579800128936768, -7.400400161743164, -7.625899791717529, -7.524099826812744, -7.716100215911865, -7.749800205230713, -7.302599906921387, -7.633200168609619, -7.828800201416016, -7.888700008392334, -7.888599872589111, -7.8597002029418945, -7.889800071716309, -5.149600028991699, -7.545599937438965, -7.125100135803223, -7.704699993133545, -8.03030014038086, -8.026900291442871, -8.003100395202637, -7.764900207519531, -8.118399620056152, -6.358399868011475, -7.307700157165527, -7.700500011444092, -4.616399765014648, -7.4415998458862305, -4.304100036621094, -5.663000106811523, -7.318299770355225, -7.375999927520752, -4.086299896240234, -7.294300079345703, -5.6468000411987305, -7.032199859619141, -6.0868000984191895, -4.232399940490723, -6.54449987411499, -5.439899921417236, -7.146699905395508, -5.76200008392334, -4.7657999992370605, -6.353000164031982, -6.6809000968933105, -5.863100051879883, -5.023200035095215, -5.2881999015808105, -3.472100019454956, -5.304200172424316, -5.3420000076293945, -6.382299900054932, -6.4415998458862305, -5.087399959564209, -5.179800033569336, -4.496099948883057, -3.999000072479248, -4.679500102996826, -4.786900043487549, -4.437099933624268, -5.428800106048584, -5.613500118255615, -5.5233001708984375, -5.120100021362305, -5.2804999351501465, -4.96560001373291, -5.549200057983398, -5.435500144958496, -5.396999835968018, -5.317999839782715, -5.422900199890137, -5.6066999435424805, -6.24459981918335, -6.614999771118164, -6.826399803161621, -6.955100059509277, -7.325500011444092, -7.342800140380859, -7.3917999267578125, -7.46019983291626, -7.528299808502197, -7.559599876403809, -7.559199810028076, -7.211999893188477, -7.355599880218506, -7.591300010681152, -7.784800052642822, -7.815700054168701, -7.830399990081787, -7.843999862670898, -7.815899848937988, -7.843400001525879, -7.903600215911865, -7.910799980163574, -7.911799907684326, -7.850200176239014, -7.64900016784668, -7.92609977722168, -7.260000228881836, -7.922900199890137, -7.9232001304626465, -7.952000141143799, -7.291900157928467, -7.563499927520752, -6.677999973297119, -4.432300090789795, -6.638599872589111, -7.000999927520752, -6.9791998863220215, -4.7170000076293945, -6.369100093841553, -7.412799835205078, -4.618299961090088, -6.872000217437744, -7.282700061798096, -6.485499858856201, -6.432400226593018, -6.760499954223633, -6.293000221252441, -5.515200138092041, -4.984499931335449, -3.1693999767303467, -6.437300205230713, -6.75029993057251, -5.868299961090088, -5.055200099945068, -6.091599941253662, -4.08519983291626, -5.993899822235107, -5.066199779510498, -5.704100131988525, -4.736100196838379, -4.336999893188477, -5.047399997711182, -6.168900012969971, -6.237299919128418, -5.02810001373291, -5.289100170135498, -5.462800025939941, -5.1529998779296875, -5.302499771118164, -5.004799842834473, -5.342100143432617, -5.292399883270264, -4.52209997177124, -5.291800022125244, -4.789299964904785, -5.8358001708984375, -5.314499855041504, -4.937099933624268, -4.719699859619141, -5.389800071716309, -5.347300052642822, -5.343599796295166, -5.591300010681152, -5.565700054168701, -5.639999866485596, -5.803999900817871, -5.979100227355957, -6.337800025939941, -5.953199863433838, -7.154200077056885, -7.242800235748291, -5.645199775695801, -7.292200088500977, -7.378499984741211, -5.775300025939941, -7.507800102233887, -7.388599872589111, -7.49560022354126, -7.608099937438965, -7.608099937438965, -6.25540018081665, -7.21120023727417, -6.952499866485596, -7.77869987487793, -7.7530999183654785, -7.02239990234375, -6.388500213623047, -7.85830020904541, -7.492099761962891, -7.691500186920166, -7.18779993057251, -6.997099876403809, -6.597700119018555, -7.822500228881836, -5.164700031280518, -5.183899879455566, -7.001699924468994, -5.731500148773193, -6.901800155639648, -6.321599960327148, -5.265900135040283, -6.41540002822876, -6.564000129699707, -5.620500087738037, -4.93179988861084, -6.477099895477295, -3.520900011062622, -4.518099784851074, -4.63040018081665, -3.3886001110076904, -4.920899868011475, -4.667500019073486, -4.470399856567383, -5.30109977722168, -6.780600070953369, -6.073200225830078, -5.679500102996826, -5.601900100708008, -3.622499942779541, -4.444799900054932, -5.671899795532227, -5.339799880981445, -5.178500175476074, -5.481299877166748, -5.306600093841553, -5.315100193023682, -5.381100177764893, -5.148399829864502, -5.30210018157959, -5.534800052642822, -5.44950008392334, -5.234799861907959, -5.263800144195557, -5.303599834442139, -5.416999816894531, -5.34689998626709, -5.5121002197265625, -5.492499828338623, -6.294000148773193, -6.301199913024902, -6.822000026702881, -6.961100101470947, -6.999899864196777, -6.999899864196777, -6.999899864196777, -6.999899864196777, -6.999899864196777, -6.999899864196777, -6.999899864196777, -7.0971999168396, -7.285200119018555, -6.692999839782715, -7.17140007019043, -7.084000110626221, -7.084000110626221, -7.084000110626221, -7.494900226593018, -7.4984002113342285, -7.551400184631348, -7.562900066375732, -7.691800117492676, -7.365600109100342, -7.7270002365112305, -7.454999923706055, -7.733099937438965, -7.400400161743164, -7.647299766540527, -7.76609992980957, -6.868000030517578, -6.743000030517578, -5.402500152587891, -6.41540002822876, -4.48199987411499, -4.209700107574463, -6.1529998779296875, -5.76200008392334, -5.176199913024902, -6.384300231933594, -6.594299793243408, -4.403600215911865, -3.9240000247955322, -4.3491997718811035, -4.310800075531006, -6.337299823760986, -6.183499813079834, -5.701200008392334, -4.663000106811523, -6.236299991607666, -6.056099891662598, -6.328000068664551, -4.538300037384033, -4.510700225830078, -5.1194000244140625, -4.9232001304626465, -4.995500087738037, -4.218299865722656, -5.571300029754639, -5.149400234222412, -5.287899971008301, -4.723400115966797, -4.914100170135498, -5.177499771118164, -5.792300224304199, -5.358099937438965, -4.4004998207092285, -5.357999801635742, -4.909200191497803, -4.727399826049805, -5.577700138092041, -5.378600120544434, -5.4257001876831055, -5.161499977111816, -5.5233001708984375, -5.50600004196167, -5.50439977645874, -5.840099811553955, -6.560500144958496, -6.560500144958496, -6.939799785614014, -6.313700199127197, -7.17549991607666, -6.090199947357178, -7.4334001541137695, -7.174600124359131, -7.458499908447266, -7.276000022888184, -7.276000022888184, -7.276000022888184, -7.276000022888184, -6.809599876403809, -7.522600173950195, -7.221199989318848, -6.625800132751465, -7.543600082397461, -7.433000087738037, -7.7332000732421875, -6.805699825286865, -7.637899875640869, -5.518099784851074, -7.770500183105469, -7.547500133514404, -7.798999786376953, -7.772500038146973, -7.767499923706055, -7.614099979400635, -5.9899001121521, -6.755000114440918, -6.922399997711182, -6.139999866485596, -5.756700038909912, -6.887899875640869, -6.534299850463867, -6.761099815368652, -5.912199974060059, -5.533199787139893, -5.923299789428711, -6.680600166320801, -4.975200176239014, -5.7342000007629395, -5.421299934387207, -6.179800033569336, -6.289599895477295, -6.219699859619141, -3.418100118637085, -5.959199905395508, -4.758999824523926, -4.327300071716309, -5.27810001373291, -4.367599964141846, -3.9584999084472656, -4.7820000648498535, -4.201700210571289, -5.780099868774414, -4.551199913024902, -5.258299827575684, -5.191500186920166, -4.984899997711182, -5.254700183868408, -5.695899963378906, -4.669600009918213, -5.329400062561035, -5.513899803161621, -5.452199935913086, -5.511600017547607, -5.640900135040283, -5.403900146484375, -5.667300224304199, -5.579699993133545, -5.66510009765625, -5.672299861907959, -5.630799770355225, -5.163700103759766, -6.324100017547607, -6.546299934387207, -6.653500080108643, -6.811200141906738, -6.081999778747559, -7.134500026702881, -7.359399795532227, -7.2652997970581055, -7.185100078582764, -6.877699851989746, -6.592199802398682, -7.689000129699707, -5.847300052642822, -7.778900146484375, -7.4552998542785645, -7.506499767303467, -7.720300197601318, -7.297599792480469, -7.854599952697754, -7.928800106048584, -7.403900146484375, -6.5192999839782715, -7.850200176239014, -8.00220012664795, -7.899600028991699, -8.011500358581543, -8.038100242614746, -7.404799938201904, -7.969900131225586, -7.883600234985352, -7.185699939727783, -6.96750020980835, -7.011099815368652, -5.383399963378906, -6.151899814605713, -6.915599822998047, -6.952700138092041, -6.043700218200684, -6.297800064086914, -6.8144001960754395, -6.322500228881836, -5.7789998054504395, -5.958000183105469, -5.916399955749512, -6.598199844360352, -6.466100215911865, -6.063300132751465, -5.955999851226807, -4.4882001876831055, -4.991000175476074, -5.765399932861328, -4.821899890899658, -5.412499904632568, -3.31469988822937, -4.7916998863220215, -6.404900074005127, -4.087500095367432, -5.1097002029418945, -4.478099822998047, -5.589399814605713, -5.868599891662598, -5.018499851226807, -5.158100128173828, -5.506899833679199, -4.825300216674805, -5.04040002822876, -5.048799991607666, -5.523399829864502, -5.452000141143799, -5.217299938201904, -5.453999996185303, -5.173399925231934, -5.187099933624268, -5.095600128173828, -5.222599983215332, -5.019499778747559, -4.998199939727783, -5.394899845123291, -5.488900184631348, -5.404799938201904, -6.31220006942749, -6.196199893951416, -6.513599872589111, -6.022299766540527, -6.66379976272583, -6.8881001472473145, -6.949100017547607, -6.958099842071533, -7.09250020980835, -7.161799907684326, -7.309299945831299, -6.6774001121521, -7.195099830627441, -7.476399898529053, -7.488999843597412, -7.389100074768066, -7.209700107574463, -7.247300148010254, -7.109899997711182, -7.684100151062012, -7.495299816131592, -7.732500076293945, -7.716100215911865, -7.281400203704834, -7.5767998695373535, -7.751500129699707, -7.794099807739258, -7.794300079345703, -7.7667999267578125, -7.796800136566162, -6.113399982452393, -7.165999889373779, -5.264200210571289, -7.065400123596191, -5.195099830627441, -6.6184000968933105, -6.453999996185303, -6.89870023727417, -5.460100173950195, -5.651500225067139, -6.302999973297119, -6.160699844360352, -6.394100189208984, -6.899600028991699, -4.544099807739258, -5.767099857330322, -5.759399890899658, -6.6082000732421875, -5.7957000732421875, -6.089399814605713, -6.4096999168396, -6.751200199127197, -5.76230001449585, -4.914100170135498, -4.534900188446045, -4.87939977645874, -4.765200138092041, -5.394499778747559, -5.505300045013428, -5.025300025939941, -5.6981000900268555, -4.6620001792907715, -5.436200141906738, -5.8541998863220215, -6.004899978637695, -5.229400157928467, -5.66949987411499, -4.882400035858154, -4.712600231170654, -5.351900100708008, -5.1468000411987305, -4.904799938201904, -4.55210018157959, -5.2144999504089355, -4.920400142669678, -5.097899913787842, -4.854000091552734, -5.109399795532227, -5.35099983215332, -4.984499931335449, -5.343800067901611, -5.407800197601318, -5.349800109863281, -5.394100189208984]}, \"token.table\": {\"Topic\": [2, 4, 6, 7, 8, 8, 6, 1, 2, 3, 4, 5, 6, 7, 8, 1, 6, 7, 2, 1, 2, 4, 5, 8, 3, 1, 2, 3, 4, 5, 6, 7, 8, 2, 7, 8, 4, 7, 1, 2, 3, 4, 5, 6, 7, 8, 1, 2, 4, 5, 6, 7, 8, 1, 2, 3, 4, 5, 6, 7, 8, 1, 2, 3, 4, 5, 6, 7, 8, 1, 2, 3, 4, 5, 6, 7, 8, 8, 1, 2, 3, 4, 5, 6, 7, 8, 6, 1, 2, 3, 6, 7, 8, 3, 7, 7, 5, 1, 2, 3, 4, 5, 6, 7, 8, 1, 2, 3, 5, 6, 1, 2, 3, 4, 6, 8, 1, 1, 2, 3, 4, 5, 6, 7, 8, 2, 1, 2, 3, 4, 5, 6, 7, 8, 2, 2, 3, 4, 5, 8, 1, 2, 3, 4, 5, 6, 8, 1, 2, 3, 5, 8, 8, 1, 2, 3, 4, 5, 6, 7, 8, 1, 2, 3, 4, 5, 6, 7, 8, 3, 1, 2, 3, 4, 5, 6, 8, 1, 1, 2, 3, 4, 5, 6, 7, 8, 2, 7, 2, 6, 8, 1, 4, 6, 1, 2, 3, 4, 5, 6, 7, 8, 8, 5, 1, 2, 3, 4, 5, 6, 7, 8, 1, 2, 3, 4, 5, 6, 7, 8, 5, 1, 3, 2, 7, 1, 2, 3, 5, 7, 7, 1, 2, 3, 4, 5, 6, 7, 8, 3, 1, 2, 3, 4, 5, 6, 7, 8, 1, 2, 3, 4, 5, 6, 7, 8, 1, 2, 3, 4, 5, 6, 7, 8, 1, 2, 3, 4, 5, 6, 7, 8, 1, 2, 7, 1, 2, 3, 4, 5, 6, 7, 8, 1, 2, 3, 5, 6, 4, 1, 2, 3, 4, 5, 6, 7, 8, 1, 2, 3, 4, 5, 7, 8, 4, 3, 1, 3, 4, 6, 8, 1, 2, 5, 6, 8, 6, 1, 2, 3, 4, 5, 6, 7, 8, 8, 6, 1, 3, 1, 2, 3, 4, 5, 6, 7, 8, 2, 7, 1, 2, 3, 4, 5, 6, 7, 8, 1, 2, 4, 5, 6, 7, 8, 2, 3, 4, 5, 7, 8, 1, 2, 3, 4, 5, 6, 7, 8, 2, 3, 4, 5, 1, 2, 3, 4, 5, 6, 7, 8, 7, 4, 8, 4, 4, 1, 2, 3, 4, 5, 6, 7, 8, 1, 2, 3, 4, 5, 6, 7, 8, 7, 6, 7, 7, 3, 7, 1, 2, 3, 4, 5, 6, 7, 8, 3, 4, 8, 1, 2, 5, 1, 5, 6, 7, 1, 2, 5, 7, 7, 8, 1, 2, 5, 6, 7, 8, 3, 7, 1, 1, 1, 4, 1, 2, 3, 4, 5, 6, 7, 8, 3, 6, 2, 4, 5, 7, 8, 1, 3, 4, 5, 7, 8, 1, 2, 3, 4, 5, 6, 7, 8, 1, 4, 5, 8, 8, 4, 8, 3, 1, 2, 3, 4, 5, 6, 7, 8, 2, 4, 4, 7, 3, 2, 1, 8, 4, 6, 1, 2, 3, 4, 5, 6, 7, 8, 2, 1, 2, 3, 4, 6, 7, 8, 1, 2, 3, 4, 5, 6, 7, 8, 1, 2, 3, 4, 5, 6, 7, 8, 4, 6, 8, 7, 1, 1, 2, 3, 4, 5, 6, 7, 8, 1, 2, 3, 4, 5, 7, 2, 1, 2, 3, 4, 5, 6, 7, 8, 1, 2, 3, 4, 5, 6, 7, 8, 3, 1, 1, 1, 2, 3, 4, 5, 6, 7, 8, 3, 4, 8, 1, 2, 3, 4, 5, 6, 7, 8, 1, 2, 3, 4, 5, 6, 7, 8, 5, 8, 1, 2, 3, 4, 5, 8, 1, 2, 4, 6, 7, 3, 4, 1, 2, 3, 4, 5, 6, 7, 8, 1, 2, 3, 4, 5, 7, 8, 7, 3, 5, 8, 2, 3, 4, 5, 6, 7, 1, 2, 3, 4, 5, 6, 7, 8, 1, 8, 1, 2, 1, 2, 3, 4, 5, 6, 7, 8, 2, 5, 6, 7, 1, 2, 3, 4, 6, 7, 1, 2, 4, 5, 6, 8, 3, 8, 1, 4, 5, 5, 1, 1, 2, 3, 4, 5, 6, 7, 8, 1, 2, 3, 4, 5, 6, 7, 8, 6, 6, 2, 4, 1, 2, 3, 4, 5, 6, 7, 8, 4, 2, 3, 4, 5, 6, 8, 1, 3, 8, 2, 3, 4, 5, 8, 7, 4, 1, 2, 3, 4, 5, 6, 7, 8, 5, 1, 2, 3, 4, 5, 6, 7, 8, 1, 2, 3, 4, 5, 6, 7, 8, 1, 2, 3, 4, 5, 8, 1, 2, 3, 4, 5, 6, 7, 8, 3, 1, 2, 3, 4, 5, 6, 7, 8, 2, 7, 1, 2, 3, 4, 5, 6, 7, 8, 3, 1, 2, 3, 4, 5, 7, 8, 1, 2, 6, 8, 2, 7, 8, 1, 2, 3, 4, 5, 6, 7, 8, 1, 2, 3, 4, 5, 6, 7, 8, 1, 2, 3, 4, 5, 6, 7, 8, 1, 2, 3, 4, 5, 6, 7, 8, 8, 6, 1, 2, 3, 4, 5, 6, 7, 8, 1, 2, 3, 4, 5, 8, 1, 2, 3, 4, 5, 3, 6, 7, 8, 1, 4, 4, 2, 4, 1, 2, 3, 4, 5, 6, 7, 8, 3, 4, 5, 6, 8, 8, 3, 4, 6, 7, 2, 4, 5, 8, 8, 8, 1, 2, 3, 4, 5, 6, 7, 8, 1, 2, 4, 5, 6, 7, 4, 6, 6, 2, 2, 1, 2, 3, 4, 5, 6, 7, 8, 1, 2, 3, 4, 5, 6, 7, 8, 2, 2, 4, 1, 2, 3, 4, 5, 6, 7, 8, 1, 2, 3, 4, 5, 6, 8, 8, 1, 2, 3, 4, 5, 6, 7, 8, 5, 1, 2, 3, 4, 5, 6, 7, 8, 4, 3, 7, 2, 1, 2, 3, 4, 5, 6, 7, 8, 4, 2, 3, 4, 5, 6, 7, 8, 1, 2, 3, 4, 5, 6, 7, 8, 2, 6, 1, 1, 2, 3, 4, 5, 6, 7, 8, 1, 2, 3, 4, 5, 6, 7, 8, 1, 2, 3, 4, 5, 6, 7, 8, 2, 4, 5, 6, 7, 1, 2, 3, 4, 5, 6, 7, 8, 1, 6, 1, 3, 4, 6, 3, 5, 1, 2, 3, 4, 5, 6, 7, 8, 8, 2, 4, 5, 6, 7, 8, 8, 8, 1, 2, 3, 4, 5, 6, 7, 8, 1, 2, 3, 4, 5, 7, 8, 2, 7, 1, 2, 3, 4, 5, 6, 8, 1, 2, 3, 4, 5, 6, 8, 1, 2, 3, 4, 6, 1, 2, 3, 4, 5, 6, 7, 8, 2, 3, 7, 1, 2, 3, 4, 5, 6, 7, 8, 1, 3, 5, 6, 8, 1, 6, 7, 1, 4, 6, 8, 1, 2, 3, 5, 6, 7, 8, 1, 2, 3, 4, 5, 6, 7, 8, 1, 6, 6, 1, 2, 3, 4, 5, 6, 7, 8, 1, 2, 3, 4, 5, 6, 7, 8, 1, 2, 3, 4, 5, 6, 7, 8, 2, 5, 7, 6, 5, 5, 1, 2, 3, 4, 5, 8, 5, 1, 2, 3, 4, 5, 6, 7, 8, 3, 5, 7, 1, 2, 3, 4, 5, 6, 7, 8, 1, 2, 3, 4, 5, 6, 7, 8, 5, 2, 3, 6, 8, 3, 7, 5, 5, 1, 2, 3, 4, 5, 6, 7, 8, 4, 1, 2, 3, 4, 5, 6, 7, 8, 1, 2, 3, 4, 5, 6, 7, 8, 1, 2, 3, 4, 5, 6, 7, 8, 2, 3, 4, 5, 6, 8, 5, 1, 4, 5, 6, 7, 8, 1, 2, 3, 4, 5, 6, 7, 8, 1, 2, 3, 4, 5, 6, 7, 8, 7, 1, 4, 6, 4, 1, 2, 3, 4, 5, 6, 7, 8, 1, 2, 3, 4, 5, 6, 7, 8, 1, 2, 3, 4, 5, 6, 7, 8, 2, 6, 1, 2, 3, 4, 7, 8, 1, 2, 6, 8, 1, 2, 3, 4, 5, 6, 7, 8, 2, 3, 4, 8, 7, 1, 2, 5, 6, 7, 8, 1, 2, 3, 4, 5, 6, 7, 2, 3, 4, 5, 7, 2, 4, 6, 1, 2, 3, 4, 5, 6, 7, 2, 4, 5, 1, 4, 5, 7, 1, 2, 3, 4, 5, 6, 7, 8, 1, 2, 3, 4, 5, 6, 7, 1, 1, 2, 4, 5, 7, 8, 1, 2, 4, 5, 8, 1, 2, 4, 5, 8, 1, 2, 3, 4, 5, 6, 7, 8, 3, 1, 2, 3, 4, 5, 6, 7, 8, 1, 2, 3, 4, 7, 4, 5, 2, 1, 2, 3, 4, 5, 6, 7, 8, 1, 2, 3, 4, 5, 6, 7, 8, 1, 5, 6, 1, 2, 3, 4, 5, 6, 7, 8, 1, 2, 3, 4, 5, 6, 8, 5, 1, 2, 4, 5, 6, 7, 7, 5, 6, 1, 3, 4, 5, 6, 8, 4, 7, 2, 7, 1, 2, 3, 4, 5, 6, 7, 8, 1, 2, 3, 5, 8, 8, 1, 2, 3, 4, 5, 6, 7, 8, 3, 2, 6, 7, 1, 2, 6, 1, 2, 3, 5, 2, 2, 3, 1, 2, 3, 4, 5, 6, 7, 8, 4, 5, 1, 2, 4, 5, 6, 7, 8, 8, 8, 4, 7, 1, 2, 3, 4, 5, 6, 7, 8, 6, 6, 1, 2, 3, 4, 5, 6, 7, 8, 3, 2, 3, 8, 2, 4, 5, 6, 7, 2, 1, 2, 4, 5, 6, 7, 8, 1, 2, 3, 4, 5, 6, 7, 8, 1, 2, 3, 4, 5, 6, 7, 8, 1, 2, 3, 5, 8, 1, 3, 7, 1, 2, 3, 4, 5, 6, 7, 8, 4, 5, 5, 3, 5, 8, 1, 1, 2, 3, 4, 5, 6, 7, 8, 3, 3, 5, 5, 4, 2, 3, 7, 2, 3, 7, 1, 3, 6, 7, 6, 5, 6, 8, 6, 3, 4, 5, 6, 7, 4, 6, 7, 3, 5, 1, 2, 1, 2, 3, 4, 5, 6, 7, 8, 3, 3, 6, 8, 1, 2, 3, 4, 5, 6, 7, 8, 1, 2, 6, 7, 8, 3, 1, 2, 3, 4, 5, 6, 7, 8, 5, 1, 1, 2, 3, 4, 5, 6, 7, 8, 1, 2, 3, 4, 5, 6, 8, 5, 1, 2, 3, 4, 5, 6, 8, 2, 1, 2, 2, 3, 5, 3, 8, 6, 7, 6, 8, 1, 8, 5, 1, 2, 1, 3, 8, 6, 1, 2, 3, 4, 5, 6, 7, 8, 1, 2, 3, 4, 5, 6, 7, 8, 1, 2, 3, 6, 7, 8, 8, 1, 2, 3, 4, 5, 6, 7, 8, 1, 2, 3, 4, 6, 7, 8, 1, 2, 2, 1, 1, 2, 3, 4, 5, 6, 8, 1, 2, 3, 4, 5, 8, 2, 5, 7, 1, 2, 4, 5, 7, 2, 3, 2, 3, 6, 2, 2, 5, 3, 5, 7, 8, 5, 1, 2, 3, 4, 6, 7, 8, 6, 6, 7, 1, 5, 6, 2, 3, 4, 5, 6, 7, 2, 5, 5, 2, 3, 6, 7, 8, 2, 5, 6, 1, 2, 3, 4, 5, 6, 7, 8, 2, 4, 8, 1, 1, 2, 3, 4, 5, 6, 7, 8, 5, 1, 2, 3, 4, 5, 6, 8, 1, 2, 3, 4, 5, 6, 7, 8, 1, 2, 3, 4, 5, 6, 7, 8, 4, 7, 1, 2, 3, 4, 5, 6, 7, 8, 1, 2, 3, 4, 5, 6, 7, 8, 1, 2, 3, 4, 5, 8, 1, 2, 3, 4, 5, 6, 7, 8, 1, 2, 3, 4, 5, 6, 7, 8, 1, 2, 3, 4, 5, 6, 7, 8, 1, 2, 3, 4, 5, 6, 7, 8, 1, 2, 3, 4, 5, 6, 7, 8, 1, 2, 3, 4, 5, 6, 7, 8, 1, 3, 7, 4, 7, 3, 4, 6, 7, 8, 6, 1, 6, 8, 1, 2, 3, 4, 5, 6, 7, 8, 2, 3, 4, 5, 3, 5, 4, 5, 3, 2, 3, 1, 2, 3, 5, 6, 7, 8, 2, 6, 7, 4, 2, 4, 5, 6, 8, 2, 7, 2, 3, 5, 6, 7, 7], \"Freq\": [0.048352643847465515, 0.09670528769493103, 0.024176321923732758, 0.7736423015594482, 0.048352643847465515, 0.9154357314109802, 0.935676097869873, 0.8137722015380859, 0.011282803490757942, 0.04466109722852707, 0.010812686756253242, 0.017394322901964188, 0.04278063029050827, 0.012223036959767342, 0.04701168090105057, 0.06965004652738571, 0.8706256151199341, 0.034825023263692856, 0.9209809899330139, 0.0358637273311615, 0.71727454662323, 0.01793186366558075, 0.19725050032138824, 0.0358637273311615, 0.9385453462600708, 0.0913936197757721, 0.05815957486629486, 0.016617022454738617, 0.05815957486629486, 0.008308511227369308, 0.5483617186546326, 0.07477659732103348, 0.14955319464206696, 0.03403674438595772, 0.8509186506271362, 0.10211023688316345, 0.04981600493192673, 0.8966881036758423, 0.5451893210411072, 0.18485534191131592, 0.10046486556529999, 0.025451097637414932, 0.012055783532559872, 0.05492079257965088, 0.013395315036177635, 0.06429751217365265, 0.7316494584083557, 0.06455730646848679, 0.043038204312324524, 0.010759551078081131, 0.021519102156162262, 0.010759551078081131, 0.10759551078081131, 0.18762966990470886, 0.09599657356739044, 0.08508787304162979, 0.11999571323394775, 0.28798970580101013, 0.11563223600387573, 0.07636091113090515, 0.03054436296224594, 0.6054900884628296, 0.07955344766378403, 0.02651781588792801, 0.013258907943964005, 0.02651781588792801, 0.08397307991981506, 0.06629453599452972, 0.1016516238451004, 0.10262196511030197, 0.0847746729850769, 0.08031284809112549, 0.07585102319717407, 0.049080073833465576, 0.4997243583202362, 0.04461824893951416, 0.062465544790029526, 0.9396535158157349, 0.10630012303590775, 0.09111439436674118, 0.6226149797439575, 0.007592865731567144, 0.022778598591685295, 0.022778598591685295, 0.07592865824699402, 0.04555719718337059, 0.922715961933136, 0.0812051072716713, 0.0270683690905571, 0.0270683690905571, 0.0270683690905571, 0.0270683690905571, 0.8120510578155518, 0.928432285785675, 0.04642161726951599, 0.9652888774871826, 0.9428353309631348, 0.00559845007956028, 0.3881591856479645, 0.01679535023868084, 0.21087494492530823, 0.15862274169921875, 0.10450439900159836, 0.03918914869427681, 0.07837829738855362, 0.9044690132141113, 0.01586787775158882, 0.047603633254766464, 0.01586787775158882, 0.01586787775158882, 0.031524863094091415, 0.11559116095304489, 0.05254143476486206, 0.05254143476486206, 0.7250718474388123, 0.021016575396060944, 0.9285376667976379, 0.03546649590134621, 0.3286561965942383, 0.03546649590134621, 0.1584170162677765, 0.1205860897898674, 0.21279898285865784, 0.07802629470825195, 0.033102065324783325, 0.9503082036972046, 0.1028398871421814, 0.3409954011440277, 0.11095882207155228, 0.002706312807276845, 0.17320401966571808, 0.15155351161956787, 0.08930832147598267, 0.027063127607107162, 0.9400304555892944, 0.08565182983875275, 0.028550609946250916, 0.014275304973125458, 0.8565183281898499, 0.9432662129402161, 0.5746099352836609, 0.18606416881084442, 0.13681189715862274, 0.010944951325654984, 0.016417426988482475, 0.021889902651309967, 0.049252282828092575, 0.8320285081863403, 0.05943061038851738, 0.0792408138513565, 0.019810203462839127, 0.019810203462839127, 0.8816564083099365, 0.1719045639038086, 0.03125537559390068, 0.03125537559390068, 0.019534610211849213, 0.07423152029514313, 0.23050840198993683, 0.37115758657455444, 0.06641767174005508, 0.5314698219299316, 0.05678096041083336, 0.08630706369876862, 0.022712385281920433, 0.034068576991558075, 0.18624155223369598, 0.0272548608481884, 0.05223848298192024, 0.9681342840194702, 0.019450778141617775, 0.019450778141617775, 0.641875684261322, 0.11670467257499695, 0.1458808332681656, 0.019450778141617775, 0.03890155628323555, 0.9578297734260559, 0.11300656199455261, 0.1849198341369629, 0.05342128500342369, 0.12944388389587402, 0.057530615478754044, 0.11917056143283844, 0.27737975120544434, 0.06574927270412445, 0.9660325050354004, 0.8589110374450684, 0.06500965356826782, 0.13001930713653564, 0.8017857670783997, 0.9266633987426758, 0.027254804968833923, 0.027254804968833923, 0.00846833921968937, 0.0423416942358017, 0.09315172582864761, 0.2625184953212738, 0.055044203996658325, 0.1778351217508316, 0.03810752555727959, 0.32179686427116394, 0.9845137000083923, 0.9373759627342224, 0.07438579201698303, 0.15032127499580383, 0.14412246644496918, 0.0929822325706482, 0.035643190145492554, 0.04804082214832306, 0.1642686128616333, 0.2897946238517761, 0.08483721315860748, 0.08483721315860748, 0.4616142511367798, 0.11977018415927887, 0.044913820922374725, 0.044913820922374725, 0.04241860657930374, 0.11727497726678848, 0.9223605394363403, 0.8848631381988525, 0.9810874462127686, 0.17038676142692566, 0.8140701055526733, 0.9896339178085327, 0.02323068492114544, 0.88276606798172, 0.06969206035137177, 0.02323068492114544, 0.9468927383422852, 0.029739031568169594, 0.0074347578920423985, 0.17843419313430786, 0.014869515784084797, 0.0074347578920423985, 0.18586894869804382, 0.5427373051643372, 0.037173788994550705, 0.936191201210022, 0.13980619609355927, 0.40597569942474365, 0.03226296976208687, 0.11292038857936859, 0.056460194289684296, 0.03764013200998306, 0.13711762428283691, 0.07796884328126907, 0.07791202515363693, 0.03408651426434517, 0.44555941224098206, 0.04139076545834541, 0.04382551461458206, 0.19234532117843628, 0.1071290373802185, 0.05843402072787285, 0.5137977600097656, 0.09415142983198166, 0.02959044836461544, 0.09011636674404144, 0.04707571491599083, 0.11701677739620209, 0.06859604269266129, 0.04035061225295067, 0.8037810325622559, 0.026792701333761215, 0.004465450067073107, 0.06251630187034607, 0.004465450067073107, 0.04465449973940849, 0.04911995306611061, 0.008930900134146214, 0.061035990715026855, 0.18310797214508057, 0.7324318885803223, 0.02525942586362362, 0.6085225343704224, 0.1515565663576126, 0.049370698630809784, 0.016074180603027344, 0.1251489818096161, 0.022963114082813263, 0.0011481557739898562, 0.020628586411476135, 0.17534299194812775, 0.010314293205738068, 0.08251434564590454, 0.701371967792511, 0.9382455945014954, 0.0657787173986435, 0.11770927906036377, 0.11251622438430786, 0.15579169988632202, 0.11597826331853867, 0.0692407563328743, 0.3358176648616791, 0.024234263226389885, 0.05480983853340149, 0.16899700462818146, 0.04110737890005112, 0.18726694583892822, 0.08678224682807922, 0.3973713219165802, 0.05937732383608818, 0.9536579251289368, 0.956325113773346, 0.8229131102561951, 0.016794145107269287, 0.016794145107269287, 0.016794145107269287, 0.11755901575088501, 0.8912663459777832, 0.019805919378995895, 0.019805919378995895, 0.03961183875799179, 0.019805919378995895, 0.9656974673271179, 0.07738100737333298, 0.03585949167609215, 0.19439619779586792, 0.2717772126197815, 0.3850176930427551, 0.0018873417284339666, 0.018873417750000954, 0.013211391866207123, 0.9069291949272156, 0.9663999676704407, 0.050497837364673615, 0.9594589471817017, 0.15082301199436188, 0.18699470162391663, 0.39401301741600037, 0.03326503187417984, 0.08041740953922272, 0.0768648311495781, 0.02260730415582657, 0.055226411670446396, 0.8995310664176941, 0.0428348146378994, 0.054639048874378204, 0.11838460713624954, 0.057674553245306015, 0.4219348728656769, 0.1305266171693802, 0.10927809774875641, 0.03946153447031975, 0.06981655955314636, 0.01593502052128315, 0.1015857607126236, 0.233049675822258, 0.2230902910232544, 0.02589440904557705, 0.3764648735523224, 0.02589440904557705, 0.024140741676092148, 0.012070370838046074, 0.24140740931034088, 0.06035185232758522, 0.6518000364303589, 0.012070370838046074, 0.5923203825950623, 0.06646499037742615, 0.09578778594732285, 0.09774263948202133, 0.06451013684272766, 0.027367938309907913, 0.033232495188713074, 0.02345823310315609, 0.0190778449177742, 0.0190778449177742, 0.934814453125, 0.0381556898355484, 0.04445691779255867, 0.15505704283714294, 0.21144142746925354, 0.15614137053489685, 0.22336889803409576, 0.03686670958995819, 0.14421389997005463, 0.02927650511264801, 0.9222056865692139, 0.05368819460272789, 0.9126993417739868, 0.9469800591468811, 0.9523985385894775, 0.09262247383594513, 0.046311236917972565, 0.0555734857916832, 0.2222939431667328, 0.0277867428958416, 0.03704899176955223, 0.018524495884776115, 0.500161349773407, 0.047699954360723495, 0.06874404847621918, 0.049102894961833954, 0.1360851675271988, 0.007014699280261993, 0.3058408796787262, 0.36897316575050354, 0.016835277900099754, 0.9939736723899841, 0.9481149315834045, 0.9798462986946106, 0.900236189365387, 0.06324983388185501, 0.8854976296424866, 0.4962547719478607, 0.049504734575748444, 0.1267804205417633, 0.03139324486255646, 0.059164196252822876, 0.0808979794383049, 0.09176487475633621, 0.0639939233660698, 0.04669956490397453, 0.9106415510177612, 0.023349782451987267, 0.9654747843742371, 0.895743191242218, 0.9092086553573608, 0.1188049241900444, 0.08640358597040176, 0.1188049241900444, 0.6804282069206238, 0.028760377317667007, 0.028760377317667007, 0.028760377317667007, 0.9203320741653442, 0.07475998252630234, 0.9158098101615906, 0.061599522829055786, 0.04106634855270386, 0.12319904565811157, 0.05133293569087982, 0.626261830329895, 0.10266587138175964, 0.9660767912864685, 0.9178112149238586, 0.9460543394088745, 0.9617774486541748, 0.9186947345733643, 0.97206711769104, 0.6128637790679932, 0.08755196630954742, 0.037522271275520325, 0.0062537118792533875, 0.012507423758506775, 0.02501484751701355, 0.06879083067178726, 0.1438353806734085, 0.921159029006958, 0.05117550119757652, 0.010531715117394924, 0.22116602957248688, 0.6950932145118713, 0.0421268604695797, 0.02106343023478985, 0.009443949908018112, 0.009443949908018112, 0.14165924489498138, 0.18887899816036224, 0.018887899816036224, 0.6327446103096008, 0.011919590644538403, 0.007946393452584743, 0.03973196819424629, 0.18276706337928772, 0.10330311954021454, 0.21057943999767303, 0.04767836257815361, 0.3973197042942047, 0.00672506308183074, 0.08070075511932373, 0.09415087848901749, 0.8204576969146729, 0.9815025329589844, 0.09977282583713531, 0.8730122447013855, 0.9775509834289551, 0.4410818815231323, 0.1674695909023285, 0.07547925412654877, 0.049533262848854065, 0.03302217274904251, 0.1485997885465622, 0.014152360148727894, 0.07312052696943283, 0.15090207755565643, 0.8488242030143738, 0.8928309679031372, 0.0615745484828949, 0.9314031004905701, 0.9825076460838318, 0.03420127555727959, 0.957635760307312, 0.02095356024801731, 0.9638637900352478, 0.1422579139471054, 0.0569031648337841, 0.17477400600910187, 0.036580607295036316, 0.02845158241689205, 0.03251609206199646, 0.170709490776062, 0.3617415428161621, 0.8740118741989136, 0.117017462849617, 0.0780116394162178, 0.0390058197081089, 0.6533474922180176, 0.08776309341192245, 0.01950290985405445, 0.009751454927027225, 0.031112277880311012, 0.03629765659570694, 0.07259531319141388, 0.7778069376945496, 0.005185379646718502, 0.005185379646718502, 0.031112277880311012, 0.05185379460453987, 0.04768993332982063, 0.12839597463607788, 0.05135839059948921, 0.41820403933525085, 0.018342282623052597, 0.0880429595708847, 0.22744430601596832, 0.022010739892721176, 0.9085532426834106, 0.06077718362212181, 0.9116577506065369, 0.9707730412483215, 0.9199280738830566, 0.16455791890621185, 0.04829417169094086, 0.026830095797777176, 0.5652206540107727, 0.07870161533355713, 0.02146407589316368, 0.08943365514278412, 0.007154691964387894, 0.005499464925378561, 0.021997859701514244, 0.021997859701514244, 0.9074116945266724, 0.021997859701514244, 0.010998929850757122, 0.9780391454696655, 0.5009527206420898, 0.07683324068784714, 0.11371319741010666, 0.03687995672225952, 0.01843997836112976, 0.10449320822954178, 0.030733296647667885, 0.11985985189676285, 0.06071241945028305, 0.257479190826416, 0.07973077148199081, 0.07680486887693405, 0.03730522096157074, 0.19603528082370758, 0.1945723295211792, 0.09801764041185379, 0.957236111164093, 0.9655957221984863, 0.9284830689430237, 0.19256338477134705, 0.035011522471904755, 0.5806077718734741, 0.11670508235692978, 0.008752880617976189, 0.011670507490634918, 0.005835253745317459, 0.04959965869784355, 0.8425735831260681, 0.13481177389621735, 0.01685147173702717, 0.15220531821250916, 0.39750710129737854, 0.0783192440867424, 0.1492498815059662, 0.08127468824386597, 0.03398759663105011, 0.0694529116153717, 0.03842075914144516, 0.04615374282002449, 0.3461530804634094, 0.10295835137367249, 0.09940806031227112, 0.05502946302294731, 0.08520691096782684, 0.008875720202922821, 0.25562071800231934, 0.9197326302528381, 0.03171491622924805, 0.041582025587558746, 0.0069303372874855995, 0.0069303372874855995, 0.055442698299884796, 0.8801528215408325, 0.013860674574971199, 0.9376422166824341, 0.045738644897937775, 0.0448722168803215, 0.8226572871208191, 0.11965924501419067, 0.9563763737678528, 0.9494736194610596, 0.31570470333099365, 0.11838927119970322, 0.21588630974292755, 0.03249901533126831, 0.08356889337301254, 0.05803395435214043, 0.08356889337301254, 0.09053297340869904, 0.0397300161421299, 0.0397300161421299, 0.6058827638626099, 0.1291225552558899, 0.10925754904747009, 0.029797513037919998, 0.049662522971630096, 0.9503219723701477, 0.8826910257339478, 0.04413454979658127, 0.04413454979658127, 0.06912363320589066, 0.7834011316299438, 0.04608242213726044, 0.02304121106863022, 0.02304121106863022, 0.04608242213726044, 0.34943169355392456, 0.09358575195074081, 0.0464562363922596, 0.07338739186525345, 0.04982263222336769, 0.21679577231407166, 0.058575257658958435, 0.11176428198814392, 0.9591975808143616, 0.9484983682632446, 0.036314960569143295, 0.9078740477561951, 0.07997368276119232, 0.1301897168159485, 0.31245532631874084, 0.13762912154197693, 0.2455006092786789, 0.026037942618131638, 0.040916766971349716, 0.026037942618131638, 0.04886661469936371, 0.012216653674840927, 0.6230493187904358, 0.3054163455963135, 0.013392352499067783, 0.08035411685705185, 0.013392352499067783, 0.026784704998135567, 0.8571105599403381, 0.013392352499067783, 0.03285445272922516, 0.03285445272922516, 0.03285445272922516, 0.06570890545845032, 0.8542158007621765, 0.03285445272922516, 0.9000337719917297, 0.8745797872543335, 0.9338249564170837, 0.037352997809648514, 0.9773895144462585, 0.9689611792564392, 0.9302463531494141, 0.07803579419851303, 0.17443294823169708, 0.39017894864082336, 0.059674426913261414, 0.02754204347729683, 0.06426476687192917, 0.16525226831436157, 0.04131306707859039, 0.02128629758954048, 0.41774359345436096, 0.015964724123477936, 0.3299376368522644, 0.06918046623468399, 0.09312755614519119, 0.03991181030869484, 0.01064314879477024, 0.9799971580505371, 0.8999529480934143, 0.8525429964065552, 0.08119457215070724, 0.32847386598587036, 0.05416324362158775, 0.05241604149341583, 0.08211846649646759, 0.216652974486351, 0.06464645266532898, 0.05066883936524391, 0.15200652182102203, 0.9787436723709106, 0.02765289507806301, 0.05530579015612602, 0.8664573431015015, 0.009217631071805954, 0.02765289507806301, 0.009217631071805954, 0.015442714095115662, 0.1003776416182518, 0.8725133538246155, 0.07245690375566483, 0.8211781978607178, 0.07245690375566483, 0.01831461861729622, 0.9706747531890869, 0.975013017654419, 0.9102283120155334, 0.20908507704734802, 0.03871946036815643, 0.06969502568244934, 0.015487783588469028, 0.03871946036815643, 0.07743892073631287, 0.007743891794234514, 0.5343285202980042, 0.9725807309150696, 0.8114219903945923, 0.01752929762005806, 0.047052327543497086, 0.016606703400611877, 0.02168097347021103, 0.025832649320364, 0.011993730440735817, 0.04797492176294327, 0.9043919444084167, 0.004492012783885002, 0.023208733648061752, 0.005989350378513336, 0.011230031959712505, 0.013476038351655006, 0.002994675189256668, 0.03369009494781494, 0.012742816470563412, 0.6371408104896545, 0.012742816470563412, 0.25485631823539734, 0.012742816470563412, 0.06371407955884933, 0.034980058670043945, 0.14866524934768677, 0.1311752200126648, 0.14429274201393127, 0.0655876100063324, 0.28858548402786255, 0.12024395912885666, 0.0655876100063324, 0.9673425555229187, 0.12855511903762817, 0.11910253763198853, 0.35163605213165283, 0.018905164673924446, 0.10775943845510483, 0.19283267855644226, 0.04537239298224449, 0.03213877975940704, 0.9166741371154785, 0.9472994804382324, 0.11034297943115234, 0.027918104082345963, 0.3243817687034607, 0.06514224410057068, 0.10701940208673477, 0.22268012166023254, 0.053842056542634964, 0.08774261176586151, 0.8988724946975708, 0.03409435600042343, 0.05844746530056, 0.046270910650491714, 0.34581416845321655, 0.34581416845321655, 0.11689493060112, 0.05357684567570686, 0.048796676099300385, 0.7319501638412476, 0.19518670439720154, 0.016265559941530228, 0.03976239264011383, 0.8747726678848267, 0.07952478528022766, 0.0711907222867012, 0.12400965392589569, 0.00918589998036623, 0.3743254244327545, 0.01607532426714897, 0.01837179996073246, 0.01837179996073246, 0.36973246932029724, 0.04102812707424164, 0.01491931825876236, 0.03356846794486046, 0.05967727303504944, 0.6415306925773621, 0.02610880695283413, 0.08019133657217026, 0.10443522781133652, 0.11899355053901672, 0.16838710010051727, 0.0359225831925869, 0.07858064770698547, 0.047148387879133224, 0.18185807764530182, 0.3165677487850189, 0.051638711243867874, 0.1255285143852234, 0.017932645976543427, 0.017932645976543427, 0.017932645976543427, 0.05379793420433998, 0.017932645976543427, 0.699373185634613, 0.0717305839061737, 0.958971381187439, 0.9477735757827759, 0.36990344524383545, 0.09570176154375076, 0.031183721497654915, 0.16559630632400513, 0.0935511589050293, 0.037635523825883865, 0.14086438715457916, 0.064518041908741, 0.01674785278737545, 0.005582617595791817, 0.05582617595791817, 0.9043840169906616, 0.005582617595791817, 0.005582617595791817, 0.009322178550064564, 0.009322178550064564, 0.018644357100129128, 0.9508621692657471, 0.009322178550064564, 0.0385536253452301, 0.0385536253452301, 0.848179817199707, 0.0385536253452301, 0.9131778478622437, 0.0365271158516407, 0.922308087348938, 0.03381923958659172, 0.946938693523407, 0.08234575390815735, 0.14492852985858917, 0.1762199103832245, 0.05105436593294144, 0.09387415647506714, 0.12022479623556137, 0.2552718222141266, 0.07411117851734161, 0.06741030514240265, 0.022470101714134216, 0.8538638353347778, 0.04494020342826843, 0.9471843838691711, 0.9082441926002502, 0.8972288370132446, 0.04649675264954567, 0.24410796165466309, 0.7090755105018616, 0.08470488339662552, 0.86822509765625, 0.02117622084915638, 0.02117622084915638, 0.8981855511665344, 0.9147886633872986, 0.20928668975830078, 0.047961533069610596, 0.026160836219787598, 0.0697622299194336, 0.056681811809539795, 0.11772376298904419, 0.45345449447631836, 0.021800696849822998, 0.019502928480505943, 0.04875732213258743, 0.019502928480505943, 0.02925439365208149, 0.1657748967409134, 0.7021054625511169, 0.8973351120948792, 0.9555853009223938, 0.9162590503692627, 0.9784151911735535, 0.8926517963409424, 0.24918276071548462, 0.016771916300058365, 0.028751857578754425, 0.014375928789377213, 0.08146359771490097, 0.03354383260011673, 0.014375928789377213, 0.558265209197998, 0.005362556781619787, 0.426323264837265, 0.02145022712647915, 0.3566100299358368, 0.0643506795167923, 0.008043834939599037, 0.010725113563239574, 0.1072511374950409, 0.940514862537384, 0.9249499440193176, 0.9771122932434082, 0.01595635898411274, 0.03390726447105408, 0.01595635898411274, 0.5624616742134094, 0.025929084047675133, 0.011967269703745842, 0.0019945448730140924, 0.3330889940261841, 0.01020574476569891, 0.013607659377157688, 0.023813404142856598, 0.7110002040863037, 0.027215318754315376, 0.003401914844289422, 0.2041148990392685, 0.947497546672821, 0.08863066136837006, 0.03722487762570381, 0.031907036900520325, 0.06026884913444519, 0.7391797304153442, 0.00886306632310152, 0.005317839793860912, 0.026589198037981987, 0.9784913063049316, 0.09929776936769485, 0.20660682022571564, 0.05460323020815849, 0.16296640038490295, 0.072734035551548, 0.17540496587753296, 0.17941062152385712, 0.048700179904699326, 0.9840956926345825, 0.9551838040351868, 0.9366620182991028, 0.9653276801109314, 0.03486892953515053, 0.01494382694363594, 0.0024906378239393234, 0.5255246162414551, 0.22913868725299835, 0.04234084486961365, 0.07970041036605835, 0.06724721938371658, 0.9224916696548462, 0.12763190269470215, 0.08014096319675446, 0.03561820462346077, 0.04749093949794769, 0.5194321274757385, 0.17512284219264984, 0.011872734874486923, 0.01865888386964798, 0.31720101833343506, 0.08956263959407806, 0.04478131979703903, 0.022390659898519516, 0.31720101833343506, 0.08209908753633499, 0.10822152346372604, 0.033632971346378326, 0.9417232275009155, 0.9686634540557861, 0.3253503441810608, 0.14189288020133972, 0.02866522967815399, 0.05733045935630798, 0.16339179873466492, 0.055897194892168045, 0.18202421069145203, 0.04586436599493027, 0.17504137754440308, 0.04979625344276428, 0.38478922843933105, 0.015089774504303932, 0.09657455235719681, 0.10562841594219208, 0.06639500707387924, 0.10713739693164825, 0.012864884920418262, 0.08233526349067688, 0.056605495512485504, 0.08490823954343796, 0.4322601556777954, 0.056605495512485504, 0.25729769468307495, 0.018010839819908142, 0.01298221480101347, 0.038946643471717834, 0.7529684901237488, 0.01298221480101347, 0.18175101280212402, 0.18920549750328064, 0.16165129840373993, 0.19839023053646088, 0.11021679639816284, 0.12307541817426682, 0.0679670199751854, 0.08082564920186996, 0.0679670199751854, 0.9196322560310364, 0.06862927228212357, 0.08780603110790253, 0.04390301555395126, 0.04390301555395126, 0.8122057914733887, 0.9201754331588745, 0.043817877769470215, 0.2438746988773346, 0.36174747347831726, 0.03658120334148407, 0.02845204807817936, 0.022355180233716965, 0.10161446034908295, 0.19713205099105835, 0.008129156194627285, 0.9296874403953552, 0.04816233739256859, 0.01605411246418953, 0.8027056455612183, 0.01605411246418953, 0.06421644985675812, 0.04816233739256859, 0.9135826230049133, 0.962729811668396, 0.1924314796924591, 0.08970490097999573, 0.21124057471752167, 0.0983860194683075, 0.10996084660291672, 0.14902588725090027, 0.08391749113798141, 0.06366154551506042, 0.9336197376251221, 0.08222657442092896, 0.20798486471176147, 0.5175437331199646, 0.043531715869903564, 0.04836857318878174, 0.10157400369644165, 0.06798498332500458, 0.9245957732200623, 0.7874647974967957, 0.01406187191605568, 0.04921654984354973, 0.00703093595802784, 0.08437123149633408, 0.03515467792749405, 0.02109280787408352, 0.8057114481925964, 0.01074281893670559, 0.053714096546173096, 0.01074281893670559, 0.06445691734552383, 0.02148563787341118, 0.03222845867276192, 0.882382869720459, 0.05430048331618309, 0.013575120829045773, 0.013575120829045773, 0.04072536155581474, 0.1525687724351883, 0.1296834647655487, 0.24665285646915436, 0.01779969036579132, 0.015256877988576889, 0.020342504605650902, 0.4043072760105133, 0.010171252302825451, 0.038278382271528244, 0.038278382271528244, 0.9186811447143555, 0.08167622238397598, 0.02178032696247101, 0.09256638586521149, 0.04356065392494202, 0.04900573566555977, 0.16335244476795197, 0.15246228873729706, 0.3974909484386444, 0.06711111217737198, 0.03355555608868599, 0.03355555608868599, 0.08388889580965042, 0.7717778086662292, 0.11169178783893585, 0.8097654581069946, 0.027922946959733963, 0.05426058545708656, 0.850082516670227, 0.018086861819028854, 0.07234744727611542, 0.011365844868123531, 0.028414610773324966, 0.5512434840202332, 0.2898290455341339, 0.022731689736247063, 0.045463379472494125, 0.05114630237221718, 0.32304736971855164, 0.3715044856071472, 0.09045326709747314, 0.022613316774368286, 0.009691420942544937, 0.02584378980100155, 0.09691420942544937, 0.05491805449128151, 0.9552558064460754, 0.9899038076400757, 0.9344983696937561, 0.007380546536296606, 0.17713312804698944, 0.04428328201174736, 0.03690273314714432, 0.15499147772789001, 0.051663827151060104, 0.4871160686016083, 0.029522186145186424, 0.1014818400144577, 0.06958755105733871, 0.13482587039470673, 0.10438132286071777, 0.07393676787614822, 0.19281549751758575, 0.21746109426021576, 0.10583106428384781, 0.12878334522247314, 0.18512605130672455, 0.1644287407398224, 0.019547471776604652, 0.07014092803001404, 0.14143170416355133, 0.1448812633752823, 0.1471809595823288, 0.9205425977706909, 0.04844960942864418, 0.8871381282806396, 0.8849824070930481, 0.9656471610069275, 0.9656471610069275, 0.04034144803881645, 0.013447149656713009, 0.0806828960776329, 0.04034144803881645, 0.7395932078361511, 0.0806828960776329, 0.9461769461631775, 0.09636355936527252, 0.17288756370544434, 0.0028342222794890404, 0.10486622154712677, 0.30042755603790283, 0.025508001446723938, 0.21540088951587677, 0.08219244331121445, 0.8146313428878784, 0.18417751789093018, 0.9316277503967285, 0.30779221653938293, 0.14001527428627014, 0.06759358197450638, 0.05793735757470131, 0.05552329868078232, 0.022933537140488625, 0.06397249549627304, 0.2836516499519348, 0.07918389141559601, 0.05332792550325394, 0.13897579908370972, 0.09372787177562714, 0.25694364309310913, 0.10342385619878769, 0.08726387470960617, 0.18907172977924347, 0.9720000624656677, 0.9640306234359741, 0.0388873927295208, 0.0388873927295208, 0.855522632598877, 0.9499613046646118, 0.947300910949707, 0.9839923977851868, 0.9773895144462585, 0.06987574696540833, 0.07505172491073608, 0.12681153416633606, 0.37267065048217773, 0.09316766262054443, 0.0724637359380722, 0.17598335444927216, 0.015527943149209023, 0.9161414504051208, 0.17093729972839355, 0.23054620623588562, 0.12097100913524628, 0.12097100913524628, 0.03243425861001015, 0.15252867341041565, 0.07977073639631271, 0.09204316139221191, 0.15154428780078888, 0.10865439474582672, 0.07434248179197311, 0.24018339812755585, 0.10007641464471817, 0.08149079233407974, 0.21730878949165344, 0.02716359868645668, 0.34788867831230164, 0.16234804689884186, 0.1005011722445488, 0.051539063453674316, 0.1005011722445488, 0.1288476586341858, 0.08503945171833038, 0.023192578926682472, 0.04952080920338631, 0.019808322191238403, 0.04952080920338631, 0.07923328876495361, 0.7923329472541809, 0.009904161095619202, 0.9042964577674866, 0.049604229629039764, 0.062005288898944855, 0.1364116370677948, 0.6572560667991638, 0.024802114814519882, 0.062005288898944855, 0.059428609907627106, 0.1366858035326004, 0.023771444335579872, 0.005942861083894968, 0.08914291858673096, 0.463543176651001, 0.09508577734231949, 0.12480008602142334, 0.03658916801214218, 0.06098194792866707, 0.020327316597104073, 0.11789843440055847, 0.4350045621395111, 0.06098194792866707, 0.2642551064491272, 0.0040654633194208145, 0.9556806683540344, 0.03339858725667, 0.8683632612228394, 0.08349646627902985, 0.9654346704483032, 0.15341155230998993, 0.2584879398345947, 0.09456875920295715, 0.06304583698511124, 0.13870084285736084, 0.18493446707725525, 0.07355348020792007, 0.0378275029361248, 0.19851680099964142, 0.02738162688910961, 0.075299471616745, 0.02738162688910961, 0.1437535434961319, 0.08214487880468369, 0.02053621970117092, 0.4312606155872345, 0.0490628257393837, 0.09057752043008804, 0.09057752043008804, 0.5434651374816895, 0.10567377507686615, 0.03774063289165497, 0.041514698415994644, 0.041514698415994644, 0.9360089302062988, 0.9656974673271179, 0.018045548349618912, 0.036091096699237823, 0.7940041422843933, 0.018045548349618912, 0.09022774547338486, 0.018045548349618912, 0.014238394796848297, 0.29900628328323364, 0.6692045331001282, 0.014238394796848297, 0.07877914607524872, 0.2177574336528778, 0.10330472141504288, 0.25268781185150146, 0.04459196701645851, 0.07134714722633362, 0.07803594321012497, 0.1538422852754593, 0.010567930527031422, 0.021135861054062843, 0.9511137008666992, 0.9883557558059692, 0.9242585897445679, 0.9797084927558899, 0.12052871286869049, 0.013392078690230846, 0.12052871286869049, 0.0669603943824768, 0.6696039438247681, 0.013829076662659645, 0.013829076662659645, 0.7467701435089111, 0.09680353850126266, 0.08297445625066757, 0.013829076662659645, 0.041487228125333786, 0.016934335231781006, 0.7959137558937073, 0.08467167615890503, 0.06773734092712402, 0.03386867046356201, 0.034819941967725754, 0.905318558216095, 0.034819941967725754, 0.05697305127978325, 0.028486525639891624, 0.014243262819945812, 0.047477543354034424, 0.7548929452896118, 0.023738771677017212, 0.0759640634059906, 0.058387503027915955, 0.019462499767541885, 0.8952749967575073, 0.017895054072141647, 0.07158021628856659, 0.8410675525665283, 0.035790108144283295, 0.022696450352668762, 0.6922417283058167, 0.14752691984176636, 0.019454101100564003, 0.011348225176334381, 0.08754345029592514, 0.01783292554318905, 0.001621174975298345, 0.007439755368977785, 0.7737345695495605, 0.11903608590364456, 0.017359428107738495, 0.0024799183011054993, 0.07191763073205948, 0.007439755368977785, 0.9491615891456604, 0.030501369386911392, 0.677130401134491, 0.17690794169902802, 0.054902464151382446, 0.006100274156779051, 0.054902464151382446, 0.016600919887423515, 0.9130505919456482, 0.016600919887423515, 0.03320183977484703, 0.016600919887423515, 0.02317662723362446, 0.637357234954834, 0.1506480872631073, 0.08111819624900818, 0.09270650893449783, 0.22003810107707977, 0.07630353420972824, 0.25907713174819946, 0.044362522661685944, 0.010647005401551723, 0.2502046227455139, 0.08162704110145569, 0.05678402632474899, 0.9598258137702942, 0.1213216558098793, 0.15517885982990265, 0.13542883098125458, 0.014107169583439827, 0.06489297747612, 0.366786390542984, 0.10439305007457733, 0.03667863830924034, 0.9539251923561096, 0.026052018627524376, 0.07815605401992798, 0.8597165942192078, 0.026052018627524376, 0.8939437866210938, 0.06876491010189056, 0.9394123554229736, 0.6299766302108765, 0.01646997779607773, 0.1152898445725441, 0.03293995559215546, 0.004117494449019432, 0.1152898445725441, 0.004117494449019432, 0.08234988898038864, 0.6837793588638306, 0.007514059077948332, 0.0751405879855156, 0.030056236311793327, 0.007514059077948332, 0.10519682615995407, 0.007514059077948332, 0.09016870707273483, 0.027395127341151237, 0.9588294625282288, 0.92625892162323, 0.057878006249666214, 0.056775566190481186, 0.0611853189766407, 0.47184354066848755, 0.11410235613584518, 0.06283897906541824, 0.08543895930051804, 0.08929749578237534, 0.043244294822216034, 0.11892180889844894, 0.027027685195207596, 0.156760573387146, 0.4648761749267578, 0.037838757038116455, 0.15135502815246582, 0.9773895144462585, 0.005500874016433954, 0.1320209801197052, 0.5445865392684937, 0.2640419602394104, 0.04950786754488945, 0.005500874016433954, 0.8835105895996094, 0.03318487107753754, 0.9623612761497498, 0.00652699451893568, 0.00652699451893568, 0.02610797807574272, 0.2741337716579437, 0.6526994705200195, 0.02610797807574272, 0.9357563257217407, 0.035990629345178604, 0.05734076350927353, 0.9174522161483765, 0.009261946193873882, 0.07756879925727844, 0.08451525866985321, 0.07756879925727844, 0.35774266719818115, 0.24659930169582367, 0.03241680935025215, 0.11345883458852768, 0.015183175913989544, 0.060732703655958176, 0.015183175913989544, 0.7591587901115417, 0.1518317610025406, 0.9675771594047546, 0.087086983025074, 0.04136631637811661, 0.3135131299495697, 0.05878371000289917, 0.16546526551246643, 0.08055545389652252, 0.16546526551246643, 0.08490980416536331, 0.9683626890182495, 0.08907812088727951, 0.8907812237739563, 0.02969270758330822, 0.042071953415870667, 0.8835110664367676, 0.042071953415870667, 0.010099109262228012, 0.9240685105323792, 0.010099109262228012, 0.055545102804899216, 0.9851235151290894, 0.04527542367577553, 0.9055084586143494, 0.5153212547302246, 0.051565393805503845, 0.10479418933391571, 0.026947077363729477, 0.03759283572435379, 0.16134978830814362, 0.05256343632936478, 0.049901995807886124, 0.9663314819335938, 0.025768838822841644, 0.034787844866514206, 0.5739994049072266, 0.13915137946605682, 0.011595947667956352, 0.04058581590652466, 0.19713111221790314, 0.005797973833978176, 0.9083861708641052, 0.9657386541366577, 0.06276256591081619, 0.8786759972572327, 0.032815121114254, 0.13898169994354248, 0.04439692944288254, 0.20461194217205048, 0.3146391212940216, 0.048257533460855484, 0.013512109406292439, 0.20075133442878723, 0.9777975678443909, 0.9777975678443909, 0.035691037774086, 0.5432969331741333, 0.007931342348456383, 0.17052385210990906, 0.035691037774086, 0.03172536939382553, 0.07534775137901306, 0.09121043235063553, 0.8815050721168518, 0.889152467250824, 0.04445762187242508, 0.04445762187242508, 0.036897141486406326, 0.036897141486406326, 0.1291400045156479, 0.018448570743203163, 0.7748399972915649, 0.9313881397247314, 0.0392036959528923, 0.7056665420532227, 0.12741200625896454, 0.009800923988223076, 0.0784073919057846, 0.009800923988223076, 0.029402771964669228, 0.09071983397006989, 0.14654742181301117, 0.293870210647583, 0.06047988682985306, 0.19384579360485077, 0.035667624324560165, 0.1108797937631607, 0.06823372095823288, 0.07364782691001892, 0.10246654599905014, 0.3938557803630829, 0.09606238454580307, 0.2529642879962921, 0.016010398045182228, 0.04162703454494476, 0.022414555773139, 0.09433775395154953, 0.6249876022338867, 0.2476366013288498, 0.011792219243943691, 0.9040243625640869, 0.06559935212135315, 0.09839902073144913, 0.8527915477752686, 0.6063394546508789, 0.04882213845849037, 0.036222878843545914, 0.058271586894989014, 0.01102435402572155, 0.13859188556671143, 0.03937269374728203, 0.06299631297588348, 0.94785076379776, 0.05077771842479706, 0.9473171234130859, 0.03968523442745209, 0.03968523442745209, 0.8730751872062683, 0.9398461580276489, 0.23033450543880463, 0.16162309050559998, 0.10414749383926392, 0.05142552778124809, 0.04926478862762451, 0.16421596705913544, 0.16983388364315033, 0.06914356350898743, 0.9280205368995667, 0.9028988480567932, 0.9773895144462585, 0.9773895144462585, 0.9166938662528992, 0.03309118002653122, 0.8934618234634399, 0.03309118002653122, 0.03385746851563454, 0.8802942037582397, 0.03385746851563454, 0.02499869093298912, 0.02499869093298912, 0.7999581098556519, 0.1249934583902359, 0.9656974673271179, 0.9585570096969604, 0.8948704600334167, 0.9551547765731812, 0.9473983645439148, 0.007423726841807365, 0.4491354823112488, 0.007423726841807365, 0.18930503726005554, 0.34520331025123596, 0.03735671564936638, 0.07471343129873276, 0.8592044711112976, 0.9662888646125793, 0.9656471610069275, 0.05541911721229553, 0.9421249628067017, 0.10230804234743118, 0.0949694886803627, 0.08978933840990067, 0.42175087332725525, 0.178715318441391, 0.017698859795928, 0.0099286288022995, 0.0850408598780632, 0.915418803691864, 0.03188683092594147, 0.12754732370376587, 0.8290576338768005, 0.06002958118915558, 0.184090718626976, 0.27813705801963806, 0.06803352385759354, 0.22210945188999176, 0.042020708322525024, 0.05202563852071762, 0.092045359313488, 0.038158971816301346, 0.04769871383905411, 0.1717153638601303, 0.07631794363260269, 0.6582422256469727, 0.9680858850479126, 0.05564410611987114, 0.04173307865858078, 0.11128821223974228, 0.03477756679058075, 0.6538182497024536, 0.04173307865858078, 0.02086653932929039, 0.04173307865858078, 0.9773895144462585, 0.9557697772979736, 0.002650832524523139, 0.002650832524523139, 0.038437068462371826, 0.4387127757072449, 0.49968191981315613, 0.002650832524523139, 0.002650832524523139, 0.013254161924123764, 0.0035134158097207546, 0.0017567079048603773, 0.04040428251028061, 0.4778245687484741, 0.46552759408950806, 0.0017567079048603773, 0.00878353975713253, 0.9184176325798035, 0.7292397022247314, 0.1041770949959755, 0.013890279456973076, 0.034725699573755264, 0.006945139728486538, 0.02083542011678219, 0.09028682112693787, 0.9534517526626587, 0.9467277526855469, 0.03944699093699455, 0.8368966579437256, 0.03347586467862129, 0.10042759776115417, 0.9584155678749084, 0.9703765511512756, 0.9546588659286499, 0.9207801222801208, 0.11910264194011688, 0.8634941577911377, 0.048054277896881104, 0.9130313396453857, 0.9517388939857483, 0.9282340407371521, 0.05156856030225754, 0.9319930076599121, 0.9017648100852966, 0.07311606407165527, 0.9070769548416138, 0.10478153824806213, 0.05239076912403107, 0.020638788118958473, 0.12700793147087097, 0.5762984752655029, 0.05080316960811615, 0.02857678383588791, 0.03968997672200203, 0.031046316027641296, 0.005174385849386454, 0.010348771698772907, 0.05174386128783226, 0.822727382183075, 0.005174385849386454, 0.018110351637005806, 0.05691824480891228, 0.020728768780827522, 0.020728768780827522, 0.062186308205127716, 0.041457537561655045, 0.020728768780827522, 0.8291507959365845, 0.9081994295120239, 0.003472434589639306, 0.19966498017311096, 0.3298812806606293, 0.0555589534342289, 0.15278711915016174, 0.09722816944122314, 0.1510508954524994, 0.008681085892021656, 0.022964071482419968, 0.007654690649360418, 0.05358283221721649, 0.015309381298720837, 0.007654690649360418, 0.82670658826828, 0.0688922107219696, 0.9080926775932312, 0.036323707550764084, 0.9429010152816772, 0.9232654571533203, 0.11956378072500229, 0.006131476256996393, 0.2728506922721863, 0.2851136326789856, 0.021460166200995445, 0.0030657381284981966, 0.29124510288238525, 0.02044496312737465, 0.030667446553707123, 0.18400467932224274, 0.030667446553707123, 0.030667446553707123, 0.7053512334823608, 0.017842913046479225, 0.017842913046479225, 0.9456743597984314, 0.11738474667072296, 0.01467309333384037, 0.02934618666768074, 0.01467309333384037, 0.8216932415962219, 0.8916457891464233, 0.9525554776191711, 0.8350059390068054, 0.11928655952215195, 0.029821639880537987, 0.9381189942359924, 0.055739905685186386, 0.9197084307670593, 0.8441158533096313, 0.028137193992733955, 0.028137193992733955, 0.05627438798546791, 0.9693450927734375, 0.01704971119761467, 0.008524855598807335, 0.10229826718568802, 0.008524855598807335, 0.042624279856681824, 0.01704971119761467, 0.7928115725517273, 0.9437397718429565, 0.08262871205806732, 0.8676015138626099, 0.9409188032150269, 0.03484884276986122, 0.03484884276986122, 0.016800547018647194, 0.604819655418396, 0.008400273509323597, 0.3444111943244934, 0.008400273509323597, 0.016800547018647194, 0.942825973033905, 0.9027512669563293, 0.9876262545585632, 0.060578376054763794, 0.6443336606025696, 0.18724225461483002, 0.016521375626325607, 0.09362112730741501, 0.009060582146048546, 0.054363492876291275, 0.9241793751716614, 0.010339015163481236, 0.010339015163481236, 0.11372917145490646, 0.010339015163481236, 0.010339015163481236, 0.03101704642176628, 0.02067803032696247, 0.7961041927337646, 0.8872767090797424, 0.9910032749176025, 0.9107919335365295, 0.9110982418060303, 0.043937813490629196, 0.21480709314346313, 0.3563845157623291, 0.06346573680639267, 0.0951986014842987, 0.009763958863914013, 0.19527918100357056, 0.017086928710341454, 0.9773895144462585, 0.021876472979784012, 0.0583372637629509, 0.014584315940737724, 0.007292157970368862, 0.28439414501190186, 0.5979569554328918, 0.007292157970368862, 0.23447762429714203, 0.1100609302520752, 0.10049041360616684, 0.0733739510178566, 0.20736117660999298, 0.04785257577896118, 0.062208350747823715, 0.1658889353275299, 0.012130477465689182, 0.5050689578056335, 0.02867203764617443, 0.16541559994220734, 0.08050226420164108, 0.031980350613594055, 0.045213598757982254, 0.1312297135591507, 0.07823691517114639, 0.9127640128135681, 0.06567604094743729, 0.05473003536462784, 0.6239224076271057, 0.021892014890909195, 0.021892014890909195, 0.13135208189487457, 0.05473003536462784, 0.021892014890909195, 0.18627597391605377, 0.06614146381616592, 0.04319442808628082, 0.09853728860616684, 0.40629759430885315, 0.03644529730081558, 0.05264320969581604, 0.11203554272651672, 0.08379840105772018, 0.018621865659952164, 0.018621865659952164, 0.027932800352573395, 0.8193621039390564, 0.027932800352573395, 0.09030590951442719, 0.19654814898967743, 0.07171351462602615, 0.09296195954084396, 0.10889829695224762, 0.12749068439006805, 0.2656055986881256, 0.04780900850892067, 0.0826725885272026, 0.5314666032791138, 0.11219850927591324, 0.0413362942636013, 0.011810369789600372, 0.0826725885272026, 0.02952592447400093, 0.11219850927591324, 0.44517114758491516, 0.06129167973995209, 0.02258114516735077, 0.20806913077831268, 0.07419519126415253, 0.06290461868047714, 0.07580813020467758, 0.05161404609680176, 0.8296313881874084, 0.027290506288409233, 0.03274860605597496, 0.010916202329099178, 0.005458101164549589, 0.04912291094660759, 0.005458101164549589, 0.03274860605597496, 0.10247993469238281, 0.07529138028621674, 0.09620565921068192, 0.06692567467689514, 0.39737120270729065, 0.03137141093611717, 0.15476562082767487, 0.07738281041383743, 0.024235690012574196, 0.045441918075084686, 0.02221604995429516, 0.10098204016685486, 0.5604503154754639, 0.0515008419752121, 0.1898462325334549, 0.005049102008342743, 0.9676833152770996, 0.9718176126480103, 0.9838960766792297, 0.9277331233024597, 0.042169686406850815, 0.1407705843448639, 0.06033025309443474, 0.020110083743929863, 0.06033025309443474, 0.7239630222320557, 0.9656974673271179, 0.9574264287948608, 0.9222699403762817, 0.032938212156295776, 0.015725284814834595, 0.12056051939725876, 0.09435170888900757, 0.5241761803627014, 0.005241761449724436, 0.06290113925933838, 0.010483522899448872, 0.16773636639118195, 0.9119114875793457, 0.6854207515716553, 0.13420826196670532, 0.1773466169834137, 0.7917800545692444, 0.20482340455055237, 0.9166911840438843, 0.9838519096374512, 0.9514725208282471, 0.9518098831176758, 0.02025127410888672, 0.020660480484366417, 0.7575509548187256, 0.027547307312488556, 0.006886826828122139, 0.1859443187713623, 0.006886826828122139, 0.006886826828122139, 0.02769552916288376, 0.941648006439209, 0.02769552916288376, 0.9831399321556091, 0.10381969809532166, 0.7786477208137512, 0.022247077897191048, 0.05190984904766083, 0.044494155794382095, 0.9067674875259399, 0.9113147854804993, 0.18904544413089752, 0.7246741652488708, 0.015753787010908127, 0.015753787010908127, 0.031507574021816254, 0.8760590553283691], \"Term\": [\"_\", \"_\", \"_\", \"_\", \"_\", \"abu\", \"action\", \"adil\", \"adil\", \"adil\", \"adil\", \"adil\", \"adil\", \"adil\", \"adil\", \"adil_makmur\", \"adil_makmur\", \"adil_makmur\", \"agung\", \"akal_sehat\", \"akal_sehat\", \"akal_sehat\", \"akal_sehat\", \"akal_sehat\", \"akurasi\", \"alam\", \"alam\", \"alam\", \"alam\", \"alam\", \"alam\", \"alam\", \"alam\", \"alamat\", \"alamat\", \"alamat\", \"alamat_ktp\", \"alamat_ktp\", \"allah\", \"allah\", \"allah\", \"allah\", \"allah\", \"allah\", \"allah\", \"allah\", \"allah_swt\", \"allah_swt\", \"allah_swt\", \"allah_swt\", \"allah_swt\", \"allah_swt\", \"allah_swt\", \"aman\", \"aman\", \"aman\", \"aman\", \"aman\", \"aman\", \"aman\", \"aman\", \"amanah\", \"amanah\", \"amanah\", \"amanah\", \"amanah\", \"amanah\", \"amanah\", \"amanah\", \"amburadul\", \"amburadul\", \"amburadul\", \"amburadul\", \"amburadul\", \"amburadul\", \"amburadul\", \"amburadul\", \"ana\", \"anggap\", \"anggap\", \"anggap\", \"anggap\", \"anggap\", \"anggap\", \"anggap\", \"anggap\", \"angin\", \"apanya\", \"apanya\", \"apanya\", \"apanya\", \"apanya\", \"apanya\", \"api\", \"api\", \"apk\", \"app\", \"april\", \"april\", \"april\", \"april\", \"april\", \"april\", \"april\", \"april\", \"asas\", \"asas\", \"asas\", \"asas\", \"asas\", \"asing\", \"asing\", \"asing\", \"asing\", \"asing\", \"asing\", \"asy\", \"atur\", \"atur\", \"atur\", \"atur\", \"atur\", \"atur\", \"atur\", \"atur\", \"australia\", \"awas\", \"awas\", \"awas\", \"awas\", \"awas\", \"awas\", \"awas\", \"awas\", \"aya\", \"ayat\", \"ayat\", \"ayat\", \"ayat\", \"ayo_sukseskan\", \"azab\", \"azab\", \"azab\", \"azab\", \"azab\", \"azab\", \"azab\", \"azab_allah\", \"azab_allah\", \"azab_allah\", \"azab_allah\", \"azab_allah\", \"baju\", \"bang\", \"bang\", \"bang\", \"bang\", \"bang\", \"bang\", \"bang\", \"bang\", \"bangsa\", \"bangsa\", \"bangsa\", \"bangsa\", \"bangsa\", \"bangsa\", \"bangsa\", \"bangsa\", \"banyuwangi\", \"batal\", \"batal\", \"batal\", \"batal\", \"batal\", \"batal\", \"batal\", \"batang\", \"bawaslu\", \"bawaslu\", \"bawaslu\", \"bawaslu\", \"bawaslu\", \"bawaslu\", \"bawaslu\", \"bawaslu\", \"bebas_rahasia\", \"bendung\", \"bentar\", \"bentar\", \"bentar\", \"berat_belah\", \"berat_belah\", \"berat_belah\", \"berita\", \"berita\", \"berita\", \"berita\", \"berita\", \"berita\", \"berita\", \"berita\", \"berita_bohong\", \"berkas\", \"biar\", \"biar\", \"biar\", \"biar\", \"biar\", \"biar\", \"biar\", \"biar\", \"bilang\", \"bilang\", \"bilang\", \"bilang\", \"bilang\", \"bilang\", \"bilang\", \"bilang\", \"bimbing\", \"bkerja\", \"bkl\", \"bocor\", \"bocor\", \"boikot\", \"bola\", \"bola\", \"bola\", \"bola\", \"bpjs\", \"bpn\", \"bpn\", \"bpn\", \"bpn\", \"bpn\", \"bpn\", \"bpn\", \"bpn\", \"bui\", \"buka\", \"buka\", \"buka\", \"buka\", \"buka\", \"buka\", \"buka\", \"buka\", \"bukti\", \"bukti\", \"bukti\", \"bukti\", \"bukti\", \"bukti\", \"bukti\", \"bukti\", \"buruk\", \"buruk\", \"buruk\", \"buruk\", \"buruk\", \"buruk\", \"buruk\", \"buruk\", \"buruk_sejarah\", \"buruk_sejarah\", \"buruk_sejarah\", \"buruk_sejarah\", \"buruk_sejarah\", \"buruk_sejarah\", \"buruk_sejarah\", \"buruk_sejarah\", \"busuk\", \"busuk\", \"busuk\", \"calon\", \"calon\", \"calon\", \"calon\", \"calon\", \"calon\", \"calon\", \"calon\", \"calon_presiden\", \"calon_presiden\", \"calon_presiden\", \"calon_presiden\", \"calon_presiden\", \"calonnya\", \"capres\", \"capres\", \"capres\", \"capres\", \"capres\", \"capres\", \"capres\", \"capres\", \"cawapres\", \"cawapres\", \"cawapres\", \"cawapres\", \"cawapres\", \"cawapres\", \"cawapres\", \"cek_rekam\", \"chusnul\", \"cinta\", \"cinta\", \"cinta\", \"cinta\", \"cinta\", \"ciptakan\", \"ciptakan\", \"ciptakan\", \"ciptakan\", \"ciptakan\", \"coba_bangun\", \"coblos\", \"coblos\", \"coblos\", \"coblos\", \"coblos\", \"coblos\", \"coblos\", \"coblos\", \"colek\", \"coret\", \"cuitan\", \"cuitan\", \"curang\", \"curang\", \"curang\", \"curang\", \"curang\", \"curang\", \"curang\", \"curang\", \"dadak\", \"dadak\", \"daerah\", \"daerah\", \"daerah\", \"daerah\", \"daerah\", \"daerah\", \"daerah\", \"daerah\", \"daftar\", \"daftar\", \"daftar\", \"daftar\", \"daftar\", \"daftar\", \"daftar\", \"daftar_pilih\", \"daftar_pilih\", \"daftar_pilih\", \"daftar_pilih\", \"daftar_pilih\", \"daftar_pilih\", \"damai\", \"damai\", \"damai\", \"damai\", \"damai\", \"damai\", \"damai\", \"damai\", \"dana_kampanye\", \"dana_kampanye\", \"dana_kampanye\", \"dana_kampanye\", \"data\", \"data\", \"data\", \"data\", \"data\", \"data\", \"data\", \"data\", \"data_valid\", \"dateng\", \"dateng\", \"days\", \"days_goes\", \"dear\", \"dear\", \"dear\", \"dear\", \"dear\", \"dear\", \"dear\", \"dear\", \"debat\", \"debat\", \"debat\", \"debat\", \"debat\", \"debat\", \"debat\", \"debat\", \"debat_capres\", \"debat_keempat\", \"debat_pasang\", \"debatnya\", \"deligitimasi\", \"deligitimasi\", \"demokrasi\", \"demokrasi\", \"demokrasi\", \"demokrasi\", \"demokrasi\", \"demokrasi\", \"demokrasi\", \"demokrasi\", \"desain\", \"desain\", \"desain\", \"diajarkan\", \"dibuang\", \"dicetak\", \"didik\", \"didik\", \"didik\", \"didik\", \"digelar\", \"digelar\", \"digelar\", \"digelar\", \"dihapus\", \"dihapus\", \"diluar\", \"diluar\", \"diluar\", \"diluar\", \"diluar\", \"diluar\", \"diluruskan\", \"dinegeri\", \"dipermalukan\", \"dipersulit\", \"ditegakkan\", \"ditiadakan\", \"doa\", \"doa\", \"doa\", \"doa\", \"doa\", \"doa\", \"doa\", \"doa\", \"domba\", \"domba\", \"domisili\", \"domisili\", \"domisili\", \"domisili\", \"domisili\", \"dpd\", \"dpd\", \"dpd\", \"dpd\", \"dpd\", \"dpd\", \"dpr\", \"dpr\", \"dpr\", \"dpr\", \"dpr\", \"dpr\", \"dpr\", \"dpr\", \"dprd\", \"dprd\", \"dprd\", \"dprd\", \"dprd_kabupaten\", \"dprd_provinsi\", \"dprd_provinsi\", \"dptb\", \"dunia\", \"dunia\", \"dunia\", \"dunia\", \"dunia\", \"dunia\", \"dunia\", \"dunia\", \"ektp\", \"ektp\", \"el\", \"el\", \"emak_emak\", \"februari\", \"format\", \"format\", \"from\", \"from\", \"gagal\", \"gagal\", \"gagal\", \"gagal\", \"gagal\", \"gagal\", \"gagal\", \"gagal\", \"gagalkan\", \"gelar\", \"gelar\", \"gelar\", \"gelar\", \"gelar\", \"gelar\", \"gelar\", \"gila\", \"gila\", \"gila\", \"gila\", \"gila\", \"gila\", \"gila\", \"gila\", \"golput\", \"golput\", \"golput\", \"golput\", \"golput\", \"golput\", \"golput\", \"golput\", \"google\", \"grand\", \"grand\", \"guys\", \"hadirkan\", \"hak\", \"hak\", \"hak\", \"hak\", \"hak\", \"hak\", \"hak\", \"hak\", \"hak_pilih\", \"hak_pilih\", \"hak_pilih\", \"hak_pilih\", \"hak_pilih\", \"hak_pilih\", \"halaman\", \"harap\", \"harap\", \"harap\", \"harap\", \"harap\", \"harap\", \"harap\", \"harap\", \"hasil\", \"hasil\", \"hasil\", \"hasil\", \"hasil\", \"hasil\", \"hasil\", \"hasil\", \"hastag\", \"hasyim\", \"hasyim_asy\", \"hati\", \"hati\", \"hati\", \"hati\", \"hati\", \"hati\", \"hati\", \"hati\", \"hati_hati\", \"hati_hati\", \"hati_hati\", \"hitung\", \"hitung\", \"hitung\", \"hitung\", \"hitung\", \"hitung\", \"hitung\", \"hitung\", \"hoax\", \"hoax\", \"hoax\", \"hoax\", \"hoax\", \"hoax\", \"hoax\", \"hoax\", \"hongkong\", \"hongkong\", \"honor\", \"honor\", \"honor\", \"honor\", \"honor\", \"honor\", \"hormat_tolong\", \"hormat_tolong\", \"hotel\", \"hotel\", \"hotel\", \"hti\", \"hujan\", \"hukum\", \"hukum\", \"hukum\", \"hukum\", \"hukum\", \"hukum\", \"hukum\", \"hukum\", \"human\", \"human\", \"human\", \"human\", \"human\", \"human\", \"human\", \"huruf\", \"image\", \"image\", \"image\", \"indikasi_curang\", \"indikasi_curang\", \"indikasi_curang\", \"indikasi_curang\", \"indikasi_curang\", \"indikasi_curang\", \"indonesia\", \"indonesia\", \"indonesia\", \"indonesia\", \"indonesia\", \"indonesia\", \"indonesia\", \"indonesia\", \"indonesia_cinta\", \"infografis\", \"infonya\", \"infonya\", \"input\", \"input\", \"input\", \"input\", \"input\", \"input\", \"input\", \"input\", \"institusi\", \"institusi\", \"institusi\", \"institusi\", \"internasional\", \"internasional\", \"internasional\", \"internasional\", \"internasional\", \"internasional\", \"intervensi\", \"intervensi\", \"intervensi\", \"intervensi\", \"intervensi\", \"intervensi\", \"istimewa\", \"isyarat\", \"ite\", \"ite\", \"iya_honor\", \"jaenudin\", \"jaga_netralitas\", \"jahat\", \"jahat\", \"jahat\", \"jahat\", \"jahat\", \"jahat\", \"jahat\", \"jahat\", \"jakarta\", \"jakarta\", \"jakarta\", \"jakarta\", \"jakarta\", \"jakarta\", \"jakarta\", \"jakarta\", \"jakarta_jakarta\", \"jakarta_tema\", \"jaksa\", \"jaksa\", \"jalan\", \"jalan\", \"jalan\", \"jalan\", \"jalan\", \"jalan\", \"jalan\", \"jalan\", \"januari\", \"jatim\", \"jatim\", \"jatim\", \"jatim\", \"jatim\", \"jatim\", \"jelang\", \"jelang\", \"jelang\", \"jelek\", \"jelek\", \"jelek\", \"jenis\", \"jenis\", \"jepara\", \"jingle\", \"jiwa\", \"jiwa\", \"jiwa\", \"jiwa\", \"jiwa\", \"jiwa\", \"jiwa\", \"jiwa\", \"job\", \"jujur\", \"jujur\", \"jujur\", \"jujur\", \"jujur\", \"jujur\", \"jujur\", \"jujur\", \"jujur_adil\", \"jujur_adil\", \"jujur_adil\", \"jujur_adil\", \"jujur_adil\", \"jujur_adil\", \"jujur_adil\", \"jujur_adil\", \"kabupaten_kota\", \"kabupaten_kota\", \"kabupaten_kota\", \"kabupaten_kota\", \"kabupaten_kota\", \"kabupaten_kota\", \"kacau\", \"kacau\", \"kacau\", \"kacau\", \"kacau\", \"kacau\", \"kacau\", \"kacau\", \"kader\", \"kalah\", \"kalah\", \"kalah\", \"kalah\", \"kalah\", \"kalah\", \"kalah\", \"kalah\", \"kaleng\", \"kaler\", \"kali\", \"kali\", \"kali\", \"kali\", \"kali\", \"kali\", \"kali\", \"kali\", \"kalimantan\", \"kampanye\", \"kampanye\", \"kampanye\", \"kampanye\", \"kampanye\", \"kampanye\", \"kampanye\", \"kampung\", \"kampung\", \"kampung\", \"kampung\", \"kampus\", \"kampus\", \"kampus\", \"kardus\", \"kardus\", \"kardus\", \"kardus\", \"kardus\", \"kardus\", \"kardus\", \"kardus\", \"kasih\", \"kasih\", \"kasih\", \"kasih\", \"kasih\", \"kasih\", \"kasih\", \"kasih\", \"kawal\", \"kawal\", \"kawal\", \"kawal\", \"kawal\", \"kawal\", \"kawal\", \"kawal\", \"kawan\", \"kawan\", \"kawan\", \"kawan\", \"kawan\", \"kawan\", \"kawan\", \"kawan\", \"keempat\", \"kemendagri\", \"kerja\", \"kerja\", \"kerja\", \"kerja\", \"kerja\", \"kerja\", \"kerja\", \"kerja\", \"kertas\", \"kertas\", \"kertas\", \"kertas\", \"kertas\", \"kertas\", \"kertas_suara\", \"kertas_suara\", \"kertas_suara\", \"kertas_suara\", \"kertas_suara\", \"ketidak_adilan\", \"ketidak_adilan\", \"ketidak_adilan\", \"ketidak_adilan\", \"ketidak_jujuran\", \"ketidak_jujuran\", \"ketidak_netralan\", \"ketidak_percayaan\", \"ketidak_percayaan\", \"ketua\", \"ketua\", \"ketua\", \"ketua\", \"ketua\", \"ketua\", \"ketua\", \"ketua\", \"ketua_kpps\", \"ketua_kpps\", \"ketua_kpps\", \"ketua_kpps\", \"ketua_osis\", \"ketuk\", \"kirana\", \"kisi\", \"kisi\", \"kisi\", \"klik\", \"klik\", \"klik\", \"klik\", \"klompok\", \"kmrin\", \"komisioner\", \"komisioner\", \"komisioner\", \"komisioner\", \"komisioner\", \"komisioner\", \"komisioner\", \"komisioner\", \"komisioner_kpu\", \"komisioner_kpu\", \"komisioner_kpu\", \"komisioner_kpu\", \"komisioner_kpu\", \"komisioner_kpu\", \"konferensi\", \"konfirmasi\", \"kong\", \"koordinasi\", \"koplak\", \"korban\", \"korban\", \"korban\", \"korban\", \"korban\", \"korban\", \"korban\", \"korban\", \"kota\", \"kota\", \"kota\", \"kota\", \"kota\", \"kota\", \"kota\", \"kota\", \"kota_bandung\", \"kota_bengkulu\", \"kota_malang\", \"kotak\", \"kotak\", \"kotak\", \"kotak\", \"kotak\", \"kotak\", \"kotak\", \"kotak\", \"kotak_suara\", \"kotak_suara\", \"kotak_suara\", \"kotak_suara\", \"kotak_suara\", \"kotak_suara\", \"kotak_suara\", \"kotak_suaranya\", \"kpps\", \"kpps\", \"kpps\", \"kpps\", \"kpps\", \"kpps\", \"kpps\", \"kpps\", \"kpps_honor\", \"kpu\", \"kpu\", \"kpu\", \"kpu\", \"kpu\", \"kpu\", \"kpu\", \"kpu\", \"kpu_jatim\", \"kpunya\", \"kreatif\", \"krisis\", \"ktp\", \"ktp\", \"ktp\", \"ktp\", \"ktp\", \"ktp\", \"ktp\", \"ktp\", \"ktp_el\", \"kualitas\", \"kualitas\", \"kualitas\", \"kualitas\", \"kualitas\", \"kualitas\", \"kualitas\", \"kubu\", \"kubu\", \"kubu\", \"kubu\", \"kubu\", \"kubu\", \"kubu\", \"kubu\", \"kubu_oposisi\", \"kubu_oposisi\", \"kuliah\", \"laksana\", \"laksana\", \"laksana\", \"laksana\", \"laksana\", \"laksana\", \"laksana\", \"laksana\", \"laku\", \"laku\", \"laku\", \"laku\", \"laku\", \"laku\", \"laku\", \"laku\", \"langgar\", \"langgar\", \"langgar\", \"langgar\", \"langgar\", \"langgar\", \"langgar\", \"langgar\", \"langgar_undang\", \"langgar_undang\", \"langgar_undang\", \"langgar_undang\", \"langgar_undang\", \"langsung\", \"langsung\", \"langsung\", \"langsung\", \"langsung\", \"langsung\", \"langsung\", \"langsung\", \"lantai\", \"lantai\", \"larang\", \"larang\", \"larang\", \"larang\", \"layar\", \"layar\", \"lembaga\", \"lembaga\", \"lembaga\", \"lembaga\", \"lembaga\", \"lembaga\", \"lembaga\", \"lembaga\", \"lembar\", \"lengkap\", \"lengkap\", \"lengkap\", \"lengkap\", \"lengkap\", \"lengkap\", \"lht\", \"libur_nasional\", \"lihat\", \"lihat\", \"lihat\", \"lihat\", \"lihat\", \"lihat\", \"lihat\", \"lihat\", \"lintas\", \"ln\", \"ln\", \"ln\", \"ln\", \"ln\", \"ln\", \"lomba\", \"lomba\", \"luber\", \"luber\", \"luber\", \"luber\", \"luber\", \"luber\", \"luber\", \"luber_jujur\", \"luber_jujur\", \"luber_jujur\", \"luber_jujur\", \"luber_jujur\", \"luber_jujur\", \"luber_jujur\", \"maha\", \"maha\", \"maha\", \"maha\", \"maha\", \"main\", \"main\", \"main\", \"main\", \"main\", \"main\", \"main\", \"main\", \"main_main\", \"main_main\", \"main_main\", \"makan\", \"makan\", \"makan\", \"makan\", \"makan\", \"makan\", \"makan\", \"makan\", \"makan_korban\", \"makan_korban\", \"makan_korban\", \"makan_korban\", \"makan_korban\", \"makmur\", \"makmur\", \"makmur\", \"malang\", \"malang\", \"malang\", \"malang\", \"malaysia\", \"malaysia\", \"malaysia\", \"malaysia\", \"malaysia\", \"malaysia\", \"malaysia\", \"malu\", \"malu\", \"malu\", \"malu\", \"malu\", \"malu\", \"malu\", \"malu\", \"mandiri\", \"maret\", \"mari_sukseskan\", \"mas\", \"mas\", \"mas\", \"mas\", \"mas\", \"mas\", \"mas\", \"mas\", \"masyarakat\", \"masyarakat\", \"masyarakat\", \"masyarakat\", \"masyarakat\", \"masyarakat\", \"masyarakat\", \"masyarakat\", \"menang\", \"menang\", \"menang\", \"menang\", \"menang\", \"menang\", \"menang\", \"menang\", \"menangkan\", \"menangkan\", \"menciderai\", \"mendegradasi\", \"menstigma\", \"menstigma_disabilitas\", \"mental\", \"mental\", \"mental\", \"mental\", \"mental\", \"mental\", \"mental_tandatangani\", \"min\", \"min\", \"min\", \"min\", \"min\", \"min\", \"min\", \"min\", \"misi\", \"misi\", \"mobil\", \"moga\", \"moga\", \"moga\", \"moga\", \"moga\", \"moga\", \"moga\", \"moga\", \"mohon\", \"mohon\", \"mohon\", \"mohon\", \"mohon\", \"mohon\", \"mohon\", \"mohon\", \"mohon_info\", \"mohon_infonya\", \"mohon_tindak\", \"mohon_tindak\", \"mohon_tindak\", \"mou\", \"mural\", \"naikan\", \"naikan_honor\", \"nama\", \"nama\", \"nama\", \"nama\", \"nama\", \"nama\", \"nama\", \"nama\", \"napi\", \"negara\", \"negara\", \"negara\", \"negara\", \"negara\", \"negara\", \"negara\", \"negara\", \"negeri\", \"negeri\", \"negeri\", \"negeri\", \"negeri\", \"negeri\", \"negeri\", \"negeri\", \"netral\", \"netral\", \"netral\", \"netral\", \"netral\", \"netral\", \"netral\", \"netral\", \"netralitas\", \"netralitas\", \"netralitas\", \"netralitas\", \"netralitas\", \"netralitas\", \"ngaciro\", \"ngurus\", \"ngurus\", \"ngurus\", \"ngurus\", \"ngurus\", \"ngurus\", \"nilai\", \"nilai\", \"nilai\", \"nilai\", \"nilai\", \"nilai\", \"nilai\", \"nilai\", \"no\", \"no\", \"no\", \"no\", \"no\", \"no\", \"no\", \"no\", \"no_pasal\", \"nomor\", \"nomor\", \"nomor\", \"nomor_urut\", \"nyata\", \"nyata\", \"nyata\", \"nyata\", \"nyata\", \"nyata\", \"nyata\", \"nyata\", \"nyawa\", \"nyawa\", \"nyawa\", \"nyawa\", \"nyawa\", \"nyawa\", \"nyawa\", \"nyawa\", \"nyoblos\", \"nyoblos\", \"nyoblos\", \"nyoblos\", \"nyoblos\", \"nyoblos\", \"nyoblos\", \"nyoblos\", \"official\", \"olah_institusi\", \"on\", \"on\", \"on\", \"on\", \"on\", \"on\", \"oposisi\", \"oposisi\", \"oposisi\", \"oposisi\", \"orang\", \"orang\", \"orang\", \"orang\", \"orang\", \"orang\", \"orang\", \"orang\", \"orang_gila\", \"orang_gila\", \"orang_gila\", \"osis\", \"pade\", \"padu\", \"panggil\", \"panggil\", \"panggil\", \"panggil\", \"panggil\", \"papar\", \"papar\", \"papar\", \"papar\", \"papar\", \"papar\", \"papar\", \"papar_visi\", \"papar_visi\", \"papar_visi\", \"papar_visi\", \"papar_visi\", \"partai_politik\", \"partai_politik\", \"partai_politik\", \"pasal\", \"pasal\", \"pasal\", \"pasal\", \"pasal\", \"pasal\", \"pasal\", \"pasal_ayat\", \"pasal_ayat\", \"pasal_ayat\", \"pasal_undang\", \"pasal_undang\", \"pasal_undang\", \"pasal_undang\", \"pasang\", \"pasang\", \"pasang\", \"pasang\", \"pasang\", \"pasang\", \"pasang\", \"pasang\", \"pasang_calon\", \"pasang_calon\", \"pasang_calon\", \"pasang_calon\", \"pasang_calon\", \"pasang_calon\", \"pasang_calon\", \"pedoman\", \"pemungutan\", \"pemungutan\", \"pemungutan\", \"pemungutan\", \"pemungutan\", \"pemungutan\", \"pemungutan_hitung\", \"pemungutan_hitung\", \"pemungutan_hitung\", \"pemungutan_hitung\", \"pemungutan_hitung\", \"pemungutan_suara\", \"pemungutan_suara\", \"pemungutan_suara\", \"pemungutan_suara\", \"pemungutan_suara\", \"percaya\", \"percaya\", \"percaya\", \"percaya\", \"percaya\", \"percaya\", \"percaya\", \"percaya\", \"perdana\", \"perintah\", \"perintah\", \"perintah\", \"perintah\", \"perintah\", \"perintah\", \"perintah\", \"perintah\", \"perintah_isu\", \"pers\", \"pers\", \"pers\", \"pers\", \"personel\", \"personel\", \"pertahana\", \"pesta\", \"pesta\", \"pesta\", \"pesta\", \"pesta\", \"pesta\", \"pesta\", \"pesta\", \"pesta_demokrasi\", \"pesta_demokrasi\", \"pesta_demokrasi\", \"pesta_demokrasi\", \"pesta_demokrasi\", \"pesta_demokrasi\", \"pesta_demokrasi\", \"pesta_demokrasi\", \"petisi\", \"petisi\", \"picu\", \"pilih\", \"pilih\", \"pilih\", \"pilih\", \"pilih\", \"pilih\", \"pilih\", \"pilih\", \"pilkada\", \"pilkada\", \"pilkada\", \"pilkada\", \"pilkada\", \"pilkada\", \"pilkada\", \"pilkada_masak\", \"pindah\", \"pindah\", \"pindah\", \"pindah\", \"pindah\", \"pindah\", \"pkl\", \"polling\", \"polling\", \"polri\", \"polri\", \"polri\", \"polri\", \"polri\", \"polri\", \"pos\", \"pos\", \"prediksi\", \"prediksi\", \"presiden\", \"presiden\", \"presiden\", \"presiden\", \"presiden\", \"presiden\", \"presiden\", \"presiden\", \"presiden_wakil\", \"presiden_wakil\", \"presiden_wakil\", \"presiden_wakil\", \"presiden_wakil\", \"presiden_wapres\", \"proses\", \"proses\", \"proses\", \"proses\", \"proses\", \"proses\", \"proses\", \"proses\", \"proses_hukum\", \"provinsi_bengkulu\", \"provinsi_bengkulu\", \"provinsi_bengkulu\", \"pulang_kampung\", \"pulang_kampung\", \"pulang_kampung\", \"rabu\", \"rabu\", \"rabu\", \"rabu\", \"rabu_april\", \"rahasia_jujur\", \"rahasia_jujur\", \"rakyat\", \"rakyat\", \"rakyat\", \"rakyat\", \"rakyat\", \"rakyat\", \"rakyat\", \"rakyat\", \"rantau\", \"rantau\", \"rapat\", \"rapat\", \"rapat\", \"rapat\", \"rapat\", \"rapat\", \"rapat\", \"rdp\", \"referensi\", \"rekapitulasi_manual\", \"rekapitulasi_manual\", \"rentak\", \"rentak\", \"rentak\", \"rentak\", \"rentak\", \"rentak\", \"rentak\", \"rentak\", \"reposted\", \"reposted_from\", \"resmi\", \"resmi\", \"resmi\", \"resmi\", \"resmi\", \"resmi\", \"resmi\", \"resmi\", \"respons\", \"ribu_tps\", \"ribu_tps\", \"ribu_tps\", \"rkyt\", \"rkyt\", \"rkyt\", \"rkyt\", \"rkyt\", \"rp_triliun\", \"ruang\", \"ruang\", \"ruang\", \"ruang\", \"ruang\", \"ruang\", \"ruang\", \"salah\", \"salah\", \"salah\", \"salah\", \"salah\", \"salah\", \"salah\", \"salah\", \"salah_input\", \"salah_input\", \"salah_input\", \"salah_input\", \"salah_input\", \"salah_input\", \"salah_input\", \"salah_input\", \"salah_pasang\", \"salah_pasang\", \"salah_pasang\", \"salah_pasang\", \"samsul\", \"sbb\", \"sbb\", \"sbb\", \"sejarah\", \"sejarah\", \"sejarah\", \"sejarah\", \"sejarah\", \"sejarah\", \"sejarah\", \"sejarah\", \"sekira\", \"sekira\", \"sekretariat\", \"selamatkan\", \"selamatkan\", \"selamatkan\", \"selangor\", \"selenggara\", \"selenggara\", \"selenggara\", \"selenggara\", \"selenggara\", \"selenggara\", \"selenggara\", \"selenggara\", \"sepak\", \"sepakbola\", \"serumit\", \"serumit_tidak_mau\", \"setiawan\", \"shame\", \"shame\", \"shame\", \"shame_on\", \"shame_on\", \"shame_on\", \"sifat\", \"sifat\", \"sifat\", \"sifat\", \"sifat_skeptis\", \"siluman\", \"skalian\", \"skripsi\", \"sndri\", \"sosialisasi\", \"sosialisasi\", \"sosialisasi\", \"sosialisasi\", \"sosialisasi\", \"sosialisasi_didik\", \"sosialisasi_didik\", \"sosialisasi_didik\", \"stakeholder\", \"stop_iklan\", \"suami\", \"suami\", \"suara\", \"suara\", \"suara\", \"suara\", \"suara\", \"suara\", \"suara\", \"suara\", \"suara_coblos\", \"sudut\", \"sudut\", \"sudut\", \"sukses\", \"sukses\", \"sukses\", \"sukses\", \"sukses\", \"sukses\", \"sukses\", \"sukses\", \"sukseskan\", \"sukseskan\", \"sukseskan\", \"sukseskan\", \"sukseskan\", \"sulawesi\", \"sulit\", \"sulit\", \"sulit\", \"sulit\", \"sulit\", \"sulit\", \"sulit\", \"sulit\", \"sulit_timbang\", \"sultan\", \"surat\", \"surat\", \"surat\", \"surat\", \"surat\", \"surat\", \"surat\", \"surat\", \"surat_suara\", \"surat_suara\", \"surat_suara\", \"surat_suara\", \"surat_suara\", \"surat_suara\", \"surat_suara\", \"surat_suaranya\", \"swt\", \"swt\", \"swt\", \"swt\", \"swt\", \"swt\", \"swt\", \"tajam\", \"takutlah\", \"takutlah\", \"tampil\", \"tampil\", \"tampil\", \"tanam\", \"tandatangani\", \"tanggal_maret\", \"tani\", \"tara\", \"tara\", \"tarung\", \"tarung\", \"taukah\", \"tegakkan\", \"tegakkan\", \"telusur\", \"ter\", \"ter\", \"teraneh\", \"terima\", \"terima\", \"terima\", \"terima\", \"terima\", \"terima\", \"terima\", \"terima\", \"terima_kasih\", \"terima_kasih\", \"terima_kasih\", \"terima_kasih\", \"terima_kasih\", \"terima_kasih\", \"terima_kasih\", \"terima_kasih\", \"terparah\", \"terparah\", \"terparah\", \"terparah\", \"terparah\", \"terparah\", \"that\", \"tidak_ada\", \"tidak_ada\", \"tidak_ada\", \"tidak_ada\", \"tidak_ada\", \"tidak_ada\", \"tidak_ada\", \"tidak_ada\", \"tidak_akan\", \"tidak_akan\", \"tidak_akan\", \"tidak_akan\", \"tidak_akan\", \"tidak_akan\", \"tidak_akan\", \"tidak_baik\", \"tidak_baik\", \"tidak_bermutu\", \"tidak_berpihak\", \"tidak_bisa\", \"tidak_bisa\", \"tidak_bisa\", \"tidak_bisa\", \"tidak_bisa\", \"tidak_bisa\", \"tidak_bisa\", \"tidak_boleh\", \"tidak_boleh\", \"tidak_boleh\", \"tidak_boleh\", \"tidak_boleh\", \"tidak_boleh\", \"tidak_dapat\", \"tidak_dapat\", \"tidak_dapat\", \"tidak_di\", \"tidak_di\", \"tidak_di\", \"tidak_di\", \"tidak_di\", \"tidak_dipercaya\", \"tidak_golput\", \"tidak_hanya\", \"tidak_hanya\", \"tidak_hanya\", \"tidak_harus\", \"tidak_independen\", \"tidak_independen\", \"tidak_ingin\", \"tidak_ingin\", \"tidak_ingin\", \"tidak_ingin\", \"tidak_jelas\", \"tidak_jujur\", \"tidak_jujur\", \"tidak_jujur\", \"tidak_jujur\", \"tidak_jujur\", \"tidak_jujur\", \"tidak_jujur\", \"tidak_kredibel\", \"tidak_layak\", \"tidak_layak\", \"tidak_malu\", \"tidak_malu\", \"tidak_malu\", \"tidak_mau\", \"tidak_mau\", \"tidak_mau\", \"tidak_mau\", \"tidak_mau\", \"tidak_mau\", \"tidak_memilih\", \"tidak_mendapat\", \"tidak_naik\", \"tidak_netral\", \"tidak_netral\", \"tidak_netral\", \"tidak_netral\", \"tidak_netral\", \"tidak_percaya\", \"tidak_percaya\", \"tidak_percaya\", \"tidak_perlu\", \"tidak_perlu\", \"tidak_perlu\", \"tidak_perlu\", \"tidak_perlu\", \"tidak_perlu\", \"tidak_perlu\", \"tidak_perlu\", \"tidak_sempat\", \"tidak_terdaftar\", \"tidak_terlibat\", \"tikai\", \"tim\", \"tim\", \"tim\", \"tim\", \"tim\", \"tim\", \"tim\", \"tim\", \"tingkat_sulit\", \"tni\", \"tni\", \"tni\", \"tni\", \"tni\", \"tni\", \"tni\", \"tolong\", \"tolong\", \"tolong\", \"tolong\", \"tolong\", \"tolong\", \"tolong\", \"tolong\", \"tps\", \"tps\", \"tps\", \"tps\", \"tps\", \"tps\", \"tps\", \"tps\", \"tua\", \"tua\", \"tuduh\", \"tuduh\", \"tuduh\", \"tuduh\", \"tuduh\", \"tuduh\", \"tuduh\", \"tuduh\", \"tugas\", \"tugas\", \"tugas\", \"tugas\", \"tugas\", \"tugas\", \"tugas\", \"tugas\", \"tugas_kpps\", \"tugas_kpps\", \"tugas_kpps\", \"tugas_kpps\", \"tugas_kpps\", \"tugas_kpps\", \"tuju\", \"tuju\", \"tuju\", \"tuju\", \"tuju\", \"tuju\", \"tuju\", \"tuju\", \"turun\", \"turun\", \"turun\", \"turun\", \"turun\", \"turun\", \"turun\", \"turun\", \"uang\", \"uang\", \"uang\", \"uang\", \"uang\", \"uang\", \"uang\", \"uang\", \"uang_rakyat\", \"uang_rakyat\", \"uang_rakyat\", \"uang_rakyat\", \"uang_rakyat\", \"uang_rakyat\", \"uang_rakyat\", \"uang_rakyat\", \"ulang\", \"ulang\", \"ulang\", \"ulang\", \"ulang\", \"ulang\", \"ulang\", \"ulang\", \"undang\", \"undang\", \"undang\", \"undang\", \"undang\", \"undang\", \"undang\", \"undang\", \"undang_ite\", \"undi\", \"urus_form\", \"urus_pindah\", \"urus_pindah\", \"usut_tuntas\", \"usut_tuntas\", \"usut_tuntas\", \"usut_tuntas\", \"usut_tuntas\", \"utama_mendelegitimasi\", \"utamanya\", \"validasi\", \"validasi\", \"video\", \"video\", \"video\", \"video\", \"video\", \"video\", \"video\", \"video\", \"viryan\", \"visi\", \"visi\", \"visi\", \"visi_misi\", \"visi_misi\", \"wahyu_setiawan\", \"wakil_presiden\", \"warna\", \"waspada\", \"waspada\", \"wib\", \"wib\", \"wib\", \"wib\", \"wib\", \"wib\", \"wib\", \"wib_hotel\", \"wib_hotel\", \"wib_hotel\", \"wna\", \"wni\", \"wni\", \"wni\", \"wni\", \"wni\", \"yaa_allah\", \"yakini\", \"you\", \"you\", \"you\", \"you\", \"you\", \"zona\"]}, \"R\": 30, \"lambda.step\": 0.01, \"plot.opts\": {\"xlab\": \"PC1\", \"ylab\": \"PC2\"}, \"topic.order\": [8, 3, 6, 5, 1, 7, 4, 2]};\n",
       "\n",
       "function LDAvis_load_lib(url, callback){\n",
       "  var s = document.createElement('script');\n",
       "  s.src = url;\n",
       "  s.async = true;\n",
       "  s.onreadystatechange = s.onload = callback;\n",
       "  s.onerror = function(){console.warn(\"failed to load library \" + url);};\n",
       "  document.getElementsByTagName(\"head\")[0].appendChild(s);\n",
       "}\n",
       "\n",
       "if(typeof(LDAvis) !== \"undefined\"){\n",
       "   // already loaded: just create the visualization\n",
       "   !function(LDAvis){\n",
       "       new LDAvis(\"#\" + \"ldavis_el1530014197764568882223572013\", ldavis_el1530014197764568882223572013_data);\n",
       "   }(LDAvis);\n",
       "}else if(typeof define === \"function\" && define.amd){\n",
       "   // require.js is available: use it to load d3/LDAvis\n",
       "   require.config({paths: {d3: \"https://cdnjs.cloudflare.com/ajax/libs/d3/3.5.5/d3.min\"}});\n",
       "   require([\"d3\"], function(d3){\n",
       "      window.d3 = d3;\n",
       "      LDAvis_load_lib(\"https://cdn.rawgit.com/bmabey/pyLDAvis/files/ldavis.v1.0.0.js\", function(){\n",
       "        new LDAvis(\"#\" + \"ldavis_el1530014197764568882223572013\", ldavis_el1530014197764568882223572013_data);\n",
       "      });\n",
       "    });\n",
       "}else{\n",
       "    // require.js not available: dynamically load d3 & LDAvis\n",
       "    LDAvis_load_lib(\"https://cdnjs.cloudflare.com/ajax/libs/d3/3.5.5/d3.min.js\", function(){\n",
       "         LDAvis_load_lib(\"https://cdn.rawgit.com/bmabey/pyLDAvis/files/ldavis.v1.0.0.js\", function(){\n",
       "                 new LDAvis(\"#\" + \"ldavis_el1530014197764568882223572013\", ldavis_el1530014197764568882223572013_data);\n",
       "            })\n",
       "         });\n",
       "}\n",
       "</script>"
      ],
      "text/plain": [
       "PreparedData(topic_coordinates=              x         y  topics  cluster       Freq\n",
       "topic                                                \n",
       "7      0.146254 -0.080570       1        1  16.751852\n",
       "2     -0.005729  0.042789       2        1  13.953824\n",
       "5      0.047114  0.004327       3        1  12.823812\n",
       "4     -0.146007 -0.021496       4        1  12.794161\n",
       "0     -0.117537 -0.039336       5        1  12.420691\n",
       "6      0.071827  0.080874       6        1  11.222262\n",
       "3     -0.005063  0.131571       7        1  10.346621\n",
       "1      0.009140 -0.118158       8        1   9.686779, topic_info=     Category         Freq          Term        Total  loglift  logprob\n",
       "74    Default  2127.000000          adil  2127.000000  30.0000  30.0000\n",
       "77    Default  2167.000000         jujur  2167.000000  29.0000  29.0000\n",
       "78    Default  1335.000000    jujur_adil  1335.000000  28.0000  28.0000\n",
       "63    Default  3005.000000        rakyat  3005.000000  27.0000  27.0000\n",
       "34    Default  3096.000000        curang  3096.000000  26.0000  26.0000\n",
       "145   Default  2316.000000         suara  2316.000000  25.0000  25.0000\n",
       "1293  Default   754.000000         surat   754.000000  24.0000  24.0000\n",
       "23    Default  4743.000000           kpu  4743.000000  23.0000  23.0000\n",
       "130   Default   990.000000        undang   990.000000  22.0000  22.0000\n",
       "100   Default  1814.000000         pilih  1814.000000  21.0000  21.0000\n",
       "4244  Default   423.000000          misi   423.000000  20.0000  20.0000\n",
       "1294  Default   569.000000   surat_suara   569.000000  19.0000  19.0000\n",
       "301   Default   870.000000         calon   870.000000  18.0000  18.0000\n",
       "425   Default   564.000000          kpps   564.000000  17.0000  17.0000\n",
       "51    Default   616.000000        pasang   616.000000  16.0000  16.0000\n",
       "1526  Default   501.000000         kotak   501.000000  15.0000  15.0000\n",
       "429   Default   386.000000  terima_kasih   386.000000  14.0000  14.0000\n",
       "4245  Default   417.000000          visi   417.000000  13.0000  13.0000\n",
       "4246  Default   327.000000     visi_misi   327.000000  12.0000  12.0000\n",
       "2185  Default   712.000000         debat   712.000000  11.0000  11.0000\n",
       "308   Default   403.000000  pasang_calon   403.000000  10.0000  10.0000\n",
       "338   Default   906.000000           tps   906.000000   9.0000   9.0000\n",
       "423   Default   536.000000         kasih   536.000000   8.0000   8.0000\n",
       "1     Default   417.000000        korban   417.000000   7.0000   7.0000\n",
       "83    Default  1504.000000          kali  1504.000000   6.0000   6.0000\n",
       "311   Default   629.000000        terima   629.000000   5.0000   5.0000\n",
       "147   Default   863.000000      presiden   863.000000   4.0000   4.0000\n",
       "177   Default   559.000000           hak   559.000000   3.0000   3.0000\n",
       "1607  Default   293.000000   kotak_suara   293.000000   2.0000   2.0000\n",
       "1377  Default   435.000000        kardus   435.000000   1.0000   1.0000\n",
       "...       ...          ...           ...          ...      ...      ...\n",
       "249    Topic8   235.145279          moga   828.481018   1.0750  -4.5349\n",
       "1526   Topic8   166.617203         kotak   501.367493   1.2328  -4.8794\n",
       "625    Topic8   186.788818          biar   645.284546   1.0947  -4.7652\n",
       "479    Topic8    99.542961           dpr   251.686493   1.4068  -5.3945\n",
       "103    Topic8    89.104607         gagal   246.032013   1.3188  -5.5053\n",
       "690    Topic8   143.996948          hoax   563.334595   0.9703  -5.0253\n",
       "87     Topic8    73.478424         makan   183.651978   1.4184  -5.6981\n",
       "13     Topic8   207.087296         orang  1345.533813   0.4630  -4.6620\n",
       "802    Topic8    95.478096    tidak_bisa   326.185730   1.1058  -5.4362\n",
       "260    Topic8    62.860283         nyawa   146.083359   1.4911  -5.8542\n",
       "584    Topic8    54.068790          dear   107.965157   1.6429  -6.0049\n",
       "89     Topic8   117.412796         mohon   618.812744   0.6723  -5.2294\n",
       "886    Topic8    75.613731        berita   236.173828   1.1955  -5.6695\n",
       "58     Topic8   166.119461     indonesia  1485.268799   0.1438  -4.8824\n",
       "145    Topic8   196.872040         suara  2316.533447  -0.1309  -4.7126\n",
       "2      Topic8   103.880066        rentak   518.053833   0.7276  -5.3519\n",
       "20     Topic8   127.528076        menang   869.677673   0.4146  -5.1468\n",
       "100    Topic8   162.442352         pilih  1814.160645  -0.0786  -4.9048\n",
       "23     Topic8   231.136093           kpu  4743.309082  -0.6871  -4.5521\n",
       "338    Topic8   119.179512           tps   906.806824   0.3051  -5.2145\n",
       "136    Topic8   159.937210    selenggara  2314.025879  -0.3376  -4.9204\n",
       "72     Topic8   133.914001         hasil  1367.100830   0.0112  -5.0979\n",
       "34     Topic8   170.902298        curang  3096.344482  -0.5625  -4.8540\n",
       "83     Topic8   132.384995          kali  1504.400146  -0.0960  -5.1094\n",
       "148    Topic8   103.968864        tolong   626.925476   0.5377  -5.3510\n",
       "63     Topic8   150.000656        rakyat  3005.891846  -0.6633  -4.9845\n",
       "241    Topic8   104.720703        negara  1140.769165  -0.0538  -5.3438\n",
       "147    Topic8    98.236031      presiden   863.749390   0.1605  -5.4078\n",
       "77     Topic8   104.103210         jujur  2167.799316  -0.7017  -5.3498\n",
       "74     Topic8    99.583038          adil  2127.130859  -0.7271  -5.3941\n",
       "\n",
       "[664 rows x 6 columns], token_table=      Topic      Freq            Term\n",
       "term                                 \n",
       "2079      2  0.048353               _\n",
       "2079      4  0.096705               _\n",
       "2079      6  0.024176               _\n",
       "2079      7  0.773642               _\n",
       "2079      8  0.048353               _\n",
       "1552      8  0.915436             abu\n",
       "3845      6  0.935676          action\n",
       "74        1  0.813772            adil\n",
       "74        2  0.011283            adil\n",
       "74        3  0.044661            adil\n",
       "74        4  0.010813            adil\n",
       "74        5  0.017394            adil\n",
       "74        6  0.042781            adil\n",
       "74        7  0.012223            adil\n",
       "74        8  0.047012            adil\n",
       "703       1  0.069650     adil_makmur\n",
       "703       6  0.870626     adil_makmur\n",
       "703       7  0.034825     adil_makmur\n",
       "3232      2  0.920981           agung\n",
       "1284      1  0.035864      akal_sehat\n",
       "1284      2  0.717275      akal_sehat\n",
       "1284      4  0.017932      akal_sehat\n",
       "1284      5  0.197251      akal_sehat\n",
       "1284      8  0.035864      akal_sehat\n",
       "4030      3  0.938545         akurasi\n",
       "761       1  0.091394            alam\n",
       "761       2  0.058160            alam\n",
       "761       3  0.016617            alam\n",
       "761       4  0.058160            alam\n",
       "761       5  0.008309            alam\n",
       "...     ...       ...             ...\n",
       "4246      5  0.204823       visi_misi\n",
       "2464      4  0.916691  wahyu_setiawan\n",
       "4348      5  0.983852  wakil_presiden\n",
       "3208      3  0.951473           warna\n",
       "1362      2  0.951810         waspada\n",
       "1362      3  0.020251         waspada\n",
       "415       1  0.020660             wib\n",
       "415       2  0.757551             wib\n",
       "415       3  0.027547             wib\n",
       "415       5  0.006887             wib\n",
       "415       6  0.185944             wib\n",
       "415       7  0.006887             wib\n",
       "415       8  0.006887             wib\n",
       "4943      2  0.027696       wib_hotel\n",
       "4943      6  0.941648       wib_hotel\n",
       "4943      7  0.027696       wib_hotel\n",
       "4261      4  0.983140             wna\n",
       "2785      2  0.103820             wni\n",
       "2785      4  0.778648             wni\n",
       "2785      5  0.022247             wni\n",
       "2785      6  0.051910             wni\n",
       "2785      8  0.044494             wni\n",
       "964       2  0.906767       yaa_allah\n",
       "4699      7  0.911315          yakini\n",
       "941       2  0.189045             you\n",
       "941       3  0.724674             you\n",
       "941       5  0.015754             you\n",
       "941       6  0.015754             you\n",
       "941       7  0.031508             you\n",
       "4913      7  0.876059            zona\n",
       "\n",
       "[1997 rows x 3 columns], R=30, lambda_step=0.01, plot_opts={'xlab': 'PC1', 'ylab': 'PC2'}, topic_order=[8, 3, 6, 5, 1, 7, 4, 2])"
      ]
     },
     "execution_count": 23,
     "metadata": {},
     "output_type": "execute_result"
    }
   ],
   "source": [
    "pyLDAvis.enable_notebook()\n",
    "vis = pyLDAvis.gensim.prepare(lda_model, bow_corpus, dictionary)\n",
    "vis"
   ]
  },
  {
   "cell_type": "markdown",
   "metadata": {},
   "source": [
    "# Classify Document to Topic"
   ]
  },
  {
   "cell_type": "code",
   "execution_count": 24,
   "metadata": {
    "scrolled": true
   },
   "outputs": [
    {
     "name": "stdout",
     "output_type": "stream",
     "text": [
      "Corpus sample index :  3132\n",
      "Word 33 (\"ayo\") appears 1 time.\n",
      "Word 34 (\"curang\") appears 1 time.\n",
      "Word 51 (\"pasang\") appears 1 time.\n",
      "Word 70 (\"bukti\") appears 2 time.\n",
      "Word 97 (\"kubu\") appears 1 time.\n",
      "Word 136 (\"selenggara\") appears 1 time.\n",
      "Word 141 (\"hitung\") appears 1 time.\n",
      "Word 153 (\"proses\") appears 1 time.\n",
      "Word 165 (\"awasi\") appears 1 time.\n",
      "Word 281 (\"hukum\") appears 2 time.\n",
      "Word 301 (\"calon\") appears 1 time.\n",
      "Word 308 (\"pasang_calon\") appears 1 time.\n",
      "Word 520 (\"cek\") appears 1 time.\n",
      "Word 537 (\"bijak\") appears 1 time.\n",
      "Word 803 (\"transparansi\") appears 1 time.\n",
      "Word 1914 (\"proses_hukum\") appears 1 time.\n",
      "Word 2393 (\"siapkan\") appears 2 time.\n",
      "Word 3840 (\"manfaatkan\") appears 1 time.\n",
      "Word 3841 (\"siapkan_bukti\") appears 2 time.\n"
     ]
    }
   ],
   "source": [
    "sample_index = randint(0,10000)\n",
    "bow_corpus_sample(bow_corpus, sample_index)"
   ]
  },
  {
   "cell_type": "code",
   "execution_count": 25,
   "metadata": {
    "scrolled": true
   },
   "outputs": [
    {
     "name": "stdout",
     "output_type": "stream",
     "text": [
      "\n",
      "Score: 0.7548775672912598\t \n",
      "Topic: 0.042*\"curang\" + 0.017*\"kali\" + 0.013*\"salah\" + 0.012*\"misi\" + 0.011*\"rakyat\" + 0.010*\"visi\" + 0.009*\"visi_misi\" + 0.009*\"kpu\" + 0.009*\"laku\" + 0.008*\"selenggara\"\n",
      "\n",
      "Score: 0.21383167803287506\t \n",
      "Topic: 0.031*\"kpu\" + 0.018*\"curang\" + 0.017*\"calon\" + 0.015*\"tps\" + 0.014*\"pasang\" + 0.012*\"selenggara\" + 0.011*\"hasil\" + 0.010*\"pasang_calon\" + 0.009*\"orang\" + 0.009*\"hitung\"\n"
     ]
    }
   ],
   "source": [
    "# Mencari probabilitas tertinggi topik untuk dokumen\n",
    "for index, score in sorted(lda_model[bow_corpus[sample_index]], key=lambda tup: -1*tup[1]):\n",
    "    print(\"\\nScore: {}\\t \\nTopic: {}\".format(score, lda_model.print_topic(index, 10)))"
   ]
  },
  {
   "cell_type": "code",
   "execution_count": 26,
   "metadata": {
    "collapsed": true
   },
   "outputs": [],
   "source": [
    "# Buat list probabilitas tertinggi topik untuk semua dokumen\n",
    "topic_list = []\n",
    "for i in range(len(bow_corpus)):\n",
    "    sorted_probability = sorted(lda_model.get_document_topics(bow_corpus[i]), key = lambda x: x[1], reverse=True)\n",
    "    topic_list.append(sorted_probability[0][0])"
   ]
  },
  {
   "cell_type": "code",
   "execution_count": 27,
   "metadata": {
    "collapsed": true
   },
   "outputs": [],
   "source": [
    "df['topic'] = topic_list"
   ]
  },
  {
   "cell_type": "code",
   "execution_count": 28,
   "metadata": {},
   "outputs": [
    {
     "data": {
      "text/html": [
       "<div>\n",
       "<style scoped>\n",
       "    .dataframe tbody tr th:only-of-type {\n",
       "        vertical-align: middle;\n",
       "    }\n",
       "\n",
       "    .dataframe tbody tr th {\n",
       "        vertical-align: top;\n",
       "    }\n",
       "\n",
       "    .dataframe thead th {\n",
       "        text-align: right;\n",
       "    }\n",
       "</style>\n",
       "<table border=\"1\" class=\"dataframe\">\n",
       "  <thead>\n",
       "    <tr style=\"text-align: right;\">\n",
       "      <th></th>\n",
       "      <th>text</th>\n",
       "      <th>username</th>\n",
       "      <th>modularity</th>\n",
       "      <th>node_id</th>\n",
       "      <th>clean</th>\n",
       "      <th>topic</th>\n",
       "    </tr>\n",
       "  </thead>\n",
       "  <tbody>\n",
       "    <tr>\n",
       "      <th>20510</th>\n",
       "      <td>Pertama nih di 2019!! Mumpung masih anget! Apa...</td>\n",
       "      <td>_pemilihpemula</td>\n",
       "      <td>2</td>\n",
       "      <td>12271</td>\n",
       "      <td>['mumpung', 'hangat', 'pemilu', 'admin', 'kasi...</td>\n",
       "      <td>1</td>\n",
       "    </tr>\n",
       "    <tr>\n",
       "      <th>20511</th>\n",
       "      <td>Mending pemilu ditunda smpai jokowi siapp..</td>\n",
       "      <td>abaz009</td>\n",
       "      <td>4</td>\n",
       "      <td>13209</td>\n",
       "      <td>['mending', 'pemilu', 'tunda', 'jokowi']</td>\n",
       "      <td>3</td>\n",
       "    </tr>\n",
       "    <tr>\n",
       "      <th>20512</th>\n",
       "      <td>Maka dari itu aneh bener dah pemilu skrang rus...</td>\n",
       "      <td>koerniad1</td>\n",
       "      <td>4</td>\n",
       "      <td>13210</td>\n",
       "      <td>['aneh', 'pemilu', 'rusak', 'tatanan', 'demokr...</td>\n",
       "      <td>5</td>\n",
       "    </tr>\n",
       "    <tr>\n",
       "      <th>20513</th>\n",
       "      <td>Kok @KPU_ID jadi ngga kredibel gini...?. Semua...</td>\n",
       "      <td>binarmentari_ok</td>\n",
       "      <td>3</td>\n",
       "      <td>4809</td>\n",
       "      <td>['kredibel', 'perilaku', 'nonton', 'nasional',...</td>\n",
       "      <td>6</td>\n",
       "    </tr>\n",
       "    <tr>\n",
       "      <th>20514</th>\n",
       "      <td>Mereka tu dah sadar kalah dalam segala hal dan...</td>\n",
       "      <td>fakirelmu</td>\n",
       "      <td>4</td>\n",
       "      <td>13211</td>\n",
       "      <td>['sadar', 'kalah', 'proses', 'pemilu', 'menang...</td>\n",
       "      <td>6</td>\n",
       "    </tr>\n",
       "    <tr>\n",
       "      <th>20515</th>\n",
       "      <td>Yang namanya sumpah dan janji sdh tak berharga...</td>\n",
       "      <td>uman_2009</td>\n",
       "      <td>3</td>\n",
       "      <td>11498</td>\n",
       "      <td>['nama', 'sumpah', 'janji', 'harga', 'rezim', ...</td>\n",
       "      <td>7</td>\n",
       "    </tr>\n",
       "    <tr>\n",
       "      <th>20516</th>\n",
       "      <td>Mana ada wasit terserah Pemain . Wasit itu mem...</td>\n",
       "      <td>prabow0fans</td>\n",
       "      <td>3</td>\n",
       "      <td>5526</td>\n",
       "      <td>['wasit', 'serah', 'main', 'wasit', 'pimpin', ...</td>\n",
       "      <td>6</td>\n",
       "    </tr>\n",
       "    <tr>\n",
       "      <th>20517</th>\n",
       "      <td>berarti bukan kampanye .. lihat di UU ttg pemi...</td>\n",
       "      <td>pendekarmalu</td>\n",
       "      <td>2</td>\n",
       "      <td>13212</td>\n",
       "      <td>['arti', 'kampanye', 'lihat', 'undang', 'pemil...</td>\n",
       "      <td>0</td>\n",
       "    </tr>\n",
       "    <tr>\n",
       "      <th>20518</th>\n",
       "      <td>Diskusi akhir tahun kemarin dan sempat bahas m...</td>\n",
       "      <td>jamalboegis</td>\n",
       "      <td>3</td>\n",
       "      <td>851</td>\n",
       "      <td>['diskusi', 'kemarin', 'bahas', 'kotak', 'kard...</td>\n",
       "      <td>4</td>\n",
       "    </tr>\n",
       "    <tr>\n",
       "      <th>20519</th>\n",
       "      <td>bener kata ibu prof mantan komisioner @KPU_ID ...</td>\n",
       "      <td>sameercimy_</td>\n",
       "      <td>4</td>\n",
       "      <td>199</td>\n",
       "      <td>['profesor', 'mantan', 'komisioner', 'lupa', '...</td>\n",
       "      <td>5</td>\n",
       "    </tr>\n",
       "  </tbody>\n",
       "</table>\n",
       "</div>"
      ],
      "text/plain": [
       "                                                    text         username  \\\n",
       "20510  Pertama nih di 2019!! Mumpung masih anget! Apa...   _pemilihpemula   \n",
       "20511        Mending pemilu ditunda smpai jokowi siapp..          abaz009   \n",
       "20512  Maka dari itu aneh bener dah pemilu skrang rus...        koerniad1   \n",
       "20513  Kok @KPU_ID jadi ngga kredibel gini...?. Semua...  binarmentari_ok   \n",
       "20514  Mereka tu dah sadar kalah dalam segala hal dan...        fakirelmu   \n",
       "20515  Yang namanya sumpah dan janji sdh tak berharga...        uman_2009   \n",
       "20516  Mana ada wasit terserah Pemain . Wasit itu mem...      prabow0fans   \n",
       "20517  berarti bukan kampanye .. lihat di UU ttg pemi...     pendekarmalu   \n",
       "20518  Diskusi akhir tahun kemarin dan sempat bahas m...      jamalboegis   \n",
       "20519  bener kata ibu prof mantan komisioner @KPU_ID ...      sameercimy_   \n",
       "\n",
       "       modularity  node_id                                              clean  \\\n",
       "20510           2    12271  ['mumpung', 'hangat', 'pemilu', 'admin', 'kasi...   \n",
       "20511           4    13209           ['mending', 'pemilu', 'tunda', 'jokowi']   \n",
       "20512           4    13210  ['aneh', 'pemilu', 'rusak', 'tatanan', 'demokr...   \n",
       "20513           3     4809  ['kredibel', 'perilaku', 'nonton', 'nasional',...   \n",
       "20514           4    13211  ['sadar', 'kalah', 'proses', 'pemilu', 'menang...   \n",
       "20515           3    11498  ['nama', 'sumpah', 'janji', 'harga', 'rezim', ...   \n",
       "20516           3     5526  ['wasit', 'serah', 'main', 'wasit', 'pimpin', ...   \n",
       "20517           2    13212  ['arti', 'kampanye', 'lihat', 'undang', 'pemil...   \n",
       "20518           3      851  ['diskusi', 'kemarin', 'bahas', 'kotak', 'kard...   \n",
       "20519           4      199  ['profesor', 'mantan', 'komisioner', 'lupa', '...   \n",
       "\n",
       "       topic  \n",
       "20510      1  \n",
       "20511      3  \n",
       "20512      5  \n",
       "20513      6  \n",
       "20514      6  \n",
       "20515      7  \n",
       "20516      6  \n",
       "20517      0  \n",
       "20518      4  \n",
       "20519      5  "
      ]
     },
     "execution_count": 28,
     "metadata": {},
     "output_type": "execute_result"
    }
   ],
   "source": [
    "df.tail(10)"
   ]
  },
  {
   "cell_type": "code",
   "execution_count": null,
   "metadata": {
    "collapsed": true
   },
   "outputs": [],
   "source": [
    "# Export to csv\n",
    "# df.to_csv(os.path.join(os.pardir,os.pardir,'data','06_out','5-KCore-tweet-clean-topic.csv'), index=False)"
   ]
  }
 ],
 "metadata": {
  "kernelspec": {
   "display_name": "Python 3",
   "language": "python",
   "name": "python3"
  },
  "language_info": {
   "codemirror_mode": {
    "name": "ipython",
    "version": 3
   },
   "file_extension": ".py",
   "mimetype": "text/x-python",
   "name": "python",
   "nbconvert_exporter": "python",
   "pygments_lexer": "ipython3",
   "version": "3.6.6"
  }
 },
 "nbformat": 4,
 "nbformat_minor": 2
}
