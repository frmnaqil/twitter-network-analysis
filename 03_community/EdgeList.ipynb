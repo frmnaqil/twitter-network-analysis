{
 "cells": [
  {
   "cell_type": "code",
   "execution_count": null,
   "metadata": {},
   "outputs": [],
   "source": [
    "import os\n",
    "import pandas as pd\n",
    "import json"
   ]
  },
  {
   "cell_type": "markdown",
   "metadata": {},
   "source": [
    "### Convert CSV from twint to Edge List"
   ]
  },
  {
   "cell_type": "code",
   "execution_count": null,
   "metadata": {},
   "outputs": [],
   "source": [
    "# Get node file list\n",
    "nodes = os.listdir(os.path.join(os.pardir,os.pardir,\"data\",\"02_out\"))"
   ]
  },
  {
   "cell_type": "code",
   "execution_count": null,
   "metadata": {},
   "outputs": [],
   "source": [
    "for fname in nodes:\n",
    "    df = pd.read_csv(os.path.join(os.pardir,os.pardir,\"data\",\"02_out\",fname))\n",
    "    df.rename(columns={'username':'Target'}, inplace=True)\n",
    "    df.insert(loc=0,column='Source',value=fname[:-4])\n",
    "#     print(df.head())\n",
    "    df.to_csv(os.path.join(os.pardir,os.pardir,\"data\",\"03_out\",\"edge_list\",fname), sep=' ', index=False)"
   ]
  },
  {
   "cell_type": "markdown",
   "metadata": {},
   "source": [
    "### Merge all edge list into 1 file"
   ]
  },
  {
   "cell_type": "code",
   "execution_count": null,
   "metadata": {},
   "outputs": [],
   "source": [
    "edge_list = os.listdir(os.path.join(os.pardir,os.pardir,\"data\",\"03_out\"))"
   ]
  },
  {
   "cell_type": "code",
   "execution_count": null,
   "metadata": {},
   "outputs": [],
   "source": [
    "# Merge edge_list into 1\n",
    "df_list=[]\n",
    "for node in edge_list:\n",
    "    df=pd.read_csv(os.path.join(os.pardir,os.pardir,\"data\",\"03_out\",\"edge_list\",node), header=None)\n",
    "    df_list.append(df)\n",
    "concat_df=pd.concat(df_list,axis=0)\n",
    "concat_df.to_csv(os.path.join(os.pardir,os.pardir,\"data\",\"03_out\",'node_merged.csv'), index=None, header=None)"
   ]
  },
  {
   "cell_type": "code",
   "execution_count": null,
   "metadata": {},
   "outputs": [],
   "source": [
    "#list_node=pd.read_csv(os.path.join(os.pardir,os.pardir,\"data\",\"03_out\",'node_merged_new.csv'), sep=' ')\n",
    "#info_node = list_node.groupby('Source').Target.nunique().sort_values(ascending=True)"
   ]
  }
 ],
 "metadata": {
  "kernelspec": {
   "display_name": "Python 3",
   "language": "python",
   "name": "python3"
  },
  "language_info": {
   "codemirror_mode": {
    "name": "ipython",
    "version": 3
   },
   "file_extension": ".py",
   "mimetype": "text/x-python",
   "name": "python",
   "nbconvert_exporter": "python",
   "pygments_lexer": "ipython3",
   "version": "3.6.7"
  }
 },
 "nbformat": 4,
 "nbformat_minor": 2
}
