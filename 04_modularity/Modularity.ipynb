{
 "cells": [
  {
   "cell_type": "markdown",
   "metadata": {},
   "source": [
    "## Assign Modularity"
   ]
  },
  {
   "cell_type": "code",
   "execution_count": 15,
   "metadata": {
    "collapsed": true
   },
   "outputs": [],
   "source": [
    "import os\n",
    "import pandas as pd\n",
    "import matplotlib.pyplot as plt"
   ]
  },
  {
   "cell_type": "markdown",
   "metadata": {},
   "source": [
    "### Load Username"
   ]
  },
  {
   "cell_type": "code",
   "execution_count": 16,
   "metadata": {
    "collapsed": true
   },
   "outputs": [],
   "source": [
    "df = pd.read_csv(os.path.join(os.pardir,os.pardir,\"data\",\"01_out\",\"pemilu-at-kpu_id.csv\"), usecols = ['text','username'])"
   ]
  },
  {
   "cell_type": "code",
   "execution_count": 17,
   "metadata": {
    "collapsed": true
   },
   "outputs": [],
   "source": [
    "def unique_username(dataframe):\n",
    "    dataframe = dataframe.str.lower()\n",
    "    dataframe = dataframe.drop_duplicates()\n",
    "    return dataframe.tolist()\n",
    "\n",
    "unique_list = unique_username(df['username'])"
   ]
  },
  {
   "cell_type": "markdown",
   "metadata": {},
   "source": [
    "### Replace id to username and Load Gephi Modularity"
   ]
  },
  {
   "cell_type": "code",
   "execution_count": 18,
   "metadata": {
    "collapsed": true
   },
   "outputs": [],
   "source": [
    "modularity_df = pd.read_csv(os.path.join(os.pardir,os.pardir,\"data\",\"gephi\",\"2-KCore_modularity.csv\"))"
   ]
  },
  {
   "cell_type": "code",
   "execution_count": 19,
   "metadata": {
    "collapsed": true
   },
   "outputs": [],
   "source": [
    "unique_id = list(map(str, range(0,len(unique_list))))"
   ]
  },
  {
   "cell_type": "code",
   "execution_count": 20,
   "metadata": {
    "collapsed": true
   },
   "outputs": [],
   "source": [
    "modularity_df['Id'] = modularity_df['Id'].str.lstrip(\"'\")\n",
    "modularity_df['id'] = modularity_df['Id']\n",
    "modularity_df['Id'] = modularity_df['Id'].replace(unique_id,unique_list)\n",
    "modularity_df.rename(columns={\"Id\":\"username\"}, inplace=True)"
   ]
  },
  {
   "cell_type": "code",
   "execution_count": 21,
   "metadata": {
    "collapsed": true
   },
   "outputs": [],
   "source": [
    "username_list = modularity_df['username'].tolist()\n",
    "modularity_list = modularity_df['modularity_class'].tolist()\n",
    "id_list = modularity_df['id'].tolist()"
   ]
  },
  {
   "cell_type": "markdown",
   "metadata": {},
   "source": [
    "## Remove Tweet outside community"
   ]
  },
  {
   "cell_type": "code",
   "execution_count": 22,
   "metadata": {
    "collapsed": true
   },
   "outputs": [],
   "source": [
    "removed_uninedexed = df\n",
    "removed_uninedexed['username'] = removed_uninedexed['username'].str.lower()"
   ]
  },
  {
   "cell_type": "code",
   "execution_count": 23,
   "metadata": {
    "collapsed": true
   },
   "outputs": [],
   "source": [
    "removed_unindexed = df[df['username'].isin(username_list)]\n",
    "removed_indexed = removed_unindexed.reset_index(drop=True)"
   ]
  },
  {
   "cell_type": "markdown",
   "metadata": {},
   "source": [
    "## Add modularity column"
   ]
  },
  {
   "cell_type": "code",
   "execution_count": 24,
   "metadata": {
    "collapsed": true
   },
   "outputs": [],
   "source": [
    "removed_indexed['modularity'] = removed_indexed['username']\n",
    "removed_indexed['node_id'] = removed_indexed['username']"
   ]
  },
  {
   "cell_type": "code",
   "execution_count": 25,
   "metadata": {
    "collapsed": true
   },
   "outputs": [],
   "source": [
    "removed_indexed['modularity'] = removed_indexed['modularity'].replace(username_list, modularity_list)\n",
    "removed_indexed['node_id'] = removed_indexed['node_id'].replace(username_list, id_list)"
   ]
  },
  {
   "cell_type": "code",
   "execution_count": 28,
   "metadata": {},
   "outputs": [
    {
     "data": {
      "text/html": [
       "<div>\n",
       "<style scoped>\n",
       "    .dataframe tbody tr th:only-of-type {\n",
       "        vertical-align: middle;\n",
       "    }\n",
       "\n",
       "    .dataframe tbody tr th {\n",
       "        vertical-align: top;\n",
       "    }\n",
       "\n",
       "    .dataframe thead th {\n",
       "        text-align: right;\n",
       "    }\n",
       "</style>\n",
       "<table border=\"1\" class=\"dataframe\">\n",
       "  <thead>\n",
       "    <tr style=\"text-align: right;\">\n",
       "      <th></th>\n",
       "      <th>text</th>\n",
       "      <th>username</th>\n",
       "      <th>modularity</th>\n",
       "      <th>node_id</th>\n",
       "    </tr>\n",
       "  </thead>\n",
       "  <tbody>\n",
       "    <tr>\n",
       "      <th>0</th>\n",
       "      <td>Mereka itu korban yg kalah di 2014. Inget siap...</td>\n",
       "      <td>b12_7hon</td>\n",
       "      <td>4</td>\n",
       "      <td>0</td>\n",
       "    </tr>\n",
       "    <tr>\n",
       "      <th>1</th>\n",
       "      <td>Penomena @KPU_RI @KPU_ID tdk kuat scra lembaga...</td>\n",
       "      <td>harun_nugraha</td>\n",
       "      <td>4</td>\n",
       "      <td>1</td>\n",
       "    </tr>\n",
       "    <tr>\n",
       "      <th>2</th>\n",
       "      <td>ngapain pemilu ulang broo klu kita 02 sdh mena...</td>\n",
       "      <td>totonaser11</td>\n",
       "      <td>5</td>\n",
       "      <td>3</td>\n",
       "    </tr>\n",
       "    <tr>\n",
       "      <th>3</th>\n",
       "      <td>Kl menerapkan ISO pasti kelar 1 minggu, ngga a...</td>\n",
       "      <td>rohmatjabbar</td>\n",
       "      <td>5</td>\n",
       "      <td>5</td>\n",
       "    </tr>\n",
       "    <tr>\n",
       "      <th>4</th>\n",
       "      <td>Hayooo @KPU_ID @bawaslu_RI simak baik2 orasi k...</td>\n",
       "      <td>use_will</td>\n",
       "      <td>3</td>\n",
       "      <td>6</td>\n",
       "    </tr>\n",
       "  </tbody>\n",
       "</table>\n",
       "</div>"
      ],
      "text/plain": [
       "                                                text       username  \\\n",
       "0  Mereka itu korban yg kalah di 2014. Inget siap...       b12_7hon   \n",
       "1  Penomena @KPU_RI @KPU_ID tdk kuat scra lembaga...  harun_nugraha   \n",
       "2  ngapain pemilu ulang broo klu kita 02 sdh mena...    totonaser11   \n",
       "3  Kl menerapkan ISO pasti kelar 1 minggu, ngga a...   rohmatjabbar   \n",
       "4  Hayooo @KPU_ID @bawaslu_RI simak baik2 orasi k...       use_will   \n",
       "\n",
       "   modularity node_id  \n",
       "0           4       0  \n",
       "1           4       1  \n",
       "2           5       3  \n",
       "3           5       5  \n",
       "4           3       6  "
      ]
     },
     "execution_count": 28,
     "metadata": {},
     "output_type": "execute_result"
    }
   ],
   "source": [
    "removed_indexed.head()"
   ]
  },
  {
   "cell_type": "code",
   "execution_count": 29,
   "metadata": {
    "collapsed": true
   },
   "outputs": [],
   "source": [
    "# Export to csv\n",
    "# removed_indexed.to_csv(os.path.join(os.pardir,os.pardir,\"data\",\"04_out\",\"2-KCore-tweet.csv\"), index=False)"
   ]
  },
  {
   "cell_type": "markdown",
   "metadata": {},
   "source": [
    "## In Degree Distribution\n",
    "http://www.indiana.edu/~pcl/rgoldsto/courses/social%20networks2.pdf  \n",
    "Proving Power Law distribution properties in networks"
   ]
  },
  {
   "cell_type": "code",
   "execution_count": 2,
   "metadata": {
    "scrolled": true
   },
   "outputs": [],
   "source": [
    "df = pd.read_csv(os.path.join(os.pardir,os.pardir,\"data\",\"gephi\",\"InDegreeDistribution.csv\"))"
   ]
  },
  {
   "cell_type": "code",
   "execution_count": 3,
   "metadata": {
    "collapsed": true
   },
   "outputs": [],
   "source": [
    "power_law = df.groupby(\"indegree\").agg(\"count\")"
   ]
  },
  {
   "cell_type": "code",
   "execution_count": 4,
   "metadata": {},
   "outputs": [
    {
     "data": {
      "text/html": [
       "<div>\n",
       "<style scoped>\n",
       "    .dataframe tbody tr th:only-of-type {\n",
       "        vertical-align: middle;\n",
       "    }\n",
       "\n",
       "    .dataframe tbody tr th {\n",
       "        vertical-align: top;\n",
       "    }\n",
       "\n",
       "    .dataframe thead th {\n",
       "        text-align: right;\n",
       "    }\n",
       "</style>\n",
       "<table border=\"1\" class=\"dataframe\">\n",
       "  <thead>\n",
       "    <tr style=\"text-align: right;\">\n",
       "      <th></th>\n",
       "      <th>Id</th>\n",
       "      <th>Power Law</th>\n",
       "      <th>sum</th>\n",
       "    </tr>\n",
       "    <tr>\n",
       "      <th>indegree</th>\n",
       "      <th></th>\n",
       "      <th></th>\n",
       "      <th></th>\n",
       "    </tr>\n",
       "  </thead>\n",
       "  <tbody>\n",
       "    <tr>\n",
       "      <th>1</th>\n",
       "      <td>1211919</td>\n",
       "      <td>0.798208</td>\n",
       "      <td>79.820786</td>\n",
       "    </tr>\n",
       "    <tr>\n",
       "      <th>2</th>\n",
       "      <td>139180</td>\n",
       "      <td>0.091668</td>\n",
       "      <td>88.987618</td>\n",
       "    </tr>\n",
       "    <tr>\n",
       "      <th>3</th>\n",
       "      <td>46289</td>\n",
       "      <td>0.030487</td>\n",
       "      <td>92.036356</td>\n",
       "    </tr>\n",
       "    <tr>\n",
       "      <th>4</th>\n",
       "      <td>24104</td>\n",
       "      <td>0.015876</td>\n",
       "      <td>93.623921</td>\n",
       "    </tr>\n",
       "    <tr>\n",
       "      <th>5</th>\n",
       "      <td>15116</td>\n",
       "      <td>0.009956</td>\n",
       "      <td>94.619509</td>\n",
       "    </tr>\n",
       "  </tbody>\n",
       "</table>\n",
       "</div>"
      ],
      "text/plain": [
       "               Id  Power Law        sum\n",
       "indegree                               \n",
       "1         1211919   0.798208  79.820786\n",
       "2          139180   0.091668  88.987618\n",
       "3           46289   0.030487  92.036356\n",
       "4           24104   0.015876  93.623921\n",
       "5           15116   0.009956  94.619509"
      ]
     },
     "execution_count": 4,
     "metadata": {},
     "output_type": "execute_result"
    }
   ],
   "source": [
    "# Proportion. Frequency / Total\n",
    "power_law[\"Power Law\"] = power_law[\"Id\"].div(len(df.index))\n",
    "power_law[\"sum\"] = power_law[\"Power Law\"].cumsum().mul(100)\n",
    "power_law.head()"
   ]
  },
  {
   "cell_type": "markdown",
   "metadata": {},
   "source": [
    "## Line Plot"
   ]
  },
  {
   "cell_type": "code",
   "execution_count": 13,
   "metadata": {
    "scrolled": true
   },
   "outputs": [],
   "source": [
    "plot = power_law[[\"Power Law\"]].plot(xlim=(-10,250),\n",
    "                grid=True,\n",
    "                title=\"Distribusi Power Law\")\n",
    "plot.set_xlabel(\"Derajat\")\n",
    "plot.set_ylabel(\"Frekuensi/total\")\n",
    "plt.show()\n",
    "# plt.savefig(os.path.join(os.pardir,os.pardir,\"data\",\"04_out/longtail\"),dpi=300)"
   ]
  },
  {
   "cell_type": "markdown",
   "metadata": {},
   "source": [
    "## Pie Chart"
   ]
  },
  {
   "cell_type": "code",
   "execution_count": 6,
   "metadata": {},
   "outputs": [
    {
     "data": {
      "image/png": "[encoded data removed]",
      "text/plain": [
       "<Figure size 432x288 with 1 Axes>"
      ]
     },
     "metadata": {},
     "output_type": "display_data"
    }
   ],
   "source": [
    "# https://stackoverflow.com/questions/21572870/matplotlib-percent-label-position-in-pie-chart\n",
    "def my_autopct(pct):\n",
    "    return ('%.2f%%' % pct) if pct >= 5 else ''\n",
    "\n",
    "plt.pie(power_law[\"Power Law\"], labels=power_law.index, autopct=my_autopct)\n",
    "plt.show()"
   ]
  },
  {
   "cell_type": "markdown",
   "metadata": {},
   "source": [
    "## Scatter Plot"
   ]
  },
  {
   "cell_type": "code",
   "execution_count": 7,
   "metadata": {
    "collapsed": true
   },
   "outputs": [],
   "source": [
    "power_law.reset_index(inplace=True)"
   ]
  },
  {
   "cell_type": "code",
   "execution_count": 8,
   "metadata": {},
   "outputs": [
    {
     "data": {
      "text/html": [
       "<div>\n",
       "<style scoped>\n",
       "    .dataframe tbody tr th:only-of-type {\n",
       "        vertical-align: middle;\n",
       "    }\n",
       "\n",
       "    .dataframe tbody tr th {\n",
       "        vertical-align: top;\n",
       "    }\n",
       "\n",
       "    .dataframe thead th {\n",
       "        text-align: right;\n",
       "    }\n",
       "</style>\n",
       "<table border=\"1\" class=\"dataframe\">\n",
       "  <thead>\n",
       "    <tr style=\"text-align: right;\">\n",
       "      <th></th>\n",
       "      <th>indegree</th>\n",
       "      <th>Id</th>\n",
       "      <th>Power Law</th>\n",
       "      <th>sum</th>\n",
       "    </tr>\n",
       "  </thead>\n",
       "  <tbody>\n",
       "    <tr>\n",
       "      <th>0</th>\n",
       "      <td>1</td>\n",
       "      <td>1211919</td>\n",
       "      <td>0.798208</td>\n",
       "      <td>79.820786</td>\n",
       "    </tr>\n",
       "    <tr>\n",
       "      <th>1</th>\n",
       "      <td>2</td>\n",
       "      <td>139180</td>\n",
       "      <td>0.091668</td>\n",
       "      <td>88.987618</td>\n",
       "    </tr>\n",
       "    <tr>\n",
       "      <th>2</th>\n",
       "      <td>3</td>\n",
       "      <td>46289</td>\n",
       "      <td>0.030487</td>\n",
       "      <td>92.036356</td>\n",
       "    </tr>\n",
       "    <tr>\n",
       "      <th>3</th>\n",
       "      <td>4</td>\n",
       "      <td>24104</td>\n",
       "      <td>0.015876</td>\n",
       "      <td>93.623921</td>\n",
       "    </tr>\n",
       "    <tr>\n",
       "      <th>4</th>\n",
       "      <td>5</td>\n",
       "      <td>15116</td>\n",
       "      <td>0.009956</td>\n",
       "      <td>94.619509</td>\n",
       "    </tr>\n",
       "  </tbody>\n",
       "</table>\n",
       "</div>"
      ],
      "text/plain": [
       "   indegree       Id  Power Law        sum\n",
       "0         1  1211919   0.798208  79.820786\n",
       "1         2   139180   0.091668  88.987618\n",
       "2         3    46289   0.030487  92.036356\n",
       "3         4    24104   0.015876  93.623921\n",
       "4         5    15116   0.009956  94.619509"
      ]
     },
     "execution_count": 8,
     "metadata": {},
     "output_type": "execute_result"
    }
   ],
   "source": [
    "power_law.head()"
   ]
  },
  {
   "cell_type": "code",
   "execution_count": 14,
   "metadata": {},
   "outputs": [],
   "source": [
    "plot = power_law.plot.scatter(#xlim=(-10,100),\n",
    "                x=\"indegree\",\n",
    "                y=\"Power Law\",\n",
    "                grid=True,\n",
    "                title=\"Distribusi Power Law\",\n",
    "                loglog=True,\n",
    "                s=[2]\n",
    "                )\n",
    "plot.set_xlabel(\"Log derajat\")\n",
    "plot.set_ylabel(\"Log frekuensi/total\")\n",
    "# plt.show()\n",
    "plt.savefig(os.path.join(os.pardir,os.pardir,\"data\",\"04_out\",\"longtail_log\"),dpi=300)"
   ]
  }
 ],
 "metadata": {
  "kernelspec": {
   "display_name": "Python 3",
   "language": "python",
   "name": "python3"
  },
  "language_info": {
   "codemirror_mode": {
    "name": "ipython",
    "version": 3
   },
   "file_extension": ".py",
   "mimetype": "text/x-python",
   "name": "python",
   "nbconvert_exporter": "python",
   "pygments_lexer": "ipython3",
   "version": "3.6.6"
  }
 },
 "nbformat": 4,
 "nbformat_minor": 2
}
