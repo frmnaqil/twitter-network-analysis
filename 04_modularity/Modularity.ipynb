{
 "cells": [
  {
   "cell_type": "markdown",
   "metadata": {},
   "source": [
    "## Assign Modularity"
   ]
  },
  {
   "cell_type": "code",
   "execution_count": 1,
   "metadata": {
    "collapsed": true
   },
   "outputs": [],
   "source": [
    "import os\n",
    "import pandas as pd\n",
    "import matplotlib.pyplot as plt"
   ]
  },
  {
   "cell_type": "markdown",
   "metadata": {},
   "source": [
    "### Load Username"
   ]
  },
  {
   "cell_type": "code",
   "execution_count": 2,
   "metadata": {},
   "outputs": [],
   "source": [
    "df = pd.read_csv(os.path.join(os.pardir,os.pardir,\"data\",\"01_out\",\"pemilu-at-kpu_id.csv\"), usecols = ['text','username'])"
   ]
  },
  {
   "cell_type": "code",
   "execution_count": 3,
   "metadata": {},
   "outputs": [],
   "source": [
    "def unique_username(dataframe):\n",
    "    dataframe = dataframe.str.lower()\n",
    "    dataframe = dataframe.drop_duplicates()\n",
    "    return dataframe.tolist()\n",
    "\n",
    "unique_list = unique_username(df['username'])"
   ]
  },
  {
   "cell_type": "markdown",
   "metadata": {},
   "source": [
    "### Replace id to username and Load Gephi Modularity"
   ]
  },
  {
   "cell_type": "code",
   "execution_count": 4,
   "metadata": {},
   "outputs": [],
   "source": [
    "modularity_df = pd.read_csv(os.path.join(os.pardir,os.pardir,\"data\",\"gephi\",\"50-KCore_modularity.csv\"))"
   ]
  },
  {
   "cell_type": "code",
   "execution_count": 5,
   "metadata": {},
   "outputs": [],
   "source": [
    "unique_id = list(map(str, range(0,len(unique_list))))"
   ]
  },
  {
   "cell_type": "code",
   "execution_count": 6,
   "metadata": {},
   "outputs": [],
   "source": [
    "modularity_df['Id'] = modularity_df['Id'].str.lstrip(\"'\")\n",
    "modularity_df['id'] = modularity_df['Id']\n",
    "modularity_df['Id'] = modularity_df['Id'].replace(unique_id,unique_list)\n",
    "modularity_df.rename(columns={\"Id\":\"username\"}, inplace=True)"
   ]
  },
  {
   "cell_type": "code",
   "execution_count": 7,
   "metadata": {
    "collapsed": true
   },
   "outputs": [],
   "source": [
    "username_list = modularity_df['username'].tolist()\n",
    "modularity_list = modularity_df['modularity_class'].tolist()\n",
    "id_list = modularity_df['id'].tolist()"
   ]
  },
  {
   "cell_type": "markdown",
   "metadata": {},
   "source": [
    "## Remove Tweet outside community"
   ]
  },
  {
   "cell_type": "code",
   "execution_count": 8,
   "metadata": {
    "collapsed": true
   },
   "outputs": [],
   "source": [
    "removed_uninedexed = df\n",
    "removed_uninedexed['username'] = removed_uninedexed['username'].str.lower()"
   ]
  },
  {
   "cell_type": "code",
   "execution_count": 9,
   "metadata": {},
   "outputs": [],
   "source": [
    "removed_unindexed = df[df['username'].isin(username_list)]\n",
    "removed_indexed = removed_unindexed.reset_index(drop=True)"
   ]
  },
  {
   "cell_type": "markdown",
   "metadata": {},
   "source": [
    "## Add modularity column"
   ]
  },
  {
   "cell_type": "code",
   "execution_count": 11,
   "metadata": {},
   "outputs": [],
   "source": [
    "removed_indexed['modularity'] = removed_indexed['username']\n",
    "removed_indexed['node_id'] = removed_indexed['username']"
   ]
  },
  {
   "cell_type": "code",
   "execution_count": 12,
   "metadata": {},
   "outputs": [],
   "source": [
    "removed_indexed['modularity'] = removed_indexed['modularity'].replace(username_list, modularity_list)\n",
    "removed_indexed['node_id'] = removed_indexed['node_id'].replace(username_list, id_list)"
   ]
  },
  {
   "cell_type": "code",
   "execution_count": 13,
   "metadata": {},
   "outputs": [
    {
     "data": {
      "text/plain": [
       "text          14548\n",
       "username      14548\n",
       "modularity    14548\n",
       "node_id       14548\n",
       "dtype: int64"
      ]
     },
     "execution_count": 13,
     "metadata": {},
     "output_type": "execute_result"
    }
   ],
   "source": [
    "removed_indexed.count()"
   ]
  },
  {
   "cell_type": "code",
   "execution_count": 14,
   "metadata": {},
   "outputs": [],
   "source": [
    "# Export to csv\n",
    "removed_indexed.to_csv(os.path.join(os.pardir,os.pardir,\"data\",\"04_out\",\"50-KCore-tweet.csv\"), index=False)"
   ]
  },
  {
   "cell_type": "markdown",
   "metadata": {},
   "source": [
    "## In Degree Distribution"
   ]
  },
  {
   "cell_type": "code",
   "execution_count": 15,
   "metadata": {
    "collapsed": true
   },
   "outputs": [],
   "source": [
    "df = pd.read_csv(os.path.join(os.pardir,os.pardir,\"data/gephi/InDegreeDistribution.csv\"))"
   ]
  },
  {
   "cell_type": "code",
   "execution_count": 16,
   "metadata": {},
   "outputs": [
    {
     "data": {
      "image/png": "[encoded data removed]",
      "text/plain": [
       "<Figure size 432x288 with 1 Axes>"
      ]
     },
     "metadata": {},
     "output_type": "display_data"
    }
   ],
   "source": [
    "# df.head()\n",
    "plot = df.plot(xlim=(-50,2000),\n",
    "                grid=True,\n",
    "                title=\"In Degree Distribution\")\n",
    "plot.set_xlabel(\"Node\")\n",
    "plot.set_ylabel(\"Degree\")\n",
    "plt.show()\n",
    "# plt.savefig(os.path.join(os.pardir,os.pardir,\"data/04_out/longtail\"),dpi=300)"
   ]
  }
 ],
 "metadata": {
  "kernelspec": {
   "display_name": "Python 3",
   "language": "python",
   "name": "python3"
  },
  "language_info": {
   "codemirror_mode": {
    "name": "ipython",
    "version": 3
   },
   "file_extension": ".py",
   "mimetype": "text/x-python",
   "name": "python",
   "nbconvert_exporter": "python",
   "pygments_lexer": "ipython3",
   "version": "3.6.6"
  }
 },
 "nbformat": 4,
 "nbformat_minor": 2
}
